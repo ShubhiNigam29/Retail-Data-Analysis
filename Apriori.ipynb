{
 "cells": [
  {
   "cell_type": "code",
   "execution_count": 0,
   "metadata": {
    "colab": {},
    "colab_type": "code",
    "id": "9hNezV53-5u8"
   },
   "outputs": [],
   "source": [
    "import sys\n",
    "import numpy as np\n",
    "import matplotlib.pyplot as plt\n",
    "from scipy import ndimage, misc\n",
    "from IPython.display import display, Image\n",
    "from mpl_toolkits.mplot3d import Axes3D\n",
    "from matplotlib import cm\n",
    "import matplotlib.pyplot as plt\n",
    "# import pandas as pd\n",
    "import seaborn as sns\n",
    "\n",
    "from scipy.stats import norm\n",
    "from sklearn.preprocessing import StandardScaler\n",
    "from scipy import stats\n",
    "import warnings\n",
    "import pprint as pp\n",
    "import numpy as np\n",
    "import matplotlib.pyplot as plt\n",
    "import glob\n",
    "import itertools\n",
    "import time\n",
    "import zipfile\n",
    "import gc\n",
    "import pickle\n",
    "from sklearn.neighbors import KNeighborsClassifier\n",
    "from sklearn.cluster import KMeans\n",
    "from sklearn.neighbors import NearestNeighbors\n",
    "from sklearn.metrics import accuracy_score\n",
    "from sklearn.preprocessing import StandardScaler\n",
    "import calendar\n",
    "import datetime\n",
    "import pandas as pd\n",
    "warnings.filterwarnings('ignore')\n",
    "%matplotlib inline"
   ]
  },
  {
   "cell_type": "code",
   "execution_count": 0,
   "metadata": {
    "colab": {},
    "colab_type": "code",
    "id": "zxeKgwYfBFG3"
   },
   "outputs": [],
   "source": [
    "# Basic packages\n",
    "import numpy as np # linear algebra\n",
    "# import modin.pandas as pd\n",
    "# import pandas as pd # data processing, CSV file I/O (e.g. pd.read_csv)\n",
    "\n",
    "import random as rd # generating random numbers\n",
    "import datetime # manipulating date formats\n",
    "# Viz\n",
    "import matplotlib.pyplot as plt # basic plotting\n",
    "import seaborn as sns # for prettier plots\n",
    "\n",
    "\n",
    "# TIME SERIES\n",
    "from statsmodels.tsa.arima_model import ARIMA\n",
    "from statsmodels.tsa.statespace.sarimax import SARIMAX\n",
    "from pandas.plotting import autocorrelation_plot\n",
    "from statsmodels.tsa.stattools import adfuller, acf, pacf,arma_order_select_ic\n",
    "import statsmodels.formula.api as smf\n",
    "import statsmodels.tsa.api as smt\n",
    "import statsmodels.api as sm\n",
    "import scipy.stats as scs\n",
    "\n",
    "\n",
    "# settings\n",
    "import warnings\n",
    "warnings.filterwarnings(\"ignore\")"
   ]
  },
  {
   "cell_type": "code",
   "execution_count": 0,
   "metadata": {
    "colab": {
     "base_uri": "https://localhost:8080/",
     "height": 124
    },
    "colab_type": "code",
    "executionInfo": {
     "elapsed": 26874,
     "status": "ok",
     "timestamp": 1575265745233,
     "user": {
      "displayName": "Bhavarth Chauhan",
      "photoUrl": "",
      "userId": "06549928463648907408"
     },
     "user_tz": 300
    },
    "id": "vJhgbp2Y_GVp",
    "outputId": "3ca12f29-4172-460b-835a-6ea9854de5da"
   },
   "outputs": [
    {
     "name": "stdout",
     "output_type": "stream",
     "text": [
      "Go to this URL in a browser: https://accounts.google.com/o/oauth2/auth?client_id=947318989803-6bn6qk8qdgf4n4g3pfee6491hc0brc4i.apps.googleusercontent.com&redirect_uri=urn%3aietf%3awg%3aoauth%3a2.0%3aoob&response_type=code&scope=email%20https%3a%2f%2fwww.googleapis.com%2fauth%2fdocs.test%20https%3a%2f%2fwww.googleapis.com%2fauth%2fdrive%20https%3a%2f%2fwww.googleapis.com%2fauth%2fdrive.photos.readonly%20https%3a%2f%2fwww.googleapis.com%2fauth%2fpeopleapi.readonly\n",
      "\n",
      "Enter your authorization code:\n",
      "··········\n",
      "Mounted at /content/drive\n"
     ]
    }
   ],
   "source": [
    "# Mount your google drive where you've saved your assignment folder\n",
    "from google.colab import drive\n",
    "drive.mount('/content/drive', force_remount=True)"
   ]
  },
  {
   "cell_type": "code",
   "execution_count": 0,
   "metadata": {
    "colab": {},
    "colab_type": "code",
    "id": "SSYGJzcT63VH"
   },
   "outputs": [],
   "source": [
    "train = pd.read_csv('drive/My Drive/test/costello_ace_2017-2018.csv')"
   ]
  },
  {
   "cell_type": "code",
   "execution_count": 0,
   "metadata": {
    "colab": {},
    "colab_type": "code",
    "id": "XqYyVfj2MJWb"
   },
   "outputs": [],
   "source": [
    "train_2015 = pd.read_csv('drive/My Drive/costello_ace_2015-2016.csv')"
   ]
  },
  {
   "cell_type": "code",
   "execution_count": 0,
   "metadata": {
    "colab": {
     "base_uri": "https://localhost:8080/",
     "height": 35
    },
    "colab_type": "code",
    "executionInfo": {
     "elapsed": 2298,
     "status": "ok",
     "timestamp": 1575265924380,
     "user": {
      "displayName": "Bhavarth Chauhan",
      "photoUrl": "",
      "userId": "06549928463648907408"
     },
     "user_tz": 300
    },
    "id": "uqf5-zQ_HtfI",
    "outputId": "5ff25b6b-260f-465a-c0d7-30845fa6717b"
   },
   "outputs": [
    {
     "data": {
      "text/plain": [
       "4"
      ]
     },
     "execution_count": 5,
     "metadata": {
      "tags": []
     },
     "output_type": "execute_result"
    }
   ],
   "source": [
    "import gc\n",
    "gc.collect()"
   ]
  },
  {
   "cell_type": "code",
   "execution_count": 0,
   "metadata": {
    "colab": {},
    "colab_type": "code",
    "id": "tc9_xwjdEVfp"
   },
   "outputs": [],
   "source": [
    "junk_rows = train[train['Item Type']!=train['Line Item Transaction Type']]\n",
    "cleaned_df = train.drop(train.index[junk_rows.index])\n",
    "del train\n",
    "del junk_rows\n",
    "cleaned_df['Net Sales'] = cleaned_df['Net Sales'].astype(str).str.replace(',', '').replace('$','').replace('%','').astype(float)\n",
    "cleaned_df['Gross Margin'] = cleaned_df['Gross Margin'].astype(str).str.replace(',', '').replace('$','').replace('%','').astype(float)\n",
    "cleaned_df[\"unique_receipt\"] = cleaned_df[\"Store #\"].map(str) + cleaned_df[\"Receipt Number\"].map(str)"
   ]
  },
  {
   "cell_type": "code",
   "execution_count": 0,
   "metadata": {
    "colab": {
     "base_uri": "https://localhost:8080/",
     "height": 35
    },
    "colab_type": "code",
    "executionInfo": {
     "elapsed": 686,
     "status": "ok",
     "timestamp": 1575072532850,
     "user": {
      "displayName": "Bhavarth Chauhan",
      "photoUrl": "",
      "userId": "06549928463648907408"
     },
     "user_tz": 300
    },
    "id": "qTVFlCA7DwJV",
    "outputId": "e0e3c97c-c26c-4528-dc2c-1165fe13f611"
   },
   "outputs": [
    {
     "data": {
      "text/plain": [
       "0"
      ]
     },
     "execution_count": 19,
     "metadata": {
      "tags": []
     },
     "output_type": "execute_result"
    }
   ],
   "source": [
    "gc.collect()"
   ]
  },
  {
   "cell_type": "markdown",
   "metadata": {
    "colab_type": "text",
    "id": "PAYS5lXeuiY_"
   },
   "source": [
    "# Time Series Model"
   ]
  },
  {
   "cell_type": "code",
   "execution_count": 0,
   "metadata": {
    "colab": {},
    "colab_type": "code",
    "id": "SJoDMYgownqs"
   },
   "outputs": [],
   "source": [
    "store = cleaned_df[cleaned_df['Store Name'] == '11116 BELLMORE']"
   ]
  },
  {
   "cell_type": "code",
   "execution_count": 0,
   "metadata": {
    "colab": {
     "base_uri": "https://localhost:8080/",
     "height": 695
    },
    "colab_type": "code",
    "executionInfo": {
     "elapsed": 2500,
     "status": "ok",
     "timestamp": 1575266019118,
     "user": {
      "displayName": "Bhavarth Chauhan",
      "photoUrl": "",
      "userId": "06549928463648907408"
     },
     "user_tz": 300
    },
    "id": "BpGyO1cKxFOw",
    "outputId": "7fd969f5-0319-43ae-8f30-cb0afd1dea48"
   },
   "outputs": [
    {
     "data": {
      "text/html": [
       "<div>\n",
       "<style scoped>\n",
       "    .dataframe tbody tr th:only-of-type {\n",
       "        vertical-align: middle;\n",
       "    }\n",
       "\n",
       "    .dataframe tbody tr th {\n",
       "        vertical-align: top;\n",
       "    }\n",
       "\n",
       "    .dataframe thead th {\n",
       "        text-align: right;\n",
       "    }\n",
       "</style>\n",
       "<table border=\"1\" class=\"dataframe\">\n",
       "  <thead>\n",
       "    <tr style=\"text-align: right;\">\n",
       "      <th></th>\n",
       "      <th>index</th>\n",
       "      <th>Date</th>\n",
       "      <th>Transaction Time</th>\n",
       "      <th>Customer Number</th>\n",
       "      <th>Receipt Number</th>\n",
       "      <th>Store #</th>\n",
       "      <th>Store Name</th>\n",
       "      <th>Scanned UPC</th>\n",
       "      <th>Item Number</th>\n",
       "      <th>Item Description</th>\n",
       "      <th>Net Sales Units</th>\n",
       "      <th>Net Sales</th>\n",
       "      <th>Cost</th>\n",
       "      <th>Gross Margin</th>\n",
       "      <th>Gross Margin %</th>\n",
       "      <th>Department Code</th>\n",
       "      <th>Department Name</th>\n",
       "      <th>Class Code</th>\n",
       "      <th>Class Name</th>\n",
       "      <th>Fineline Code</th>\n",
       "      <th>Fineline Name</th>\n",
       "      <th>Item was Scanned</th>\n",
       "      <th>MIP Promo ID</th>\n",
       "      <th>Promo/Discount</th>\n",
       "      <th>Dynamic Promo ID</th>\n",
       "      <th>Actual Price</th>\n",
       "      <th>Retail Price</th>\n",
       "      <th>Actual-Retail</th>\n",
       "      <th>Taxable</th>\n",
       "      <th>Tender Type</th>\n",
       "      <th>$ Off Retail</th>\n",
       "      <th>Zip Code</th>\n",
       "      <th>Zip Plus-4</th>\n",
       "      <th>Loyalty ID</th>\n",
       "      <th>Clerk</th>\n",
       "      <th>Item Type</th>\n",
       "      <th>Line #</th>\n",
       "      <th>Line Item Transaction Type</th>\n",
       "      <th>Pricing Source</th>\n",
       "      <th>Return Code</th>\n",
       "      <th>unique_receipt</th>\n",
       "    </tr>\n",
       "  </thead>\n",
       "  <tbody>\n",
       "    <tr>\n",
       "      <th>0</th>\n",
       "      <td>19</td>\n",
       "      <td>4/1/2017</td>\n",
       "      <td>7:37:39</td>\n",
       "      <td>104609</td>\n",
       "      <td>F50868</td>\n",
       "      <td>6</td>\n",
       "      <td>11116 BELLMORE</td>\n",
       "      <td>52427600301</td>\n",
       "      <td>4595559</td>\n",
       "      <td>GORILLA TAPE TOUGH&amp;WIDE</td>\n",
       "      <td>1</td>\n",
       "      <td>17.99</td>\n",
       "      <td>10.8</td>\n",
       "      <td>7.19</td>\n",
       "      <td>39.97%</td>\n",
       "      <td>46</td>\n",
       "      <td>HEATING &amp; COOLING SUPPLIES</td>\n",
       "      <td>453</td>\n",
       "      <td>DUCT TAPE</td>\n",
       "      <td>45301</td>\n",
       "      <td>ALL DUCT TAPE</td>\n",
       "      <td>1</td>\n",
       "      <td>NaN</td>\n",
       "      <td>NaN</td>\n",
       "      <td>0</td>\n",
       "      <td>17.99</td>\n",
       "      <td>17.99</td>\n",
       "      <td>$0.00</td>\n",
       "      <td>Y</td>\n",
       "      <td>Bankcard Tender</td>\n",
       "      <td>0</td>\n",
       "      <td>11783</td>\n",
       "      <td>3214</td>\n",
       "      <td>1.91438e+09</td>\n",
       "      <td>MARIAN P</td>\n",
       "      <td>Sale</td>\n",
       "      <td>1</td>\n",
       "      <td>Sale</td>\n",
       "      <td>Retail</td>\n",
       "      <td>NaN</td>\n",
       "      <td>6F50868</td>\n",
       "    </tr>\n",
       "    <tr>\n",
       "      <th>1</th>\n",
       "      <td>20</td>\n",
       "      <td>4/1/2017</td>\n",
       "      <td>7:37:39</td>\n",
       "      <td>104609</td>\n",
       "      <td>F50868</td>\n",
       "      <td>6</td>\n",
       "      <td>11116 BELLMORE</td>\n",
       "      <td>82901228387</td>\n",
       "      <td>11168</td>\n",
       "      <td>DROPCLOTH 9'X12' 3MIL</td>\n",
       "      <td>1</td>\n",
       "      <td>8.99</td>\n",
       "      <td>2.38</td>\n",
       "      <td>6.61</td>\n",
       "      <td>73.53%</td>\n",
       "      <td>14</td>\n",
       "      <td>PAINT &amp; PAINT SUPPLIES</td>\n",
       "      <td>139</td>\n",
       "      <td>DROP CLOTHS</td>\n",
       "      <td>13901</td>\n",
       "      <td>PLASTIC</td>\n",
       "      <td>1</td>\n",
       "      <td>NaN</td>\n",
       "      <td>NaN</td>\n",
       "      <td>0</td>\n",
       "      <td>8.99</td>\n",
       "      <td>8.99</td>\n",
       "      <td>$0.00</td>\n",
       "      <td>Y</td>\n",
       "      <td>Bankcard Tender</td>\n",
       "      <td>0</td>\n",
       "      <td>11783</td>\n",
       "      <td>3214</td>\n",
       "      <td>1.91438e+09</td>\n",
       "      <td>MARIAN P</td>\n",
       "      <td>Sale</td>\n",
       "      <td>2</td>\n",
       "      <td>Sale</td>\n",
       "      <td>Retail</td>\n",
       "      <td>NaN</td>\n",
       "      <td>6F50868</td>\n",
       "    </tr>\n",
       "    <tr>\n",
       "      <th>2</th>\n",
       "      <td>21</td>\n",
       "      <td>4/1/2017</td>\n",
       "      <td>7:37:39</td>\n",
       "      <td>104609</td>\n",
       "      <td>F50868</td>\n",
       "      <td>6</td>\n",
       "      <td>11116 BELLMORE</td>\n",
       "      <td>8.52808E+11</td>\n",
       "      <td>6406391</td>\n",
       "      <td>FLEX TAPE BLACK 4\"X5'</td>\n",
       "      <td>1</td>\n",
       "      <td>13.99</td>\n",
       "      <td>8.86</td>\n",
       "      <td>5.13</td>\n",
       "      <td>36.67%</td>\n",
       "      <td>64</td>\n",
       "      <td>HOUSEWARES &amp; GIFTS</td>\n",
       "      <td>697</td>\n",
       "      <td>AS SEEN ON TV PRODUCTS</td>\n",
       "      <td>69701</td>\n",
       "      <td>AS SEEN ON TV PRODUCTS</td>\n",
       "      <td>1</td>\n",
       "      <td>NaN</td>\n",
       "      <td>NaN</td>\n",
       "      <td>0</td>\n",
       "      <td>13.99</td>\n",
       "      <td>13.99</td>\n",
       "      <td>$0.00</td>\n",
       "      <td>Y</td>\n",
       "      <td>Bankcard Tender</td>\n",
       "      <td>0</td>\n",
       "      <td>11783</td>\n",
       "      <td>3214</td>\n",
       "      <td>1.91438e+09</td>\n",
       "      <td>MARIAN P</td>\n",
       "      <td>Sale</td>\n",
       "      <td>3</td>\n",
       "      <td>Sale</td>\n",
       "      <td>Retail</td>\n",
       "      <td>NaN</td>\n",
       "      <td>6F50868</td>\n",
       "    </tr>\n",
       "    <tr>\n",
       "      <th>3</th>\n",
       "      <td>22</td>\n",
       "      <td>4/1/2017</td>\n",
       "      <td>7:37:39</td>\n",
       "      <td>104609</td>\n",
       "      <td>F50868</td>\n",
       "      <td>6</td>\n",
       "      <td>11116 BELLMORE</td>\n",
       "      <td>80050186</td>\n",
       "      <td>HH50162</td>\n",
       "      <td>$5 REWARDC</td>\n",
       "      <td>-1</td>\n",
       "      <td>-5.00</td>\n",
       "      <td>0</td>\n",
       "      <td>-5.00</td>\n",
       "      <td>100.00%</td>\n",
       "      <td>H2</td>\n",
       "      <td>IN STORE COUPONS</td>\n",
       "      <td>HH3</td>\n",
       "      <td>REWARDS CARD</td>\n",
       "      <td>NaN</td>\n",
       "      <td>BLANK</td>\n",
       "      <td>1</td>\n",
       "      <td>NaN</td>\n",
       "      <td>*</td>\n",
       "      <td>0</td>\n",
       "      <td>5</td>\n",
       "      <td>5</td>\n",
       "      <td>$0.00</td>\n",
       "      <td>Y</td>\n",
       "      <td>Bankcard Tender</td>\n",
       "      <td>0</td>\n",
       "      <td>11783</td>\n",
       "      <td>3214</td>\n",
       "      <td>1.91438e+09</td>\n",
       "      <td>MARIAN P</td>\n",
       "      <td>Return</td>\n",
       "      <td>4</td>\n",
       "      <td>Return</td>\n",
       "      <td>Retail</td>\n",
       "      <td>NaN</td>\n",
       "      <td>6F50868</td>\n",
       "    </tr>\n",
       "    <tr>\n",
       "      <th>4</th>\n",
       "      <td>23</td>\n",
       "      <td>4/1/2017</td>\n",
       "      <td>7:37:39</td>\n",
       "      <td>104609</td>\n",
       "      <td>F50868</td>\n",
       "      <td>6</td>\n",
       "      <td>11116 BELLMORE</td>\n",
       "      <td>AUTO</td>\n",
       "      <td>9269862</td>\n",
       "      <td>CMN Donations</td>\n",
       "      <td>1</td>\n",
       "      <td>0.93</td>\n",
       "      <td>0.47</td>\n",
       "      <td>0.46</td>\n",
       "      <td>49.46%</td>\n",
       "      <td>DO</td>\n",
       "      <td>DONTATIONS</td>\n",
       "      <td>DON</td>\n",
       "      <td>DONATIONS</td>\n",
       "      <td>NaN</td>\n",
       "      <td>BLANK</td>\n",
       "      <td>4</td>\n",
       "      <td>NaN</td>\n",
       "      <td>*</td>\n",
       "      <td>0</td>\n",
       "      <td>0.93</td>\n",
       "      <td>0</td>\n",
       "      <td>$0.93</td>\n",
       "      <td>N</td>\n",
       "      <td>Bankcard Tender</td>\n",
       "      <td>-0.93</td>\n",
       "      <td>11783</td>\n",
       "      <td>3214</td>\n",
       "      <td>1.91438e+09</td>\n",
       "      <td>MARIAN P</td>\n",
       "      <td>Sale</td>\n",
       "      <td>5</td>\n",
       "      <td>Sale</td>\n",
       "      <td>Manual Override</td>\n",
       "      <td>NaN</td>\n",
       "      <td>6F50868</td>\n",
       "    </tr>\n",
       "    <tr>\n",
       "      <th>...</th>\n",
       "      <td>...</td>\n",
       "      <td>...</td>\n",
       "      <td>...</td>\n",
       "      <td>...</td>\n",
       "      <td>...</td>\n",
       "      <td>...</td>\n",
       "      <td>...</td>\n",
       "      <td>...</td>\n",
       "      <td>...</td>\n",
       "      <td>...</td>\n",
       "      <td>...</td>\n",
       "      <td>...</td>\n",
       "      <td>...</td>\n",
       "      <td>...</td>\n",
       "      <td>...</td>\n",
       "      <td>...</td>\n",
       "      <td>...</td>\n",
       "      <td>...</td>\n",
       "      <td>...</td>\n",
       "      <td>...</td>\n",
       "      <td>...</td>\n",
       "      <td>...</td>\n",
       "      <td>...</td>\n",
       "      <td>...</td>\n",
       "      <td>...</td>\n",
       "      <td>...</td>\n",
       "      <td>...</td>\n",
       "      <td>...</td>\n",
       "      <td>...</td>\n",
       "      <td>...</td>\n",
       "      <td>...</td>\n",
       "      <td>...</td>\n",
       "      <td>...</td>\n",
       "      <td>...</td>\n",
       "      <td>...</td>\n",
       "      <td>...</td>\n",
       "      <td>...</td>\n",
       "      <td>...</td>\n",
       "      <td>...</td>\n",
       "      <td>...</td>\n",
       "      <td>...</td>\n",
       "    </tr>\n",
       "    <tr>\n",
       "      <th>1198523</th>\n",
       "      <td>17327982</td>\n",
       "      <td>9/30/2018</td>\n",
       "      <td>18:06:51</td>\n",
       "      <td>*5</td>\n",
       "      <td>J60361</td>\n",
       "      <td>6</td>\n",
       "      <td>11116 BELLMORE</td>\n",
       "      <td>AUTO</td>\n",
       "      <td>9269862</td>\n",
       "      <td>CMN Donations</td>\n",
       "      <td>1</td>\n",
       "      <td>1.00</td>\n",
       "      <td>0.5</td>\n",
       "      <td>0.50</td>\n",
       "      <td>50.00%</td>\n",
       "      <td>DO</td>\n",
       "      <td>DONTATIONS</td>\n",
       "      <td>DON</td>\n",
       "      <td>DONATIONS</td>\n",
       "      <td>NaN</td>\n",
       "      <td>BLANK</td>\n",
       "      <td>4</td>\n",
       "      <td>NaN</td>\n",
       "      <td>*</td>\n",
       "      <td>0</td>\n",
       "      <td>1</td>\n",
       "      <td>0</td>\n",
       "      <td>$1.00</td>\n",
       "      <td>N</td>\n",
       "      <td>Cash Tender</td>\n",
       "      <td>-1</td>\n",
       "      <td>NaN</td>\n",
       "      <td>NaN</td>\n",
       "      <td>NaN</td>\n",
       "      <td>ANTHONY KATERIDGE</td>\n",
       "      <td>Sale</td>\n",
       "      <td>3</td>\n",
       "      <td>Sale</td>\n",
       "      <td>Manual Override</td>\n",
       "      <td>NaN</td>\n",
       "      <td>6J60361</td>\n",
       "    </tr>\n",
       "    <tr>\n",
       "      <th>1198524</th>\n",
       "      <td>17327983</td>\n",
       "      <td>9/30/2018</td>\n",
       "      <td>18:07:23</td>\n",
       "      <td>*5</td>\n",
       "      <td>J60362</td>\n",
       "      <td>6</td>\n",
       "      <td>11116 BELLMORE</td>\n",
       "      <td>OTHER</td>\n",
       "      <td>56</td>\n",
       "      <td>FASTENERS</td>\n",
       "      <td>1</td>\n",
       "      <td>0.69</td>\n",
       "      <td>0.28</td>\n",
       "      <td>0.41</td>\n",
       "      <td>59.42%</td>\n",
       "      <td>56</td>\n",
       "      <td>FASTENERS</td>\n",
       "      <td>HIL</td>\n",
       "      <td>HILLMAN GROUP, INC.</td>\n",
       "      <td>NaN</td>\n",
       "      <td>BLANK</td>\n",
       "      <td>5</td>\n",
       "      <td>NaN</td>\n",
       "      <td>NaN</td>\n",
       "      <td>0</td>\n",
       "      <td>0.69</td>\n",
       "      <td>0</td>\n",
       "      <td>$0.69</td>\n",
       "      <td>Y</td>\n",
       "      <td>Cash Tender</td>\n",
       "      <td>-0.69</td>\n",
       "      <td>NaN</td>\n",
       "      <td>NaN</td>\n",
       "      <td>NaN</td>\n",
       "      <td>ROSS JONES</td>\n",
       "      <td>Sale</td>\n",
       "      <td>1</td>\n",
       "      <td>Sale</td>\n",
       "      <td>Manual Override</td>\n",
       "      <td>NaN</td>\n",
       "      <td>6J60362</td>\n",
       "    </tr>\n",
       "    <tr>\n",
       "      <th>1198525</th>\n",
       "      <td>17328009</td>\n",
       "      <td>9/30/2018</td>\n",
       "      <td>18:10:59</td>\n",
       "      <td>*5</td>\n",
       "      <td>J60363</td>\n",
       "      <td>6</td>\n",
       "      <td>11116 BELLMORE</td>\n",
       "      <td>27426428515</td>\n",
       "      <td>1205244</td>\n",
       "      <td>FILLR WOOD STNABLE 1OZ</td>\n",
       "      <td>1</td>\n",
       "      <td>7.49</td>\n",
       "      <td>2.57</td>\n",
       "      <td>4.92</td>\n",
       "      <td>65.69%</td>\n",
       "      <td>14</td>\n",
       "      <td>PAINT &amp; PAINT SUPPLIES</td>\n",
       "      <td>156</td>\n",
       "      <td>WOOD FILLER/PUTTY/STICKS</td>\n",
       "      <td>15601</td>\n",
       "      <td>WOOD FILLER</td>\n",
       "      <td>1</td>\n",
       "      <td>NaN</td>\n",
       "      <td>NaN</td>\n",
       "      <td>0</td>\n",
       "      <td>7.49</td>\n",
       "      <td>7.49</td>\n",
       "      <td>$0.00</td>\n",
       "      <td>Y</td>\n",
       "      <td>Bankcard Tender</td>\n",
       "      <td>0</td>\n",
       "      <td>NaN</td>\n",
       "      <td>NaN</td>\n",
       "      <td>NaN</td>\n",
       "      <td>ELIZABETH GARDNER</td>\n",
       "      <td>Sale</td>\n",
       "      <td>1</td>\n",
       "      <td>Sale</td>\n",
       "      <td>Retail</td>\n",
       "      <td>NaN</td>\n",
       "      <td>6J60363</td>\n",
       "    </tr>\n",
       "    <tr>\n",
       "      <th>1198526</th>\n",
       "      <td>17328010</td>\n",
       "      <td>9/30/2018</td>\n",
       "      <td>18:10:59</td>\n",
       "      <td>*5</td>\n",
       "      <td>J60363</td>\n",
       "      <td>6</td>\n",
       "      <td>11116 BELLMORE</td>\n",
       "      <td>70798122406</td>\n",
       "      <td>19268</td>\n",
       "      <td>PUTTY PAINTRS 1/2PT DAP</td>\n",
       "      <td>1</td>\n",
       "      <td>5.99</td>\n",
       "      <td>2.25</td>\n",
       "      <td>3.74</td>\n",
       "      <td>62.44%</td>\n",
       "      <td>14</td>\n",
       "      <td>PAINT &amp; PAINT SUPPLIES</td>\n",
       "      <td>146</td>\n",
       "      <td>WALL REPAIR MATERIALS</td>\n",
       "      <td>14601</td>\n",
       "      <td>WALL REPAIR COMPOUNDS</td>\n",
       "      <td>1</td>\n",
       "      <td>NaN</td>\n",
       "      <td>NaN</td>\n",
       "      <td>0</td>\n",
       "      <td>5.99</td>\n",
       "      <td>5.99</td>\n",
       "      <td>$0.00</td>\n",
       "      <td>Y</td>\n",
       "      <td>Bankcard Tender</td>\n",
       "      <td>0</td>\n",
       "      <td>NaN</td>\n",
       "      <td>NaN</td>\n",
       "      <td>NaN</td>\n",
       "      <td>ELIZABETH GARDNER</td>\n",
       "      <td>Sale</td>\n",
       "      <td>2</td>\n",
       "      <td>Sale</td>\n",
       "      <td>Retail</td>\n",
       "      <td>NaN</td>\n",
       "      <td>6J60363</td>\n",
       "    </tr>\n",
       "    <tr>\n",
       "      <th>1198527</th>\n",
       "      <td>17328011</td>\n",
       "      <td>9/30/2018</td>\n",
       "      <td>18:10:59</td>\n",
       "      <td>*5</td>\n",
       "      <td>J60363</td>\n",
       "      <td>6</td>\n",
       "      <td>11116 BELLMORE</td>\n",
       "      <td>27426136137</td>\n",
       "      <td>1197805</td>\n",
       "      <td>PUTTY WOOD RED MAHOGNY</td>\n",
       "      <td>1</td>\n",
       "      <td>4.99</td>\n",
       "      <td>1.77</td>\n",
       "      <td>3.22</td>\n",
       "      <td>64.53%</td>\n",
       "      <td>14</td>\n",
       "      <td>PAINT &amp; PAINT SUPPLIES</td>\n",
       "      <td>156</td>\n",
       "      <td>WOOD FILLER/PUTTY/STICKS</td>\n",
       "      <td>15602</td>\n",
       "      <td>WOOD PUTTY/DOUGH</td>\n",
       "      <td>1</td>\n",
       "      <td>NaN</td>\n",
       "      <td>NaN</td>\n",
       "      <td>0</td>\n",
       "      <td>4.99</td>\n",
       "      <td>4.99</td>\n",
       "      <td>$0.00</td>\n",
       "      <td>Y</td>\n",
       "      <td>Bankcard Tender</td>\n",
       "      <td>0</td>\n",
       "      <td>NaN</td>\n",
       "      <td>NaN</td>\n",
       "      <td>NaN</td>\n",
       "      <td>ELIZABETH GARDNER</td>\n",
       "      <td>Sale</td>\n",
       "      <td>3</td>\n",
       "      <td>Sale</td>\n",
       "      <td>Retail</td>\n",
       "      <td>NaN</td>\n",
       "      <td>6J60363</td>\n",
       "    </tr>\n",
       "  </tbody>\n",
       "</table>\n",
       "<p>1198528 rows × 41 columns</p>\n",
       "</div>"
      ],
      "text/plain": [
       "            index       Date  ... Return Code unique_receipt\n",
       "0              19   4/1/2017  ...         NaN        6F50868\n",
       "1              20   4/1/2017  ...         NaN        6F50868\n",
       "2              21   4/1/2017  ...         NaN        6F50868\n",
       "3              22   4/1/2017  ...         NaN        6F50868\n",
       "4              23   4/1/2017  ...         NaN        6F50868\n",
       "...           ...        ...  ...         ...            ...\n",
       "1198523  17327982  9/30/2018  ...         NaN        6J60361\n",
       "1198524  17327983  9/30/2018  ...         NaN        6J60362\n",
       "1198525  17328009  9/30/2018  ...         NaN        6J60363\n",
       "1198526  17328010  9/30/2018  ...         NaN        6J60363\n",
       "1198527  17328011  9/30/2018  ...         NaN        6J60363\n",
       "\n",
       "[1198528 rows x 41 columns]"
      ]
     },
     "execution_count": 8,
     "metadata": {
      "tags": []
     },
     "output_type": "execute_result"
    }
   ],
   "source": [
    "store.reset_index()"
   ]
  },
  {
   "cell_type": "code",
   "execution_count": 0,
   "metadata": {
    "colab": {
     "base_uri": "https://localhost:8080/",
     "height": 378
    },
    "colab_type": "code",
    "executionInfo": {
     "elapsed": 1122,
     "status": "ok",
     "timestamp": 1575242481460,
     "user": {
      "displayName": "Bhavarth Chauhan",
      "photoUrl": "",
      "userId": "06549928463648907408"
     },
     "user_tz": 300
    },
    "id": "BxWb3G58xKxl",
    "outputId": "daa545d6-4b8f-4c47-cd89-0da76a420620"
   },
   "outputs": [
    {
     "data": {
      "text/html": [
       "<div>\n",
       "<style scoped>\n",
       "    .dataframe tbody tr th:only-of-type {\n",
       "        vertical-align: middle;\n",
       "    }\n",
       "\n",
       "    .dataframe tbody tr th {\n",
       "        vertical-align: top;\n",
       "    }\n",
       "\n",
       "    .dataframe thead th {\n",
       "        text-align: right;\n",
       "    }\n",
       "</style>\n",
       "<table border=\"1\" class=\"dataframe\">\n",
       "  <thead>\n",
       "    <tr style=\"text-align: right;\">\n",
       "      <th></th>\n",
       "      <th>Date</th>\n",
       "      <th>Transaction Time</th>\n",
       "      <th>Customer Number</th>\n",
       "      <th>Receipt Number</th>\n",
       "      <th>Store #</th>\n",
       "      <th>Store Name</th>\n",
       "      <th>Scanned UPC</th>\n",
       "      <th>Item Number</th>\n",
       "      <th>Item Description</th>\n",
       "      <th>Net Sales Units</th>\n",
       "      <th>Net Sales</th>\n",
       "      <th>Cost</th>\n",
       "      <th>Gross Margin</th>\n",
       "      <th>Gross Margin %</th>\n",
       "      <th>Department Code</th>\n",
       "      <th>Department Name</th>\n",
       "      <th>Class Code</th>\n",
       "      <th>Class Name</th>\n",
       "      <th>Fineline Code</th>\n",
       "      <th>Fineline Name</th>\n",
       "      <th>Item was Scanned</th>\n",
       "      <th>MIP Promo ID</th>\n",
       "      <th>Promo/Discount</th>\n",
       "      <th>Dynamic Promo ID</th>\n",
       "      <th>Actual Price</th>\n",
       "      <th>Retail Price</th>\n",
       "      <th>Actual-Retail</th>\n",
       "      <th>Taxable</th>\n",
       "      <th>Tender Type</th>\n",
       "      <th>$ Off Retail</th>\n",
       "      <th>Zip Code</th>\n",
       "      <th>Zip Plus-4</th>\n",
       "      <th>Loyalty ID</th>\n",
       "      <th>Clerk</th>\n",
       "      <th>Item Type</th>\n",
       "      <th>Line #</th>\n",
       "      <th>Line Item Transaction Type</th>\n",
       "      <th>Pricing Source</th>\n",
       "      <th>Return Code</th>\n",
       "      <th>unique_receipt</th>\n",
       "    </tr>\n",
       "  </thead>\n",
       "  <tbody>\n",
       "    <tr>\n",
       "      <th>19</th>\n",
       "      <td>4/1/2017</td>\n",
       "      <td>7:37:39</td>\n",
       "      <td>104609</td>\n",
       "      <td>F50868</td>\n",
       "      <td>6</td>\n",
       "      <td>11116 BELLMORE</td>\n",
       "      <td>52427600301</td>\n",
       "      <td>4595559</td>\n",
       "      <td>GORILLA TAPE TOUGH&amp;WIDE</td>\n",
       "      <td>1</td>\n",
       "      <td>17.99</td>\n",
       "      <td>10.8</td>\n",
       "      <td>7.19</td>\n",
       "      <td>39.97%</td>\n",
       "      <td>46</td>\n",
       "      <td>HEATING &amp; COOLING SUPPLIES</td>\n",
       "      <td>453</td>\n",
       "      <td>DUCT TAPE</td>\n",
       "      <td>45301</td>\n",
       "      <td>ALL DUCT TAPE</td>\n",
       "      <td>1</td>\n",
       "      <td>NaN</td>\n",
       "      <td>NaN</td>\n",
       "      <td>0</td>\n",
       "      <td>17.99</td>\n",
       "      <td>17.99</td>\n",
       "      <td>$0.00</td>\n",
       "      <td>Y</td>\n",
       "      <td>Bankcard Tender</td>\n",
       "      <td>0</td>\n",
       "      <td>11783</td>\n",
       "      <td>3214</td>\n",
       "      <td>1.91438e+09</td>\n",
       "      <td>MARIAN P</td>\n",
       "      <td>Sale</td>\n",
       "      <td>1</td>\n",
       "      <td>Sale</td>\n",
       "      <td>Retail</td>\n",
       "      <td>NaN</td>\n",
       "      <td>6F50868</td>\n",
       "    </tr>\n",
       "    <tr>\n",
       "      <th>20</th>\n",
       "      <td>4/1/2017</td>\n",
       "      <td>7:37:39</td>\n",
       "      <td>104609</td>\n",
       "      <td>F50868</td>\n",
       "      <td>6</td>\n",
       "      <td>11116 BELLMORE</td>\n",
       "      <td>82901228387</td>\n",
       "      <td>11168</td>\n",
       "      <td>DROPCLOTH 9'X12' 3MIL</td>\n",
       "      <td>1</td>\n",
       "      <td>8.99</td>\n",
       "      <td>2.38</td>\n",
       "      <td>6.61</td>\n",
       "      <td>73.53%</td>\n",
       "      <td>14</td>\n",
       "      <td>PAINT &amp; PAINT SUPPLIES</td>\n",
       "      <td>139</td>\n",
       "      <td>DROP CLOTHS</td>\n",
       "      <td>13901</td>\n",
       "      <td>PLASTIC</td>\n",
       "      <td>1</td>\n",
       "      <td>NaN</td>\n",
       "      <td>NaN</td>\n",
       "      <td>0</td>\n",
       "      <td>8.99</td>\n",
       "      <td>8.99</td>\n",
       "      <td>$0.00</td>\n",
       "      <td>Y</td>\n",
       "      <td>Bankcard Tender</td>\n",
       "      <td>0</td>\n",
       "      <td>11783</td>\n",
       "      <td>3214</td>\n",
       "      <td>1.91438e+09</td>\n",
       "      <td>MARIAN P</td>\n",
       "      <td>Sale</td>\n",
       "      <td>2</td>\n",
       "      <td>Sale</td>\n",
       "      <td>Retail</td>\n",
       "      <td>NaN</td>\n",
       "      <td>6F50868</td>\n",
       "    </tr>\n",
       "    <tr>\n",
       "      <th>21</th>\n",
       "      <td>4/1/2017</td>\n",
       "      <td>7:37:39</td>\n",
       "      <td>104609</td>\n",
       "      <td>F50868</td>\n",
       "      <td>6</td>\n",
       "      <td>11116 BELLMORE</td>\n",
       "      <td>8.52808E+11</td>\n",
       "      <td>6406391</td>\n",
       "      <td>FLEX TAPE BLACK 4\"X5'</td>\n",
       "      <td>1</td>\n",
       "      <td>13.99</td>\n",
       "      <td>8.86</td>\n",
       "      <td>5.13</td>\n",
       "      <td>36.67%</td>\n",
       "      <td>64</td>\n",
       "      <td>HOUSEWARES &amp; GIFTS</td>\n",
       "      <td>697</td>\n",
       "      <td>AS SEEN ON TV PRODUCTS</td>\n",
       "      <td>69701</td>\n",
       "      <td>AS SEEN ON TV PRODUCTS</td>\n",
       "      <td>1</td>\n",
       "      <td>NaN</td>\n",
       "      <td>NaN</td>\n",
       "      <td>0</td>\n",
       "      <td>13.99</td>\n",
       "      <td>13.99</td>\n",
       "      <td>$0.00</td>\n",
       "      <td>Y</td>\n",
       "      <td>Bankcard Tender</td>\n",
       "      <td>0</td>\n",
       "      <td>11783</td>\n",
       "      <td>3214</td>\n",
       "      <td>1.91438e+09</td>\n",
       "      <td>MARIAN P</td>\n",
       "      <td>Sale</td>\n",
       "      <td>3</td>\n",
       "      <td>Sale</td>\n",
       "      <td>Retail</td>\n",
       "      <td>NaN</td>\n",
       "      <td>6F50868</td>\n",
       "    </tr>\n",
       "    <tr>\n",
       "      <th>22</th>\n",
       "      <td>4/1/2017</td>\n",
       "      <td>7:37:39</td>\n",
       "      <td>104609</td>\n",
       "      <td>F50868</td>\n",
       "      <td>6</td>\n",
       "      <td>11116 BELLMORE</td>\n",
       "      <td>80050186</td>\n",
       "      <td>HH50162</td>\n",
       "      <td>$5 REWARDC</td>\n",
       "      <td>-1</td>\n",
       "      <td>-5.00</td>\n",
       "      <td>0</td>\n",
       "      <td>-5.00</td>\n",
       "      <td>100.00%</td>\n",
       "      <td>H2</td>\n",
       "      <td>IN STORE COUPONS</td>\n",
       "      <td>HH3</td>\n",
       "      <td>REWARDS CARD</td>\n",
       "      <td>NaN</td>\n",
       "      <td>BLANK</td>\n",
       "      <td>1</td>\n",
       "      <td>NaN</td>\n",
       "      <td>*</td>\n",
       "      <td>0</td>\n",
       "      <td>5</td>\n",
       "      <td>5</td>\n",
       "      <td>$0.00</td>\n",
       "      <td>Y</td>\n",
       "      <td>Bankcard Tender</td>\n",
       "      <td>0</td>\n",
       "      <td>11783</td>\n",
       "      <td>3214</td>\n",
       "      <td>1.91438e+09</td>\n",
       "      <td>MARIAN P</td>\n",
       "      <td>Return</td>\n",
       "      <td>4</td>\n",
       "      <td>Return</td>\n",
       "      <td>Retail</td>\n",
       "      <td>NaN</td>\n",
       "      <td>6F50868</td>\n",
       "    </tr>\n",
       "    <tr>\n",
       "      <th>23</th>\n",
       "      <td>4/1/2017</td>\n",
       "      <td>7:37:39</td>\n",
       "      <td>104609</td>\n",
       "      <td>F50868</td>\n",
       "      <td>6</td>\n",
       "      <td>11116 BELLMORE</td>\n",
       "      <td>AUTO</td>\n",
       "      <td>9269862</td>\n",
       "      <td>CMN Donations</td>\n",
       "      <td>1</td>\n",
       "      <td>0.93</td>\n",
       "      <td>0.47</td>\n",
       "      <td>0.46</td>\n",
       "      <td>49.46%</td>\n",
       "      <td>DO</td>\n",
       "      <td>DONTATIONS</td>\n",
       "      <td>DON</td>\n",
       "      <td>DONATIONS</td>\n",
       "      <td>NaN</td>\n",
       "      <td>BLANK</td>\n",
       "      <td>4</td>\n",
       "      <td>NaN</td>\n",
       "      <td>*</td>\n",
       "      <td>0</td>\n",
       "      <td>0.93</td>\n",
       "      <td>0</td>\n",
       "      <td>$0.93</td>\n",
       "      <td>N</td>\n",
       "      <td>Bankcard Tender</td>\n",
       "      <td>-0.93</td>\n",
       "      <td>11783</td>\n",
       "      <td>3214</td>\n",
       "      <td>1.91438e+09</td>\n",
       "      <td>MARIAN P</td>\n",
       "      <td>Sale</td>\n",
       "      <td>5</td>\n",
       "      <td>Sale</td>\n",
       "      <td>Manual Override</td>\n",
       "      <td>NaN</td>\n",
       "      <td>6F50868</td>\n",
       "    </tr>\n",
       "  </tbody>\n",
       "</table>\n",
       "</div>"
      ],
      "text/plain": [
       "        Date Transaction Time  ... Return Code unique_receipt\n",
       "19  4/1/2017          7:37:39  ...         NaN        6F50868\n",
       "20  4/1/2017          7:37:39  ...         NaN        6F50868\n",
       "21  4/1/2017          7:37:39  ...         NaN        6F50868\n",
       "22  4/1/2017          7:37:39  ...         NaN        6F50868\n",
       "23  4/1/2017          7:37:39  ...         NaN        6F50868\n",
       "\n",
       "[5 rows x 40 columns]"
      ]
     },
     "execution_count": 14,
     "metadata": {
      "tags": []
     },
     "output_type": "execute_result"
    }
   ],
   "source": [
    "store.head()"
   ]
  },
  {
   "cell_type": "code",
   "execution_count": 0,
   "metadata": {
    "colab": {},
    "colab_type": "code",
    "id": "o71pZIo5xfjj"
   },
   "outputs": [],
   "source": [
    "dateSales = store[['Date', 'Net Sales']]"
   ]
  },
  {
   "cell_type": "code",
   "execution_count": 0,
   "metadata": {
    "colab": {},
    "colab_type": "code",
    "id": "ed-sSP5J6M4_"
   },
   "outputs": [],
   "source": [
    "dateSales['datetime'] = pd.to_datetime(dateSales['Date'])"
   ]
  },
  {
   "cell_type": "code",
   "execution_count": 0,
   "metadata": {
    "colab": {},
    "colab_type": "code",
    "id": "eDLNs4lMxfPg"
   },
   "outputs": [],
   "source": [
    "dateSales = dateSales.set_index('datetime')\n",
    "dateSales.drop(['Date'], axis=1, inplace=True)"
   ]
  },
  {
   "cell_type": "code",
   "execution_count": 0,
   "metadata": {
    "colab": {
     "base_uri": "https://localhost:8080/",
     "height": 233
    },
    "colab_type": "code",
    "executionInfo": {
     "elapsed": 1120,
     "status": "ok",
     "timestamp": 1575244958590,
     "user": {
      "displayName": "Bhavarth Chauhan",
      "photoUrl": "",
      "userId": "06549928463648907408"
     },
     "user_tz": 300
    },
    "id": "SOe3vjWG6lyL",
    "outputId": "3cae9cb7-58a3-41a6-af3a-220e86a97988"
   },
   "outputs": [
    {
     "data": {
      "text/html": [
       "<div>\n",
       "<style scoped>\n",
       "    .dataframe tbody tr th:only-of-type {\n",
       "        vertical-align: middle;\n",
       "    }\n",
       "\n",
       "    .dataframe tbody tr th {\n",
       "        vertical-align: top;\n",
       "    }\n",
       "\n",
       "    .dataframe thead th {\n",
       "        text-align: right;\n",
       "    }\n",
       "</style>\n",
       "<table border=\"1\" class=\"dataframe\">\n",
       "  <thead>\n",
       "    <tr style=\"text-align: right;\">\n",
       "      <th></th>\n",
       "      <th>Net Sales</th>\n",
       "    </tr>\n",
       "    <tr>\n",
       "      <th>datetime</th>\n",
       "      <th></th>\n",
       "    </tr>\n",
       "  </thead>\n",
       "  <tbody>\n",
       "    <tr>\n",
       "      <th>2017-04-01</th>\n",
       "      <td>17.99</td>\n",
       "    </tr>\n",
       "    <tr>\n",
       "      <th>2017-04-01</th>\n",
       "      <td>8.99</td>\n",
       "    </tr>\n",
       "    <tr>\n",
       "      <th>2017-04-01</th>\n",
       "      <td>13.99</td>\n",
       "    </tr>\n",
       "    <tr>\n",
       "      <th>2017-04-01</th>\n",
       "      <td>-5.00</td>\n",
       "    </tr>\n",
       "    <tr>\n",
       "      <th>2017-04-01</th>\n",
       "      <td>0.93</td>\n",
       "    </tr>\n",
       "  </tbody>\n",
       "</table>\n",
       "</div>"
      ],
      "text/plain": [
       "            Net Sales\n",
       "datetime             \n",
       "2017-04-01      17.99\n",
       "2017-04-01       8.99\n",
       "2017-04-01      13.99\n",
       "2017-04-01      -5.00\n",
       "2017-04-01       0.93"
      ]
     },
     "execution_count": 81,
     "metadata": {
      "tags": []
     },
     "output_type": "execute_result"
    }
   ],
   "source": [
    "dateSales.head()"
   ]
  },
  {
   "cell_type": "code",
   "execution_count": 0,
   "metadata": {
    "colab": {},
    "colab_type": "code",
    "id": "Dh6RjdeTyDtg"
   },
   "outputs": [],
   "source": [
    "sales_agg = pd.DataFrame(dateSales.groupby('datetime').sum()['Net Sales'])"
   ]
  },
  {
   "cell_type": "code",
   "execution_count": 0,
   "metadata": {
    "colab": {},
    "colab_type": "code",
    "id": "IpLcP63x0cJZ"
   },
   "outputs": [],
   "source": [
    "sales_agg.to_pickle('./salesagg.pk')"
   ]
  },
  {
   "cell_type": "code",
   "execution_count": 0,
   "metadata": {
    "colab": {},
    "colab_type": "code",
    "id": "Agy7Vkhn1c5v"
   },
   "outputs": [],
   "source": [
    "from chart_studio.plotly import plot_mpl\n",
    "from statsmodels.tsa.seasonal import seasonal_decompose\n",
    "import matplotlib.pyplot as plt"
   ]
  },
  {
   "cell_type": "code",
   "execution_count": 0,
   "metadata": {
    "colab": {},
    "colab_type": "code",
    "id": "YTqx2ETu15cZ"
   },
   "outputs": [],
   "source": [
    "test_index = sales_agg[sales_agg['Net Sales']<=0].index"
   ]
  },
  {
   "cell_type": "code",
   "execution_count": 0,
   "metadata": {
    "colab": {},
    "colab_type": "code",
    "id": "oeS-KHuU1-Zc"
   },
   "outputs": [],
   "source": [
    "sales_agg.drop(test_index, inplace=True)"
   ]
  },
  {
   "cell_type": "code",
   "execution_count": 0,
   "metadata": {
    "colab": {},
    "colab_type": "code",
    "id": "9-TY6-ZsQVU3"
   },
   "outputs": [],
   "source": [
    "sales_agg_2 = pd.DataFrame(sales_agg)"
   ]
  },
  {
   "cell_type": "code",
   "execution_count": 0,
   "metadata": {
    "colab": {},
    "colab_type": "code",
    "id": "sDcLzPxvQZKt"
   },
   "outputs": [],
   "source": [
    "sales_agg_2['Net Sales'] = np.log(sales_agg_2['Net Sales'])"
   ]
  },
  {
   "cell_type": "code",
   "execution_count": 0,
   "metadata": {
    "colab": {
     "base_uri": "https://localhost:8080/",
     "height": 519
    },
    "colab_type": "code",
    "executionInfo": {
     "elapsed": 1361,
     "status": "ok",
     "timestamp": 1575263765805,
     "user": {
      "displayName": "Bhavarth Chauhan",
      "photoUrl": "",
      "userId": "06549928463648907408"
     },
     "user_tz": 300
    },
    "id": "GASRc12C86B-",
    "outputId": "0d0d36ae-4d13-4c96-d596-ed67f3cc1960"
   },
   "outputs": [
    {
     "data": {
      "image/png": "[encoded data removed]",
      "text/plain": [
       "<Figure size 1800x576 with 2 Axes>"
      ]
     },
     "metadata": {
      "tags": []
     },
     "output_type": "display_data"
    }
   ],
   "source": [
    "fig = plt.figure(figsize=(25,8))\n",
    "ax1 = fig.add_subplot(211)\n",
    "fig = sm.graphics.tsa.plot_acf(sales_agg_2['Net Sales'][:-29], lags=100, ax=ax1)\n",
    "ax2 = fig.add_subplot(212)\n",
    "fig = sm.graphics.tsa.plot_pacf(sales_agg_2['Net Sales'][:-29], lags=100, ax=ax2)"
   ]
  },
  {
   "cell_type": "code",
   "execution_count": 0,
   "metadata": {
    "colab": {
     "base_uri": "https://localhost:8080/",
     "height": 501
    },
    "colab_type": "code",
    "executionInfo": {
     "elapsed": 1263,
     "status": "ok",
     "timestamp": 1575251586598,
     "user": {
      "displayName": "Bhavarth Chauhan",
      "photoUrl": "",
      "userId": "06549928463648907408"
     },
     "user_tz": 300
    },
    "id": "rpFtVxA49TS2",
    "outputId": "a0f62dd1-386a-4ab3-eb02-0b348a8f14fa"
   },
   "outputs": [
    {
     "data": {
      "image/png": "[encoded data removed]",
      "text/plain": [
       "<Figure size 576x576 with 1 Axes>"
      ]
     },
     "metadata": {
      "tags": []
     },
     "output_type": "display_data"
    }
   ],
   "source": [
    "from pandas.plotting import autocorrelation_plot\n",
    "plt.rcParams[\"figure.figsize\"] = [8,8]\n",
    "autocorrelation_plot(sales_agg_2['Net Sales'])\n",
    "plt.show()"
   ]
  },
  {
   "cell_type": "code",
   "execution_count": 0,
   "metadata": {
    "colab": {},
    "colab_type": "code",
    "id": "x6mn3n2EjiHC"
   },
   "outputs": [],
   "source": [
    "train = sales_agg_2[sales_agg_2.index < pd.to_datetime('2018-07-01')]"
   ]
  },
  {
   "cell_type": "code",
   "execution_count": 0,
   "metadata": {
    "colab": {},
    "colab_type": "code",
    "id": "P-SjyILpj_J4"
   },
   "outputs": [],
   "source": [
    "test = sales_agg_2[sales_agg_2.index >= pd.to_datetime('2018-07-01')]"
   ]
  },
  {
   "cell_type": "code",
   "execution_count": 0,
   "metadata": {
    "colab": {},
    "colab_type": "code",
    "id": "8orN6k8JCmoU"
   },
   "outputs": [],
   "source": [
    "X = sales_agg_2['Net Sales']\n",
    "size = int(len(X) * 0.90)\n",
    "train, test = X[0:size], X[size:len(X)]"
   ]
  },
  {
   "cell_type": "code",
   "execution_count": 0,
   "metadata": {
    "colab": {
     "base_uri": "https://localhost:8080/",
     "height": 35
    },
    "colab_type": "code",
    "executionInfo": {
     "elapsed": 1043,
     "status": "ok",
     "timestamp": 1575251631209,
     "user": {
      "displayName": "Bhavarth Chauhan",
      "photoUrl": "",
      "userId": "06549928463648907408"
     },
     "user_tz": 300
    },
    "id": "TXnbBGxyEiPL",
    "outputId": "7d2f036d-ac5c-4809-9c9b-ed4db94e1dd2"
   },
   "outputs": [
    {
     "data": {
      "text/plain": [
       "652"
      ]
     },
     "execution_count": 39,
     "metadata": {
      "tags": []
     },
     "output_type": "execute_result"
    }
   ],
   "source": [
    "len(train)"
   ]
  },
  {
   "cell_type": "code",
   "execution_count": 0,
   "metadata": {
    "colab": {
     "base_uri": "https://localhost:8080/",
     "height": 35
    },
    "colab_type": "code",
    "executionInfo": {
     "elapsed": 1068,
     "status": "ok",
     "timestamp": 1575251636570,
     "user": {
      "displayName": "Bhavarth Chauhan",
      "photoUrl": "",
      "userId": "06549928463648907408"
     },
     "user_tz": 300
    },
    "id": "-1R5eHapEmYP",
    "outputId": "e92f99e5-35ed-4604-cf6f-867d9638b63a"
   },
   "outputs": [
    {
     "data": {
      "text/plain": [
       "73"
      ]
     },
     "execution_count": 41,
     "metadata": {
      "tags": []
     },
     "output_type": "execute_result"
    }
   ],
   "source": [
    "len(test)"
   ]
  },
  {
   "cell_type": "code",
   "execution_count": 0,
   "metadata": {
    "colab": {},
    "colab_type": "code",
    "id": "6stcKWqmB31d"
   },
   "outputs": [],
   "source": [
    "import statsmodels.api as sm\n",
    "model = sm.tsa.statespace.SARIMAX(endog = sales_agg_2, order=(10,1,1),seasonal_order=(0,1,0,365),trend='c',enforce_invertibility=False)  \n",
    "fitted = model.fit(disp=-1)  "
   ]
  },
  {
   "cell_type": "code",
   "execution_count": 0,
   "metadata": {
    "colab": {
     "base_uri": "https://localhost:8080/",
     "height": 589
    },
    "colab_type": "code",
    "executionInfo": {
     "elapsed": 8242,
     "status": "ok",
     "timestamp": 1575254507234,
     "user": {
      "displayName": "Bhavarth Chauhan",
      "photoUrl": "",
      "userId": "06549928463648907408"
     },
     "user_tz": 300
    },
    "id": "tn58Trwye9Lc",
    "outputId": "5cdaf1f7-4601-4922-a115-85b67f0cb052"
   },
   "outputs": [
    {
     "name": "stdout",
     "output_type": "stream",
     "text": [
      "                                  Statespace Model Results                                 \n",
      "===========================================================================================\n",
      "Dep. Variable:                           Net Sales   No. Observations:                  652\n",
      "Model:             SARIMAX(10, 1, 0)x(0, 1, 0, 12)   Log Likelihood                -519.250\n",
      "Date:                             Mon, 02 Dec 2019   AIC                           1062.500\n",
      "Time:                                     02:41:47   BIC                           1116.019\n",
      "Sample:                                          0   HQIC                          1083.274\n",
      "                                             - 652                                         \n",
      "Covariance Type:                               opg                                         \n",
      "==============================================================================\n",
      "                 coef    std err          z      P>|z|      [0.025      0.975]\n",
      "------------------------------------------------------------------------------\n",
      "intercept      0.0006      0.022      0.028      0.978      -0.043       0.044\n",
      "ar.L1         -0.7548      0.040    -18.731      0.000      -0.834      -0.676\n",
      "ar.L2         -0.6337      0.052    -12.210      0.000      -0.735      -0.532\n",
      "ar.L3         -0.5159      0.057     -9.101      0.000      -0.627      -0.405\n",
      "ar.L4         -0.5262      0.064     -8.252      0.000      -0.651      -0.401\n",
      "ar.L5         -0.4657      0.063     -7.376      0.000      -0.589      -0.342\n",
      "ar.L6         -0.3150      0.063     -5.004      0.000      -0.438      -0.192\n",
      "ar.L7         -0.0575      0.059     -0.967      0.333      -0.174       0.059\n",
      "ar.L8          0.0816      0.055      1.475      0.140      -0.027       0.190\n",
      "ar.L9         -0.0270      0.052     -0.517      0.605      -0.130       0.076\n",
      "ar.L10        -0.0136      0.047     -0.289      0.773      -0.106       0.079\n",
      "sigma2         0.2966      0.011     27.024      0.000       0.275       0.318\n",
      "===================================================================================\n",
      "Ljung-Box (Q):                      262.75   Jarque-Bera (JB):               347.28\n",
      "Prob(Q):                              0.00   Prob(JB):                         0.00\n",
      "Heteroskedasticity (H):               0.80   Skew:                            -0.13\n",
      "Prob(H) (two-sided):                  0.11   Kurtosis:                         6.60\n",
      "===================================================================================\n",
      "\n",
      "Warnings:\n",
      "[1] Covariance matrix calculated using the outer product of gradients (complex-step).\n"
     ]
    }
   ],
   "source": [
    "print(fitted.summary())"
   ]
  },
  {
   "cell_type": "code",
   "execution_count": 0,
   "metadata": {
    "colab": {},
    "colab_type": "code",
    "id": "wlp3DRdDfgJQ"
   },
   "outputs": [],
   "source": [
    "pred = fitted.get_prediction(start = pd.to_datetime('2018-07-01'))"
   ]
  },
  {
   "cell_type": "code",
   "execution_count": 0,
   "metadata": {
    "colab": {
     "base_uri": "https://localhost:8080/",
     "height": 233
    },
    "colab_type": "code",
    "executionInfo": {
     "elapsed": 1008,
     "status": "ok",
     "timestamp": 1575261357374,
     "user": {
      "displayName": "Bhavarth Chauhan",
      "photoUrl": "",
      "userId": "06549928463648907408"
     },
     "user_tz": 300
    },
    "id": "76G451gguzeU",
    "outputId": "3c87472c-085b-4a12-9a3a-7d42ef08aef5"
   },
   "outputs": [
    {
     "data": {
      "text/html": [
       "<div>\n",
       "<style scoped>\n",
       "    .dataframe tbody tr th:only-of-type {\n",
       "        vertical-align: middle;\n",
       "    }\n",
       "\n",
       "    .dataframe tbody tr th {\n",
       "        vertical-align: top;\n",
       "    }\n",
       "\n",
       "    .dataframe thead th {\n",
       "        text-align: right;\n",
       "    }\n",
       "</style>\n",
       "<table border=\"1\" class=\"dataframe\">\n",
       "  <thead>\n",
       "    <tr style=\"text-align: right;\">\n",
       "      <th></th>\n",
       "      <th>Net Sales</th>\n",
       "    </tr>\n",
       "    <tr>\n",
       "      <th>datetime</th>\n",
       "      <th></th>\n",
       "    </tr>\n",
       "  </thead>\n",
       "  <tbody>\n",
       "    <tr>\n",
       "      <th>2018-12-27</th>\n",
       "      <td>9.506841</td>\n",
       "    </tr>\n",
       "    <tr>\n",
       "      <th>2018-12-28</th>\n",
       "      <td>9.150533</td>\n",
       "    </tr>\n",
       "    <tr>\n",
       "      <th>2018-12-29</th>\n",
       "      <td>9.513354</td>\n",
       "    </tr>\n",
       "    <tr>\n",
       "      <th>2018-12-30</th>\n",
       "      <td>9.382899</td>\n",
       "    </tr>\n",
       "    <tr>\n",
       "      <th>2018-12-31</th>\n",
       "      <td>9.309701</td>\n",
       "    </tr>\n",
       "  </tbody>\n",
       "</table>\n",
       "</div>"
      ],
      "text/plain": [
       "            Net Sales\n",
       "datetime             \n",
       "2018-12-27   9.506841\n",
       "2018-12-28   9.150533\n",
       "2018-12-29   9.513354\n",
       "2018-12-30   9.382899\n",
       "2018-12-31   9.309701"
      ]
     },
     "execution_count": 197,
     "metadata": {
      "tags": []
     },
     "output_type": "execute_result"
    }
   ],
   "source": [
    "sales_agg_2.tail(5)"
   ]
  },
  {
   "cell_type": "code",
   "execution_count": 0,
   "metadata": {
    "colab": {},
    "colab_type": "code",
    "id": "qoQdy51pvRcM"
   },
   "outputs": [],
   "source": [
    "from dateutil.relativedelta import *\n",
    "start = datetime.datetime.strptime(\"2019-01-01\", \"%Y-%m-%d\")\n",
    "date_list = [start + relativedelta(day=x) for x in range(1,30)]"
   ]
  },
  {
   "cell_type": "code",
   "execution_count": 0,
   "metadata": {
    "colab": {
     "base_uri": "https://localhost:8080/",
     "height": 35
    },
    "colab_type": "code",
    "executionInfo": {
     "elapsed": 825,
     "status": "ok",
     "timestamp": 1575261382796,
     "user": {
      "displayName": "Bhavarth Chauhan",
      "photoUrl": "",
      "userId": "06549928463648907408"
     },
     "user_tz": 300
    },
    "id": "DGaZ1eJz3A6t",
    "outputId": "05640b46-28ac-424a-e58e-e2386f24bbd7"
   },
   "outputs": [
    {
     "data": {
      "text/plain": [
       "29"
      ]
     },
     "execution_count": 199,
     "metadata": {
      "tags": []
     },
     "output_type": "execute_result"
    }
   ],
   "source": [
    "len(date_list)"
   ]
  },
  {
   "cell_type": "code",
   "execution_count": 0,
   "metadata": {
    "colab": {},
    "colab_type": "code",
    "id": "GFl9cBhIv4qu"
   },
   "outputs": [],
   "source": [
    "future = pd.DataFrame(index=date_list, columns= sales_agg_2.columns)"
   ]
  },
  {
   "cell_type": "code",
   "execution_count": 0,
   "metadata": {
    "colab": {},
    "colab_type": "code",
    "id": "Jdc5XOEdv9no"
   },
   "outputs": [],
   "source": [
    "sales_agg_2 = pd.concat([sales_agg_2, future])"
   ]
  },
  {
   "cell_type": "code",
   "execution_count": 0,
   "metadata": {
    "colab": {},
    "colab_type": "code",
    "id": "H5wAZjXdwKV9"
   },
   "outputs": [],
   "source": [
    "sales_agg_2.tail(45)"
   ]
  },
  {
   "cell_type": "code",
   "execution_count": 0,
   "metadata": {
    "colab": {},
    "colab_type": "code",
    "id": "_1yDEe8qx4mX"
   },
   "outputs": [],
   "source": [
    "x =  fitted.predict(start = 725, end = 753, dynamic=True)"
   ]
  },
  {
   "cell_type": "code",
   "execution_count": 0,
   "metadata": {
    "colab": {},
    "colab_type": "code",
    "id": "dWZK9YJqx6kT"
   },
   "outputs": [],
   "source": [
    "sales_agg_2['Net Sales Pred'] = np.nan"
   ]
  },
  {
   "cell_type": "code",
   "execution_count": 0,
   "metadata": {
    "colab": {},
    "colab_type": "code",
    "id": "QgBqfMa7lWPb"
   },
   "outputs": [],
   "source": [
    "sales_agg_2['Net Sales Pred'].values[-29:] = fitted.predict(start = 725, end=753, dynamic=True).values"
   ]
  },
  {
   "cell_type": "code",
   "execution_count": 0,
   "metadata": {
    "colab": {
     "base_uri": "https://localhost:8080/",
     "height": 1000
    },
    "colab_type": "code",
    "executionInfo": {
     "elapsed": 583,
     "status": "ok",
     "timestamp": 1575261571616,
     "user": {
      "displayName": "Bhavarth Chauhan",
      "photoUrl": "",
      "userId": "06549928463648907408"
     },
     "user_tz": 300
    },
    "id": "1vVZXLvJfmEP",
    "outputId": "692b6125-3ad1-46b8-e48c-d8458aa0f019"
   },
   "outputs": [
    {
     "data": {
      "text/html": [
       "<div>\n",
       "<style scoped>\n",
       "    .dataframe tbody tr th:only-of-type {\n",
       "        vertical-align: middle;\n",
       "    }\n",
       "\n",
       "    .dataframe tbody tr th {\n",
       "        vertical-align: top;\n",
       "    }\n",
       "\n",
       "    .dataframe thead th {\n",
       "        text-align: right;\n",
       "    }\n",
       "</style>\n",
       "<table border=\"1\" class=\"dataframe\">\n",
       "  <thead>\n",
       "    <tr style=\"text-align: right;\">\n",
       "      <th></th>\n",
       "      <th>Net Sales</th>\n",
       "      <th>Net Sales Pred</th>\n",
       "    </tr>\n",
       "  </thead>\n",
       "  <tbody>\n",
       "    <tr>\n",
       "      <th>2017-01-01</th>\n",
       "      <td>9.345960</td>\n",
       "      <td>NaN</td>\n",
       "    </tr>\n",
       "    <tr>\n",
       "      <th>2017-01-02</th>\n",
       "      <td>10.005408</td>\n",
       "      <td>NaN</td>\n",
       "    </tr>\n",
       "    <tr>\n",
       "      <th>2017-01-03</th>\n",
       "      <td>9.130885</td>\n",
       "      <td>NaN</td>\n",
       "    </tr>\n",
       "    <tr>\n",
       "      <th>2017-01-04</th>\n",
       "      <td>9.389909</td>\n",
       "      <td>NaN</td>\n",
       "    </tr>\n",
       "    <tr>\n",
       "      <th>2017-01-05</th>\n",
       "      <td>9.385211</td>\n",
       "      <td>NaN</td>\n",
       "    </tr>\n",
       "    <tr>\n",
       "      <th>2017-01-06</th>\n",
       "      <td>9.388384</td>\n",
       "      <td>NaN</td>\n",
       "    </tr>\n",
       "    <tr>\n",
       "      <th>2017-01-07</th>\n",
       "      <td>9.738582</td>\n",
       "      <td>NaN</td>\n",
       "    </tr>\n",
       "    <tr>\n",
       "      <th>2017-01-08</th>\n",
       "      <td>9.676492</td>\n",
       "      <td>NaN</td>\n",
       "    </tr>\n",
       "    <tr>\n",
       "      <th>2017-01-09</th>\n",
       "      <td>9.445013</td>\n",
       "      <td>NaN</td>\n",
       "    </tr>\n",
       "    <tr>\n",
       "      <th>2017-01-10</th>\n",
       "      <td>9.144830</td>\n",
       "      <td>NaN</td>\n",
       "    </tr>\n",
       "    <tr>\n",
       "      <th>2017-01-11</th>\n",
       "      <td>9.015263</td>\n",
       "      <td>NaN</td>\n",
       "    </tr>\n",
       "    <tr>\n",
       "      <th>2017-01-12</th>\n",
       "      <td>9.101877</td>\n",
       "      <td>NaN</td>\n",
       "    </tr>\n",
       "    <tr>\n",
       "      <th>2017-01-13</th>\n",
       "      <td>9.240768</td>\n",
       "      <td>NaN</td>\n",
       "    </tr>\n",
       "    <tr>\n",
       "      <th>2017-01-14</th>\n",
       "      <td>9.530738</td>\n",
       "      <td>NaN</td>\n",
       "    </tr>\n",
       "    <tr>\n",
       "      <th>2017-01-15</th>\n",
       "      <td>9.326832</td>\n",
       "      <td>NaN</td>\n",
       "    </tr>\n",
       "    <tr>\n",
       "      <th>2017-01-16</th>\n",
       "      <td>9.471650</td>\n",
       "      <td>NaN</td>\n",
       "    </tr>\n",
       "    <tr>\n",
       "      <th>2017-01-17</th>\n",
       "      <td>8.788150</td>\n",
       "      <td>NaN</td>\n",
       "    </tr>\n",
       "    <tr>\n",
       "      <th>2017-01-18</th>\n",
       "      <td>8.951347</td>\n",
       "      <td>NaN</td>\n",
       "    </tr>\n",
       "    <tr>\n",
       "      <th>2017-01-19</th>\n",
       "      <td>9.075941</td>\n",
       "      <td>NaN</td>\n",
       "    </tr>\n",
       "    <tr>\n",
       "      <th>2017-01-20</th>\n",
       "      <td>8.922225</td>\n",
       "      <td>NaN</td>\n",
       "    </tr>\n",
       "    <tr>\n",
       "      <th>2017-01-21</th>\n",
       "      <td>9.544656</td>\n",
       "      <td>NaN</td>\n",
       "    </tr>\n",
       "    <tr>\n",
       "      <th>2017-01-22</th>\n",
       "      <td>9.413857</td>\n",
       "      <td>NaN</td>\n",
       "    </tr>\n",
       "    <tr>\n",
       "      <th>2017-01-23</th>\n",
       "      <td>9.074282</td>\n",
       "      <td>NaN</td>\n",
       "    </tr>\n",
       "    <tr>\n",
       "      <th>2017-01-24</th>\n",
       "      <td>8.915200</td>\n",
       "      <td>NaN</td>\n",
       "    </tr>\n",
       "    <tr>\n",
       "      <th>2017-01-25</th>\n",
       "      <td>9.259972</td>\n",
       "      <td>NaN</td>\n",
       "    </tr>\n",
       "    <tr>\n",
       "      <th>2017-01-26</th>\n",
       "      <td>9.009049</td>\n",
       "      <td>NaN</td>\n",
       "    </tr>\n",
       "    <tr>\n",
       "      <th>2017-01-27</th>\n",
       "      <td>8.903792</td>\n",
       "      <td>NaN</td>\n",
       "    </tr>\n",
       "    <tr>\n",
       "      <th>2017-01-28</th>\n",
       "      <td>9.648162</td>\n",
       "      <td>NaN</td>\n",
       "    </tr>\n",
       "    <tr>\n",
       "      <th>2017-01-29</th>\n",
       "      <td>9.382042</td>\n",
       "      <td>NaN</td>\n",
       "    </tr>\n",
       "    <tr>\n",
       "      <th>2017-01-30</th>\n",
       "      <td>9.220566</td>\n",
       "      <td>NaN</td>\n",
       "    </tr>\n",
       "    <tr>\n",
       "      <th>2017-01-31</th>\n",
       "      <td>8.999437</td>\n",
       "      <td>NaN</td>\n",
       "    </tr>\n",
       "    <tr>\n",
       "      <th>2017-02-01</th>\n",
       "      <td>9.019675</td>\n",
       "      <td>NaN</td>\n",
       "    </tr>\n",
       "    <tr>\n",
       "      <th>2017-02-02</th>\n",
       "      <td>10.219289</td>\n",
       "      <td>NaN</td>\n",
       "    </tr>\n",
       "    <tr>\n",
       "      <th>2017-02-03</th>\n",
       "      <td>9.121051</td>\n",
       "      <td>NaN</td>\n",
       "    </tr>\n",
       "    <tr>\n",
       "      <th>2017-02-04</th>\n",
       "      <td>9.610615</td>\n",
       "      <td>NaN</td>\n",
       "    </tr>\n",
       "    <tr>\n",
       "      <th>2017-02-05</th>\n",
       "      <td>9.364460</td>\n",
       "      <td>NaN</td>\n",
       "    </tr>\n",
       "    <tr>\n",
       "      <th>2017-02-06</th>\n",
       "      <td>9.095777</td>\n",
       "      <td>NaN</td>\n",
       "    </tr>\n",
       "    <tr>\n",
       "      <th>2017-02-07</th>\n",
       "      <td>9.387471</td>\n",
       "      <td>NaN</td>\n",
       "    </tr>\n",
       "    <tr>\n",
       "      <th>2017-02-08</th>\n",
       "      <td>9.849042</td>\n",
       "      <td>NaN</td>\n",
       "    </tr>\n",
       "    <tr>\n",
       "      <th>2017-02-09</th>\n",
       "      <td>8.901552</td>\n",
       "      <td>NaN</td>\n",
       "    </tr>\n",
       "  </tbody>\n",
       "</table>\n",
       "</div>"
      ],
      "text/plain": [
       "            Net Sales  Net Sales Pred\n",
       "2017-01-01   9.345960             NaN\n",
       "2017-01-02  10.005408             NaN\n",
       "2017-01-03   9.130885             NaN\n",
       "2017-01-04   9.389909             NaN\n",
       "2017-01-05   9.385211             NaN\n",
       "2017-01-06   9.388384             NaN\n",
       "2017-01-07   9.738582             NaN\n",
       "2017-01-08   9.676492             NaN\n",
       "2017-01-09   9.445013             NaN\n",
       "2017-01-10   9.144830             NaN\n",
       "2017-01-11   9.015263             NaN\n",
       "2017-01-12   9.101877             NaN\n",
       "2017-01-13   9.240768             NaN\n",
       "2017-01-14   9.530738             NaN\n",
       "2017-01-15   9.326832             NaN\n",
       "2017-01-16   9.471650             NaN\n",
       "2017-01-17   8.788150             NaN\n",
       "2017-01-18   8.951347             NaN\n",
       "2017-01-19   9.075941             NaN\n",
       "2017-01-20   8.922225             NaN\n",
       "2017-01-21   9.544656             NaN\n",
       "2017-01-22   9.413857             NaN\n",
       "2017-01-23   9.074282             NaN\n",
       "2017-01-24   8.915200             NaN\n",
       "2017-01-25   9.259972             NaN\n",
       "2017-01-26   9.009049             NaN\n",
       "2017-01-27   8.903792             NaN\n",
       "2017-01-28   9.648162             NaN\n",
       "2017-01-29   9.382042             NaN\n",
       "2017-01-30   9.220566             NaN\n",
       "2017-01-31   8.999437             NaN\n",
       "2017-02-01   9.019675             NaN\n",
       "2017-02-02  10.219289             NaN\n",
       "2017-02-03   9.121051             NaN\n",
       "2017-02-04   9.610615             NaN\n",
       "2017-02-05   9.364460             NaN\n",
       "2017-02-06   9.095777             NaN\n",
       "2017-02-07   9.387471             NaN\n",
       "2017-02-08   9.849042             NaN\n",
       "2017-02-09   8.901552             NaN"
      ]
     },
     "execution_count": 212,
     "metadata": {
      "tags": []
     },
     "output_type": "execute_result"
    }
   ],
   "source": [
    "sales_agg_2.head(40)"
   ]
  },
  {
   "cell_type": "code",
   "execution_count": 0,
   "metadata": {
    "colab": {
     "base_uri": "https://localhost:8080/",
     "height": 1000
    },
    "colab_type": "code",
    "executionInfo": {
     "elapsed": 922,
     "status": "ok",
     "timestamp": 1575261542622,
     "user": {
      "displayName": "Bhavarth Chauhan",
      "photoUrl": "",
      "userId": "06549928463648907408"
     },
     "user_tz": 300
    },
    "id": "7TZDHC8q53NX",
    "outputId": "146e9078-d560-418d-8f9a-afd446ca9709"
   },
   "outputs": [
    {
     "data": {
      "text/html": [
       "<div>\n",
       "<style scoped>\n",
       "    .dataframe tbody tr th:only-of-type {\n",
       "        vertical-align: middle;\n",
       "    }\n",
       "\n",
       "    .dataframe tbody tr th {\n",
       "        vertical-align: top;\n",
       "    }\n",
       "\n",
       "    .dataframe thead th {\n",
       "        text-align: right;\n",
       "    }\n",
       "</style>\n",
       "<table border=\"1\" class=\"dataframe\">\n",
       "  <thead>\n",
       "    <tr style=\"text-align: right;\">\n",
       "      <th></th>\n",
       "      <th>Net Sales</th>\n",
       "      <th>Net Sales Pred</th>\n",
       "    </tr>\n",
       "  </thead>\n",
       "  <tbody>\n",
       "    <tr>\n",
       "      <th>2018-12-20</th>\n",
       "      <td>9.559108</td>\n",
       "      <td>NaN</td>\n",
       "    </tr>\n",
       "    <tr>\n",
       "      <th>2018-12-21</th>\n",
       "      <td>9.449486</td>\n",
       "      <td>NaN</td>\n",
       "    </tr>\n",
       "    <tr>\n",
       "      <th>2018-12-22</th>\n",
       "      <td>10.073321</td>\n",
       "      <td>NaN</td>\n",
       "    </tr>\n",
       "    <tr>\n",
       "      <th>2018-12-23</th>\n",
       "      <td>9.845928</td>\n",
       "      <td>NaN</td>\n",
       "    </tr>\n",
       "    <tr>\n",
       "      <th>2018-12-24</th>\n",
       "      <td>9.635809</td>\n",
       "      <td>NaN</td>\n",
       "    </tr>\n",
       "    <tr>\n",
       "      <th>2018-12-26</th>\n",
       "      <td>9.335631</td>\n",
       "      <td>NaN</td>\n",
       "    </tr>\n",
       "    <tr>\n",
       "      <th>2018-12-27</th>\n",
       "      <td>9.506841</td>\n",
       "      <td>NaN</td>\n",
       "    </tr>\n",
       "    <tr>\n",
       "      <th>2018-12-28</th>\n",
       "      <td>9.150533</td>\n",
       "      <td>NaN</td>\n",
       "    </tr>\n",
       "    <tr>\n",
       "      <th>2018-12-29</th>\n",
       "      <td>9.513354</td>\n",
       "      <td>NaN</td>\n",
       "    </tr>\n",
       "    <tr>\n",
       "      <th>2018-12-30</th>\n",
       "      <td>9.382899</td>\n",
       "      <td>NaN</td>\n",
       "    </tr>\n",
       "    <tr>\n",
       "      <th>2018-12-31</th>\n",
       "      <td>9.309701</td>\n",
       "      <td>NaN</td>\n",
       "    </tr>\n",
       "    <tr>\n",
       "      <th>2019-01-01</th>\n",
       "      <td>NaN</td>\n",
       "      <td>9.373406</td>\n",
       "    </tr>\n",
       "    <tr>\n",
       "      <th>2019-01-02</th>\n",
       "      <td>NaN</td>\n",
       "      <td>9.331785</td>\n",
       "    </tr>\n",
       "    <tr>\n",
       "      <th>2019-01-03</th>\n",
       "      <td>NaN</td>\n",
       "      <td>9.154429</td>\n",
       "    </tr>\n",
       "    <tr>\n",
       "      <th>2019-01-04</th>\n",
       "      <td>NaN</td>\n",
       "      <td>9.661444</td>\n",
       "    </tr>\n",
       "    <tr>\n",
       "      <th>2019-01-05</th>\n",
       "      <td>NaN</td>\n",
       "      <td>9.458954</td>\n",
       "    </tr>\n",
       "    <tr>\n",
       "      <th>2019-01-06</th>\n",
       "      <td>NaN</td>\n",
       "      <td>9.442111</td>\n",
       "    </tr>\n",
       "    <tr>\n",
       "      <th>2019-01-07</th>\n",
       "      <td>NaN</td>\n",
       "      <td>9.100417</td>\n",
       "    </tr>\n",
       "    <tr>\n",
       "      <th>2019-01-08</th>\n",
       "      <td>NaN</td>\n",
       "      <td>9.239309</td>\n",
       "    </tr>\n",
       "    <tr>\n",
       "      <th>2019-01-09</th>\n",
       "      <td>NaN</td>\n",
       "      <td>8.905617</td>\n",
       "    </tr>\n",
       "    <tr>\n",
       "      <th>2019-01-10</th>\n",
       "      <td>NaN</td>\n",
       "      <td>9.218252</td>\n",
       "    </tr>\n",
       "    <tr>\n",
       "      <th>2019-01-11</th>\n",
       "      <td>NaN</td>\n",
       "      <td>9.050906</td>\n",
       "    </tr>\n",
       "    <tr>\n",
       "      <th>2019-01-12</th>\n",
       "      <td>NaN</td>\n",
       "      <td>8.993551</td>\n",
       "    </tr>\n",
       "    <tr>\n",
       "      <th>2019-01-13</th>\n",
       "      <td>NaN</td>\n",
       "      <td>9.107996</td>\n",
       "    </tr>\n",
       "    <tr>\n",
       "      <th>2019-01-14</th>\n",
       "      <td>NaN</td>\n",
       "      <td>9.082354</td>\n",
       "    </tr>\n",
       "    <tr>\n",
       "      <th>2019-01-15</th>\n",
       "      <td>NaN</td>\n",
       "      <td>8.880540</td>\n",
       "    </tr>\n",
       "    <tr>\n",
       "      <th>2019-01-16</th>\n",
       "      <td>NaN</td>\n",
       "      <td>9.386707</td>\n",
       "    </tr>\n",
       "    <tr>\n",
       "      <th>2019-01-17</th>\n",
       "      <td>NaN</td>\n",
       "      <td>9.175952</td>\n",
       "    </tr>\n",
       "    <tr>\n",
       "      <th>2019-01-18</th>\n",
       "      <td>NaN</td>\n",
       "      <td>9.139401</td>\n",
       "    </tr>\n",
       "    <tr>\n",
       "      <th>2019-01-19</th>\n",
       "      <td>NaN</td>\n",
       "      <td>8.804351</td>\n",
       "    </tr>\n",
       "    <tr>\n",
       "      <th>2019-01-20</th>\n",
       "      <td>NaN</td>\n",
       "      <td>8.962640</td>\n",
       "    </tr>\n",
       "    <tr>\n",
       "      <th>2019-01-21</th>\n",
       "      <td>NaN</td>\n",
       "      <td>8.636245</td>\n",
       "    </tr>\n",
       "    <tr>\n",
       "      <th>2019-01-22</th>\n",
       "      <td>NaN</td>\n",
       "      <td>8.942580</td>\n",
       "    </tr>\n",
       "    <tr>\n",
       "      <th>2019-01-23</th>\n",
       "      <td>NaN</td>\n",
       "      <td>8.769890</td>\n",
       "    </tr>\n",
       "    <tr>\n",
       "      <th>2019-01-24</th>\n",
       "      <td>NaN</td>\n",
       "      <td>8.710186</td>\n",
       "    </tr>\n",
       "    <tr>\n",
       "      <th>2019-01-25</th>\n",
       "      <td>NaN</td>\n",
       "      <td>8.818877</td>\n",
       "    </tr>\n",
       "    <tr>\n",
       "      <th>2019-01-26</th>\n",
       "      <td>NaN</td>\n",
       "      <td>8.793737</td>\n",
       "    </tr>\n",
       "    <tr>\n",
       "      <th>2019-01-27</th>\n",
       "      <td>NaN</td>\n",
       "      <td>8.599931</td>\n",
       "    </tr>\n",
       "    <tr>\n",
       "      <th>2019-01-28</th>\n",
       "      <td>NaN</td>\n",
       "      <td>9.109730</td>\n",
       "    </tr>\n",
       "    <tr>\n",
       "      <th>2019-01-29</th>\n",
       "      <td>NaN</td>\n",
       "      <td>8.896692</td>\n",
       "    </tr>\n",
       "  </tbody>\n",
       "</table>\n",
       "</div>"
      ],
      "text/plain": [
       "            Net Sales  Net Sales Pred\n",
       "2018-12-20   9.559108             NaN\n",
       "2018-12-21   9.449486             NaN\n",
       "2018-12-22  10.073321             NaN\n",
       "2018-12-23   9.845928             NaN\n",
       "2018-12-24   9.635809             NaN\n",
       "2018-12-26   9.335631             NaN\n",
       "2018-12-27   9.506841             NaN\n",
       "2018-12-28   9.150533             NaN\n",
       "2018-12-29   9.513354             NaN\n",
       "2018-12-30   9.382899             NaN\n",
       "2018-12-31   9.309701             NaN\n",
       "2019-01-01        NaN        9.373406\n",
       "2019-01-02        NaN        9.331785\n",
       "2019-01-03        NaN        9.154429\n",
       "2019-01-04        NaN        9.661444\n",
       "2019-01-05        NaN        9.458954\n",
       "2019-01-06        NaN        9.442111\n",
       "2019-01-07        NaN        9.100417\n",
       "2019-01-08        NaN        9.239309\n",
       "2019-01-09        NaN        8.905617\n",
       "2019-01-10        NaN        9.218252\n",
       "2019-01-11        NaN        9.050906\n",
       "2019-01-12        NaN        8.993551\n",
       "2019-01-13        NaN        9.107996\n",
       "2019-01-14        NaN        9.082354\n",
       "2019-01-15        NaN        8.880540\n",
       "2019-01-16        NaN        9.386707\n",
       "2019-01-17        NaN        9.175952\n",
       "2019-01-18        NaN        9.139401\n",
       "2019-01-19        NaN        8.804351\n",
       "2019-01-20        NaN        8.962640\n",
       "2019-01-21        NaN        8.636245\n",
       "2019-01-22        NaN        8.942580\n",
       "2019-01-23        NaN        8.769890\n",
       "2019-01-24        NaN        8.710186\n",
       "2019-01-25        NaN        8.818877\n",
       "2019-01-26        NaN        8.793737\n",
       "2019-01-27        NaN        8.599931\n",
       "2019-01-28        NaN        9.109730\n",
       "2019-01-29        NaN        8.896692"
      ]
     },
     "execution_count": 211,
     "metadata": {
      "tags": []
     },
     "output_type": "execute_result"
    }
   ],
   "source": [
    "sales_agg_2.tail(40)"
   ]
  },
  {
   "cell_type": "code",
   "execution_count": 0,
   "metadata": {
    "colab": {},
    "colab_type": "code",
    "id": "7qc1mJwbgHFF"
   },
   "outputs": [],
   "source": [
    "pred_ci = pred.conf_int()"
   ]
  },
  {
   "cell_type": "code",
   "execution_count": 0,
   "metadata": {
    "colab": {
     "base_uri": "https://localhost:8080/",
     "height": 166
    },
    "colab_type": "code",
    "executionInfo": {
     "elapsed": 936,
     "status": "error",
     "timestamp": 1575251996896,
     "user": {
      "displayName": "Bhavarth Chauhan",
      "photoUrl": "",
      "userId": "06549928463648907408"
     },
     "user_tz": 300
    },
    "id": "X0eE5B2DFEgr",
    "outputId": "0233fb39-a8bf-4de9-9b76-912824300c53"
   },
   "outputs": [
    {
     "ename": "ValueError",
     "evalue": "ignored",
     "output_type": "error",
     "traceback": [
      "\u001b[0;31m---------------------------------------------------------------------------\u001b[0m",
      "\u001b[0;31mValueError\u001b[0m                                Traceback (most recent call last)",
      "\u001b[0;32m<ipython-input-48-8d5539418f4e>\u001b[0m in \u001b[0;36m<module>\u001b[0;34m()\u001b[0m\n\u001b[0;32m----> 1\u001b[0;31m \u001b[0mfc\u001b[0m\u001b[0;34m,\u001b[0m \u001b[0mse\u001b[0m\u001b[0;34m,\u001b[0m \u001b[0mconf\u001b[0m \u001b[0;34m=\u001b[0m \u001b[0mfitted\u001b[0m\u001b[0;34m.\u001b[0m\u001b[0mforecast\u001b[0m\u001b[0;34m(\u001b[0m\u001b[0;36m73\u001b[0m\u001b[0;34m,\u001b[0m \u001b[0malpha\u001b[0m\u001b[0;34m=\u001b[0m\u001b[0;36m0.05\u001b[0m\u001b[0;34m)\u001b[0m\u001b[0;34m\u001b[0m\u001b[0;34m\u001b[0m\u001b[0m\n\u001b[0m",
      "\u001b[0;31mValueError\u001b[0m: too many values to unpack (expected 3)"
     ]
    }
   ],
   "source": [
    "fc, se, conf = fitted.forecast(73, alpha=0.05)"
   ]
  },
  {
   "cell_type": "code",
   "execution_count": 0,
   "metadata": {
    "colab": {},
    "colab_type": "code",
    "id": "8g4j8JRfExSw"
   },
   "outputs": [],
   "source": [
    "fc_series = pd.Series(fc, index=test.index)\n",
    "lower_series = pd.Series(conf[:, 0], index=test.index)\n",
    "upper_series = pd.Series(conf[:, 1], index=test.index)"
   ]
  },
  {
   "cell_type": "code",
   "execution_count": 0,
   "metadata": {
    "colab": {
     "base_uri": "https://localhost:8080/",
     "height": 243
    },
    "colab_type": "code",
    "executionInfo": {
     "elapsed": 1033,
     "status": "ok",
     "timestamp": 1575256027235,
     "user": {
      "displayName": "Bhavarth Chauhan",
      "photoUrl": "",
      "userId": "06549928463648907408"
     },
     "user_tz": 300
    },
    "id": "YpQZ-Qw2ktHX",
    "outputId": "9700e71c-5e9a-4dee-894b-298d2223b874"
   },
   "outputs": [
    {
     "data": {
      "text/plain": [
       "datetime\n",
       "2018-07-01    9.805827\n",
       "2018-07-02    9.960176\n",
       "2018-07-03    9.746399\n",
       "2018-07-04    9.793494\n",
       "2018-07-05    9.865534\n",
       "                ...   \n",
       "2018-12-27    9.345068\n",
       "2018-12-28    9.709950\n",
       "2018-12-29    9.278822\n",
       "2018-12-30    9.428289\n",
       "2018-12-31    9.579916\n",
       "Length: 182, dtype: float64"
      ]
     },
     "execution_count": 89,
     "metadata": {
      "tags": []
     },
     "output_type": "execute_result"
    }
   ],
   "source": [
    "pred.predicted_mean"
   ]
  },
  {
   "cell_type": "code",
   "execution_count": 0,
   "metadata": {
    "colab": {
     "base_uri": "https://localhost:8080/",
     "height": 35
    },
    "colab_type": "code",
    "executionInfo": {
     "elapsed": 939,
     "status": "ok",
     "timestamp": 1575256537629,
     "user": {
      "displayName": "Bhavarth Chauhan",
      "photoUrl": "",
      "userId": "06549928463648907408"
     },
     "user_tz": 300
    },
    "id": "2zNNOZ8bkmxh",
    "outputId": "e120e741-4887-4820-863f-f4ec4ef2f3eb"
   },
   "outputs": [
    {
     "data": {
      "text/plain": [
       "-0.7056330107592603"
      ]
     },
     "execution_count": 93,
     "metadata": {
      "tags": []
     },
     "output_type": "execute_result"
    }
   ],
   "source": [
    "from sklearn.metrics import r2_score\n",
    "r2_score(test['Net Sales'], preds)"
   ]
  },
  {
   "cell_type": "code",
   "execution_count": 0,
   "metadata": {
    "colab": {
     "base_uri": "https://localhost:8080/",
     "height": 35
    },
    "colab_type": "code",
    "executionInfo": {
     "elapsed": 809,
     "status": "ok",
     "timestamp": 1575262127433,
     "user": {
      "displayName": "Bhavarth Chauhan",
      "photoUrl": "",
      "userId": "06549928463648907408"
     },
     "user_tz": 300
    },
    "id": "AvvYz_I87beZ",
    "outputId": "e8467060-4f76-4928-a4c3-7916e0b1bc63"
   },
   "outputs": [
    {
     "data": {
      "text/plain": [
       "0.2025686832215303"
      ]
     },
     "execution_count": 229,
     "metadata": {
      "tags": []
     },
     "output_type": "execute_result"
    }
   ],
   "source": [
    "from sklearn.metrics import mean_squared_error\n",
    "mean_squared_error(test['Net Sales'][:-29], pred.predicted_mean)"
   ]
  },
  {
   "cell_type": "code",
   "execution_count": 0,
   "metadata": {
    "colab": {
     "base_uri": "https://localhost:8080/",
     "height": 225
    },
    "colab_type": "code",
    "executionInfo": {
     "elapsed": 884,
     "status": "ok",
     "timestamp": 1575262108778,
     "user": {
      "displayName": "Bhavarth Chauhan",
      "photoUrl": "",
      "userId": "06549928463648907408"
     },
     "user_tz": 300
    },
    "id": "eSqnkOvZ7oP4",
    "outputId": "50bbc62e-0da3-4c01-db46-f52d331b4c07"
   },
   "outputs": [
    {
     "data": {
      "text/plain": [
       "2018-07-01    10.260148\n",
       "2018-07-02    10.161354\n",
       "2018-07-03    10.070232\n",
       "2018-07-04    10.078791\n",
       "2018-07-05     9.916217\n",
       "                ...    \n",
       "2018-12-27     9.506841\n",
       "2018-12-28     9.150533\n",
       "2018-12-29     9.513354\n",
       "2018-12-30     9.382899\n",
       "2018-12-31     9.309701\n",
       "Name: Net Sales, Length: 182, dtype: float64"
      ]
     },
     "execution_count": 228,
     "metadata": {
      "tags": []
     },
     "output_type": "execute_result"
    }
   ],
   "source": [
    "test['Net Sales'][:-29]"
   ]
  },
  {
   "cell_type": "code",
   "execution_count": 0,
   "metadata": {
    "colab": {
     "base_uri": "https://localhost:8080/",
     "height": 243
    },
    "colab_type": "code",
    "executionInfo": {
     "elapsed": 902,
     "status": "ok",
     "timestamp": 1575261992458,
     "user": {
      "displayName": "Bhavarth Chauhan",
      "photoUrl": "",
      "userId": "06549928463648907408"
     },
     "user_tz": 300
    },
    "id": "jGwdEXiykmq4",
    "outputId": "16561399-600d-440b-f203-0fa76dc5cdd4"
   },
   "outputs": [
    {
     "data": {
      "text/plain": [
       "datetime\n",
       "2018-07-01    9.805827\n",
       "2018-07-02    9.960176\n",
       "2018-07-03    9.746399\n",
       "2018-07-04    9.793494\n",
       "2018-07-05    9.865534\n",
       "                ...   \n",
       "2018-12-27    9.345068\n",
       "2018-12-28    9.709950\n",
       "2018-12-29    9.278822\n",
       "2018-12-30    9.428289\n",
       "2018-12-31    9.579916\n",
       "Length: 182, dtype: float64"
      ]
     },
     "execution_count": 221,
     "metadata": {
      "tags": []
     },
     "output_type": "execute_result"
    }
   ],
   "source": [
    "pred.predicted_mean"
   ]
  },
  {
   "cell_type": "code",
   "execution_count": 0,
   "metadata": {
    "colab": {
     "base_uri": "https://localhost:8080/",
     "height": 460
    },
    "colab_type": "code",
    "executionInfo": {
     "elapsed": 1348,
     "status": "ok",
     "timestamp": 1575261876807,
     "user": {
      "displayName": "Bhavarth Chauhan",
      "photoUrl": "",
      "userId": "06549928463648907408"
     },
     "user_tz": 300
    },
    "id": "FTienDmsFK2Z",
    "outputId": "79e6c3eb-1eec-4e7e-cc84-49a263dd9a7b"
   },
   "outputs": [
    {
     "data": {
      "image/png": "[encoded data removed]",
      "text/plain": [
       "<Figure size 1200x500 with 1 Axes>"
      ]
     },
     "metadata": {
      "tags": []
     },
     "output_type": "display_data"
    }
   ],
   "source": [
    "plt.figure(figsize=(12,5), dpi=100)\n",
    "plt.plot(sales_agg_2['Net Sales'], label='training')\n",
    "plt.plot(test['Net Sales'], label='actual')\n",
    "plt.plot(pred.predicted_mean, label='forecast')\n",
    "plt.title('Forecast vs Actuals')\n",
    "plt.legend(loc='upper left', fontsize=8)\n",
    "plt.show()"
   ]
  },
  {
   "cell_type": "code",
   "execution_count": 0,
   "metadata": {
    "colab": {
     "base_uri": "https://localhost:8080/",
     "height": 193
    },
    "colab_type": "code",
    "executionInfo": {
     "elapsed": 6227,
     "status": "ok",
     "timestamp": 1575072540579,
     "user": {
      "displayName": "Bhavarth Chauhan",
      "photoUrl": "",
      "userId": "06549928463648907408"
     },
     "user_tz": 300
    },
    "id": "8SGT2thxNEat",
    "outputId": "f2ea925e-1ca3-49d7-c045-2064803e1a96"
   },
   "outputs": [
    {
     "name": "stdout",
     "output_type": "stream",
     "text": [
      "Collecting apyori\n",
      "  Downloading https://files.pythonhosted.org/packages/5e/62/5ffde5c473ea4b033490617ec5caa80d59804875ad3c3c57c0976533a21a/apyori-1.1.2.tar.gz\n",
      "Building wheels for collected packages: apyori\n",
      "  Building wheel for apyori (setup.py) ... \u001b[?25l\u001b[?25hdone\n",
      "  Created wheel for apyori: filename=apyori-1.1.2-cp36-none-any.whl size=5975 sha256=ca2ff1ffb8fd929d9fd455e1f3771fe3b035cd538f2cea3c5e84222ed7b56d6c\n",
      "  Stored in directory: /root/.cache/pip/wheels/5d/92/bb/474bbadbc8c0062b9eb168f69982a0443263f8ab1711a8cad0\n",
      "Successfully built apyori\n",
      "Installing collected packages: apyori\n",
      "Successfully installed apyori-1.1.2\n"
     ]
    }
   ],
   "source": [
    "% pip install apyori\n"
   ]
  },
  {
   "cell_type": "code",
   "execution_count": 0,
   "metadata": {
    "colab": {},
    "colab_type": "code",
    "id": "BPQJLeaULwxw"
   },
   "outputs": [],
   "source": [
    "import numpy as np\n",
    "import matplotlib.pyplot as plt\n",
    "import pandas as pd\n",
    "from apyori import apriori"
   ]
  },
  {
   "cell_type": "code",
   "execution_count": 0,
   "metadata": {
    "colab": {},
    "colab_type": "code",
    "id": "ieYGqDMSxhNM"
   },
   "outputs": [],
   "source": [
    "cleaned_df_1 = cleaned_df[cleaned_df['Store Name'].isin(['14252 ISLAND PARK', '11116 BELLMORE'])]"
   ]
  },
  {
   "cell_type": "code",
   "execution_count": 0,
   "metadata": {
    "colab": {},
    "colab_type": "code",
    "id": "nP72Dkblxpu1"
   },
   "outputs": [],
   "source": [
    "import pickle\n",
    "cleaned_df_1.to_pickle(\"./finalNew.pkl\")"
   ]
  },
  {
   "cell_type": "code",
   "execution_count": 0,
   "metadata": {
    "colab": {},
    "colab_type": "code",
    "id": "e1cO51L0zLv7"
   },
   "outputs": [],
   "source": [
    "cleaned_df_new = cleaned_df[~cleaned_df['Item Description'].str.contains(\"INST SAVINGS\")]"
   ]
  },
  {
   "cell_type": "code",
   "execution_count": 0,
   "metadata": {
    "colab": {},
    "colab_type": "code",
    "id": "HJXAVk8r7779"
   },
   "outputs": [],
   "source": [
    "cleaned_df_new =cleaned_df"
   ]
  },
  {
   "cell_type": "code",
   "execution_count": 0,
   "metadata": {
    "colab": {
     "base_uri": "https://localhost:8080/",
     "height": 35
    },
    "colab_type": "code",
    "executionInfo": {
     "elapsed": 624,
     "status": "ok",
     "timestamp": 1575069171768,
     "user": {
      "displayName": "Bhavarth Chauhan",
      "photoUrl": "",
      "userId": "06549928463648907408"
     },
     "user_tz": 300
    },
    "id": "MIgbtCIO8v-2",
    "outputId": "9f713281-b939-4e20-fa4b-8eb1c4123c47"
   },
   "outputs": [
    {
     "data": {
      "text/plain": [
       "0"
      ]
     },
     "execution_count": 22,
     "metadata": {
      "tags": []
     },
     "output_type": "execute_result"
    }
   ],
   "source": [
    "gc.collect()"
   ]
  },
  {
   "cell_type": "code",
   "execution_count": 0,
   "metadata": {
    "colab": {},
    "colab_type": "code",
    "id": "FTVOozBeC43n"
   },
   "outputs": [],
   "source": [
    "order_items_coupon = cleaned_df_new.groupby(['Receipt Number'])['Item Description'].apply(list).reset_index(name='all products')"
   ]
  },
  {
   "cell_type": "code",
   "execution_count": 0,
   "metadata": {
    "colab": {},
    "colab_type": "code",
    "id": "DUDEACkONJPK"
   },
   "outputs": [],
   "source": [
    "order_items = cleaned_df_new.groupby(['Receipt Number'])['Item Description'].apply(list).reset_index(name='all products')"
   ]
  },
  {
   "cell_type": "code",
   "execution_count": 0,
   "metadata": {
    "colab": {},
    "colab_type": "code",
    "id": "UA_d7-SXFdux"
   },
   "outputs": [],
   "source": [
    "order_items_coupon.to_pickle('./orderItemsCoupon.pkl')"
   ]
  },
  {
   "cell_type": "code",
   "execution_count": 0,
   "metadata": {
    "colab": {},
    "colab_type": "code",
    "id": "-Fn9N79VAm1Q"
   },
   "outputs": [],
   "source": [
    "order_items.to_pickle(\"./orderItems.pkl\")"
   ]
  },
  {
   "cell_type": "code",
   "execution_count": 0,
   "metadata": {
    "colab": {},
    "colab_type": "code",
    "id": "8dU---K_V4IJ"
   },
   "outputs": [],
   "source": [
    "selected_data = cleaned_df[['unique_receipt', 'Item Number', 'Receipt Number']]\n",
    "order_items_prod = selected_data.groupby(['unique_receipt'])['Item Number'].apply(list).reset_index(name='all products')"
   ]
  },
  {
   "cell_type": "code",
   "execution_count": 0,
   "metadata": {
    "colab": {},
    "colab_type": "code",
    "id": "AmoKlj4tfCZJ"
   },
   "outputs": [],
   "source": [
    "selected_data = cleaned_df[['unique_receipt', 'Item Number', 'Receipt Number']]\n",
    "order_items_prod2 = selected_data.groupby(['Receipt Number'])['Item Number'].apply(list).reset_index(name='all products')"
   ]
  },
  {
   "cell_type": "code",
   "execution_count": 0,
   "metadata": {
    "colab": {},
    "colab_type": "code",
    "id": "SpdosbUmg4L3"
   },
   "outputs": [],
   "source": [
    "selected_data2 = cleaned_df[['unique_receipt', 'Department Code']]\n",
    "order_items_dept = selected_data2.groupby(['unique_receipt'])['Department Code'].apply(list).reset_index(name='all products')"
   ]
  },
  {
   "cell_type": "code",
   "execution_count": 0,
   "metadata": {
    "colab": {},
    "colab_type": "code",
    "id": "wG5SHXvVfIsb"
   },
   "outputs": [],
   "source": [
    "selected_data3 = cleaned_df[['unique_receipt', 'Item Number', 'Customer Number']]\n",
    "order_items_cust = selected_data3.groupby(['unique_receipt'])['Item Number'].apply(list).reset_index(name='all products')\n",
    "order_items_cust2 = selected_data3.groupby(['unique_receipt'])['Customer Number'].apply(list).reset_index(name='all products')"
   ]
  },
  {
   "cell_type": "code",
   "execution_count": 0,
   "metadata": {
    "colab": {},
    "colab_type": "code",
    "id": "ELGaX85AkeiH"
   },
   "outputs": [],
   "source": [
    "order_items_cust2.head()\n"
   ]
  },
  {
   "cell_type": "code",
   "execution_count": 0,
   "metadata": {
    "colab": {
     "base_uri": "https://localhost:8080/",
     "height": 34
    },
    "colab_type": "code",
    "executionInfo": {
     "elapsed": 2139266,
     "status": "ok",
     "timestamp": 1573716904366,
     "user": {
      "displayName": "Sharvil Katariya",
      "photoUrl": "",
      "userId": "09945751919218497216"
     },
     "user_tz": 300
    },
    "id": "itTgGltfk0er",
    "outputId": "f558099a-1932-4b36-d528-d0f4b190876c"
   },
   "outputs": [
    {
     "name": "stdout",
     "output_type": "stream",
     "text": [
      "17328020\n"
     ]
    }
   ],
   "source": [
    "print(len(cleaned_df))"
   ]
  },
  {
   "cell_type": "code",
   "execution_count": 0,
   "metadata": {
    "colab": {
     "base_uri": "https://localhost:8080/",
     "height": 35
    },
    "colab_type": "code",
    "executionInfo": {
     "elapsed": 834,
     "status": "ok",
     "timestamp": 1575060360910,
     "user": {
      "displayName": "Bhavarth Chauhan",
      "photoUrl": "",
      "userId": "06549928463648907408"
     },
     "user_tz": 300
    },
    "id": "Aqy4hWUSg01O",
    "outputId": "949052e1-67bd-4b14-db47-6e122dd95599"
   },
   "outputs": [
    {
     "data": {
      "text/plain": [
       "0"
      ]
     },
     "execution_count": 43,
     "metadata": {
      "tags": []
     },
     "output_type": "execute_result"
    }
   ],
   "source": [
    "import gc\n",
    "gc.collect()"
   ]
  },
  {
   "cell_type": "code",
   "execution_count": 0,
   "metadata": {
    "colab": {},
    "colab_type": "code",
    "id": "l-VX1_N3u6SD"
   },
   "outputs": [],
   "source": [
    "# Play an audio beep. Any audio URL will do.\n",
    "from google.colab import output\n",
    "output.eval_js('new Audio(\"https://upload.wikimedia.org/wikipedia/commons/0/05/Beep-09.ogg\").play()')"
   ]
  },
  {
   "cell_type": "code",
   "execution_count": 0,
   "metadata": {
    "colab": {},
    "colab_type": "code",
    "id": "pAhwvIHQRNsJ"
   },
   "outputs": [],
   "source": [
    "from apyori import apriori"
   ]
  },
  {
   "cell_type": "code",
   "execution_count": 0,
   "metadata": {
    "colab": {},
    "colab_type": "code",
    "id": "lWXGT6N0ObCm"
   },
   "outputs": [],
   "source": [
    "transaction_items"
   ]
  },
  {
   "cell_type": "code",
   "execution_count": 0,
   "metadata": {
    "colab": {},
    "colab_type": "code",
    "id": "ITUhyt0rRNu-"
   },
   "outputs": [],
   "source": [
    "results = list(apriori(transaction_items, min_length=2, min_lift = 0))"
   ]
  },
  {
   "cell_type": "code",
   "execution_count": 0,
   "metadata": {
    "colab": {},
    "colab_type": "code",
    "id": "SMbGcx9nWRS1"
   },
   "outputs": [],
   "source": [
    "results2 = list(apriori(transaction_items2))"
   ]
  },
  {
   "cell_type": "code",
   "execution_count": 0,
   "metadata": {
    "colab": {
     "base_uri": "https://localhost:8080/",
     "height": 34
    },
    "colab_type": "code",
    "executionInfo": {
     "elapsed": 6300,
     "status": "ok",
     "timestamp": 1573740191635,
     "user": {
      "displayName": "Sharvil Katariya",
      "photoUrl": "https://lh3.googleusercontent.com/a-/AAuE7mBIFh904X-RWCLBLvpNgxlZA-M-ZLv0nArp2pgK=s64",
      "userId": "16657405388988737507"
     },
     "user_tz": 300
    },
    "id": "-oxackFaN2yz",
    "outputId": "8150034a-7da3-40fc-9c20-a9ae86c6e07b"
   },
   "outputs": [
    {
     "name": "stdout",
     "output_type": "stream",
     "text": [
      "[]\n"
     ]
    }
   ],
   "source": [
    "print(results)"
   ]
  },
  {
   "cell_type": "code",
   "execution_count": 0,
   "metadata": {
    "colab": {
     "base_uri": "https://localhost:8080/",
     "height": 34
    },
    "colab_type": "code",
    "executionInfo": {
     "elapsed": 349,
     "status": "ok",
     "timestamp": 1573740219821,
     "user": {
      "displayName": "Sharvil Katariya",
      "photoUrl": "https://lh3.googleusercontent.com/a-/AAuE7mBIFh904X-RWCLBLvpNgxlZA-M-ZLv0nArp2pgK=s64",
      "userId": "16657405388988737507"
     },
     "user_tz": 300
    },
    "id": "f536fD1QOfJz",
    "outputId": "746a6585-dfb0-455d-af32-f1f702822968"
   },
   "outputs": [
    {
     "name": "stdout",
     "output_type": "stream",
     "text": [
      "[]\n"
     ]
    }
   ],
   "source": [
    "print(results2)"
   ]
  },
  {
   "cell_type": "code",
   "execution_count": 0,
   "metadata": {
    "colab": {},
    "colab_type": "code",
    "id": "qpQqgkifTwdd"
   },
   "outputs": [],
   "source": [
    "pickle.dump(results, open('results_1.pkl', 'wb'))"
   ]
  },
  {
   "cell_type": "code",
   "execution_count": 0,
   "metadata": {
    "colab": {},
    "colab_type": "code",
    "id": "H0U-ZHz-WXvH"
   },
   "outputs": [],
   "source": [
    "pickle.dump(results2, open('results_2.pkl', 'wb'))"
   ]
  },
  {
   "cell_type": "code",
   "execution_count": 0,
   "metadata": {
    "colab": {},
    "colab_type": "code",
    "id": "-eGoV8lGNvK9"
   },
   "outputs": [],
   "source": [
    "import pickle\n",
    "\n",
    "results = pickle.load(open('results_1.pkl', 'rb'))\n",
    "results2 = pickle.load(open('results_2.pkl', 'rb'))\n",
    "association_results = pickle.load(open('results_3.pkl', 'rb'))"
   ]
  },
  {
   "cell_type": "code",
   "execution_count": 0,
   "metadata": {
    "colab": {
     "base_uri": "https://localhost:8080/",
     "height": 202
    },
    "colab_type": "code",
    "executionInfo": {
     "elapsed": 396,
     "status": "ok",
     "timestamp": 1575059541031,
     "user": {
      "displayName": "Bhavarth Chauhan",
      "photoUrl": "",
      "userId": "06549928463648907408"
     },
     "user_tz": 300
    },
    "id": "Saw9lQoG3TaX",
    "outputId": "ebf8ee73-4fc5-42a2-da53-1d7dff58cfbb"
   },
   "outputs": [
    {
     "data": {
      "text/html": [
       "<div>\n",
       "<style scoped>\n",
       "    .dataframe tbody tr th:only-of-type {\n",
       "        vertical-align: middle;\n",
       "    }\n",
       "\n",
       "    .dataframe tbody tr th {\n",
       "        vertical-align: top;\n",
       "    }\n",
       "\n",
       "    .dataframe thead th {\n",
       "        text-align: right;\n",
       "    }\n",
       "</style>\n",
       "<table border=\"1\" class=\"dataframe\">\n",
       "  <thead>\n",
       "    <tr style=\"text-align: right;\">\n",
       "      <th></th>\n",
       "      <th>unique_receipt</th>\n",
       "      <th>all products</th>\n",
       "    </tr>\n",
       "  </thead>\n",
       "  <tbody>\n",
       "    <tr>\n",
       "      <th>0</th>\n",
       "      <td>634976</td>\n",
       "      <td>[SCOTT BATH TISS1000SHEET, STANLEY STAPLE/BRAD...</td>\n",
       "    </tr>\n",
       "    <tr>\n",
       "      <th>1</th>\n",
       "      <td>634978</td>\n",
       "      <td>[MKTG RENTAL SPACE]</td>\n",
       "    </tr>\n",
       "    <tr>\n",
       "      <th>2</th>\n",
       "      <td>634979</td>\n",
       "      <td>[MKTG RENTAL SPACE]</td>\n",
       "    </tr>\n",
       "    <tr>\n",
       "      <th>3</th>\n",
       "      <td>634980</td>\n",
       "      <td>[MKTG RENTAL SPACE]</td>\n",
       "    </tr>\n",
       "    <tr>\n",
       "      <th>4</th>\n",
       "      <td>634981</td>\n",
       "      <td>[ES PAR38 HALGN BULB 86W, HALOGN BULB ES PAR38...</td>\n",
       "    </tr>\n",
       "  </tbody>\n",
       "</table>\n",
       "</div>"
      ],
      "text/plain": [
       "  unique_receipt                                       all products\n",
       "0         634976  [SCOTT BATH TISS1000SHEET, STANLEY STAPLE/BRAD...\n",
       "1         634978                                [MKTG RENTAL SPACE]\n",
       "2         634979                                [MKTG RENTAL SPACE]\n",
       "3         634980                                [MKTG RENTAL SPACE]\n",
       "4         634981  [ES PAR38 HALGN BULB 86W, HALOGN BULB ES PAR38..."
      ]
     },
     "execution_count": 16,
     "metadata": {
      "tags": []
     },
     "output_type": "execute_result"
    }
   ],
   "source": [
    "order_items.head()"
   ]
  },
  {
   "cell_type": "code",
   "execution_count": 0,
   "metadata": {
    "colab": {
     "base_uri": "https://localhost:8080/",
     "height": 121
    },
    "colab_type": "code",
    "executionInfo": {
     "elapsed": 406,
     "status": "ok",
     "timestamp": 1575067258086,
     "user": {
      "displayName": "Bhavarth Chauhan",
      "photoUrl": "",
      "userId": "06549928463648907408"
     },
     "user_tz": 300
    },
    "id": "q00ye2gIL-CJ",
    "outputId": "1c26340e-2939-407a-f310-dcf40d3c6eb9"
   },
   "outputs": [
    {
     "data": {
      "text/plain": [
       "['CM WET DRY VAC 6 GAL',\n",
       " '2381556 $20 INST SAVINGS',\n",
       " 'CM WET DRY VAC 6 GAL',\n",
       " '2381556 $20 INST SAVINGS',\n",
       " 'DGTL IN/OUT THERM  ASST',\n",
       " 'DGTL IN/OUT THERM  ASST']"
      ]
     },
     "execution_count": 87,
     "metadata": {
      "tags": []
     },
     "output_type": "execute_result"
    }
   ],
   "source": [
    "order_items_coupon['all products'][3]"
   ]
  },
  {
   "cell_type": "code",
   "execution_count": 0,
   "metadata": {
    "colab": {
     "base_uri": "https://localhost:8080/",
     "height": 202
    },
    "colab_type": "code",
    "executionInfo": {
     "elapsed": 506,
     "status": "ok",
     "timestamp": 1575068728062,
     "user": {
      "displayName": "Bhavarth Chauhan",
      "photoUrl": "",
      "userId": "06549928463648907408"
     },
     "user_tz": 300
    },
    "id": "DRKLnuISaWSy",
    "outputId": "49e63681-e781-4d6c-f0de-55eeeb05ce2d"
   },
   "outputs": [
    {
     "data": {
      "text/html": [
       "<div>\n",
       "<style scoped>\n",
       "    .dataframe tbody tr th:only-of-type {\n",
       "        vertical-align: middle;\n",
       "    }\n",
       "\n",
       "    .dataframe tbody tr th {\n",
       "        vertical-align: top;\n",
       "    }\n",
       "\n",
       "    .dataframe thead th {\n",
       "        text-align: right;\n",
       "    }\n",
       "</style>\n",
       "<table border=\"1\" class=\"dataframe\">\n",
       "  <thead>\n",
       "    <tr style=\"text-align: right;\">\n",
       "      <th></th>\n",
       "      <th>Receipt Number</th>\n",
       "      <th>all products</th>\n",
       "    </tr>\n",
       "  </thead>\n",
       "  <tbody>\n",
       "    <tr>\n",
       "      <th>0</th>\n",
       "      <td>1</td>\n",
       "      <td>[BATTERY- ALKLINE AAA 4PK, HOLE SAW 1-3/4\" ICE...</td>\n",
       "    </tr>\n",
       "    <tr>\n",
       "      <th>1</th>\n",
       "      <td>10</td>\n",
       "      <td>[WASTEBASKET 36QT WHITE, PAINTSHIELD 10\" ALUM]</td>\n",
       "    </tr>\n",
       "    <tr>\n",
       "      <th>2</th>\n",
       "      <td>100</td>\n",
       "      <td>[STRAP EMT 1HOLE 1\", CONDUIT EMT 1\"X10', PROTE...</td>\n",
       "    </tr>\n",
       "    <tr>\n",
       "      <th>3</th>\n",
       "      <td>1000</td>\n",
       "      <td>[CM WET DRY VAC 6 GAL, CM WET DRY VAC 6 GAL, D...</td>\n",
       "    </tr>\n",
       "    <tr>\n",
       "      <th>4</th>\n",
       "      <td>10000</td>\n",
       "      <td>[PLUG SCH40 PVC 1/2\" MPT, CAP PVC SCH40 1/2\"FP...</td>\n",
       "    </tr>\n",
       "  </tbody>\n",
       "</table>\n",
       "</div>"
      ],
      "text/plain": [
       "  Receipt Number                                       all products\n",
       "0              1  [BATTERY- ALKLINE AAA 4PK, HOLE SAW 1-3/4\" ICE...\n",
       "1             10     [WASTEBASKET 36QT WHITE, PAINTSHIELD 10\" ALUM]\n",
       "2            100  [STRAP EMT 1HOLE 1\", CONDUIT EMT 1\"X10', PROTE...\n",
       "3           1000  [CM WET DRY VAC 6 GAL, CM WET DRY VAC 6 GAL, D...\n",
       "4          10000  [PLUG SCH40 PVC 1/2\" MPT, CAP PVC SCH40 1/2\"FP..."
      ]
     },
     "execution_count": 16,
     "metadata": {
      "tags": []
     },
     "output_type": "execute_result"
    }
   ],
   "source": [
    "order_items.head()"
   ]
  },
  {
   "cell_type": "code",
   "execution_count": 0,
   "metadata": {
    "colab": {
     "base_uri": "https://localhost:8080/",
     "height": 69
    },
    "colab_type": "code",
    "executionInfo": {
     "elapsed": 437,
     "status": "ok",
     "timestamp": 1575072862355,
     "user": {
      "displayName": "Bhavarth Chauhan",
      "photoUrl": "",
      "userId": "06549928463648907408"
     },
     "user_tz": 300
    },
    "id": "pK5dg2c1p8wz",
    "outputId": "6e7dd76b-bfc3-41d6-d726-c49cc2d803e7"
   },
   "outputs": [
    {
     "data": {
      "text/plain": [
       "['SUPERHIDE ZERO EGGS-BASE 2 GAL',\n",
       " 'GASKET TOILET NO-SEEP #3',\n",
       " 'FLOAT TOILET PLSTC 4X5\"']"
      ]
     },
     "execution_count": 33,
     "metadata": {
      "tags": []
     },
     "output_type": "execute_result"
    }
   ],
   "source": [
    "order_items_coupon['all products'][6]"
   ]
  },
  {
   "cell_type": "code",
   "execution_count": 0,
   "metadata": {
    "colab": {},
    "colab_type": "code",
    "id": "MKoS8U8M2rtw"
   },
   "outputs": [],
   "source": [
    "transaction_items = order_items_coupon['all products'].tolist()"
   ]
  },
  {
   "cell_type": "code",
   "execution_count": 0,
   "metadata": {
    "colab": {},
    "colab_type": "code",
    "id": "G_43USCO2tdv"
   },
   "outputs": [],
   "source": [
    "transaction_items"
   ]
  },
  {
   "cell_type": "code",
   "execution_count": 0,
   "metadata": {
    "colab": {},
    "colab_type": "code",
    "id": "x2LKj2l5Tnvm"
   },
   "outputs": [],
   "source": [
    "association_rules = apriori(transaction_items, min_length=3, min_support=0.00045)\n",
    "association_results = list(association_rules)"
   ]
  },
  {
   "cell_type": "code",
   "execution_count": 0,
   "metadata": {
    "colab": {
     "base_uri": "https://localhost:8080/",
     "height": 1000
    },
    "colab_type": "code",
    "executionInfo": {
     "elapsed": 476,
     "status": "ok",
     "timestamp": 1575080118829,
     "user": {
      "displayName": "Bhavarth Chauhan",
      "photoUrl": "",
      "userId": "06549928463648907408"
     },
     "user_tz": 300
    },
    "id": "HYsgoKOdGUzv",
    "outputId": "89f0f6b8-d18f-4948-f2d7-76b934f11fff"
   },
   "outputs": [
    {
     "data": {
      "text/plain": [
       "[RelationRecord(items=frozenset({'#16 DECK MOP W/HANDLE'}), support=0.00048079717227860874, ordered_statistics=[OrderedStatistic(items_base=frozenset(), items_add=frozenset({'#16 DECK MOP W/HANDLE'}), confidence=0.00048079717227860874, lift=1.0)]),\n",
       " RelationRecord(items=frozenset({'#300000947-WRTH HNGR GRN'}), support=0.0005540111843838286, ordered_statistics=[OrderedStatistic(items_base=frozenset(), items_add=frozenset({'#300000947-WRTH HNGR GRN'}), confidence=0.0005540111843838286, lift=1.0)]),\n",
       " RelationRecord(items=frozenset({'#40 TOP SOIL'}), support=0.003646359716291929, ordered_statistics=[OrderedStatistic(items_base=frozenset(), items_add=frozenset({'#40 TOP SOIL'}), confidence=0.003646359716291929, lift=1.0)]),\n",
       " RelationRecord(items=frozenset({'$10 OF $30'}), support=0.0007298757701623464, ordered_statistics=[OrderedStatistic(items_base=frozenset(), items_add=frozenset({'$10 OF $30'}), confidence=0.0007298757701623464, lift=1.0)]),\n",
       " RelationRecord(items=frozenset({'$10 OFF $20 OR MORE PURCHASE'}), support=0.001019712684063423, ordered_statistics=[OrderedStatistic(items_base=frozenset(), items_add=frozenset({'$10 OFF $20 OR MORE PURCHASE'}), confidence=0.001019712684063423, lift=1.0)]),\n",
       " RelationRecord(items=frozenset({'$10 OFF PURCH $50 OR MORE'}), support=0.0008506411509544617, ordered_statistics=[OrderedStatistic(items_base=frozenset(), items_add=frozenset({'$10 OFF PURCH $50 OR MORE'}), confidence=0.0008506411509544617, lift=1.0)]),\n",
       " RelationRecord(items=frozenset({'$10 REWARDB'}), support=0.000520800704665997, ordered_statistics=[OrderedStatistic(items_base=frozenset(), items_add=frozenset({'$10 REWARDB'}), confidence=0.000520800704665997, lift=1.0)]),\n",
       " RelationRecord(items=frozenset({'$10 REWARDF'}), support=0.0010031074442045072, ordered_statistics=[OrderedStatistic(items_base=frozenset(), items_add=frozenset({'$10 REWARDF'}), confidence=0.0010031074442045072, lift=1.0)]),\n",
       " RelationRecord(items=frozenset({'$10 REWARDG'}), support=0.0009291386484693365, ordered_statistics=[OrderedStatistic(items_base=frozenset(), items_add=frozenset({'$10 REWARDG'}), confidence=0.0009291386484693365, lift=1.0)]),\n",
       " RelationRecord(items=frozenset({'$10 REWARDH'}), support=0.0012778486855065693, ordered_statistics=[OrderedStatistic(items_base=frozenset(), items_add=frozenset({'$10 REWARDH'}), confidence=0.0012778486855065693, lift=1.0)]),\n",
       " RelationRecord(items=frozenset({'$10 REWARDI'}), support=0.0005630685879432373, ordered_statistics=[OrderedStatistic(items_base=frozenset(), items_add=frozenset({'$10 REWARDI'}), confidence=0.0005630685879432373, lift=1.0)]),\n",
       " RelationRecord(items=frozenset({'$10 REWARDJ'}), support=0.0019835713795104924, ordered_statistics=[OrderedStatistic(items_base=frozenset(), items_add=frozenset({'$10 REWARDJ'}), confidence=0.0019835713795104924, lift=1.0)]),\n",
       " RelationRecord(items=frozenset({\"$10.00 Costello's Coupon\"}), support=0.0004513606107105307, ordered_statistics=[OrderedStatistic(items_base=frozenset(), items_add=frozenset({\"$10.00 Costello's Coupon\"}), confidence=0.0004513606107105307, lift=1.0)]),\n",
       " RelationRecord(items=frozenset({'$15 REWARDJ'}), support=0.0008619629054037225, ordered_statistics=[OrderedStatistic(items_base=frozenset(), items_add=frozenset({'$15 REWARDJ'}), confidence=0.0008619629054037225, lift=1.0)]),\n",
       " RelationRecord(items=frozenset({'$2.29 FLOWER/VEGETABLE PACKETS'}), support=0.000569106856982843, ordered_statistics=[OrderedStatistic(items_base=frozenset(), items_add=frozenset({'$2.29 FLOWER/VEGETABLE PACKETS'}), confidence=0.000569106856982843, lift=1.0)]),\n",
       " RelationRecord(items=frozenset({'$2.49 FLOWER/VEG SEED'}), support=0.0005743903423924981, ordered_statistics=[OrderedStatistic(items_base=frozenset(), items_add=frozenset({'$2.49 FLOWER/VEG SEED'}), confidence=0.0005743903423924981, lift=1.0)]),\n",
       " RelationRecord(items=frozenset({'$3.39 FLOWER/VEGETABLE PACKETS'}), support=0.0005743903423924981, ordered_statistics=[OrderedStatistic(items_base=frozenset(), items_add=frozenset({'$3.39 FLOWER/VEGETABLE PACKETS'}), confidence=0.0005743903423924981, lift=1.0)]),\n",
       " RelationRecord(items=frozenset({\"$5 Costello's Cash\"}), support=0.005525770954869222, ordered_statistics=[OrderedStatistic(items_base=frozenset(), items_add=frozenset({\"$5 Costello's Cash\"}), confidence=0.005525770954869222, lift=1.0)]),\n",
       " RelationRecord(items=frozenset({'$5 OFF'}), support=0.0053325463456018385, ordered_statistics=[OrderedStatistic(items_base=frozenset(), items_add=frozenset({'$5 OFF'}), confidence=0.0053325463456018385, lift=1.0)]),\n",
       " RelationRecord(items=frozenset({'$5 REWARDA'}), support=0.0073078151051828725, ordered_statistics=[OrderedStatistic(items_base=frozenset(), items_add=frozenset({'$5 REWARDA'}), confidence=0.0073078151051828725, lift=1.0)]),\n",
       " RelationRecord(items=frozenset({'$5 REWARDB'}), support=0.010640184831415302, ordered_statistics=[OrderedStatistic(items_base=frozenset(), items_add=frozenset({'$5 REWARDB'}), confidence=0.010640184831415302, lift=1.0)]),\n",
       " RelationRecord(items=frozenset({'$5 REWARDC'}), support=0.006587751522209886, ordered_statistics=[OrderedStatistic(items_base=frozenset(), items_add=frozenset({'$5 REWARDC'}), confidence=0.006587751522209886, lift=1.0)]),\n",
       " RelationRecord(items=frozenset({'$5 REWARDD'}), support=0.005310657620333267, ordered_statistics=[OrderedStatistic(items_base=frozenset(), items_add=frozenset({'$5 REWARDD'}), confidence=0.005310657620333267, lift=1.0)]),\n",
       " RelationRecord(items=frozenset({'$5 REWARDE'}), support=0.008174306712366299, ordered_statistics=[OrderedStatistic(items_base=frozenset(), items_add=frozenset({'$5 REWARDE'}), confidence=0.008174306712366299, lift=1.0)]),\n",
       " RelationRecord(items=frozenset({'$5 REWARDF'}), support=0.013109082084984108, ordered_statistics=[OrderedStatistic(items_base=frozenset(), items_add=frozenset({'$5 REWARDF'}), confidence=0.013109082084984108, lift=1.0)]),\n",
       " RelationRecord(items=frozenset({'$5 REWARDG'}), support=0.012490159508424517, ordered_statistics=[OrderedStatistic(items_base=frozenset(), items_add=frozenset({'$5 REWARDG'}), confidence=0.012490159508424517, lift=1.0)]),\n",
       " RelationRecord(items=frozenset({'$5 REWARDH'}), support=0.010750383241388108, ordered_statistics=[OrderedStatistic(items_base=frozenset(), items_add=frozenset({'$5 REWARDH'}), confidence=0.010750383241388108, lift=1.0)]),\n",
       " RelationRecord(items=frozenset({'$5 REWARDI'}), support=0.010555649064860822, ordered_statistics=[OrderedStatistic(items_base=frozenset(), items_add=frozenset({'$5 REWARDI'}), confidence=0.010555649064860822, lift=1.0)]),\n",
       " RelationRecord(items=frozenset({'$5 REWARDJ'}), support=0.008498108889615158, ordered_statistics=[OrderedStatistic(items_base=frozenset(), items_add=frozenset({'$5 REWARDJ'}), confidence=0.008498108889615158, lift=1.0)]),\n",
       " RelationRecord(items=frozenset({'$5 REWARDK'}), support=0.008156191905247483, ordered_statistics=[OrderedStatistic(items_base=frozenset(), items_add=frozenset({'$5 REWARDK'}), confidence=0.008156191905247483, lift=1.0)]),\n",
       " RelationRecord(items=frozenset({'$5 REWARDL'}), support=0.00800674474651724, ordered_statistics=[OrderedStatistic(items_base=frozenset(), items_add=frozenset({'$5 REWARDL'}), confidence=0.00800674474651724, lift=1.0)]),\n",
       " RelationRecord(items=frozenset({'$7 OFF $20'}), support=0.003022908437952634, ordered_statistics=[OrderedStatistic(items_base=frozenset(), items_add=frozenset({'$7 OFF $20'}), confidence=0.003022908437952634, lift=1.0)]),\n",
       " RelationRecord(items=frozenset({'$7 OFF $20 REG PRICE PURCHASE'}), support=0.0005608042370533851, ordered_statistics=[OrderedStatistic(items_base=frozenset(), items_add=frozenset({'$7 OFF $20 REG PRICE PURCHASE'}), confidence=0.0005608042370533851, lift=1.0)]),\n",
       " RelationRecord(items=frozenset({'$7 OFF $25 OR MORE REG PR PUR'}), support=0.0011744433282033207, ordered_statistics=[OrderedStatistic(items_base=frozenset(), items_add=frozenset({'$7 OFF $25 OR MORE REG PR PUR'}), confidence=0.0011744433282033207, lift=1.0)]),\n",
       " RelationRecord(items=frozenset({'$7 OFF $25 REG PRICE ITEMS'}), support=0.003080271993828889, ordered_statistics=[OrderedStatistic(items_base=frozenset(), items_add=frozenset({'$7 OFF $25 REG PRICE ITEMS'}), confidence=0.003080271993828889, lift=1.0)]),\n",
       " RelationRecord(items=frozenset({'.5CU FT MARBLE CHIP 1\"'}), support=0.0005351415936350606, ordered_statistics=[OrderedStatistic(items_base=frozenset(), items_add=frozenset({'.5CU FT MARBLE CHIP 1\"'}), confidence=0.0005351415936350606, lift=1.0)]),\n",
       " RelationRecord(items=frozenset({'.5CU FT PLAY SAND SILICA FREE'}), support=0.0007449714427613609, ordered_statistics=[OrderedStatistic(items_base=frozenset(), items_add=frozenset({'.5CU FT PLAY SAND SILICA FREE'}), confidence=0.0007449714427613609, lift=1.0)]),\n",
       " RelationRecord(items=frozenset({'1 CF BUMPER CROP'}), support=0.0009389508356586959, ordered_statistics=[OrderedStatistic(items_base=frozenset(), items_add=frozenset({'1 CF BUMPER CROP'}), confidence=0.0009389508356586959, lift=1.0)]),\n",
       " RelationRecord(items=frozenset({\"1 CF GARDENER'S GOLD\"}), support=0.0008559246363641167, ordered_statistics=[OrderedStatistic(items_base=frozenset(), items_add=frozenset({\"1 CF GARDENER'S GOLD\"}), confidence=0.0008559246363641167, lift=1.0)]),\n",
       " RelationRecord(items=frozenset({'1 CF LOBSTER COMPOST'}), support=0.0007940323787081577, ordered_statistics=[OrderedStatistic(items_base=frozenset(), items_add=frozenset({'1 CF LOBSTER COMPOST'}), confidence=0.0007940323787081577, lift=1.0)]),\n",
       " RelationRecord(items=frozenset({'1\" ANGL SASH BRSH PET BLEND'}), support=0.001186519866282532, ordered_statistics=[OrderedStatistic(items_base=frozenset(), items_add=frozenset({'1\" ANGL SASH BRSH PET BLEND'}), confidence=0.001186519866282532, lift=1.0)]),\n",
       " RelationRecord(items=frozenset({'1\" MINIBLIND 32X64 WHT'}), support=0.0005766546932823503, ordered_statistics=[OrderedStatistic(items_base=frozenset(), items_add=frozenset({'1\" MINIBLIND 32X64 WHT'}), confidence=0.0005766546932823503, lift=1.0)]),\n",
       " RelationRecord(items=frozenset({'1\" PAINT MATE POLY BLEND BR'}), support=0.002491540762467327, ordered_statistics=[OrderedStatistic(items_base=frozenset(), items_add=frozenset({'1\" PAINT MATE POLY BLEND BR'}), confidence=0.002491540762467327, lift=1.0)]),\n",
       " RelationRecord(items=frozenset({'1-1/2\" PAINT MATE POLY BLEND ANG'}), support=0.001958663519722119, ordered_statistics=[OrderedStatistic(items_base=frozenset(), items_add=frozenset({'1-1/2\" PAINT MATE POLY BLEND ANG'}), confidence=0.001958663519722119, lift=1.0)]),\n",
       " RelationRecord(items=frozenset({'1-1/2\" PAINT MATE POLY BLEND BR'}), support=0.003067440672119727, ordered_statistics=[OrderedStatistic(items_base=frozenset(), items_add=frozenset({'1-1/2\" PAINT MATE POLY BLEND BR'}), confidence=0.003067440672119727, lift=1.0)]),\n",
       " RelationRecord(items=frozenset({'1.25X42 A/C FOAM STRIP'}), support=0.0005728807751325966, ordered_statistics=[OrderedStatistic(items_base=frozenset(), items_add=frozenset({'1.25X42 A/C FOAM STRIP'}), confidence=0.0005728807751325966, lift=1.0)]),\n",
       " RelationRecord(items=frozenset({'1.5\" ANGL SASH BRSH PET BLEND'}), support=0.0014205027915672555, ordered_statistics=[OrderedStatistic(items_base=frozenset(), items_add=frozenset({'1.5\" ANGL SASH BRSH PET BLEND'}), confidence=0.0014205027915672555, lift=1.0)]),\n",
       " RelationRecord(items=frozenset({'10\" ANNUAL BASKET'}), support=0.0012242590477800682, ordered_statistics=[OrderedStatistic(items_base=frozenset(), items_add=frozenset({'10\" ANNUAL BASKET'}), confidence=0.0012242590477800682, lift=1.0)]),\n",
       " RelationRecord(items=frozenset({'10\" SUPREME HANGING BASKET'}), support=0.0028523273375837717, ordered_statistics=[OrderedStatistic(items_base=frozenset(), items_add=frozenset({'10\" SUPREME HANGING BASKET'}), confidence=0.0028523273375837717, lift=1.0)]),\n",
       " RelationRecord(items=frozenset({\"10' PHONE CRD-ANDROID/IPHONE-AST\"}), support=0.0008340359110955458, ordered_statistics=[OrderedStatistic(items_base=frozenset(), items_add=frozenset({\"10' PHONE CRD-ANDROID/IPHONE-AST\"}), confidence=0.0008340359110955458, lift=1.0)]),\n",
       " RelationRecord(items=frozenset({'100 LUMENS SOFT GRIP FLASHLIGHT'}), support=0.0011510450356748483, ordered_statistics=[OrderedStatistic(items_base=frozenset(), items_add=frozenset({'100 LUMENS SOFT GRIP FLASHLIGHT'}), confidence=0.0011510450356748483, lift=1.0)]),\n",
       " RelationRecord(items=frozenset({'100A19/RS/130V 4PK'}), support=0.0012612434456476533, ordered_statistics=[OrderedStatistic(items_base=frozenset(), items_add=frozenset({'100A19/RS/130V 4PK'}), confidence=0.0012612434456476533, lift=1.0)]),\n",
       " RelationRecord(items=frozenset({'100T3Q/CL 78MM 2/CARD'}), support=0.000531367675485307, ordered_statistics=[OrderedStatistic(items_base=frozenset(), items_add=frozenset({'100T3Q/CL 78MM 2/CARD'}), confidence=0.000531367675485307, lift=1.0)]),\n",
       " RelationRecord(items=frozenset({'100W BR-38 GREEN 120V.'}), support=0.000790258460558404, ordered_statistics=[OrderedStatistic(items_base=frozenset(), items_add=frozenset({'100W BR-38 GREEN 120V.'}), confidence=0.000790258460558404, lift=1.0)]),\n",
       " RelationRecord(items=frozenset({'100W BR-38 RED 120V'}), support=0.0007034583431140712, ordered_statistics=[OrderedStatistic(items_base=frozenset(), items_add=frozenset({'100W BR-38 RED 120V'}), confidence=0.0007034583431140712, lift=1.0)]),\n",
       " RelationRecord(items=frozenset({'100W CHASE A BUG BULB'}), support=0.000498911979397426, ordered_statistics=[OrderedStatistic(items_base=frozenset(), items_add=frozenset({'100W CHASE A BUG BULB'}), confidence=0.000498911979397426, lift=1.0)]),\n",
       " RelationRecord(items=frozenset({'100W ROUGH SERVICE'}), support=0.0005857120968417588, ordered_statistics=[OrderedStatistic(items_base=frozenset(), items_add=frozenset({'100W ROUGH SERVICE'}), confidence=0.0005857120968417588, lift=1.0)]),\n",
       " RelationRecord(items=frozenset({'10A19/LED/2700K/120V'}), support=0.0035044603938611937, ordered_statistics=[OrderedStatistic(items_base=frozenset(), items_add=frozenset({'10A19/LED/2700K/120V'}), confidence=0.0035044603938611937, lift=1.0)]),\n",
       " RelationRecord(items=frozenset({'10A19/LED/5000K/120V'}), support=0.0034516255397646434, ordered_statistics=[OrderedStatistic(items_base=frozenset(), items_add=frozenset({'10A19/LED/5000K/120V'}), confidence=0.0034516255397646434, lift=1.0)]),\n",
       " RelationRecord(items=frozenset({'10BR30/LED 2700K/ 700L/ 120V D'}), support=0.00437019721741467, ordered_statistics=[OrderedStatistic(items_base=frozenset(), items_add=frozenset({'10BR30/LED 2700K/ 700L/ 120V D'}), confidence=0.00437019721741467, lift=1.0)]),\n",
       " RelationRecord(items=frozenset({'10BR30/LED/3K/120V/6PK'}), support=0.001138213713965686, ordered_statistics=[OrderedStatistic(items_base=frozenset(), items_add=frozenset({'10BR30/LED/3K/120V/6PK'}), confidence=0.001138213713965686, lift=1.0)]),\n",
       " RelationRecord(items=frozenset({'10PK NITRILE KNIT GLOVES'}), support=0.0008921542506017513, ordered_statistics=[OrderedStatistic(items_base=frozenset(), items_add=frozenset({'10PK NITRILE KNIT GLOVES'}), confidence=0.0008921542506017513, lift=1.0)]),\n",
       " RelationRecord(items=frozenset({'10T3Q/CL 12V. BI PIN CARD'}), support=0.0008385646128752501, ordered_statistics=[OrderedStatistic(items_base=frozenset(), items_add=frozenset({'10T3Q/CL 12V. BI PIN CARD'}), confidence=0.0008385646128752501, lift=1.0)]),\n",
       " RelationRecord(items=frozenset({'10Y PHOTO SMK&CO SLIM'}), support=0.000677040916065796, ordered_statistics=[OrderedStatistic(items_base=frozenset(), items_add=frozenset({'10Y PHOTO SMK&CO SLIM'}), confidence=0.000677040916065796, lift=1.0)]),\n",
       " RelationRecord(items=frozenset({'10Y SLIM PHOTO SMK ALRM'}), support=0.0007955419459680591, ordered_statistics=[OrderedStatistic(items_base=frozenset(), items_add=frozenset({'10Y SLIM PHOTO SMK ALRM'}), confidence=0.0007955419459680591, lift=1.0)]),\n",
       " RelationRecord(items=frozenset({'11.5 BR40/LED/3000K/970L/120V'}), support=0.0044018981298726, ordered_statistics=[OrderedStatistic(items_base=frozenset(), items_add=frozenset({'11.5 BR40/LED/3000K/970L/120V'}), confidence=0.0044018981298726, lift=1.0)]),\n",
       " RelationRecord(items=frozenset({'11.5A19/ LED/ 27K/ 120V/ 4PK'}), support=0.0017933659047629112, ordered_statistics=[OrderedStatistic(items_base=frozenset(), items_add=frozenset({'11.5A19/ LED/ 27K/ 120V/ 4PK'}), confidence=0.0017933659047629112, lift=1.0)]),\n",
       " RelationRecord(items=frozenset({'11.5A19/ LED/ 50K/ 120V/ 4PK'}), support=0.0017790250157938474, ordered_statistics=[OrderedStatistic(items_base=frozenset(), items_add=frozenset({'11.5A19/ LED/ 50K/ 120V/ 4PK'}), confidence=0.0017790250157938474, lift=1.0)]),\n",
       " RelationRecord(items=frozenset({'11.5A19/LED/2700K/1100L/120V/D'}), support=0.000884606414302244, ordered_statistics=[OrderedStatistic(items_base=frozenset(), items_add=frozenset({'11.5A19/LED/2700K/1100L/120V/D'}), confidence=0.000884606414302244, lift=1.0)]),\n",
       " RelationRecord(items=frozenset({'11A19/LED/2700K/1100L/120V/D'}), support=0.0004785328213887566, ordered_statistics=[OrderedStatistic(items_base=frozenset(), items_add=frozenset({'11A19/LED/2700K/1100L/120V/D'}), confidence=0.0004785328213887566, lift=1.0)]),\n",
       " RelationRecord(items=frozenset({'11A19/LED/2700K/120V/4PK'}), support=0.001896016478436209, ordered_statistics=[OrderedStatistic(items_base=frozenset(), items_add=frozenset({'11A19/LED/2700K/120V/4PK'}), confidence=0.001896016478436209, lift=1.0)]),\n",
       " RelationRecord(items=frozenset({'11A19/LED/27K/ND/120V/4PK'}), support=0.0008498863673245109, ordered_statistics=[OrderedStatistic(items_base=frozenset(), items_add=frozenset({'11A19/LED/27K/ND/120V/4PK'}), confidence=0.0008498863673245109, lift=1.0)]),\n",
       " RelationRecord(items=frozenset({'11A19/LED/50K/ND/120V/4PK'}), support=0.0008800777125225397, ordered_statistics=[OrderedStatistic(items_base=frozenset(), items_add=frozenset({'11A19/LED/50K/ND/120V/4PK'}), confidence=0.0008800777125225397, lift=1.0)]),\n",
       " RelationRecord(items=frozenset({'12 LED MAGNIFYING GLASS'}), support=0.0007668601680299317, ordered_statistics=[OrderedStatistic(items_base=frozenset(), items_add=frozenset({'12 LED MAGNIFYING GLASS'}), confidence=0.0007668601680299317, lift=1.0)]),\n",
       " RelationRecord(items=frozenset({'12\" PROMO PATIO POT'}), support=0.0005079693829568347, ordered_statistics=[OrderedStatistic(items_base=frozenset(), items_add=frozenset({'12\" PROMO PATIO POT'}), confidence=0.0005079693829568347, lift=1.0)]),\n",
       " RelationRecord(items=frozenset({'12\"PATIO TOMATO TRELLIS POT W/MA'}), support=0.0008272428584259893, ordered_statistics=[OrderedStatistic(items_base=frozenset(), items_add=frozenset({'12\"PATIO TOMATO TRELLIS POT W/MA'}), confidence=0.0008272428584259893, lift=1.0)]),\n",
       " RelationRecord(items=frozenset({'120V LAMPS PAR16 60WATTS'}), support=0.0008559246363641167, ordered_statistics=[OrderedStatistic(items_base=frozenset(), items_add=frozenset({'120V LAMPS PAR16 60WATTS'}), confidence=0.0008559246363641167, lift=1.0)]),\n",
       " RelationRecord(items=frozenset({'12OZ CAN SODA'}), support=0.005977886349209704, ordered_statistics=[OrderedStatistic(items_base=frozenset(), items_add=frozenset({'12OZ CAN SODA'}), confidence=0.005977886349209704, lift=1.0)]),\n",
       " RelationRecord(items=frozenset({\"13PAR30/LED/40'/3500K/120V/D\"}), support=0.0013125687324843024, ordered_statistics=[OrderedStatistic(items_base=frozenset(), items_add=frozenset({\"13PAR30/LED/40'/3500K/120V/D\"}), confidence=0.0013125687324843024, lift=1.0)]),\n",
       " RelationRecord(items=frozenset({'13W GU24 MINI SPIRAL 120V'}), support=0.0006981748577044161, ordered_statistics=[OrderedStatistic(items_base=frozenset(), items_add=frozenset({'13W GU24 MINI SPIRAL 120V'}), confidence=0.0006981748577044161, lift=1.0)]),\n",
       " RelationRecord(items=frozenset({'15% OFF ENTIRE PURCHASE'}), support=0.002136792456390489, ordered_statistics=[OrderedStatistic(items_base=frozenset(), items_add=frozenset({'15% OFF ENTIRE PURCHASE'}), confidence=0.002136792456390489, lift=1.0)]),\n",
       " RelationRecord(items=frozenset({'15.5A21/LED/2700K/1600L/120V/D'}), support=0.0007449714427613609, ordered_statistics=[OrderedStatistic(items_base=frozenset(), items_add=frozenset({'15.5A21/LED/2700K/1600L/120V/D'}), confidence=0.0007449714427613609, lift=1.0)]),\n",
       " RelationRecord(items=frozenset({\"150' SISAL TWINE 1/2 LB 2 PLY\"}), support=0.0008068637004173198, ordered_statistics=[OrderedStatistic(items_base=frozenset(), items_add=frozenset({\"150' SISAL TWINE 1/2 LB 2 PLY\"}), confidence=0.0008068637004173198, lift=1.0)]),\n",
       " RelationRecord(items=frozenset({'150T3Q/CL 78MM 2/CARD'}), support=0.0006898722377749583, ordered_statistics=[OrderedStatistic(items_base=frozenset(), items_add=frozenset({'150T3Q/CL 78MM 2/CARD'}), confidence=0.0006898722377749583, lift=1.0)]),\n",
       " RelationRecord(items=frozenset({'150W INCAND 750 HOUR BULB'}), support=0.0009034760050510121, ordered_statistics=[OrderedStatistic(items_base=frozenset(), items_add=frozenset({'150W INCAND 750 HOUR BULB'}), confidence=0.0009034760050510121, lift=1.0)]),\n",
       " RelationRecord(items=frozenset({'15A19/LED/2700K/1600L/120V/D'}), support=0.0005864668804717095, ordered_statistics=[OrderedStatistic(items_base=frozenset(), items_add=frozenset({'15A19/LED/2700K/1600L/120V/D'}), confidence=0.0005864668804717095, lift=1.0)]),\n",
       " RelationRecord(items=frozenset({'15A21/LED/2700K/120V/4PK'}), support=0.0013050208961847953, ordered_statistics=[OrderedStatistic(items_base=frozenset(), items_add=frozenset({'15A21/LED/2700K/120V/4PK'}), confidence=0.0013050208961847953, lift=1.0)]),\n",
       " RelationRecord(items=frozenset({\"15PAR38/LED/ 60'/3K/120V/ND/2PK\"}), support=0.002345112738256888, ordered_statistics=[OrderedStatistic(items_base=frozenset(), items_add=frozenset({\"15PAR38/LED/ 60'/3K/120V/ND/2PK\"}), confidence=0.002345112738256888, lift=1.0)]),\n",
       " RelationRecord(items=frozenset({\"15PAR38/LED/40'/3500K/120V/D\"}), support=0.0021488689944697006, ordered_statistics=[OrderedStatistic(items_base=frozenset(), items_add=frozenset({\"15PAR38/LED/40'/3500K/120V/D\"}), confidence=0.0021488689944697006, lift=1.0)]),\n",
       " RelationRecord(items=frozenset({'15T7C CD/1 CAND BASE CLEA'}), support=0.0010483944620015503, ordered_statistics=[OrderedStatistic(items_base=frozenset(), items_add=frozenset({'15T7C CD/1 CAND BASE CLEA'}), confidence=0.0010483944620015503, lift=1.0)]),\n",
       " RelationRecord(items=frozenset({'15T7N CD/1 INT BASE CLR13'}), support=0.0011646311410139613, ordered_statistics=[OrderedStatistic(items_base=frozenset(), items_add=frozenset({'15T7N CD/1 INT BASE CLR13'}), confidence=0.0011646311410139613, lift=1.0)]),\n",
       " RelationRecord(items=frozenset({'15W CAND CLEAR'}), support=0.0012287877495597724, ordered_statistics=[OrderedStatistic(items_base=frozenset(), items_add=frozenset({'15W CAND CLEAR'}), confidence=0.0012287877495597724, lift=1.0)]),\n",
       " RelationRecord(items=frozenset({'15W R30 COMPACT FLUORESCENT'}), support=0.000520800704665997, ordered_statistics=[OrderedStatistic(items_base=frozenset(), items_add=frozenset({'15W R30 COMPACT FLUORESCENT'}), confidence=0.000520800704665997, lift=1.0)]),\n",
       " RelationRecord(items=frozenset({'15W R30 E26 120V 2700K 2-PK'}), support=0.0007396879573517058, ordered_statistics=[OrderedStatistic(items_base=frozenset(), items_add=frozenset({'15W R30 E26 120V 2700K 2-PK'}), confidence=0.0007396879573517058, lift=1.0)]),\n",
       " RelationRecord(items=frozenset({\"16 QT GARDENER'S GOLD\"}), support=0.0012114277260709058, ordered_statistics=[OrderedStatistic(items_base=frozenset(), items_add=frozenset({\"16 QT GARDENER'S GOLD\"}), confidence=0.0012114277260709058, lift=1.0)]),\n",
       " RelationRecord(items=frozenset({'16A21/LED/27K/120V/4PK'}), support=0.0004672110669394958, ordered_statistics=[OrderedStatistic(items_base=frozenset(), items_add=frozenset({'16A21/LED/27K/120V/4PK'}), confidence=0.0004672110669394958, lift=1.0)]),\n",
       " RelationRecord(items=frozenset({'16A21/LED/50K/ND/120V/4PK'}), support=0.0006347730327885557, ordered_statistics=[OrderedStatistic(items_base=frozenset(), items_add=frozenset({'16A21/LED/50K/ND/120V/4PK'}), confidence=0.0006347730327885557, lift=1.0)]),\n",
       " RelationRecord(items=frozenset({'17% CAUSTIC SODA 1GALLON'}), support=0.0030704598066395297, ordered_statistics=[OrderedStatistic(items_base=frozenset(), items_add=frozenset({'17% CAUSTIC SODA 1GALLON'}), confidence=0.0030704598066395297, lift=1.0)]),\n",
       " RelationRecord(items=frozenset({'18X24 LBP MATS ASSORTED'}), support=0.000536651160894962, ordered_statistics=[OrderedStatistic(items_base=frozenset(), items_add=frozenset({'18X24 LBP MATS ASSORTED'}), confidence=0.000536651160894962, lift=1.0)]),\n",
       " RelationRecord(items=frozenset({'2 1/2\" ANGL SASH BRSH PET BLEND'}), support=0.0015163603125709969, ordered_statistics=[OrderedStatistic(items_base=frozenset(), items_add=frozenset({'2 1/2\" ANGL SASH BRSH PET BLEND'}), confidence=0.0015163603125709969, lift=1.0)]),\n",
       " RelationRecord(items=frozenset({'2 CF BLACK COLORED MULCH'}), support=0.0009804639353059854, ordered_statistics=[OrderedStatistic(items_base=frozenset(), items_add=frozenset({'2 CF BLACK COLORED MULCH'}), confidence=0.0009804639353059854, lift=1.0)]),\n",
       " RelationRecord(items=frozenset({'2 CF BROWN COLORED MULCH'}), support=0.0005743903423924981, ordered_statistics=[OrderedStatistic(items_base=frozenset(), items_add=frozenset({'2 CF BROWN COLORED MULCH'}), confidence=0.0005743903423924981, lift=1.0)]),\n",
       " RelationRecord(items=frozenset({\"2 CF GARDENER'S GOLD\"}), support=0.0010642449182305155, ordered_statistics=[OrderedStatistic(items_base=frozenset(), items_add=frozenset({\"2 CF GARDENER'S GOLD\"}), confidence=0.0010642449182305155, lift=1.0)]),\n",
       " RelationRecord(items=frozenset({'2 CU FT BARK MINI NUGGETS'}), support=0.00045362496160038284, ordered_statistics=[OrderedStatistic(items_base=frozenset(), items_add=frozenset({'2 CU FT BARK MINI NUGGETS'}), confidence=0.00045362496160038284, lift=1.0)]),\n",
       " RelationRecord(items=frozenset({'2 CU FT.SHREDDED HARDWOOD'}), support=0.002185098608707335, ordered_statistics=[OrderedStatistic(items_base=frozenset(), items_add=frozenset({'2 CU FT.SHREDDED HARDWOOD'}), confidence=0.002185098608707335, lift=1.0)]),\n",
       " RelationRecord(items=frozenset({'2 CUFT TAN BARK MULCH'}), support=0.0007396879573517058, ordered_statistics=[OrderedStatistic(items_base=frozenset(), items_add=frozenset({'2 CUFT TAN BARK MULCH'}), confidence=0.0007396879573517058, lift=1.0)]),\n",
       " RelationRecord(items=frozenset({'2\" ANGL SASH BRSH PET BLEND'}), support=0.0018726181859077368, ordered_statistics=[OrderedStatistic(items_base=frozenset(), items_add=frozenset({'2\" ANGL SASH BRSH PET BLEND'}), confidence=0.0018726181859077368, lift=1.0)]),\n",
       " RelationRecord(items=frozenset({'2\" PAINT MATE POLY BLEND ANG BR'}), support=0.002696841909813923, ordered_statistics=[OrderedStatistic(items_base=frozenset(), items_add=frozenset({'2\" PAINT MATE POLY BLEND ANG BR'}), confidence=0.002696841909813923, lift=1.0)]),\n",
       " RelationRecord(items=frozenset({'2\" PAINT MATE POLY BLEND BR'}), support=0.003619187505613703, ordered_statistics=[OrderedStatistic(items_base=frozenset(), items_add=frozenset({'2\" PAINT MATE POLY BLEND BR'}), confidence=0.003619187505613703, lift=1.0)]),\n",
       " RelationRecord(items=frozenset({'2-1/2\" PAINT MATE POLY BLEND ANG'}), support=0.0017073205709485291, ordered_statistics=[OrderedStatistic(items_base=frozenset(), items_add=frozenset({'2-1/2\" PAINT MATE POLY BLEND ANG'}), confidence=0.0017073205709485291, lift=1.0)]),\n",
       " RelationRecord(items=frozenset({'2-1/2\" PAINT MATE POLY BLEND BR'}), support=0.003050835432260811, ordered_statistics=[OrderedStatistic(items_base=frozenset(), items_add=frozenset({'2-1/2\" PAINT MATE POLY BLEND BR'}), confidence=0.003050835432260811, lift=1.0)]),\n",
       " RelationRecord(items=frozenset({\"2-1/2X4' USA FLAG SET\"}), support=0.002740619360351065, ordered_statistics=[OrderedStatistic(items_base=frozenset(), items_add=frozenset({\"2-1/2X4' USA FLAG SET\"}), confidence=0.002740619360351065, lift=1.0)]),\n",
       " RelationRecord(items=frozenset({'20# BIRDS GONE WILD'}), support=0.0033263314571928236, ordered_statistics=[OrderedStatistic(items_base=frozenset(), items_add=frozenset({'20# BIRDS GONE WILD'}), confidence=0.0033263314571928236, lift=1.0)]),\n",
       " RelationRecord(items=frozenset({'20# NUT AND BERRY BUDDIES'}), support=0.0004913641430979188, ordered_statistics=[OrderedStatistic(items_base=frozenset(), items_add=frozenset({'20# NUT AND BERRY BUDDIES'}), confidence=0.0004913641430979188, lift=1.0)]),\n",
       " RelationRecord(items=frozenset({'20# PREMIUM OIL SUNFLOWER'}), support=0.002779113325478552, ordered_statistics=[OrderedStatistic(items_base=frozenset(), items_add=frozenset({'20# PREMIUM OIL SUNFLOWER'}), confidence=0.002779113325478552, lift=1.0)]),\n",
       " RelationRecord(items=frozenset({'20# SAFFLOWER SEED'}), support=0.0006672287288764366, ordered_statistics=[OrderedStatistic(items_base=frozenset(), items_add=frozenset({'20# SAFFLOWER SEED'}), confidence=0.0006672287288764366, lift=1.0)]),\n",
       " RelationRecord(items=frozenset({'20# WILD BIRD 10% SUNFLOWER'}), support=0.0035376708735790257, ordered_statistics=[OrderedStatistic(items_base=frozenset(), items_add=frozenset({'20# WILD BIRD 10% SUNFLOWER'}), confidence=0.0035376708735790257, lift=1.0)]),\n",
       " RelationRecord(items=frozenset({'20% OFF PURCHASE_ANNIVERSARY'}), support=0.0013835183936996701, ordered_statistics=[OrderedStatistic(items_base=frozenset(), items_add=frozenset({'20% OFF PURCHASE_ANNIVERSARY'}), confidence=0.0013835183936996701, lift=1.0)]),\n",
       " RelationRecord(items=frozenset({'20% OFF REG PRICE ITEMS SATURDAY'}), support=0.0019986670521095072, ordered_statistics=[OrderedStatistic(items_base=frozenset(), items_add=frozenset({'20% OFF REG PRICE ITEMS SATURDAY'}), confidence=0.0019986670521095072, lift=1.0)]),\n",
       " RelationRecord(items=frozenset({'20% OFF REG PRICE PURCHASE'}), support=0.0031799034329823843, ordered_statistics=[OrderedStatistic(items_base=frozenset(), items_add=frozenset({'20% OFF REG PRICE PURCHASE'}), confidence=0.0031799034329823843, lift=1.0)]),\n",
       " RelationRecord(items=frozenset({'20.5\" WHISKEY BARREL'}), support=0.0005509920498640257, ordered_statistics=[OrderedStatistic(items_base=frozenset(), items_add=frozenset({'20.5\" WHISKEY BARREL'}), confidence=0.0005509920498640257, lift=1.0)]),\n",
       " RelationRecord(items=frozenset({'2000 FLUSHES CLNR 2PK'}), support=0.0011450067666352425, ordered_statistics=[OrderedStatistic(items_base=frozenset(), items_add=frozenset({'2000 FLUSHES CLNR 2PK'}), confidence=0.0011450067666352425, lift=1.0)]),\n",
       " RelationRecord(items=frozenset({'2000ST. CHRISTMAS ICICLES'}), support=0.0006808148342155496, ordered_statistics=[OrderedStatistic(items_base=frozenset(), items_add=frozenset({'2000ST. CHRISTMAS ICICLES'}), confidence=0.0006808148342155496, lift=1.0)]),\n",
       " RelationRecord(items=frozenset({'20MULE TEAM BORAX 65OZ'}), support=0.0015737238684472516, ordered_statistics=[OrderedStatistic(items_base=frozenset(), items_add=frozenset({'20MULE TEAM BORAX 65OZ'}), confidence=0.0015737238684472516, lift=1.0)]),\n",
       " RelationRecord(items=frozenset({'20W 20T3 MINI BI-PIN'}), support=0.0010476396783715995, ordered_statistics=[OrderedStatistic(items_base=frozenset(), items_add=frozenset({'20W 20T3 MINI BI-PIN'}), confidence=0.0010476396783715995, lift=1.0)]),\n",
       " RelationRecord(items=frozenset({'20W GU10'}), support=0.0005064598156969332, ordered_statistics=[OrderedStatistic(items_base=frozenset(), items_add=frozenset({'20W GU10'}), confidence=0.0005064598156969332, lift=1.0)]),\n",
       " RelationRecord(items=frozenset({'20W JCD G8 BASE UV CLEAR'}), support=0.0019994218357394576, ordered_statistics=[OrderedStatistic(items_base=frozenset(), items_add=frozenset({'20W JCD G8 BASE UV CLEAR'}), confidence=0.0019994218357394576, lift=1.0)]),\n",
       " RelationRecord(items=frozenset({'20WATT HALOGEN T3 2PK'}), support=0.0016039152136452803, ordered_statistics=[OrderedStatistic(items_base=frozenset(), items_add=frozenset({'20WATT HALOGEN T3 2PK'}), confidence=0.0016039152136452803, lift=1.0)]),\n",
       " RelationRecord(items=frozenset({'23W LED SHOPLITE - WHITE'}), support=0.0005585398861635329, ordered_statistics=[OrderedStatistic(items_base=frozenset(), items_add=frozenset({'23W LED SHOPLITE - WHITE'}), confidence=0.0005585398861635329, lift=1.0)]),\n",
       " RelationRecord(items=frozenset({'23W PAR38 E26 120V 2700K 2-PK'}), support=0.0009487630228480553, ordered_statistics=[OrderedStatistic(items_base=frozenset(), items_add=frozenset({'23W PAR38 E26 120V 2700K 2-PK'}), confidence=0.0009487630228480553, lift=1.0)]),\n",
       " RelationRecord(items=frozenset({'23WATT R40 27K BULB'}), support=0.0008778133616326875, ordered_statistics=[OrderedStatistic(items_base=frozenset(), items_add=frozenset({'23WATT R40 27K BULB'}), confidence=0.0008778133616326875, lift=1.0)]),\n",
       " RelationRecord(items=frozenset({'25 WATT CLEAR TORPEDO'}), support=0.0005396702954147649, ordered_statistics=[OrderedStatistic(items_base=frozenset(), items_add=frozenset({'25 WATT CLEAR TORPEDO'}), confidence=0.0005396702954147649, lift=1.0)]),\n",
       " RelationRecord(items=frozenset({'25 WATT ROUND FROSTED'}), support=0.0005140076519964405, ordered_statistics=[OrderedStatistic(items_base=frozenset(), items_add=frozenset({'25 WATT ROUND FROSTED'}), confidence=0.0005140076519964405, lift=1.0)]),\n",
       " RelationRecord(items=frozenset({'25% CAUSTIC SODA 1 GALLON'}), support=0.0034425681362052346, ordered_statistics=[OrderedStatistic(items_base=frozenset(), items_add=frozenset({'25% CAUSTIC SODA 1 GALLON'}), confidence=0.0034425681362052346, lift=1.0)]),\n",
       " RelationRecord(items=frozenset({'25% OFF $50 LABOR DAY'}), support=0.002362472761745754, ordered_statistics=[OrderedStatistic(items_base=frozenset(), items_add=frozenset({'25% OFF $50 LABOR DAY'}), confidence=0.002362472761745754, lift=1.0)]),\n",
       " RelationRecord(items=frozenset({'25% OFF 1 ITEM UNDER $50'}), support=0.006604356762068802, ordered_statistics=[OrderedStatistic(items_base=frozenset(), items_add=frozenset({'25% OFF 1 ITEM UNDER $50'}), confidence=0.006604356762068802, lift=1.0)]),\n",
       " RelationRecord(items=frozenset({'25%OFF 1ITEM $50 FTHSDAY'}), support=0.006329615520766739, ordered_statistics=[OrderedStatistic(items_base=frozenset(), items_add=frozenset({'25%OFF 1ITEM $50 FTHSDAY'}), confidence=0.006329615520766739, lift=1.0)]),\n",
       " RelationRecord(items=frozenset({'25T8N CD/1 INT BASE CLR13'}), support=0.0011706694100535669, ordered_statistics=[OrderedStatistic(items_base=frozenset(), items_add=frozenset({'25T8N CD/1 INT BASE CLR13'}), confidence=0.0011706694100535669, lift=1.0)]),\n",
       " RelationRecord(items=frozenset({'25W A-19 CERAMIC GREEN 13'}), support=0.0005275937573355535, ordered_statistics=[OrderedStatistic(items_base=frozenset(), items_add=frozenset({'25W A-19 CERAMIC GREEN 13'}), confidence=0.0005275937573355535, lift=1.0)]),\n",
       " RelationRecord(items=frozenset({'25W A-19 CERAMIC RED 130V'}), support=0.0005192911374060955, ordered_statistics=[OrderedStatistic(items_base=frozenset(), items_add=frozenset({'25W A-19 CERAMIC RED 130V'}), confidence=0.0005192911374060955, lift=1.0)]),\n",
       " RelationRecord(items=frozenset({'25W A-19 FRROSTED 130V'}), support=0.0007630862498801781, ordered_statistics=[OrderedStatistic(items_base=frozenset(), items_add=frozenset({'25W A-19 FRROSTED 130V'}), confidence=0.0007630862498801781, lift=1.0)]),\n",
       " RelationRecord(items=frozenset({'25W G16 1/2 CAND CLEAR'}), support=0.0012718104164669635, ordered_statistics=[OrderedStatistic(items_base=frozenset(), items_add=frozenset({'25W G16 1/2 CAND CLEAR'}), confidence=0.0012718104164669635, lift=1.0)]),\n",
       " RelationRecord(items=frozenset({'25W G25 STD WHT'}), support=0.0008295072093158415, ordered_statistics=[OrderedStatistic(items_base=frozenset(), items_add=frozenset({'25W G25 STD WHT'}), confidence=0.0008295072093158415, lift=1.0)]),\n",
       " RelationRecord(items=frozenset({'25W T10 CLEAR'}), support=0.0005917503658813646, ordered_statistics=[OrderedStatistic(items_base=frozenset(), items_add=frozenset({'25W T10 CLEAR'}), confidence=0.0005917503658813646, lift=1.0)]),\n",
       " RelationRecord(items=frozenset({'25W TORP CAND CLEAR'}), support=0.0016499570150722742, ordered_statistics=[OrderedStatistic(items_base=frozenset(), items_add=frozenset({'25W TORP CAND CLEAR'}), confidence=0.0016499570150722742, lift=1.0)]),\n",
       " RelationRecord(items=frozenset({'25W TT CAND CLEAR'}), support=0.0014257862769769104, ordered_statistics=[OrderedStatistic(items_base=frozenset(), items_add=frozenset({'25W TT CAND CLEAR'}), confidence=0.0014257862769769104, lift=1.0)]),\n",
       " RelationRecord(items=frozenset({'25W TT CAND FROSTED'}), support=0.0004679658505694465, ordered_statistics=[OrderedStatistic(items_base=frozenset(), items_add=frozenset({'25W TT CAND FROSTED'}), confidence=0.0004679658505694465, lift=1.0)]),\n",
       " RelationRecord(items=frozenset({'2CF BUMPER CROP'}), support=0.0013201165687838096, ordered_statistics=[OrderedStatistic(items_base=frozenset(), items_add=frozenset({'2CF BUMPER CROP'}), confidence=0.0013201165687838096, lift=1.0)]),\n",
       " RelationRecord(items=frozenset({'2CF PINE BARK MULCH'}), support=0.0008861159815621455, ordered_statistics=[OrderedStatistic(items_base=frozenset(), items_add=frozenset({'2CF PINE BARK MULCH'}), confidence=0.0008861159815621455, lift=1.0)]),\n",
       " RelationRecord(items=frozenset({'2IN1 SMK & CO ALARM 2AA'}), support=0.000695910506814564, ordered_statistics=[OrderedStatistic(items_base=frozenset(), items_add=frozenset({'2IN1 SMK & CO ALARM 2AA'}), confidence=0.000695910506814564, lift=1.0)]),\n",
       " RelationRecord(items=frozenset({'2PK CEILING FAN BULB'}), support=0.0009170621103901251, ordered_statistics=[OrderedStatistic(items_base=frozenset(), items_add=frozenset({'2PK CEILING FAN BULB'}), confidence=0.0009170621103901251, lift=1.0)]),\n",
       " RelationRecord(items=frozenset({'2TO3 PLUG IN ADAPTER WH'}), support=0.0005796738278021531, ordered_statistics=[OrderedStatistic(items_base=frozenset(), items_add=frozenset({'2TO3 PLUG IN ADAPTER WH'}), confidence=0.0005796738278021531, lift=1.0)]),\n",
       " RelationRecord(items=frozenset({'2WAY SHTOFF VLV'}), support=0.000690627021404909, ordered_statistics=[OrderedStatistic(items_base=frozenset(), items_add=frozenset({'2WAY SHTOFF VLV'}), confidence=0.000690627021404909, lift=1.0)]),\n",
       " RelationRecord(items=frozenset({'2x4-8 KD DOUG FIR'}), support=0.00047400411960905225, ordered_statistics=[OrderedStatistic(items_base=frozenset(), items_add=frozenset({'2x4-8 KD DOUG FIR'}), confidence=0.00047400411960905225, lift=1.0)]),\n",
       " RelationRecord(items=frozenset({'3 ACES GIFTCARD'}), support=0.0005441989971944692, ordered_statistics=[OrderedStatistic(items_base=frozenset(), items_add=frozenset({'3 ACES GIFTCARD'}), confidence=0.0005441989971944692, lift=1.0)]),\n",
       " RelationRecord(items=frozenset({'3 MUSKETEERS KING SIZE'}), support=0.0009480082392181045, ordered_statistics=[OrderedStatistic(items_base=frozenset(), items_add=frozenset({'3 MUSKETEERS KING SIZE'}), confidence=0.0009480082392181045, lift=1.0)]),\n",
       " RelationRecord(items=frozenset({'3 PC TOOL SET'}), support=0.0005751451260224488, ordered_statistics=[OrderedStatistic(items_base=frozenset(), items_add=frozenset({'3 PC TOOL SET'}), confidence=0.0005751451260224488, lift=1.0)]),\n",
       " RelationRecord(items=frozenset({'3\" PAINT MATE POLY BLEND BR'}), support=0.0024326676393311712, ordered_statistics=[OrderedStatistic(items_base=frozenset(), items_add=frozenset({'3\" PAINT MATE POLY BLEND BR'}), confidence=0.0024326676393311712, lift=1.0)]),\n",
       " RelationRecord(items=frozenset({'3\" TRIM & TOUCH UP ROLLER KIT'}), support=0.0008664916071834267, ordered_statistics=[OrderedStatistic(items_base=frozenset(), items_add=frozenset({'3\" TRIM & TOUCH UP ROLLER KIT'}), confidence=0.0008664916071834267, lift=1.0)]),\n",
       " RelationRecord(items=frozenset({'3\" TRIM ROLL PACOA'}), support=0.0017805345830537488, ordered_statistics=[OrderedStatistic(items_base=frozenset(), items_add=frozenset({'3\" TRIM ROLL PACOA'}), confidence=0.0017805345830537488, lift=1.0)]),\n",
       " RelationRecord(items=frozenset({'3\" TRIM ROLLER REFILL PACOA'}), support=0.0009593299936673654, ordered_statistics=[OrderedStatistic(items_base=frozenset(), items_add=frozenset({'3\" TRIM ROLLER REFILL PACOA'}), confidence=0.0009593299936673654, lift=1.0)]),\n",
       " RelationRecord(items=frozenset({'3\"X3/8\"GLOSSDELPRO L/L RLLR REF'}), support=0.003240286123378442, ordered_statistics=[OrderedStatistic(items_base=frozenset(), items_add=frozenset({'3\"X3/8\"GLOSSDELPRO L/L RLLR REF'}), confidence=0.003240286123378442, lift=1.0)]),\n",
       " RelationRecord(items=frozenset({'3-OUTLET SQUARE ADAPTER'}), support=0.0009910309061252956, ordered_statistics=[OrderedStatistic(items_base=frozenset(), items_add=frozenset({'3-OUTLET SQUARE ADAPTER'}), confidence=0.0009910309061252956, lift=1.0)]),\n",
       " RelationRecord(items=frozenset({'3-RANGE VOLT TESTER GB'}), support=0.0005019311139172289, ordered_statistics=[OrderedStatistic(items_base=frozenset(), items_add=frozenset({'3-RANGE VOLT TESTER GB'}), confidence=0.0005019311139172289, lift=1.0)]),\n",
       " RelationRecord(items=frozenset({'3/4\" X 9\" PRO-LINE ROLLER'}), support=0.0008196950221264821, ordered_statistics=[OrderedStatistic(items_base=frozenset(), items_add=frozenset({'3/4\" X 9\" PRO-LINE ROLLER'}), confidence=0.0008196950221264821, lift=1.0)]),\n",
       " RelationRecord(items=frozenset({'3/8\" X 9\" MICROFIBER 4 PACK'}), support=0.0007306305537922971, ordered_statistics=[OrderedStatistic(items_base=frozenset(), items_add=frozenset({'3/8\" X 9\" MICROFIBER 4 PACK'}), confidence=0.0007306305537922971, lift=1.0)]),\n",
       " RelationRecord(items=frozenset({'3/8\"X9\" PURDY WHITE DOVE 4PK'}), support=0.005812588734250496, ordered_statistics=[OrderedStatistic(items_base=frozenset(), items_add=frozenset({'3/8\"X9\" PURDY WHITE DOVE 4PK'}), confidence=0.005812588734250496, lift=1.0)]),\n",
       " RelationRecord(items=frozenset({'3/9/12A19/3WAYLED/2700K/120V'}), support=0.0012174659951105116, ordered_statistics=[OrderedStatistic(items_base=frozenset(), items_add=frozenset({'3/9/12A19/3WAYLED/2700K/120V'}), confidence=0.0012174659951105116, lift=1.0)]),\n",
       " RelationRecord(items=frozenset({'3/9/12A19/3WAYLED/5000K/120V'}), support=0.0005494824826041243, ordered_statistics=[OrderedStatistic(items_base=frozenset(), items_add=frozenset({'3/9/12A19/3WAYLED/5000K/120V'}), confidence=0.0005494824826041243, lift=1.0)]),\n",
       " RelationRecord(items=frozenset({'30% OFF 1 ITEM UNDER $30FRIDAY'}), support=0.0014582419730647914, ordered_statistics=[OrderedStatistic(items_base=frozenset(), items_add=frozenset({'30% OFF 1 ITEM UNDER $30FRIDAY'}), confidence=0.0014582419730647914, lift=1.0)]),\n",
       " RelationRecord(items=frozenset({'30% OFF 1 ITEM_ANNIVERSARY SALE'}), support=0.0010582066491909097, ordered_statistics=[OrderedStatistic(items_base=frozenset(), items_add=frozenset({'30% OFF 1 ITEM_ANNIVERSARY SALE'}), confidence=0.0010582066491909097, lift=1.0)]),\n",
       " RelationRecord(items=frozenset({'30% OFF 1 REG PR ITEM BELOW $30'}), support=0.0013087948143345489, ordered_statistics=[OrderedStatistic(items_base=frozenset(), items_add=frozenset({'30% OFF 1 REG PR ITEM BELOW $30'}), confidence=0.0013087948143345489, lift=1.0)]),\n",
       " RelationRecord(items=frozenset({'30% OFF 1 REG PR ITEM UNDER $50'}), support=0.005983924618249309, ordered_statistics=[OrderedStatistic(items_base=frozenset(), items_add=frozenset({'30% OFF 1 REG PR ITEM UNDER $50'}), confidence=0.005983924618249309, lift=1.0)]),\n",
       " RelationRecord(items=frozenset({'30%OFFINDEPENDENCESALE'}), support=0.008162984957917039, ordered_statistics=[OrderedStatistic(items_base=frozenset(), items_add=frozenset({'30%OFFINDEPENDENCESALE'}), confidence=0.008162984957917039, lift=1.0)]),\n",
       " RelationRecord(items=frozenset({'30-70-100W 3-WAY LONG LIF'}), support=0.0030606476194501705, ordered_statistics=[OrderedStatistic(items_base=frozenset(), items_add=frozenset({'30-70-100W 3-WAY LONG LIF'}), confidence=0.0030606476194501705, lift=1.0)]),\n",
       " RelationRecord(items=frozenset({'30W R20 REFLECT STD BASE'}), support=0.0008521507182143631, ordered_statistics=[OrderedStatistic(items_base=frozenset(), items_add=frozenset({'30W R20 REFLECT STD BASE'}), confidence=0.0008521507182143631, lift=1.0)]),\n",
       " RelationRecord(items=frozenset({\"330' 2 PLY SISAL TWINE\"}), support=0.0005834477459519066, ordered_statistics=[OrderedStatistic(items_base=frozenset(), items_add=frozenset({\"330' 2 PLY SISAL TWINE\"}), confidence=0.0005834477459519066, lift=1.0)]),\n",
       " RelationRecord(items=frozenset({'35W 35T4 MINI BI-PIN'}), support=0.0004755136868689537, ordered_statistics=[OrderedStatistic(items_base=frozenset(), items_add=frozenset({'35W 35T4 MINI BI-PIN'}), confidence=0.0004755136868689537, lift=1.0)]),\n",
       " RelationRecord(items=frozenset({'35W JCD G8 120V CARDED'}), support=0.0009457438883282524, ordered_statistics=[OrderedStatistic(items_base=frozenset(), items_add=frozenset({'35W JCD G8 120V CARDED'}), confidence=0.0009457438883282524, lift=1.0)]),\n",
       " RelationRecord(items=frozenset({'35W JCD G9 BASE UV COATED'}), support=0.0006551521907972251, ordered_statistics=[OrderedStatistic(items_base=frozenset(), items_add=frozenset({'35W JCD G9 BASE UV COATED'}), confidence=0.0006551521907972251, lift=1.0)]),\n",
       " RelationRecord(items=frozenset({'35W JDCR GU10 40 DEGREE'}), support=0.001132930228556031, ordered_statistics=[OrderedStatistic(items_base=frozenset(), items_add=frozenset({'35W JDCR GU10 40 DEGREE'}), confidence=0.001132930228556031, lift=1.0)]),\n",
       " RelationRecord(items=frozenset({'39PAR20/HAL/XEN/NFL/120V'}), support=0.004864580495032391, ordered_statistics=[OrderedStatistic(items_base=frozenset(), items_add=frozenset({'39PAR20/HAL/XEN/NFL/120V'}), confidence=0.004864580495032391, lift=1.0)]),\n",
       " RelationRecord(items=frozenset({'39PAR30/HAL/XEN/WFL/120V'}), support=0.0008634724726636238, ordered_statistics=[OrderedStatistic(items_base=frozenset(), items_add=frozenset({'39PAR30/HAL/XEN/WFL/120V'}), confidence=0.0008634724726636238, lift=1.0)]),\n",
       " RelationRecord(items=frozenset({'39PAR38/HAL/XEN/FL/120V'}), support=0.0008310167765757429, ordered_statistics=[OrderedStatistic(items_base=frozenset(), items_add=frozenset({'39PAR38/HAL/XEN/FL/120V'}), confidence=0.0008310167765757429, lift=1.0)]),\n",
       " RelationRecord(items=frozenset({'3MUSKETEER 1.92 OZ'}), support=0.0010559422983010575, ordered_statistics=[OrderedStatistic(items_base=frozenset(), items_add=frozenset({'3MUSKETEER 1.92 OZ'}), confidence=0.0010559422983010575, lift=1.0)]),\n",
       " RelationRecord(items=frozenset({'3PC METAL PAINT TRAY SET'}), support=0.0011608572228642077, ordered_statistics=[OrderedStatistic(items_base=frozenset(), items_add=frozenset({'3PC METAL PAINT TRAY SET'}), confidence=0.0011608572228642077, lift=1.0)]),\n",
       " RelationRecord(items=frozenset({'3PK UTILITY LIGHTER'}), support=0.002209251684865758, ordered_statistics=[OrderedStatistic(items_base=frozenset(), items_add=frozenset({'3PK UTILITY LIGHTER'}), confidence=0.002209251684865758, lift=1.0)]),\n",
       " RelationRecord(items=frozenset({'4\" - 10PK MICROFIBER ROLLER COVE'}), support=0.001043865760221846, ordered_statistics=[OrderedStatistic(items_base=frozenset(), items_add=frozenset({'4\" - 10PK MICROFIBER ROLLER COVE'}), confidence=0.001043865760221846, lift=1.0)]),\n",
       " RelationRecord(items=frozenset({'4\" CONCAVE FOAM ROLLER W/13\" HD'}), support=0.0006408113018281615, ordered_statistics=[OrderedStatistic(items_base=frozenset(), items_add=frozenset({'4\" CONCAVE FOAM ROLLER W/13\" HD'}), confidence=0.0006408113018281615, lift=1.0)]),\n",
       " RelationRecord(items=frozenset({'4\" DOOR CAB ROLLER W/HANDLE'}), support=0.0005675972897229416, ordered_statistics=[OrderedStatistic(items_base=frozenset(), items_add=frozenset({'4\" DOOR CAB ROLLER W/HANDLE'}), confidence=0.0005675972897229416, lift=1.0)]),\n",
       " RelationRecord(items=frozenset({'4\" FABRIC ROLLER W/ HANDLE'}), support=0.0006777956996957467, ordered_statistics=[OrderedStatistic(items_base=frozenset(), items_add=frozenset({'4\" FABRIC ROLLER W/ HANDLE'}), confidence=0.0006777956996957467, lift=1.0)]),\n",
       " RelationRecord(items=frozenset({'4\" FOAM REFILL 2PK'}), support=0.0018039328755822212, ordered_statistics=[OrderedStatistic(items_base=frozenset(), items_add=frozenset({'4\" FOAM REFILL 2PK'}), confidence=0.0018039328755822212, lift=1.0)]),\n",
       " RelationRecord(items=frozenset({'4\" FOAM ROLLER W/ HANDLE'}), support=0.0012416190712689348, ordered_statistics=[OrderedStatistic(items_base=frozenset(), items_add=frozenset({'4\" FOAM ROLLER W/ HANDLE'}), confidence=0.0012416190712689348, lift=1.0)]),\n",
       " RelationRecord(items=frozenset({'4\" PAINT MATE POLY BLEND BR'}), support=0.0018054424428421228, ordered_statistics=[OrderedStatistic(items_base=frozenset(), items_add=frozenset({'4\" PAINT MATE POLY BLEND BR'}), confidence=0.0018054424428421228, lift=1.0)]),\n",
       " RelationRecord(items=frozenset({'4\" PREM WHT FOAM CONCAVE KIT'}), support=0.0007321401210521986, ordered_statistics=[OrderedStatistic(items_base=frozenset(), items_add=frozenset({'4\" PREM WHT FOAM CONCAVE KIT'}), confidence=0.0007321401210521986, lift=1.0)]),\n",
       " RelationRecord(items=frozenset({'4\" VELOUR REFILL 2PK'}), support=0.0008808324961524904, ordered_statistics=[OrderedStatistic(items_base=frozenset(), items_add=frozenset({'4\" VELOUR REFILL 2PK'}), confidence=0.0008808324961524904, lift=1.0)]),\n",
       " RelationRecord(items=frozenset({'4\" X 1/2\" MICROFIBER 2PK'}), support=0.0004951380612476724, ordered_statistics=[OrderedStatistic(items_base=frozenset(), items_add=frozenset({'4\" X 1/2\" MICROFIBER 2PK'}), confidence=0.0004951380612476724, lift=1.0)]),\n",
       " RelationRecord(items=frozenset({'4\"-10/FL WATERMELON:SUGR BABY'}), support=0.0005057050320669825, ordered_statistics=[OrderedStatistic(items_base=frozenset(), items_add=frozenset({'4\"-10/FL WATERMELON:SUGR BABY'}), confidence=0.0005057050320669825, lift=1.0)]),\n",
       " RelationRecord(items=frozenset({'4\"FABRIC ROLLER REFILL (2PK)'}), support=0.0006023173367006747, ordered_statistics=[OrderedStatistic(items_base=frozenset(), items_add=frozenset({'4\"FABRIC ROLLER REFILL (2PK)'}), confidence=0.0006023173367006747, lift=1.0)]),\n",
       " RelationRecord(items=frozenset({'4\"X3/8\" MICRO MINI ROLLER'}), support=0.0013752157737702121, ordered_statistics=[OrderedStatistic(items_base=frozenset(), items_add=frozenset({'4\"X3/8\" MICRO MINI ROLLER'}), confidence=0.0013752157737702121, lift=1.0)]),\n",
       " RelationRecord(items=frozenset({'4\"X3/8\"GLOSSDELPRO L/L RLLR REF'}), support=0.004930246670838104, ordered_statistics=[OrderedStatistic(items_base=frozenset(), items_add=frozenset({'4\"X3/8\"GLOSSDELPRO L/L RLLR REF'}), confidence=0.004930246670838104, lift=1.0)]),\n",
       " RelationRecord(items=frozenset({'4.5A15/CL/LED/E26/27K/120V'}), support=0.0005592946697934837, ordered_statistics=[OrderedStatistic(items_base=frozenset(), items_add=frozenset({'4.5A15/CL/LED/E26/27K/120V'}), confidence=0.0005592946697934837, lift=1.0)]),\n",
       " RelationRecord(items=frozenset({'4.5CTC/LED/3000K/E12/120V'}), support=0.0023322814165477254, ordered_statistics=[OrderedStatistic(items_base=frozenset(), items_add=frozenset({'4.5CTC/LED/3000K/E12/120V'}), confidence=0.0023322814165477254, lift=1.0)]),\n",
       " RelationRecord(items=frozenset({'4.5W 3000K DECORATIVE LED BULB'}), support=0.0010393370584421417, ordered_statistics=[OrderedStatistic(items_base=frozenset(), items_add=frozenset({'4.5W 3000K DECORATIVE LED BULB'}), confidence=0.0010393370584421417, lift=1.0)]),\n",
       " RelationRecord(items=frozenset({'40# DC POOL SALT'}), support=0.0014688089438841016, ordered_statistics=[OrderedStatistic(items_base=frozenset(), items_add=frozenset({'40# DC POOL SALT'}), confidence=0.0014688089438841016, lift=1.0)]),\n",
       " RelationRecord(items=frozenset({'40# OMALLEY HARDWOOD PELLETS-BAG'}), support=0.002978376203785542, ordered_statistics=[OrderedStatistic(items_base=frozenset(), items_add=frozenset({'40# OMALLEY HARDWOOD PELLETS-BAG'}), confidence=0.002978376203785542, lift=1.0)]),\n",
       " RelationRecord(items=frozenset({'40# WILD BIRD 10% SUNFLOWER'}), support=0.0005834477459519066, ordered_statistics=[OrderedStatistic(items_base=frozenset(), items_add=frozenset({'40# WILD BIRD 10% SUNFLOWER'}), confidence=0.0005834477459519066, lift=1.0)]),\n",
       " RelationRecord(items=frozenset({'4089 1/2 TORP DIAMOND CUT'}), support=0.0006694930797662888, ordered_statistics=[OrderedStatistic(items_base=frozenset(), items_add=frozenset({'4089 1/2 TORP DIAMOND CUT'}), confidence=0.0006694930797662888, lift=1.0)]),\n",
       " RelationRecord(items=frozenset({'409 KITCHEN LEMON 22OZ'}), support=0.001151799819304799, ordered_statistics=[OrderedStatistic(items_base=frozenset(), items_add=frozenset({'409 KITCHEN LEMON 22OZ'}), confidence=0.001151799819304799, lift=1.0)]),\n",
       " RelationRecord(items=frozenset({'40A15 / FROST 120V E17 2PER'}), support=0.0011065128015077558, ordered_statistics=[OrderedStatistic(items_base=frozenset(), items_add=frozenset({'40A15 / FROST 120V E17 2PER'}), confidence=0.0011065128015077558, lift=1.0)]),\n",
       " RelationRecord(items=frozenset({'40LB HAMER WD PELLETS BAG'}), support=0.0004792876050187073, ordered_statistics=[OrderedStatistic(items_base=frozenset(), items_add=frozenset({'40LB HAMER WD PELLETS BAG'}), confidence=0.0004792876050187073, lift=1.0)]),\n",
       " RelationRecord(items=frozenset({'40T8N/130V. MICROWAVE LAM'}), support=0.0017390214834064593, ordered_statistics=[OrderedStatistic(items_base=frozenset(), items_add=frozenset({'40T8N/130V. MICROWAVE LAM'}), confidence=0.0017390214834064593, lift=1.0)]),\n",
       " RelationRecord(items=frozenset({'40W A15 APPLIANCE CLR'}), support=0.0055386022765783844, ordered_statistics=[OrderedStatistic(items_base=frozenset(), items_add=frozenset({'40W A15 APPLIANCE CLR'}), confidence=0.0055386022765783844, lift=1.0)]),\n",
       " RelationRecord(items=frozenset({'40W A15 APPLIANCE FR'}), support=0.004295473638049548, ordered_statistics=[OrderedStatistic(items_base=frozenset(), items_add=frozenset({'40W A15 APPLIANCE FR'}), confidence=0.004295473638049548, lift=1.0)]),\n",
       " RelationRecord(items=frozenset({'40W CAND CLEAR'}), support=0.0029685640165961823, ordered_statistics=[OrderedStatistic(items_base=frozenset(), items_add=frozenset({'40W CAND CLEAR'}), confidence=0.0029685640165961823, lift=1.0)]),\n",
       " RelationRecord(items=frozenset({'40W CHASE A BUG 130V'}), support=0.00045060582708057994, ordered_statistics=[OrderedStatistic(items_base=frozenset(), items_add=frozenset({'40W CHASE A BUG 130V'}), confidence=0.00045060582708057994, lift=1.0)]),\n",
       " RelationRecord(items=frozenset({'40W G16 1/2 CAND CLEAR'}), support=0.0014491845695053828, ordered_statistics=[OrderedStatistic(items_base=frozenset(), items_add=frozenset({'40W G16 1/2 CAND CLEAR'}), confidence=0.0014491845695053828, lift=1.0)]),\n",
       " RelationRecord(items=frozenset({'40W G16 1/2 CAND WHITE'}), support=0.0007706340861796853, ordered_statistics=[OrderedStatistic(items_base=frozenset(), items_add=frozenset({'40W G16 1/2 CAND WHITE'}), confidence=0.0007706340861796853, lift=1.0)]),\n",
       " RelationRecord(items=frozenset({'40W G25 STD CLR'}), support=0.0009004568705312092, ordered_statistics=[OrderedStatistic(items_base=frozenset(), items_add=frozenset({'40W G25 STD CLR'}), confidence=0.0009004568705312092, lift=1.0)]),\n",
       " RelationRecord(items=frozenset({'40W G25 STD WHT'}), support=0.0017526075887455723, ordered_statistics=[OrderedStatistic(items_base=frozenset(), items_add=frozenset({'40W G25 STD WHT'}), confidence=0.0017526075887455723, lift=1.0)]),\n",
       " RelationRecord(items=frozenset({'40W G30 STD WHT'}), support=0.0005396702954147649, ordered_statistics=[OrderedStatistic(items_base=frozenset(), items_add=frozenset({'40W G30 STD WHT'}), confidence=0.0005396702954147649, lift=1.0)]),\n",
       " RelationRecord(items=frozenset({'40W S11N INTER CLR'}), support=0.0012619982292776041, ordered_statistics=[OrderedStatistic(items_base=frozenset(), items_add=frozenset({'40W S11N INTER CLR'}), confidence=0.0012619982292776041, lift=1.0)]),\n",
       " RelationRecord(items=frozenset({'40W T10 CLEAR MED BASE'}), support=0.0007389331737217551, ordered_statistics=[OrderedStatistic(items_base=frozenset(), items_add=frozenset({'40W T10 CLEAR MED BASE'}), confidence=0.0007389331737217551, lift=1.0)]),\n",
       " RelationRecord(items=frozenset({'40W TORP CAND FROSTED'}), support=0.0008295072093158415, ordered_statistics=[OrderedStatistic(items_base=frozenset(), items_add=frozenset({'40W TORP CAND FROSTED'}), confidence=0.0008295072093158415, lift=1.0)]),\n",
       " RelationRecord(items=frozenset({'40W TORP STD CLEAR'}), support=0.0014235219260870582, ordered_statistics=[OrderedStatistic(items_base=frozenset(), items_add=frozenset({'40W TORP STD CLEAR'}), confidence=0.0014235219260870582, lift=1.0)]),\n",
       " RelationRecord(items=frozenset({'40W TT CAND CLEAR'}), support=0.002535318213004469, ordered_statistics=[OrderedStatistic(items_base=frozenset(), items_add=frozenset({'40W TT CAND CLEAR'}), confidence=0.002535318213004469, lift=1.0)]),\n",
       " RelationRecord(items=frozenset({'40W TT CAND FROSTED'}), support=0.0010536779474112053, ordered_statistics=[OrderedStatistic(items_base=frozenset(), items_add=frozenset({'40W TT CAND FROSTED'}), confidence=0.0010536779474112053, lift=1.0)]),\n",
       " RelationRecord(items=frozenset({'40W TT STD CLR'}), support=0.001064999701860466, ordered_statistics=[OrderedStatistic(items_base=frozenset(), items_add=frozenset({'40W TT STD CLR'}), confidence=0.001064999701860466, lift=1.0)]),\n",
       " RelationRecord(items=frozenset({'40WF15 AURORA'}), support=0.0010657544854904169, ordered_statistics=[OrderedStatistic(items_base=frozenset(), items_add=frozenset({'40WF15 AURORA'}), confidence=0.0010657544854904169, lift=1.0)]),\n",
       " RelationRecord(items=frozenset({'40WF15 CLEAR'}), support=0.0007268566356425435, ordered_statistics=[OrderedStatistic(items_base=frozenset(), items_add=frozenset({'40WF15 CLEAR'}), confidence=0.0007268566356425435, lift=1.0)]),\n",
       " RelationRecord(items=frozenset({'43A19/HAL/ES/SW/ 120V 4PK'}), support=0.0033414271297918384, ordered_statistics=[OrderedStatistic(items_base=frozenset(), items_add=frozenset({'43A19/HAL/ES/SW/ 120V 4PK'}), confidence=0.0033414271297918384, lift=1.0)]),\n",
       " RelationRecord(items=frozenset({'43EFC/HAL/120V/E26 2/CD'}), support=0.0006181677929296398, ordered_statistics=[OrderedStatistic(items_base=frozenset(), items_add=frozenset({'43EFC/HAL/120V/E26 2/CD'}), confidence=0.0006181677929296398, lift=1.0)]),\n",
       " RelationRecord(items=frozenset({'43ETC/HAL/120V/E26 2/CD'}), support=0.001326909621453366, ordered_statistics=[OrderedStatistic(items_base=frozenset(), items_add=frozenset({'43ETC/HAL/120V/E26 2/CD'}), confidence=0.001326909621453366, lift=1.0)]),\n",
       " RelationRecord(items=frozenset({'43G25/CL/120V'}), support=0.0005728807751325966, ordered_statistics=[OrderedStatistic(items_base=frozenset(), items_add=frozenset({'43G25/CL/120V'}), confidence=0.0005728807751325966, lift=1.0)]),\n",
       " RelationRecord(items=frozenset({'43G25/CL/120V 3PK'}), support=0.0009163073267601743, ordered_statistics=[OrderedStatistic(items_base=frozenset(), items_add=frozenset({'43G25/CL/120V 3PK'}), confidence=0.0009163073267601743, lift=1.0)]),\n",
       " RelationRecord(items=frozenset({'43G25/WH/120V'}), support=0.0010325440057725851, ordered_statistics=[OrderedStatistic(items_base=frozenset(), items_add=frozenset({'43G25/WH/120V'}), confidence=0.0010325440057725851, lift=1.0)]),\n",
       " RelationRecord(items=frozenset({'43G25/WH/120V 3PK'}), support=0.0020733906314746283, ordered_statistics=[OrderedStatistic(items_base=frozenset(), items_add=frozenset({'43G25/WH/120V 3PK'}), confidence=0.0020733906314746283, lift=1.0)]),\n",
       " RelationRecord(items=frozenset({'45BR25/FL/HAL 120V'}), support=0.0007691245189197838, ordered_statistics=[OrderedStatistic(items_base=frozenset(), items_add=frozenset({'45BR25/FL/HAL 120V'}), confidence=0.0007691245189197838, lift=1.0)]),\n",
       " RelationRecord(items=frozenset({'45PAR16/HAL/NFL 120V'}), support=0.0005781642605422517, ordered_statistics=[OrderedStatistic(items_base=frozenset(), items_add=frozenset({'45PAR16/HAL/NFL 120V'}), confidence=0.0005781642605422517, lift=1.0)]),\n",
       " RelationRecord(items=frozenset({'45R20/FL/HAL 120V'}), support=0.0017563815068953258, ordered_statistics=[OrderedStatistic(items_base=frozenset(), items_add=frozenset({'45R20/FL/HAL 120V'}), confidence=0.0017563815068953258, lift=1.0)]),\n",
       " RelationRecord(items=frozenset({'45W R20 REFLECTOR'}), support=0.0022069873339759056, ordered_statistics=[OrderedStatistic(items_base=frozenset(), items_add=frozenset({'45W R20 REFLECTOR'}), confidence=0.0022069873339759056, lift=1.0)]),\n",
       " RelationRecord(items=frozenset({'4C7 CD/4 CAND BASE CLEAR'}), support=0.001852993811529018, ordered_statistics=[OrderedStatistic(items_base=frozenset(), items_add=frozenset({'4C7 CD/4 CAND BASE CLEAR'}), confidence=0.001852993811529018, lift=1.0)]),\n",
       " RelationRecord(items=frozenset({'4W C7 CAND CLEAR'}), support=0.0011253823922565238, ordered_statistics=[OrderedStatistic(items_base=frozenset(), items_add=frozenset({'4W C7 CAND CLEAR'}), confidence=0.0011253823922565238, lift=1.0)]),\n",
       " RelationRecord(items=frozenset({'5\"ANNUALS'}), support=0.0008989473032713077, ordered_statistics=[OrderedStatistic(items_base=frozenset(), items_add=frozenset({'5\"ANNUALS'}), confidence=0.0008989473032713077, lift=1.0)]),\n",
       " RelationRecord(items=frozenset({'5# NYJER'}), support=0.0005298581082254055, ordered_statistics=[OrderedStatistic(items_base=frozenset(), items_add=frozenset({'5# NYJER'}), confidence=0.0005298581082254055, lift=1.0)]),\n",
       " RelationRecord(items=frozenset({\"5' ALUM FLAG POLE\"}), support=0.0011774624627231235, ordered_statistics=[OrderedStatistic(items_base=frozenset(), items_add=frozenset({\"5' ALUM FLAG POLE\"}), confidence=0.0011774624627231235, lift=1.0)]),\n",
       " RelationRecord(items=frozenset({'50# DC PELLETS SOFTENER'}), support=0.004168669988217828, ordered_statistics=[OrderedStatistic(items_base=frozenset(), items_add=frozenset({'50# DC PELLETS SOFTENER'}), confidence=0.004168669988217828, lift=1.0)]),\n",
       " RelationRecord(items=frozenset({'50# DC SOLAR SALT X CRS'}), support=0.00841583747395053, ordered_statistics=[OrderedStatistic(items_base=frozenset(), items_add=frozenset({'50# DC SOLAR SALT X CRS'}), confidence=0.00841583747395053, lift=1.0)]),\n",
       " RelationRecord(items=frozenset({'50% OFF 1 ITEM UNDER $15'}), support=0.0006838339687353525, ordered_statistics=[OrderedStatistic(items_base=frozenset(), items_add=frozenset({'50% OFF 1 ITEM UNDER $15'}), confidence=0.0006838339687353525, lift=1.0)]),\n",
       " RelationRecord(items=frozenset({'50% OFF 1 ITEM UNDER $30'}), support=0.006174884876626842, ordered_statistics=[OrderedStatistic(items_base=frozenset(), items_add=frozenset({'50% OFF 1 ITEM UNDER $30'}), confidence=0.006174884876626842, lift=1.0)]),\n",
       " RelationRecord(items=frozenset({'50% OFF 1 REG PRICE ITEM $30'}), support=0.0045807818501709206, ordered_statistics=[OrderedStatistic(items_base=frozenset(), items_add=frozenset({'50% OFF 1 REG PRICE ITEM $30'}), confidence=0.0045807818501709206, lift=1.0)]),\n",
       " RelationRecord(items=frozenset({'50% OFF ITEM UNDER $30'}), support=0.002419081533992058, ordered_statistics=[OrderedStatistic(items_base=frozenset(), items_add=frozenset({'50% OFF ITEM UNDER $30'}), confidence=0.002419081533992058, lift=1.0)]),\n",
       " RelationRecord(items=frozenset({'50% OFF SCREEN REPAIR'}), support=0.0004777780377588059, ordered_statistics=[OrderedStatistic(items_base=frozenset(), items_add=frozenset({'50% OFF SCREEN REPAIR'}), confidence=0.0004777780377588059, lift=1.0)]),\n",
       " RelationRecord(items=frozenset({'50% REG ITEM UNDER $30'}), support=0.003733159833736262, ordered_statistics=[OrderedStatistic(items_base=frozenset(), items_add=frozenset({'50% REG ITEM UNDER $30'}), confidence=0.003733159833736262, lift=1.0)]),\n",
       " RelationRecord(items=frozenset({\"50'HOSE MED DUTY COPPER PLT\"}), support=0.0005192911374060955, ordered_statistics=[OrderedStatistic(items_base=frozenset(), items_add=frozenset({\"50'HOSE MED DUTY COPPER PLT\"}), confidence=0.0005192911374060955, lift=1.0)]),\n",
       " RelationRecord(items=frozenset({'50-100-150W 3-WAY LONG LI'}), support=0.003849396512748673, ordered_statistics=[OrderedStatistic(items_base=frozenset(), items_add=frozenset({'50-100-150W 3-WAY LONG LI'}), confidence=0.003849396512748673, lift=1.0)]),\n",
       " RelationRecord(items=frozenset({'5000 BTU WINDOW AIR COND'}), support=0.0011042484506179036, ordered_statistics=[OrderedStatistic(items_base=frozenset(), items_add=frozenset({'5000 BTU WINDOW AIR COND'}), confidence=0.0011042484506179036, lift=1.0)]),\n",
       " RelationRecord(items=frozenset({'50LB DOW FLAKES'}), support=0.0007291209865323957, ordered_statistics=[OrderedStatistic(items_base=frozenset(), items_add=frozenset({'50LB DOW FLAKES'}), confidence=0.0007291209865323957, lift=1.0)]),\n",
       " RelationRecord(items=frozenset({'50LB SAFE STEP 5300 MAX BLEND'}), support=0.0011374589303357354, ordered_statistics=[OrderedStatistic(items_base=frozenset(), items_add=frozenset({'50LB SAFE STEP 5300 MAX BLEND'}), confidence=0.0011374589303357354, lift=1.0)]),\n",
       " RelationRecord(items=frozenset({'50W JCCR 40DEGREE'}), support=0.0022643508898521603, ordered_statistics=[OrderedStatistic(items_base=frozenset(), items_add=frozenset({'50W JCCR 40DEGREE'}), confidence=0.0022643508898521603, lift=1.0)]),\n",
       " RelationRecord(items=frozenset({'50W JCD G8 BASE UV COATED'}), support=0.0010499040292614517, ordered_statistics=[OrderedStatistic(items_base=frozenset(), items_add=frozenset({'50W JCD G8 BASE UV COATED'}), confidence=0.0010499040292614517, lift=1.0)]),\n",
       " RelationRecord(items=frozenset({'50W JCD G9 BASE UV COATD'}), support=0.0006287347637489499, ordered_statistics=[OrderedStatistic(items_base=frozenset(), items_add=frozenset({'50W JCD G9 BASE UV COATD'}), confidence=0.0006287347637489499, lift=1.0)]),\n",
       " RelationRecord(items=frozenset({'50W R30 REFLECTOR'}), support=0.0007751627879593896, ordered_statistics=[OrderedStatistic(items_base=frozenset(), items_add=frozenset({'50W R30 REFLECTOR'}), confidence=0.0007751627879593896, lift=1.0)]),\n",
       " RelationRecord(items=frozenset({'50W ROUGH SVC 130V'}), support=0.0005358963772650113, ordered_statistics=[OrderedStatistic(items_base=frozenset(), items_add=frozenset({'50W ROUGH SVC 130V'}), confidence=0.0005358963772650113, lift=1.0)]),\n",
       " RelationRecord(items=frozenset({'53A19/HAL/ES/SW/ 120V 4PK'}), support=0.0020839576022939382, ordered_statistics=[OrderedStatistic(items_base=frozenset(), items_add=frozenset({'53A19/HAL/ES/SW/ 120V 4PK'}), confidence=0.0020839576022939382, lift=1.0)]),\n",
       " RelationRecord(items=frozenset({'5A19/OMNI/220/LED/27K'}), support=0.0005736355587625474, ordered_statistics=[OrderedStatistic(items_base=frozenset(), items_add=frozenset({'5A19/OMNI/220/LED/27K'}), confidence=0.0005736355587625474, lift=1.0)]),\n",
       " RelationRecord(items=frozenset({'5A19/OMNI/220/LED/50K'}), support=0.000685343535995254, ordered_statistics=[OrderedStatistic(items_base=frozenset(), items_add=frozenset({'5A19/OMNI/220/LED/50K'}), confidence=0.000685343535995254, lift=1.0)]),\n",
       " RelationRecord(items=frozenset({'5PC BRASS COUPLING SET'}), support=0.0005396702954147649, ordered_statistics=[OrderedStatistic(items_base=frozenset(), items_add=frozenset({'5PC BRASS COUPLING SET'}), confidence=0.0005396702954147649, lift=1.0)]),\n",
       " RelationRecord(items=frozenset({'6\" X 11\" SOLVENT REST TRAY'}), support=0.00245229201370989, ordered_statistics=[OrderedStatistic(items_base=frozenset(), items_add=frozenset({'6\" X 11\" SOLVENT REST TRAY'}), confidence=0.00245229201370989, lift=1.0)]),\n",
       " RelationRecord(items=frozenset({'6-1/2\" X 3/8\" MICROFIBER COVER'}), support=0.0006913818050348597, ordered_statistics=[OrderedStatistic(items_base=frozenset(), items_add=frozenset({'6-1/2\" X 3/8\" MICROFIBER COVER'}), confidence=0.0006913818050348597, lift=1.0)]),\n",
       " RelationRecord(items=frozenset({'6-1/2\" X 9/16\" MICROFIBER COVER'}), support=0.00048079717227860874, ordered_statistics=[OrderedStatistic(items_base=frozenset(), items_add=frozenset({'6-1/2\" X 9/16\" MICROFIBER COVER'}), confidence=0.00048079717227860874, lift=1.0)]),\n",
       " RelationRecord(items=frozenset({'6.5A19/CL/LED/E26/27K/120V'}), support=0.0005736355587625474, ordered_statistics=[OrderedStatistic(items_base=frozenset(), items_add=frozenset({'6.5A19/CL/LED/E26/27K/120V'}), confidence=0.0005736355587625474, lift=1.0)]),\n",
       " RelationRecord(items=frozenset({'6.5A19/LED/2700K/120V'}), support=0.0018326146535203485, ordered_statistics=[OrderedStatistic(items_base=frozenset(), items_add=frozenset({'6.5A19/LED/2700K/120V'}), confidence=0.0018326146535203485, lift=1.0)]),\n",
       " RelationRecord(items=frozenset({'6.5A19/LED/5000K/120V'}), support=0.002065842795175121, ordered_statistics=[OrderedStatistic(items_base=frozenset(), items_add=frozenset({'6.5A19/LED/5000K/120V'}), confidence=0.002065842795175121, lift=1.0)]),\n",
       " RelationRecord(items=frozenset({'6.5BR20 /LED/3000K/540L/12'}), support=0.0024658781190490028, ordered_statistics=[OrderedStatistic(items_base=frozenset(), items_add=frozenset({'6.5BR20 /LED/3000K/540L/12'}), confidence=0.0024658781190490028, lift=1.0)]),\n",
       " RelationRecord(items=frozenset({\"6.5MR16/LED/40' 30K/12V\"}), support=0.0005132528683664897, ordered_statistics=[OrderedStatistic(items_base=frozenset(), items_add=frozenset({\"6.5MR16/LED/40' 30K/12V\"}), confidence=0.0005132528683664897, lift=1.0)]),\n",
       " RelationRecord(items=frozenset({'6/6.5\" POINSETTIA 3-4 BLOOM'}), support=0.0010234866022131766, ordered_statistics=[OrderedStatistic(items_base=frozenset(), items_add=frozenset({'6/6.5\" POINSETTIA 3-4 BLOOM'}), confidence=0.0010234866022131766, lift=1.0)]),\n",
       " RelationRecord(items=frozenset({'60 WATT CL APPLIANCE BULB'}), support=0.0031466929532645523, ordered_statistics=[OrderedStatistic(items_base=frozenset(), items_add=frozenset({'60 WATT CL APPLIANCE BULB'}), confidence=0.0031466929532645523, lift=1.0)]),\n",
       " RelationRecord(items=frozenset({'60 WATT FROSTED APPLIANCE'}), support=0.0019707400578013305, ordered_statistics=[OrderedStatistic(items_base=frozenset(), items_add=frozenset({'60 WATT FROSTED APPLIANCE'}), confidence=0.0019707400578013305, lift=1.0)]),\n",
       " RelationRecord(items=frozenset({'60PAR30/HAL/XEN/NFL/2PK/120V'}), support=0.0007744080043294389, ordered_statistics=[OrderedStatistic(items_base=frozenset(), items_add=frozenset({'60PAR30/HAL/XEN/NFL/2PK/120V'}), confidence=0.0007744080043294389, lift=1.0)]),\n",
       " RelationRecord(items=frozenset({'60PAR30/HAL/XEN/WFL/120V'}), support=0.0014823950492232143, ordered_statistics=[OrderedStatistic(items_base=frozenset(), items_add=frozenset({'60PAR30/HAL/XEN/WFL/120V'}), confidence=0.0014823950492232143, lift=1.0)]),\n",
       " RelationRecord(items=frozenset({'60PAR30L/HAL/XEN/NFL/2PK/120V'}), support=0.0011616120064941583, ordered_statistics=[OrderedStatistic(items_base=frozenset(), items_add=frozenset({'60PAR30L/HAL/XEN/NFL/2PK/120V'}), confidence=0.0011616120064941583, lift=1.0)]),\n",
       " RelationRecord(items=frozenset({'60PAR38/HAL/XEN/FL/2PK/120V'}), support=0.0031995278073611026, ordered_statistics=[OrderedStatistic(items_base=frozenset(), items_add=frozenset({'60PAR38/HAL/XEN/FL/2PK/120V'}), confidence=0.0031995278073611026, lift=1.0)]),\n",
       " RelationRecord(items=frozenset({'60W CHASE-A-BUG BULB'}), support=0.0010159387659136694, ordered_statistics=[OrderedStatistic(items_base=frozenset(), items_add=frozenset({'60W CHASE-A-BUG BULB'}), confidence=0.0010159387659136694, lift=1.0)]),\n",
       " RelationRecord(items=frozenset({'60W G-40 WHITE'}), support=0.0005223102719258984, ordered_statistics=[OrderedStatistic(items_base=frozenset(), items_add=frozenset({'60W G-40 WHITE'}), confidence=0.0005223102719258984, lift=1.0)]),\n",
       " RelationRecord(items=frozenset({'60W G16 1/2 CLEAR CARDED'}), support=0.0012227494805201666, ordered_statistics=[OrderedStatistic(items_base=frozenset(), items_add=frozenset({'60W G16 1/2 CLEAR CARDED'}), confidence=0.0012227494805201666, lift=1.0)]),\n",
       " RelationRecord(items=frozenset({'60W G16 1/2 WHITE CARDED'}), support=0.0006400565181982108, ordered_statistics=[OrderedStatistic(items_base=frozenset(), items_add=frozenset({'60W G16 1/2 WHITE CARDED'}), confidence=0.0006400565181982108, lift=1.0)]),\n",
       " RelationRecord(items=frozenset({'60W TORP CAND CLEAR'}), support=0.003121030309846228, ordered_statistics=[OrderedStatistic(items_base=frozenset(), items_add=frozenset({'60W TORP CAND CLEAR'}), confidence=0.003121030309846228, lift=1.0)]),\n",
       " RelationRecord(items=frozenset({'60W TORP CAND FROSTED'}), support=0.001038582274812191, ordered_statistics=[OrderedStatistic(items_base=frozenset(), items_add=frozenset({'60W TORP CAND FROSTED'}), confidence=0.001038582274812191, lift=1.0)]),\n",
       " RelationRecord(items=frozenset({'60W TT CAND CLEAR'}), support=0.0026206087631889005, ordered_statistics=[OrderedStatistic(items_base=frozenset(), items_add=frozenset({'60W TT CAND CLEAR'}), confidence=0.0026206087631889005, lift=1.0)]),\n",
       " RelationRecord(items=frozenset({'60W TT CAND FROSTED'}), support=0.0009502725901079567, ordered_statistics=[OrderedStatistic(items_base=frozenset(), items_add=frozenset({'60W TT CAND FROSTED'}), confidence=0.0009502725901079567, lift=1.0)]),\n",
       " RelationRecord(items=frozenset({'65BR/FL/RP 120V'}), support=0.009428757105344396, ordered_statistics=[OrderedStatistic(items_base=frozenset(), items_add=frozenset({'65BR/FL/RP 120V'}), confidence=0.009428757105344396, lift=1.0)]),\n",
       " RelationRecord(items=frozenset({'65BR30 REFLECTOR 2/PK'}), support=0.0059726028638000484, ordered_statistics=[OrderedStatistic(items_base=frozenset(), items_add=frozenset({'65BR30 REFLECTOR 2/PK'}), confidence=0.0059726028638000484, lift=1.0)]),\n",
       " RelationRecord(items=frozenset({'65BR30/FL/HAL 120V'}), support=0.001397104499038783, ordered_statistics=[OrderedStatistic(items_base=frozenset(), items_add=frozenset({'65BR30/FL/HAL 120V'}), confidence=0.001397104499038783, lift=1.0)]),\n",
       " RelationRecord(items=frozenset({'65BR40/FL/HAL 120V'}), support=0.004006391507778422, ordered_statistics=[OrderedStatistic(items_base=frozenset(), items_add=frozenset({'65BR40/FL/HAL 120V'}), confidence=0.004006391507778422, lift=1.0)]),\n",
       " RelationRecord(items=frozenset({'65W 9BR30 LED FLOOD LIGHT-6PK'}), support=0.0007042131267440219, ordered_statistics=[OrderedStatistic(items_base=frozenset(), items_add=frozenset({'65W 9BR30 LED FLOOD LIGHT-6PK'}), confidence=0.0007042131267440219, lift=1.0)]),\n",
       " RelationRecord(items=frozenset({'65W BR-30 FLOOD 120V.'}), support=0.0016793935766403524, ordered_statistics=[OrderedStatistic(items_base=frozenset(), items_add=frozenset({'65W BR-30 FLOOD 120V.'}), confidence=0.0016793935766403524, lift=1.0)]),\n",
       " RelationRecord(items=frozenset({'6A19/OMNI/220/LED/27K'}), support=0.000531367675485307, ordered_statistics=[OrderedStatistic(items_base=frozenset(), items_add=frozenset({'6A19/OMNI/220/LED/27K'}), confidence=0.000531367675485307, lift=1.0)]),\n",
       " RelationRecord(items=frozenset({\"6MR16/LED/40' 30K/120V/GU10\"}), support=0.0006642095943566337, ordered_statistics=[OrderedStatistic(items_base=frozenset(), items_add=frozenset({\"6MR16/LED/40' 30K/120V/GU10\"}), confidence=0.0006642095943566337, lift=1.0)]),\n",
       " RelationRecord(items=frozenset({'6S6 CD/2 CAND BASE CLEAR'}), support=0.0007955419459680591, ordered_statistics=[OrderedStatistic(items_base=frozenset(), items_add=frozenset({'6S6 CD/2 CAND BASE CLEAR'}), confidence=0.0007955419459680591, lift=1.0)]),\n",
       " RelationRecord(items=frozenset({'7 WATT NIGHTLITE BULB'}), support=0.0006400565181982108, ordered_statistics=[OrderedStatistic(items_base=frozenset(), items_add=frozenset({'7 WATT NIGHTLITE BULB'}), confidence=0.0006400565181982108, lift=1.0)]),\n",
       " RelationRecord(items=frozenset({'7\"X3/8\"GLOSSDELPRO L/L RLLR REF'}), support=0.0007570479808405723, ordered_statistics=[OrderedStatistic(items_base=frozenset(), items_add=frozenset({'7\"X3/8\"GLOSSDELPRO L/L RLLR REF'}), confidence=0.0007570479808405723, lift=1.0)]),\n",
       " RelationRecord(items=frozenset({'70PAR38/HAL/XEN/FL/120V'}), support=0.0019624374378718725, ordered_statistics=[OrderedStatistic(items_base=frozenset(), items_add=frozenset({'70PAR38/HAL/XEN/FL/120V'}), confidence=0.0019624374378718725, lift=1.0)]),\n",
       " RelationRecord(items=frozenset({'72A19/HAL/ES/SW/ 120V 4PK'}), support=0.0020152722919684228, ordered_statistics=[OrderedStatistic(items_base=frozenset(), items_add=frozenset({'72A19/HAL/ES/SW/ 120V 4PK'}), confidence=0.0020152722919684228, lift=1.0)]),\n",
       " RelationRecord(items=frozenset({'7403843  $2 INSTANT REBATE'}), support=0.0005223102719258984, ordered_statistics=[OrderedStatistic(items_base=frozenset(), items_add=frozenset({'7403843  $2 INSTANT REBATE'}), confidence=0.0005223102719258984, lift=1.0)]),\n",
       " RelationRecord(items=frozenset({'75A19/RS/130V 4PK'}), support=0.0013472887794620356, ordered_statistics=[OrderedStatistic(items_base=frozenset(), items_add=frozenset({'75A19/RS/130V 4PK'}), confidence=0.0013472887794620356, lift=1.0)]),\n",
       " RelationRecord(items=frozenset({'75FT EXPANDABLE GARDEN HOSE'}), support=0.002826664694165447, ordered_statistics=[OrderedStatistic(items_base=frozenset(), items_add=frozenset({'75FT EXPANDABLE GARDEN HOSE'}), confidence=0.002826664694165447, lift=1.0)]),\n",
       " RelationRecord(items=frozenset({'75W ROUGH SERVICE 2-PACK'}), support=0.0006060912548504283, ordered_statistics=[OrderedStatistic(items_base=frozenset(), items_add=frozenset({'75W ROUGH SERVICE 2-PACK'}), confidence=0.0006060912548504283, lift=1.0)]),\n",
       " RelationRecord(items=frozenset({'7C7 CD/4 CAND CLEAR 120V'}), support=0.0031429190351147988, ordered_statistics=[OrderedStatistic(items_base=frozenset(), items_add=frozenset({'7C7 CD/4 CAND CLEAR 120V'}), confidence=0.0031429190351147988, lift=1.0)]),\n",
       " RelationRecord(items=frozenset({'7C7/W CD/4 CAND WHITE 120'}), support=0.0014461654349855798, ordered_statistics=[OrderedStatistic(items_base=frozenset(), items_add=frozenset({'7C7/W CD/4 CAND WHITE 120'}), confidence=0.0014461654349855798, lift=1.0)]),\n",
       " RelationRecord(items=frozenset({\"7PAR20/LED/40'/3500K/120V/D\"}), support=0.0013880470954793743, ordered_statistics=[OrderedStatistic(items_base=frozenset(), items_add=frozenset({\"7PAR20/LED/40'/3500K/120V/D\"}), confidence=0.0013880470954793743, lift=1.0)]),\n",
       " RelationRecord(items=frozenset({'7W C7 CAND CLEAR'}), support=0.0015299464179101099, ordered_statistics=[OrderedStatistic(items_base=frozenset(), items_add=frozenset({'7W C7 CAND CLEAR'}), confidence=0.0015299464179101099, lift=1.0)]),\n",
       " RelationRecord(items=frozenset({\"8 QT GARDENER'S GOLD SOIL\"}), support=0.0010325440057725851, ordered_statistics=[OrderedStatistic(items_base=frozenset(), items_add=frozenset({\"8 QT GARDENER'S GOLD SOIL\"}), confidence=0.0010325440057725851, lift=1.0)]),\n",
       " RelationRecord(items=frozenset({'8\" HB ASST'}), support=0.0006627000270967323, ordered_statistics=[OrderedStatistic(items_base=frozenset(), items_add=frozenset({'8\" HB ASST'}), confidence=0.0006627000270967323, lift=1.0)]),\n",
       " RelationRecord(items=frozenset({'80PAR38/HAL/XEN/FL/2PK/120V'}), support=0.0029444109404377595, ordered_statistics=[OrderedStatistic(items_base=frozenset(), items_add=frozenset({'80PAR38/HAL/XEN/FL/2PK/120V'}), confidence=0.0029444109404377595, lift=1.0)]),\n",
       " RelationRecord(items=frozenset({\"850' POLY TWINE 1LB 1 PLY\"}), support=0.0010053717950943592, ordered_statistics=[OrderedStatistic(items_base=frozenset(), items_add=frozenset({\"850' POLY TWINE 1LB 1 PLY\"}), confidence=0.0010053717950943592, lift=1.0)]),\n",
       " RelationRecord(items=frozenset({'8BR30/LED/2700K/650L/2PK'}), support=0.0015171150962009475, ordered_statistics=[OrderedStatistic(items_base=frozenset(), items_add=frozenset({'8BR30/LED/2700K/650L/2PK'}), confidence=0.0015171150962009475, lift=1.0)]),\n",
       " RelationRecord(items=frozenset({'9\" MICROFIBER ROLLER 1/4\" NAP'}), support=0.0007125157466734798, ordered_statistics=[OrderedStatistic(items_base=frozenset(), items_add=frozenset({'9\" MICROFIBER ROLLER 1/4\" NAP'}), confidence=0.0007125157466734798, lift=1.0)]),\n",
       " RelationRecord(items=frozenset({'9\" MICROFIBER ROLLER 3/8\" NAP'}), support=0.001276339118246668, ordered_statistics=[OrderedStatistic(items_base=frozenset(), items_add=frozenset({'9\" MICROFIBER ROLLER 3/8\" NAP'}), confidence=0.001276339118246668, lift=1.0)]),\n",
       " RelationRecord(items=frozenset({'9\" MICROFIBER ROLLER 9/16 NAP'}), support=0.0010423561929619445, ordered_statistics=[OrderedStatistic(items_base=frozenset(), items_add=frozenset({'9\" MICROFIBER ROLLER 9/16 NAP'}), confidence=0.0010423561929619445, lift=1.0)]),\n",
       " RelationRecord(items=frozenset({'9\" PLASTIC TRAY LINER'}), support=0.008083732676772213, ordered_statistics=[OrderedStatistic(items_base=frozenset(), items_add=frozenset({'9\" PLASTIC TRAY LINER'}), confidence=0.008083732676772213, lift=1.0)]),\n",
       " RelationRecord(items=frozenset({'9\" ROLLER FRAME WOOD HNDL'}), support=0.0008974377360114063, ordered_statistics=[OrderedStatistic(items_base=frozenset(), items_add=frozenset({'9\" ROLLER FRAME WOOD HNDL'}), confidence=0.0008974377360114063, lift=1.0)]),\n",
       " RelationRecord(items=frozenset({'9\" TRAY LINER PLASTIC'}), support=0.002678727102695106, ordered_statistics=[OrderedStatistic(items_base=frozenset(), items_add=frozenset({'9\" TRAY LINER PLASTIC'}), confidence=0.002678727102695106, lift=1.0)]),\n",
       " RelationRecord(items=frozenset({'9\" TRU-LOK ROLLER FRAME'}), support=0.0012725652000969143, ordered_statistics=[OrderedStatistic(items_base=frozenset(), items_add=frozenset({'9\" TRU-LOK ROLLER FRAME'}), confidence=0.0012725652000969143, lift=1.0)]),\n",
       " RelationRecord(items=frozenset({'9\"DELUXE PLASTIC ROLLER TRAY 4PC'}), support=0.000798561080487862, ordered_statistics=[OrderedStatistic(items_base=frozenset(), items_add=frozenset({'9\"DELUXE PLASTIC ROLLER TRAY 4PC'}), confidence=0.000798561080487862, lift=1.0)]),\n",
       " RelationRecord(items=frozenset({'9.5A19/LED/2700K/800/2PK'}), support=0.0012423738548988854, ordered_statistics=[OrderedStatistic(items_base=frozenset(), items_add=frozenset({'9.5A19/LED/2700K/800/2PK'}), confidence=0.0012423738548988854, lift=1.0)]),\n",
       " RelationRecord(items=frozenset({'9.5A19/LED/27K/ND/120V/4PK'}), support=0.0012748295509867663, ordered_statistics=[OrderedStatistic(items_base=frozenset(), items_add=frozenset({'9.5A19/LED/27K/ND/120V/4PK'}), confidence=0.0012748295509867663, lift=1.0)]),\n",
       " RelationRecord(items=frozenset({'9.5A19/LED/50K/ND/120V/4PK'}), support=0.00046570149967959436, ordered_statistics=[OrderedStatistic(items_base=frozenset(), items_add=frozenset({'9.5A19/LED/50K/ND/120V/4PK'}), confidence=0.00046570149967959436, lift=1.0)]),\n",
       " RelationRecord(items=frozenset({'9.5A19/OMNI/220/LED/27K'}), support=0.0011487806847849961, ordered_statistics=[OrderedStatistic(items_base=frozenset(), items_add=frozenset({'9.5A19/OMNI/220/LED/27K'}), confidence=0.0011487806847849961, lift=1.0)]),\n",
       " RelationRecord(items=frozenset({'9.5A19/OMNI/220/LED/50K'}), support=0.0009042307886809628, ordered_statistics=[OrderedStatistic(items_base=frozenset(), items_add=frozenset({'9.5A19/OMNI/220/LED/50K'}), confidence=0.0009042307886809628, lift=1.0)]),\n",
       " RelationRecord(items=frozenset({'9.5BR /LED/3000K/800L/12'}), support=0.0009087594904606671, ordered_statistics=[OrderedStatistic(items_base=frozenset(), items_add=frozenset({'9.5BR /LED/3000K/800L/12'}), confidence=0.0009087594904606671, lift=1.0)]),\n",
       " RelationRecord(items=frozenset({'9.8 A19/OMNI/LED/27K'}), support=0.0006936461559247119, ordered_statistics=[OrderedStatistic(items_base=frozenset(), items_add=frozenset({'9.8 A19/OMNI/LED/27K'}), confidence=0.0006936461559247119, lift=1.0)]),\n",
       " RelationRecord(items=frozenset({'9A19 LED 120V 2700K 4PK'}), support=0.007055717372779332, ordered_statistics=[OrderedStatistic(items_base=frozenset(), items_add=frozenset({'9A19 LED 120V 2700K 4PK'}), confidence=0.007055717372779332, lift=1.0)]),\n",
       " RelationRecord(items=frozenset({'9A19 LED 120V 5000K'}), support=0.006420189556360826, ordered_statistics=[OrderedStatistic(items_base=frozenset(), items_add=frozenset({'9A19 LED 120V 5000K'}), confidence=0.006420189556360826, lift=1.0)]),\n",
       " RelationRecord(items=frozenset({'9W DIM LED A-TYPE OMNIDIRECT 60W'}), support=0.0012529408257181956, ordered_statistics=[OrderedStatistic(items_base=frozenset(), items_add=frozenset({'9W DIM LED A-TYPE OMNIDIRECT 60W'}), confidence=0.0012529408257181956, lift=1.0)]),\n",
       " RelationRecord(items=frozenset({'9WLED/RDL/5-6/27K/120V'}), support=0.0005434442135645185, ordered_statistics=[OrderedStatistic(items_base=frozenset(), items_add=frozenset({'9WLED/RDL/5-6/27K/120V'}), confidence=0.0005434442135645185, lift=1.0)]),\n",
       " RelationRecord(items=frozenset({\"A&M W/S  BLK 1/4X1/2X10'\"}), support=0.0006604356762068801, ordered_statistics=[OrderedStatistic(items_base=frozenset(), items_add=frozenset({\"A&M W/S  BLK 1/4X1/2X10'\"}), confidence=0.0006604356762068801, lift=1.0)]),\n",
       " RelationRecord(items=frozenset({\"A&M W/S BLK 1/4X3/4X10'\"}), support=0.0006121295238900341, ordered_statistics=[OrderedStatistic(items_base=frozenset(), items_add=frozenset({\"A&M W/S BLK 1/4X3/4X10'\"}), confidence=0.0006121295238900341, lift=1.0)]),\n",
       " RelationRecord(items=frozenset({\"A&M W/S BLK 3/8X3/4X10'\"}), support=0.0007464810100212623, ordered_statistics=[OrderedStatistic(items_base=frozenset(), items_add=frozenset({\"A&M W/S BLK 3/8X3/4X10'\"}), confidence=0.0007464810100212623, lift=1.0)]),\n",
       " RelationRecord(items=frozenset({'A/C COVER 18X27X16'}), support=0.0014680541602541508, ordered_statistics=[OrderedStatistic(items_base=frozenset(), items_add=frozenset({'A/C COVER 18X27X16'}), confidence=0.0014680541602541508, lift=1.0)]),\n",
       " RelationRecord(items=frozenset({'A/C COVER 20X28X30 WDW'}), support=0.0009125334086104207, ordered_statistics=[OrderedStatistic(items_base=frozenset(), items_add=frozenset({'A/C COVER 20X28X30 WDW'}), confidence=0.0009125334086104207, lift=1.0)]),\n",
       " RelationRecord(items=frozenset({'A/C SQUARE COVR 34X34X30'}), support=0.0008061089167873692, ordered_statistics=[OrderedStatistic(items_base=frozenset(), items_add=frozenset({'A/C SQUARE COVR 34X34X30'}), confidence=0.0008061089167873692, lift=1.0)]),\n",
       " RelationRecord(items=frozenset({'A/C W/S 2-1/4X2-1/4X42\"'}), support=0.001809971144621827, ordered_statistics=[OrderedStatistic(items_base=frozenset(), items_add=frozenset({'A/C W/S 2-1/4X2-1/4X42\"'}), confidence=0.001809971144621827, lift=1.0)]),\n",
       " RelationRecord(items=frozenset({'A/C WINDW COVER 18X27X22'}), support=0.0010914171289087414, ordered_statistics=[OrderedStatistic(items_base=frozenset(), items_add=frozenset({'A/C WINDW COVER 18X27X22'}), confidence=0.0010914171289087414, lift=1.0)]),\n",
       " RelationRecord(items=frozenset({'ABSORBENT OIL 8# BAG'}), support=0.0006219417110793934, ordered_statistics=[OrderedStatistic(items_base=frozenset(), items_add=frozenset({'ABSORBENT OIL 8# BAG'}), confidence=0.0006219417110793934, lift=1.0)]),\n",
       " RelationRecord(items=frozenset({'AC FILTER 3/16\"X15\"X24\"'}), support=0.0009291386484693365, ordered_statistics=[OrderedStatistic(items_base=frozenset(), items_add=frozenset({'AC FILTER 3/16\"X15\"X24\"'}), confidence=0.0009291386484693365, lift=1.0)]),\n",
       " RelationRecord(items=frozenset({'AC4H INSIDE WINDOW A/C CO'}), support=0.0005019311139172289, ordered_statistics=[OrderedStatistic(items_base=frozenset(), items_add=frozenset({'AC4H INSIDE WINDOW A/C CO'}), confidence=0.0005019311139172289, lift=1.0)]),\n",
       " RelationRecord(items=frozenset({'ACE 2 PC LOCKBACK KNIFE'}), support=0.0005253294064457013, ordered_statistics=[OrderedStatistic(items_base=frozenset(), items_add=frozenset({'ACE 2 PC LOCKBACK KNIFE'}), confidence=0.0005253294064457013, lift=1.0)]),\n",
       " RelationRecord(items=frozenset({'ACE 22MM BRASS TSA 2PK'}), support=0.000658171325317028, ordered_statistics=[OrderedStatistic(items_base=frozenset(), items_add=frozenset({'ACE 22MM BRASS TSA 2PK'}), confidence=0.000658171325317028, lift=1.0)]),\n",
       " RelationRecord(items=frozenset({'ACE 2CYC 2.6OZ'}), support=0.001262753012907555, ordered_statistics=[OrderedStatistic(items_base=frozenset(), items_add=frozenset({'ACE 2CYC 2.6OZ'}), confidence=0.001262753012907555, lift=1.0)]),\n",
       " RelationRecord(items=frozenset({'ACE 2CYC 6.4OZ'}), support=0.0009502725901079567, ordered_statistics=[OrderedStatistic(items_base=frozenset(), items_add=frozenset({'ACE 2CYC 6.4OZ'}), confidence=0.0009502725901079567, lift=1.0)]),\n",
       " RelationRecord(items=frozenset({'ACE 2CYCL LOWASH OIL 1QT'}), support=0.0005087241665867854, ordered_statistics=[OrderedStatistic(items_base=frozenset(), items_add=frozenset({'ACE 2CYCL LOWASH OIL 1QT'}), confidence=0.0005087241665867854, lift=1.0)]),\n",
       " RelationRecord(items=frozenset({'ACE 2CYL LOWASH OIL3.2OZ'}), support=0.0009623491281871683, ordered_statistics=[OrderedStatistic(items_base=frozenset(), items_add=frozenset({'ACE 2CYL LOWASH OIL3.2OZ'}), confidence=0.0009623491281871683, lift=1.0)]),\n",
       " RelationRecord(items=frozenset({'ACE 32G WHEEL REFUSE CAN'}), support=0.0007947871623381084, ordered_statistics=[OrderedStatistic(items_base=frozenset(), items_add=frozenset({'ACE 32G WHEEL REFUSE CAN'}), confidence=0.0007947871623381084, lift=1.0)]),\n",
       " RelationRecord(items=frozenset({'ACE 33GAL DRWST BAG 20CT'}), support=0.003832791272889757, ordered_statistics=[OrderedStatistic(items_base=frozenset(), items_add=frozenset({'ACE 33GAL DRWST BAG 20CT'}), confidence=0.003832791272889757, lift=1.0)]),\n",
       " RelationRecord(items=frozenset({'ACE 33GAL DRWST BAG 33CT'}), support=0.0023753040834549165, ordered_statistics=[OrderedStatistic(items_base=frozenset(), items_add=frozenset({'ACE 33GAL DRWST BAG 33CT'}), confidence=0.0023753040834549165, lift=1.0)]),\n",
       " RelationRecord(items=frozenset({'ACE 50/50 LL ANTIFREEZE'}), support=0.0006808148342155496, ordered_statistics=[OrderedStatistic(items_base=frozenset(), items_add=frozenset({'ACE 50/50 LL ANTIFREEZE'}), confidence=0.0006808148342155496, lift=1.0)]),\n",
       " RelationRecord(items=frozenset({'ACE ANNUALS - $1.99 PRICE POINT'}), support=0.0007019487758541697, ordered_statistics=[OrderedStatistic(items_base=frozenset(), items_add=frozenset({'ACE ANNUALS - $1.99 PRICE POINT'}), confidence=0.0007019487758541697, lift=1.0)]),\n",
       " RelationRecord(items=frozenset({'ACE ANNUALS - $3.49 PRICE POINT'}), support=0.0013578557502813456, ordered_statistics=[OrderedStatistic(items_base=frozenset(), items_add=frozenset({'ACE ANNUALS - $3.49 PRICE POINT'}), confidence=0.0013578557502813456, lift=1.0)]),\n",
       " RelationRecord(items=frozenset({'ACE ANNUALS - $3.99 PRICE POINT'}), support=0.0012619982292776041, ordered_statistics=[OrderedStatistic(items_base=frozenset(), items_add=frozenset({'ACE ANNUALS - $3.99 PRICE POINT'}), confidence=0.0012619982292776041, lift=1.0)]),\n",
       " RelationRecord(items=frozenset({'ACE ANNUALS - $4.49 PRICE POINT'}), support=0.0005155172192563419, ordered_statistics=[OrderedStatistic(items_base=frozenset(), items_add=frozenset({'ACE ANNUALS - $4.49 PRICE POINT'}), confidence=0.0005155172192563419, lift=1.0)]),\n",
       " RelationRecord(items=frozenset({'ACE ANNUALS - $4.99 PRICE POINT'}), support=0.0034335107326458262, ordered_statistics=[OrderedStatistic(items_base=frozenset(), items_add=frozenset({'ACE ANNUALS - $4.99 PRICE POINT'}), confidence=0.0034335107326458262, lift=1.0)]),\n",
       " RelationRecord(items=frozenset({'ACE ANNUALS - $5.99 PRICE POINT'}), support=0.0006000529858108225, ordered_statistics=[OrderedStatistic(items_base=frozenset(), items_add=frozenset({'ACE ANNUALS - $5.99 PRICE POINT'}), confidence=0.0006000529858108225, lift=1.0)]),\n",
       " RelationRecord(items=frozenset({'ACE ANNUALS - $7.99 PRICE POINT'}), support=0.0016416543951428165, ordered_statistics=[OrderedStatistic(items_base=frozenset(), items_add=frozenset({'ACE ANNUALS - $7.99 PRICE POINT'}), confidence=0.0016416543951428165, lift=1.0)]),\n",
       " RelationRecord(items=frozenset({'ACE BAG 13GAL 22CT DRAW'}), support=0.0009932952570151478, ordered_statistics=[OrderedStatistic(items_base=frozenset(), items_add=frozenset({'ACE BAG 13GAL 22CT DRAW'}), confidence=0.0009932952570151478, lift=1.0)]),\n",
       " RelationRecord(items=frozenset({'ACE BAG 13GAL 45CT DRAW'}), support=0.003717309377507297, ordered_statistics=[OrderedStatistic(items_base=frozenset(), items_add=frozenset({'ACE BAG 13GAL 45CT DRAW'}), confidence=0.003717309377507297, lift=1.0)]),\n",
       " RelationRecord(items=frozenset({'ACE BAG 13GAL 80CT FLAP'}), support=0.0006687382961363381, ordered_statistics=[OrderedStatistic(items_base=frozenset(), items_add=frozenset({'ACE BAG 13GAL 80CT FLAP'}), confidence=0.0006687382961363381, lift=1.0)]),\n",
       " RelationRecord(items=frozenset({'ACE BAG 33GAL 40CT FLAP'}), support=0.0018122354955116791, ordered_statistics=[OrderedStatistic(items_base=frozenset(), items_add=frozenset({'ACE BAG 33GAL 40CT FLAP'}), confidence=0.0018122354955116791, lift=1.0)]),\n",
       " RelationRecord(items=frozenset({'ACE BAG 33GAL 60CT FLAP'}), support=0.0015171150962009475, ordered_statistics=[OrderedStatistic(items_base=frozenset(), items_add=frozenset({'ACE BAG 33GAL 60CT FLAP'}), confidence=0.0015171150962009475, lift=1.0)]),\n",
       " RelationRecord(items=frozenset({'ACE BAG 39GAL 18CT DRAW'}), support=0.0035331421717993213, ordered_statistics=[OrderedStatistic(items_base=frozenset(), items_add=frozenset({'ACE BAG 39GAL 18CT DRAW'}), confidence=0.0035331421717993213, lift=1.0)]),\n",
       " RelationRecord(items=frozenset({'ACE BAG 39GAL 26CT FLAP'}), support=0.0018597868641985745, ordered_statistics=[OrderedStatistic(items_base=frozenset(), items_add=frozenset({'ACE BAG 39GAL 26CT FLAP'}), confidence=0.0018597868641985745, lift=1.0)]),\n",
       " RelationRecord(items=frozenset({'ACE BAG 39GAL 32CT DRAW'}), support=0.0028440247176543137, ordered_statistics=[OrderedStatistic(items_base=frozenset(), items_add=frozenset({'ACE BAG 39GAL 32CT DRAW'}), confidence=0.0028440247176543137, lift=1.0)]),\n",
       " RelationRecord(items=frozenset({'ACE BAG 39GAL 50CT FLAP'}), support=0.002535318213004469, ordered_statistics=[OrderedStatistic(items_base=frozenset(), items_add=frozenset({'ACE BAG 39GAL 50CT FLAP'}), confidence=0.002535318213004469, lift=1.0)]),\n",
       " RelationRecord(items=frozenset({'ACE BAG 42GAL 12CT FLAP'}), support=0.0017594006414151286, ordered_statistics=[OrderedStatistic(items_base=frozenset(), items_add=frozenset({'ACE BAG 42GAL 12CT FLAP'}), confidence=0.0017594006414151286, lift=1.0)]),\n",
       " RelationRecord(items=frozenset({'ACE BAG 45GAL 24CT FLAP'}), support=0.0010234866022131766, ordered_statistics=[OrderedStatistic(items_base=frozenset(), items_add=frozenset({'ACE BAG 45GAL 24CT FLAP'}), confidence=0.0010234866022131766, lift=1.0)]),\n",
       " RelationRecord(items=frozenset({'ACE BAG 55GAL 12CT FLAP'}), support=0.0004513606107105307, ordered_statistics=[OrderedStatistic(items_base=frozenset(), items_add=frozenset({'ACE BAG 55GAL 12CT FLAP'}), confidence=0.0004513606107105307, lift=1.0)]),\n",
       " RelationRecord(items=frozenset({'ACE BAG 55GAL 20CT FLAP'}), support=0.001062735350970614, ordered_statistics=[OrderedStatistic(items_base=frozenset(), items_add=frozenset({'ACE BAG 55GAL 20CT FLAP'}), confidence=0.001062735350970614, lift=1.0)]),\n",
       " RelationRecord(items=frozenset({'ACE CMPCTR BAG 18GAL10CT'}), support=0.0005947695004011675, ordered_statistics=[OrderedStatistic(items_base=frozenset(), items_add=frozenset({'ACE CMPCTR BAG 18GAL10CT'}), confidence=0.0005947695004011675, lift=1.0)]),\n",
       " RelationRecord(items=frozenset({'ACE CRAB PREV W/FERT 5M'}), support=0.0015593829794781878, ordered_statistics=[OrderedStatistic(items_base=frozenset(), items_add=frozenset({'ACE CRAB PREV W/FERT 5M'}), confidence=0.0015593829794781878, lift=1.0)]),\n",
       " RelationRecord(items=frozenset({\"ACE EXT POLE T/L 3' - 6'\"}), support=0.0006483591381276686, ordered_statistics=[OrderedStatistic(items_base=frozenset(), items_add=frozenset({\"ACE EXT POLE T/L 3' - 6'\"}), confidence=0.0006483591381276686, lift=1.0)]),\n",
       " RelationRecord(items=frozenset({'ACE FAUCET SPRAY HEADCHR'}), support=0.0004974024121375246, ordered_statistics=[OrderedStatistic(items_base=frozenset(), items_add=frozenset({'ACE FAUCET SPRAY HEADCHR'}), confidence=0.0004974024121375246, lift=1.0)]),\n",
       " RelationRecord(items=frozenset({'ACE FERT 4STEP 5M'}), support=0.0016439187460326684, ordered_statistics=[OrderedStatistic(items_base=frozenset(), items_add=frozenset({'ACE FERT 4STEP 5M'}), confidence=0.0016439187460326684, lift=1.0)]),\n",
       " RelationRecord(items=frozenset({'ACE FINISH 3D 1.25 1#'}), support=0.0005094789502167361, ordered_statistics=[OrderedStatistic(items_base=frozenset(), items_add=frozenset({'ACE FINISH 3D 1.25 1#'}), confidence=0.0005094789502167361, lift=1.0)]),\n",
       " RelationRecord(items=frozenset({'ACE FINISH 4D 1.5\" 1#'}), support=0.000771388869809636, ordered_statistics=[OrderedStatistic(items_base=frozenset(), items_add=frozenset({'ACE FINISH 4D 1.5\" 1#'}), confidence=0.000771388869809636, lift=1.0)]),\n",
       " RelationRecord(items=frozenset({'ACE FINISH NAIL6D 2\" 1#'}), support=0.0006891174541450076, ordered_statistics=[OrderedStatistic(items_base=frozenset(), items_add=frozenset({'ACE FINISH NAIL6D 2\" 1#'}), confidence=0.0006891174541450076, lift=1.0)]),\n",
       " RelationRecord(items=frozenset({'ACE FLASHLIGHT 9LED ASST'}), support=0.0007245922847526914, ordered_statistics=[OrderedStatistic(items_base=frozenset(), items_add=frozenset({'ACE FLASHLIGHT 9LED ASST'}), confidence=0.0007245922847526914, lift=1.0)]),\n",
       " RelationRecord(items=frozenset({'ACE GLOVES NITRILE L 3PK'}), support=0.0004974024121375246, ordered_statistics=[OrderedStatistic(items_base=frozenset(), items_add=frozenset({'ACE GLOVES NITRILE L 3PK'}), confidence=0.0004974024121375246, lift=1.0)]),\n",
       " RelationRecord(items=frozenset({'ACE HD CONST ADH 10OZ'}), support=0.0007464810100212623, ordered_statistics=[OrderedStatistic(items_base=frozenset(), items_add=frozenset({'ACE HD CONST ADH 10OZ'}), confidence=0.0007464810100212623, lift=1.0)]),\n",
       " RelationRecord(items=frozenset({'ACE HOBBY HACKSAW'}), support=0.000747235793651213, ordered_statistics=[OrderedStatistic(items_base=frozenset(), items_add=frozenset({'ACE HOBBY HACKSAW'}), confidence=0.000747235793651213, lift=1.0)]),\n",
       " RelationRecord(items=frozenset({'ACE ICEMAKER KIT'}), support=0.0007049679103739726, ordered_statistics=[OrderedStatistic(items_base=frozenset(), items_add=frozenset({'ACE ICEMAKER KIT'}), confidence=0.0007049679103739726, lift=1.0)]),\n",
       " RelationRecord(items=frozenset({\"ACE IMPULSE SPRINKLER86'\"}), support=0.0006694930797662888, ordered_statistics=[OrderedStatistic(items_base=frozenset(), items_add=frozenset({\"ACE IMPULSE SPRINKLER86'\"}), confidence=0.0006694930797662888, lift=1.0)]),\n",
       " RelationRecord(items=frozenset({'ACE JOINT TAPE1-7/8\"X36\\''}), support=0.001073302321789924, ordered_statistics=[OrderedStatistic(items_base=frozenset(), items_add=frozenset({'ACE JOINT TAPE1-7/8\"X36\\''}), confidence=0.001073302321789924, lift=1.0)]),\n",
       " RelationRecord(items=frozenset({\"ACE JOINT TAPE1-7/8X180'\"}), support=0.00045060582708057994, ordered_statistics=[OrderedStatistic(items_base=frozenset(), items_add=frozenset({\"ACE JOINT TAPE1-7/8X180'\"}), confidence=0.00045060582708057994, lift=1.0)]),\n",
       " RelationRecord(items=frozenset({\"ACE JOINT TAPE1-7/8X300'\"}), support=0.001618256102614344, ordered_statistics=[OrderedStatistic(items_base=frozenset(), items_add=frozenset({\"ACE JOINT TAPE1-7/8X300'\"}), confidence=0.001618256102614344, lift=1.0)]),\n",
       " RelationRecord(items=frozenset({'ACE JOINT TAPE2-1/16\"X75'}), support=0.00232699793113807, ordered_statistics=[OrderedStatistic(items_base=frozenset(), items_add=frozenset({'ACE JOINT TAPE2-1/16\"X75'}), confidence=0.00232699793113807, lift=1.0)]),\n",
       " RelationRecord(items=frozenset({'ACE LAWN FERTLZR 5M'}), support=0.0015556090613284342, ordered_statistics=[OrderedStatistic(items_base=frozenset(), items_add=frozenset({'ACE LAWN FERTLZR 5M'}), confidence=0.0015556090613284342, lift=1.0)]),\n",
       " RelationRecord(items=frozenset({'ACE LEAF RAKE POLY 24\"'}), support=0.00182355724996094, ordered_statistics=[OrderedStatistic(items_base=frozenset(), items_add=frozenset({'ACE LEAF RAKE POLY 24\"'}), confidence=0.00182355724996094, lift=1.0)]),\n",
       " RelationRecord(items=frozenset({'ACE LWN WD KILL CONC32OZ'}), support=0.0004687206341993972, ordered_statistics=[OrderedStatistic(items_base=frozenset(), items_add=frozenset({'ACE LWN WD KILL CONC32OZ'}), confidence=0.0004687206341993972, lift=1.0)]),\n",
       " RelationRecord(items=frozenset({'ACE LWN WD KLLER RTU24OZ'}), support=0.00045437974523033353, ordered_statistics=[OrderedStatistic(items_base=frozenset(), items_add=frozenset({'ACE LWN WD KLLER RTU24OZ'}), confidence=0.00045437974523033353, lift=1.0)]),\n",
       " RelationRecord(items=frozenset({'ACE MARINE EPOXY .85OZ'}), support=0.0005872216641016603, ordered_statistics=[OrderedStatistic(items_base=frozenset(), items_add=frozenset({'ACE MARINE EPOXY .85OZ'}), confidence=0.0005872216641016603, lift=1.0)]),\n",
       " RelationRecord(items=frozenset({'ACE METALLIC BRT GLD11OZ'}), support=0.0007751627879593896, ordered_statistics=[OrderedStatistic(items_base=frozenset(), items_add=frozenset({'ACE METALLIC BRT GLD11OZ'}), confidence=0.0007751627879593896, lift=1.0)]),\n",
       " RelationRecord(items=frozenset({'ACE METALLIC GOLDPLT11OZ'}), support=0.0004785328213887566, ordered_statistics=[OrderedStatistic(items_base=frozenset(), items_add=frozenset({'ACE METALLIC GOLDPLT11OZ'}), confidence=0.0004785328213887566, lift=1.0)]),\n",
       " RelationRecord(items=frozenset({'ACE NOZZLDIAL FRT TRIG'}), support=0.0014574871894348406, ordered_statistics=[OrderedStatistic(items_base=frozenset(), items_add=frozenset({'ACE NOZZLDIAL FRT TRIG'}), confidence=0.0014574871894348406, lift=1.0)]),\n",
       " RelationRecord(items=frozenset({\"ACE OSC SPRINKLER 3000'\"}), support=0.001828840735370595, ordered_statistics=[OrderedStatistic(items_base=frozenset(), items_add=frozenset({\"ACE OSC SPRINKLER 3000'\"}), confidence=0.001828840735370595, lift=1.0)]),\n",
       " RelationRecord(items=frozenset({'ACE OSCSPRNKLR 3400QFT'}), support=0.0015601377631081386, ordered_statistics=[OrderedStatistic(items_base=frozenset(), items_add=frozenset({'ACE OSCSPRNKLR 3400QFT'}), confidence=0.0015601377631081386, lift=1.0)]),\n",
       " RelationRecord(items=frozenset({'ACE PAINT BRUSH2\" ANGLE'}), support=0.00045362496160038284, ordered_statistics=[OrderedStatistic(items_base=frozenset(), items_add=frozenset({'ACE PAINT BRUSH2\" ANGLE'}), confidence=0.00045362496160038284, lift=1.0)]),\n",
       " RelationRecord(items=frozenset({'ACE PLASTIC ADHSV .85OZ'}), support=0.0009291386484693365, ordered_statistics=[OrderedStatistic(items_base=frozenset(), items_add=frozenset({'ACE PLASTIC ADHSV .85OZ'}), confidence=0.0009291386484693365, lift=1.0)]),\n",
       " RelationRecord(items=frozenset({'ACE PREM ANGLE BRUSH 1\"'}), support=0.00046268236515979147, ordered_statistics=[OrderedStatistic(items_base=frozenset(), items_add=frozenset({'ACE PREM ANGLE BRUSH 1\"'}), confidence=0.00046268236515979147, lift=1.0)]),\n",
       " RelationRecord(items=frozenset({'ACE PREM ANGLE BRUSH 2\"'}), support=0.0005336320263751591, ordered_statistics=[OrderedStatistic(items_base=frozenset(), items_add=frozenset({'ACE PREM ANGLE BRUSH 2\"'}), confidence=0.0005336320263751591, lift=1.0)]),\n",
       " RelationRecord(items=frozenset({'ACE PREM ICE MELTER JUG'}), support=0.0041988613334158565, ordered_statistics=[OrderedStatistic(items_base=frozenset(), items_add=frozenset({'ACE PREM ICE MELTER JUG'}), confidence=0.0041988613334158565, lift=1.0)]),\n",
       " RelationRecord(items=frozenset({'ACE QUICK SET EPOXY2.5OZ'}), support=0.00047626847049890445, ordered_statistics=[OrderedStatistic(items_base=frozenset(), items_add=frozenset({'ACE QUICK SET EPOXY2.5OZ'}), confidence=0.00047626847049890445, lift=1.0)]),\n",
       " RelationRecord(items=frozenset({'ACE RAKE FBRGLS HNDL30\"'}), support=0.0012385999367491318, ordered_statistics=[OrderedStatistic(items_base=frozenset(), items_add=frozenset({'ACE RAKE FBRGLS HNDL30\"'}), confidence=0.0012385999367491318, lift=1.0)]),\n",
       " RelationRecord(items=frozenset({'ACE ROLLER 9\"3/8\" NAP'}), support=0.00048457109042836233, ordered_statistics=[OrderedStatistic(items_base=frozenset(), items_add=frozenset({'ACE ROLLER 9\"3/8\" NAP'}), confidence=0.00048457109042836233, lift=1.0)]),\n",
       " RelationRecord(items=frozenset({'ACE ROLLER COVERS 3PK'}), support=0.000606846038480379, ordered_statistics=[OrderedStatistic(items_base=frozenset(), items_add=frozenset({'ACE ROLLER COVERS 3PK'}), confidence=0.000606846038480379, lift=1.0)]),\n",
       " RelationRecord(items=frozenset({'ACE ROOF NAIL 1.25\"EG 1#'}), support=0.0006732669979160424, ordered_statistics=[OrderedStatistic(items_base=frozenset(), items_add=frozenset({'ACE ROOF NAIL 1.25\"EG 1#'}), confidence=0.0006732669979160424, lift=1.0)]),\n",
       " RelationRecord(items=frozenset({'ACE ROOF NAIL 1.5\"EG 1LB'}), support=0.0007623314662502273, ordered_statistics=[OrderedStatistic(items_base=frozenset(), items_add=frozenset({'ACE ROOF NAIL 1.5\"EG 1LB'}), confidence=0.0007623314662502273, lift=1.0)]),\n",
       " RelationRecord(items=frozenset({'ACE RSTP SPRY FLTBLK15OZ'}), support=0.000582692962321956, ordered_statistics=[OrderedStatistic(items_base=frozenset(), items_add=frozenset({'ACE RSTP SPRY FLTBLK15OZ'}), confidence=0.000582692962321956, lift=1.0)]),\n",
       " RelationRecord(items=frozenset({'ACE RSTP SPRY GL BLK15OZ'}), support=0.0006408113018281615, ordered_statistics=[OrderedStatistic(items_base=frozenset(), items_add=frozenset({'ACE RSTP SPRY GL BLK15OZ'}), confidence=0.0006408113018281615, lift=1.0)]),\n",
       " RelationRecord(items=frozenset({'ACE RSTP SPRY SATBLK15OZ'}), support=0.0004860806576882638, ordered_statistics=[OrderedStatistic(items_base=frozenset(), items_add=frozenset({'ACE RSTP SPRY SATBLK15OZ'}), confidence=0.0004860806576882638, lift=1.0)]),\n",
       " RelationRecord(items=frozenset({'ACE SCOOP GRAIN POLY #12'}), support=0.0008725298762230325, ordered_statistics=[OrderedStatistic(items_base=frozenset(), items_add=frozenset({'ACE SCOOP GRAIN POLY #12'}), confidence=0.0008725298762230325, lift=1.0)]),\n",
       " RelationRecord(items=frozenset({'ACE SHVL RNDPT LONG-HND'}), support=0.0006559069744271758, ordered_statistics=[OrderedStatistic(items_base=frozenset(), items_add=frozenset({'ACE SHVL RNDPT LONG-HND'}), confidence=0.0006559069744271758, lift=1.0)]),\n",
       " RelationRecord(items=frozenset({\"ACE SLIMPLUG 16/2 12'BLK\"}), support=0.0004581536633800871, ordered_statistics=[OrderedStatistic(items_base=frozenset(), items_add=frozenset({\"ACE SLIMPLUG 16/2 12'BLK\"}), confidence=0.0004581536633800871, lift=1.0)]),\n",
       " RelationRecord(items=frozenset({\"ACE SLIMPLUG 16/2 12'WHT\"}), support=0.0009027212214210614, ordered_statistics=[OrderedStatistic(items_base=frozenset(), items_add=frozenset({\"ACE SLIMPLUG 16/2 12'WHT\"}), confidence=0.0009027212214210614, lift=1.0)]),\n",
       " RelationRecord(items=frozenset({\"ACE SLIMPLUG 16/2 6' BLK\"}), support=0.0007177992320831349, ordered_statistics=[OrderedStatistic(items_base=frozenset(), items_add=frozenset({\"ACE SLIMPLUG 16/2 6' BLK\"}), confidence=0.0007177992320831349, lift=1.0)]),\n",
       " RelationRecord(items=frozenset({\"ACE SLIMPLUG 16/2 6'WHT\"}), support=0.0013631392356910005, ordered_statistics=[OrderedStatistic(items_base=frozenset(), items_add=frozenset({\"ACE SLIMPLUG 16/2 6'WHT\"}), confidence=0.0013631392356910005, lift=1.0)]),\n",
       " RelationRecord(items=frozenset({\"ACE SLIMPLUG 16/3 12' WH\"}), support=0.0008023349986376156, ordered_statistics=[OrderedStatistic(items_base=frozenset(), items_add=frozenset({\"ACE SLIMPLUG 16/3 12' WH\"}), confidence=0.0008023349986376156, lift=1.0)]),\n",
       " RelationRecord(items=frozenset({\"ACE SLIMPLUG 16/3 12'BLK\"}), support=0.0005675972897229416, ordered_statistics=[OrderedStatistic(items_base=frozenset(), items_add=frozenset({\"ACE SLIMPLUG 16/3 12'BLK\"}), confidence=0.0005675972897229416, lift=1.0)]),\n",
       " RelationRecord(items=frozenset({\"ACE SLIMPLUG 16/3 6' BLK\"}), support=0.0005736355587625474, ordered_statistics=[OrderedStatistic(items_base=frozenset(), items_add=frozenset({\"ACE SLIMPLUG 16/3 6' BLK\"}), confidence=0.0005736355587625474, lift=1.0)]),\n",
       " RelationRecord(items=frozenset({\"ACE SLIMPLUG 16/3 6' WHT\"}), support=0.0010989649652082486, ordered_statistics=[OrderedStatistic(items_base=frozenset(), items_add=frozenset({\"ACE SLIMPLUG 16/3 6' WHT\"}), confidence=0.0010989649652082486, lift=1.0)]),\n",
       " RelationRecord(items=frozenset({'ACE SLIP JOINT NUT 1.5\"'}), support=0.002103581976672657, ordered_statistics=[OrderedStatistic(items_base=frozenset(), items_add=frozenset({'ACE SLIP JOINT NUT 1.5\"'}), confidence=0.002103581976672657, lift=1.0)]),\n",
       " RelationRecord(items=frozenset({'ACE SNIPS MULTIPURP 10\"'}), support=0.0004928737103578203, ordered_statistics=[OrderedStatistic(items_base=frozenset(), items_add=frozenset({'ACE SNIPS MULTIPURP 10\"'}), confidence=0.0004928737103578203, lift=1.0)]),\n",
       " RelationRecord(items=frozenset({'ACE SNIPS STRT CUT AVIAT'}), support=0.0006309991146388021, ordered_statistics=[OrderedStatistic(items_base=frozenset(), items_add=frozenset({'ACE SNIPS STRT CUT AVIAT'}), confidence=0.0006309991146388021, lift=1.0)]),\n",
       " RelationRecord(items=frozenset({'ACE STARTER FERTILIZR 5M'}), support=0.0005162720028862926, ordered_statistics=[OrderedStatistic(items_base=frozenset(), items_add=frozenset({'ACE STARTER FERTILIZR 5M'}), confidence=0.0005162720028862926, lift=1.0)]),\n",
       " RelationRecord(items=frozenset({'ACE STEEL EXT POLE'}), support=0.0005426894299345678, ordered_statistics=[OrderedStatistic(items_base=frozenset(), items_add=frozenset({'ACE STEEL EXT POLE'}), confidence=0.0005426894299345678, lift=1.0)]),\n",
       " RelationRecord(items=frozenset({'ACE THISTLE SEED 3#'}), support=0.0004777780377588059, ordered_statistics=[OrderedStatistic(items_base=frozenset(), items_add=frozenset({'ACE THISTLE SEED 3#'}), confidence=0.0004777780377588059, lift=1.0)]),\n",
       " RelationRecord(items=frozenset({'ACE THRMOSTAT MECH HEAT'}), support=0.0004875902249481652, ordered_statistics=[OrderedStatistic(items_base=frozenset(), items_add=frozenset({'ACE THRMOSTAT MECH HEAT'}), confidence=0.0004875902249481652, lift=1.0)]),\n",
       " RelationRecord(items=frozenset({'ACE TOP SOIL 40#'}), support=0.01615991751724492, ordered_statistics=[OrderedStatistic(items_base=frozenset(), items_add=frozenset({'ACE TOP SOIL 40#'}), confidence=0.01615991751724492, lift=1.0)]),\n",
       " RelationRecord(items=frozenset({'ACE TUBE CUTTER 1-1/8\"'}), support=0.0005721259915026459, ordered_statistics=[OrderedStatistic(items_base=frozenset(), items_add=frozenset({'ACE TUBE CUTTER 1-1/8\"'}), confidence=0.0005721259915026459, lift=1.0)]),\n",
       " RelationRecord(items=frozenset({'ACE TUBE CUTTER 7/8\"'}), support=0.0010506588128914025, ordered_statistics=[OrderedStatistic(items_base=frozenset(), items_add=frozenset({'ACE TUBE CUTTER 7/8\"'}), confidence=0.0010506588128914025, lift=1.0)]),\n",
       " RelationRecord(items=frozenset({'ACE WALL REPAIR PATCH4X4'}), support=0.0020507471225761067, ordered_statistics=[OrderedStatistic(items_base=frozenset(), items_add=frozenset({'ACE WALL REPAIR PATCH4X4'}), confidence=0.0020507471225761067, lift=1.0)]),\n",
       " RelationRecord(items=frozenset({'ACE WALL REPAIR PATCH8X8'}), support=0.001863560782348328, ordered_statistics=[OrderedStatistic(items_base=frozenset(), items_add=frozenset({'ACE WALL REPAIR PATCH8X8'}), confidence=0.001863560782348328, lift=1.0)]),\n",
       " RelationRecord(items=frozenset({'ACE WATERING CAN 2GAL'}), support=0.0012204851296303146, ordered_statistics=[OrderedStatistic(items_base=frozenset(), items_add=frozenset({'ACE WATERING CAN 2GAL'}), confidence=0.0012204851296303146, lift=1.0)]),\n",
       " RelationRecord(items=frozenset({'ACE WEED KILLER RTU 1GAL'}), support=0.0014439010840957276, ordered_statistics=[OrderedStatistic(items_base=frozenset(), items_add=frozenset({'ACE WEED KILLER RTU 1GAL'}), confidence=0.0014439010840957276, lift=1.0)]),\n",
       " RelationRecord(items=frozenset({'ACE WEED&FEED 15M'}), support=0.0005064598156969332, ordered_statistics=[OrderedStatistic(items_base=frozenset(), items_add=frozenset({'ACE WEED&FEED 15M'}), confidence=0.0005064598156969332, lift=1.0)]),\n",
       " RelationRecord(items=frozenset({'ACE WEED&FEED 5M'}), support=0.0023798327852346205, ordered_statistics=[OrderedStatistic(items_base=frozenset(), items_add=frozenset({'ACE WEED&FEED 5M'}), confidence=0.0023798327852346205, lift=1.0)]),\n",
       " RelationRecord(items=frozenset({'ACE WILD BIRD FOOD 40LB'}), support=0.0006226964947093442, ordered_statistics=[OrderedStatistic(items_base=frozenset(), items_add=frozenset({'ACE WILD BIRD FOOD 40LB'}), confidence=0.0006226964947093442, lift=1.0)]),\n",
       " RelationRecord(items=frozenset({'ACE WINTERIZER 5M'}), support=0.0006860983196252047, ordered_statistics=[OrderedStatistic(items_base=frozenset(), items_add=frozenset({'ACE WINTERIZER 5M'}), confidence=0.0006860983196252047, lift=1.0)]),\n",
       " RelationRecord(items=frozenset({'ACE WRENCH BASIN 10\"'}), support=0.0006219417110793934, ordered_statistics=[OrderedStatistic(items_base=frozenset(), items_add=frozenset({'ACE WRENCH BASIN 10\"'}), confidence=0.0006219417110793934, lift=1.0)]),\n",
       " RelationRecord(items=frozenset({'ACEAVERSARY - PREM $10OFF'}), support=0.0029164839461295828, ordered_statistics=[OrderedStatistic(items_base=frozenset(), items_add=frozenset({'ACEAVERSARY - PREM $10OFF'}), confidence=0.0029164839461295828, lift=1.0)]),\n",
       " RelationRecord(items=frozenset({'ACEAVERSARYP$10OFFANY'}), support=0.00274590284576072, ordered_statistics=[OrderedStatistic(items_base=frozenset(), items_add=frozenset({'ACEAVERSARYP$10OFFANY'}), confidence=0.00274590284576072, lift=1.0)]),\n",
       " RelationRecord(items=frozenset({'ACENOZZL 3PTN FRT TRG'}), support=0.0006385469509383093, ordered_statistics=[OrderedStatistic(items_base=frozenset(), items_add=frozenset({'ACENOZZL 3PTN FRT TRG'}), confidence=0.0006385469509383093, lift=1.0)]),\n",
       " RelationRecord(items=frozenset({'ACETONE GL'}), support=0.001033298789402536, ordered_statistics=[OrderedStatistic(items_base=frozenset(), items_add=frozenset({'ACETONE GL'}), confidence=0.001033298789402536, lift=1.0)]),\n",
       " RelationRecord(items=frozenset({'ACETONE PT'}), support=0.0005766546932823503, ordered_statistics=[OrderedStatistic(items_base=frozenset(), items_add=frozenset({'ACETONE PT'}), confidence=0.0005766546932823503, lift=1.0)]),\n",
       " RelationRecord(items=frozenset({'ACETONE QT'}), support=0.0019647017887617245, ordered_statistics=[OrderedStatistic(items_base=frozenset(), items_add=frozenset({'ACETONE QT'}), confidence=0.0019647017887617245, lift=1.0)]),\n",
       " RelationRecord(items=frozenset({'ACID MURIATIC GAL'}), support=0.0016854318456799582, ordered_statistics=[OrderedStatistic(items_base=frozenset(), items_add=frozenset({'ACID MURIATIC GAL'}), confidence=0.0016854318456799582, lift=1.0)]),\n",
       " RelationRecord(items=frozenset({'ACID MURIATIC QT'}), support=0.00100612657872431, ordered_statistics=[OrderedStatistic(items_base=frozenset(), items_add=frozenset({'ACID MURIATIC QT'}), confidence=0.00100612657872431, lift=1.0)]),\n",
       " RelationRecord(items=frozenset({'ADAPTER 1/2\"COPR1/2\"MPT'}), support=0.0012348260185993782, ordered_statistics=[OrderedStatistic(items_base=frozenset(), items_add=frozenset({'ADAPTER 1/2\"COPR1/2\"MPT'}), confidence=0.0012348260185993782, lift=1.0)]),\n",
       " RelationRecord(items=frozenset({'ADAPTER 1/2COPR1/2FPT'}), support=0.0008913994669718005, ordered_statistics=[OrderedStatistic(items_base=frozenset(), items_add=frozenset({'ADAPTER 1/2COPR1/2FPT'}), confidence=0.0008913994669718005, lift=1.0)]),\n",
       " RelationRecord(items=frozenset({'ADAPTER 3 OUTLET OUTDR COVERS'}), support=0.0010748118890498255, ordered_statistics=[OrderedStatistic(items_base=frozenset(), items_add=frozenset({'ADAPTER 3 OUTLET OUTDR COVERS'}), confidence=0.0010748118890498255, lift=1.0)]),\n",
       " RelationRecord(items=frozenset({'ADAPTER 3 OUTLET TRI TAP GRN'}), support=0.0010068813623542608, ordered_statistics=[OrderedStatistic(items_base=frozenset(), items_add=frozenset({'ADAPTER 3 OUTLET TRI TAP GRN'}), confidence=0.0010068813623542608, lift=1.0)]),\n",
       " RelationRecord(items=frozenset({'ADAPTER 3/4\"COPR3/4\"MPT'}), support=0.0005955242840311182, ordered_statistics=[OrderedStatistic(items_base=frozenset(), items_add=frozenset({'ADAPTER 3/4\"COPR3/4\"MPT'}), confidence=0.0005955242840311182, lift=1.0)]),\n",
       " RelationRecord(items=frozenset({'ADAPTER 3/4COPR3/4FPT'}), support=0.0005577851025335822, ordered_statistics=[OrderedStatistic(items_base=frozenset(), items_add=frozenset({'ADAPTER 3/4COPR3/4FPT'}), confidence=0.0005577851025335822, lift=1.0)]),\n",
       " RelationRecord(items=frozenset({'ADAPTER PVC DWV1.5\"HXFPT'}), support=0.0005426894299345678, ordered_statistics=[OrderedStatistic(items_base=frozenset(), items_add=frozenset({'ADAPTER PVC DWV1.5\"HXFPT'}), confidence=0.0005426894299345678, lift=1.0)]),\n",
       " RelationRecord(items=frozenset({'ADAPTER PVC DWV1.5\"HXMPT'}), support=0.0009638586954470697, ordered_statistics=[OrderedStatistic(items_base=frozenset(), items_add=frozenset({'ADAPTER PVC DWV1.5\"HXMPT'}), confidence=0.0009638586954470697, lift=1.0)]),\n",
       " RelationRecord(items=frozenset({'ADAPTER PVC DWV1.5X2\"HXH'}), support=0.0009049855723109135, ordered_statistics=[OrderedStatistic(items_base=frozenset(), items_add=frozenset({'ADAPTER PVC DWV1.5X2\"HXH'}), confidence=0.0009049855723109135, lift=1.0)]),\n",
       " RelationRecord(items=frozenset({'ADAPTER PVC1.5X1.25HXJAM'}), support=0.0008196950221264821, ordered_statistics=[OrderedStatistic(items_base=frozenset(), items_add=frozenset({'ADAPTER PVC1.5X1.25HXJAM'}), confidence=0.0008196950221264821, lift=1.0)]),\n",
       " RelationRecord(items=frozenset({'ADAPTER SOCKET 1/4\"X3/8\"'}), support=0.0006128843075199848, ordered_statistics=[OrderedStatistic(items_base=frozenset(), items_add=frozenset({'ADAPTER SOCKET 1/4\"X3/8\"'}), confidence=0.0006128843075199848, lift=1.0)]),\n",
       " RelationRecord(items=frozenset({'ADAPTER SOCKET 3/8\"'}), support=0.0006777956996957467, ordered_statistics=[OrderedStatistic(items_base=frozenset(), items_add=frozenset({'ADAPTER SOCKET 3/8\"'}), confidence=0.0006777956996957467, lift=1.0)]),\n",
       " RelationRecord(items=frozenset({'ADAPTER TRAP PVC1.5\"HXJN'}), support=0.0005977886349209704, ordered_statistics=[OrderedStatistic(items_base=frozenset(), items_add=frozenset({'ADAPTER TRAP PVC1.5\"HXJN'}), confidence=0.0005977886349209704, lift=1.0)]),\n",
       " RelationRecord(items=frozenset({'ADAPTER WIRE 3 GREEN'}), support=0.0010725475381599733, ordered_statistics=[OrderedStatistic(items_base=frozenset(), items_add=frozenset({'ADAPTER WIRE 3 GREEN'}), confidence=0.0010725475381599733, lift=1.0)]),\n",
       " RelationRecord(items=frozenset({'ADAPTERHOSE ZINC Y HOT'}), support=0.0009344221338789916, ordered_statistics=[OrderedStatistic(items_base=frozenset(), items_add=frozenset({'ADAPTERHOSE ZINC Y HOT'}), confidence=0.0009344221338789916, lift=1.0)]),\n",
       " RelationRecord(items=frozenset({'ADAPTR GRND VINYL 3/2 BK'}), support=0.0019171504200748291, ordered_statistics=[OrderedStatistic(items_base=frozenset(), items_add=frozenset({'ADAPTR GRND VINYL 3/2 BK'}), confidence=0.0019171504200748291, lift=1.0)]),\n",
       " RelationRecord(items=frozenset({'ADAPTR GRND VINYL 3/2 WH'}), support=0.0027111827987829867, ordered_statistics=[OrderedStatistic(items_base=frozenset(), items_add=frozenset({'ADAPTR GRND VINYL 3/2 WH'}), confidence=0.0027111827987829867, lift=1.0)]),\n",
       " RelationRecord(items=frozenset({'ADAPTR GRNDED TRIPLE WHT'}), support=0.0005275937573355535, ordered_statistics=[OrderedStatistic(items_base=frozenset(), items_add=frozenset({'ADAPTR GRNDED TRIPLE WHT'}), confidence=0.0005275937573355535, lift=1.0)]),\n",
       " RelationRecord(items=frozenset({'ADAPTR GROUND VINYL GRAY'}), support=0.0016688266058210424, ordered_statistics=[OrderedStatistic(items_base=frozenset(), items_add=frozenset({'ADAPTR GROUND VINYL GRAY'}), confidence=0.0016688266058210424, lift=1.0)]),\n",
       " RelationRecord(items=frozenset({'ADAPTR HOSE POLY Y W/OF'}), support=0.0012008607552515958, ordered_statistics=[OrderedStatistic(items_base=frozenset(), items_add=frozenset({'ADAPTR HOSE POLY Y W/OF'}), confidence=0.0012008607552515958, lift=1.0)]),\n",
       " RelationRecord(items=frozenset({'ADAPTR INSRT POLY 3/4MPT'}), support=0.0006196773601895413, ordered_statistics=[OrderedStatistic(items_base=frozenset(), items_add=frozenset({'ADAPTR INSRT POLY 3/4MPT'}), confidence=0.0006196773601895413, lift=1.0)]),\n",
       " RelationRecord(items=frozenset({'ADAPTR OUTLET 2-6 WHT15A'}), support=0.0014650350257343478, ordered_statistics=[OrderedStatistic(items_base=frozenset(), items_add=frozenset({'ADAPTR OUTLET 2-6 WHT15A'}), confidence=0.0014650350257343478, lift=1.0)]),\n",
       " RelationRecord(items=frozenset({'ADAPTR PVC1.5X1.25SPXJAM'}), support=0.0008619629054037225, ordered_statistics=[OrderedStatistic(items_base=frozenset(), items_add=frozenset({'ADAPTR PVC1.5X1.25SPXJAM'}), confidence=0.0008619629054037225, lift=1.0)]),\n",
       " RelationRecord(items=frozenset({'ADAPTR SCH40 1.5SL1.5FPT'}), support=0.0005132528683664897, ordered_statistics=[OrderedStatistic(items_base=frozenset(), items_add=frozenset({'ADAPTR SCH40 1.5SL1.5FPT'}), confidence=0.0005132528683664897, lift=1.0)]),\n",
       " RelationRecord(items=frozenset({'ADAPTR SCH40 1.5SL1.5MPT'}), support=0.0011472711175250947, ordered_statistics=[OrderedStatistic(items_base=frozenset(), items_add=frozenset({'ADAPTR SCH40 1.5SL1.5MPT'}), confidence=0.0011472711175250947, lift=1.0)]),\n",
       " RelationRecord(items=frozenset({'ADAPTR SCH40 1/2SL1/2MPT'}), support=0.0005185363537761448, ordered_statistics=[OrderedStatistic(items_base=frozenset(), items_add=frozenset({'ADAPTR SCH40 1/2SL1/2MPT'}), confidence=0.0005185363537761448, lift=1.0)]),\n",
       " RelationRecord(items=frozenset({'ADAPTR SCH40 3/4SL3/4FPT'}), support=0.0005396702954147649, ordered_statistics=[OrderedStatistic(items_base=frozenset(), items_add=frozenset({'ADAPTR SCH40 3/4SL3/4FPT'}), confidence=0.0005396702954147649, lift=1.0)]),\n",
       " RelationRecord(items=frozenset({'ADAPTR SCH40 3/4SL3/4MPT'}), support=0.0010023526605745564, ordered_statistics=[OrderedStatistic(items_base=frozenset(), items_add=frozenset({'ADAPTR SCH40 3/4SL3/4MPT'}), confidence=0.0010023526605745564, lift=1.0)]),\n",
       " RelationRecord(items=frozenset({'ADAPTR SCH40PVC2\"SL2\"MPT'}), support=0.0004513606107105307, ordered_statistics=[OrderedStatistic(items_base=frozenset(), items_add=frozenset({'ADAPTR SCH40PVC2\"SL2\"MPT'}), confidence=0.0004513606107105307, lift=1.0)]),\n",
       " RelationRecord(items=frozenset({'ADAPTR TERMINAL PVC 1/2\"'}), support=0.000677040916065796, ordered_statistics=[OrderedStatistic(items_base=frozenset(), items_add=frozenset({'ADAPTR TERMINAL PVC 1/2\"'}), confidence=0.000677040916065796, lift=1.0)]),\n",
       " RelationRecord(items=frozenset({'ADHESIVE WALPPR SEAM 2OZ'}), support=0.0007004392085942683, ordered_statistics=[OrderedStatistic(items_base=frozenset(), items_add=frozenset({'ADHESIVE WALPPR SEAM 2OZ'}), confidence=0.0007004392085942683, lift=1.0)]),\n",
       " RelationRecord(items=frozenset({'ADHESIVE&GROUT BRTWHT QT'}), support=0.0008740394434829339, ordered_statistics=[OrderedStatistic(items_base=frozenset(), items_add=frozenset({'ADHESIVE&GROUT BRTWHT QT'}), confidence=0.0008740394434829339, lift=1.0)]),\n",
       " RelationRecord(items=frozenset({'ADHS CONST PL PREM 10 OZ'}), support=0.002718730635082494, ordered_statistics=[OrderedStatistic(items_base=frozenset(), items_add=frozenset({'ADHS CONST PL PREM 10 OZ'}), confidence=0.002718730635082494, lift=1.0)]),\n",
       " RelationRecord(items=frozenset({'ADHSV CAULK AP CLR 10OZ'}), support=0.0004672110669394958, ordered_statistics=[OrderedStatistic(items_base=frozenset(), items_add=frozenset({'ADHSV CAULK AP CLR 10OZ'}), confidence=0.0004672110669394958, lift=1.0)]),\n",
       " RelationRecord(items=frozenset({'ADHSV CAULK AP WHT 10OZ'}), support=0.0004604180142699393, ordered_statistics=[OrderedStatistic(items_base=frozenset(), items_add=frozenset({'ADHSV CAULK AP WHT 10OZ'}), confidence=0.0004604180142699393, lift=1.0)]),\n",
       " RelationRecord(items=frozenset({'ADHSV CAULK AP WHT 5.5OZ'}), support=0.0004513606107105307, ordered_statistics=[OrderedStatistic(items_base=frozenset(), items_add=frozenset({'ADHSV CAULK AP WHT 5.5OZ'}), confidence=0.0004513606107105307, lift=1.0)]),\n",
       " RelationRecord(items=frozenset({'ADHSV POWER GRAB 6OZ WHT'}), support=0.0005834477459519066, ordered_statistics=[OrderedStatistic(items_base=frozenset(), items_add=frozenset({'ADHSV POWER GRAB 6OZ WHT'}), confidence=0.0005834477459519066, lift=1.0)]),\n",
       " RelationRecord(items=frozenset({'ADIRONDACK CHAIR CHRYRD'}), support=0.0011125510705473616, ordered_statistics=[OrderedStatistic(items_base=frozenset(), items_add=frozenset({'ADIRONDACK CHAIR CHRYRD'}), confidence=0.0011125510705473616, lift=1.0)]),\n",
       " RelationRecord(items=frozenset({'ADIRONDACK CHAIR GREEN'}), support=0.0012363355858592796, ordered_statistics=[OrderedStatistic(items_base=frozenset(), items_add=frozenset({'ADIRONDACK CHAIR GREEN'}), confidence=0.0012363355858592796, lift=1.0)]),\n",
       " RelationRecord(items=frozenset({'ADIRONDACK CHAIR KID BLU'}), support=0.0005562755352736808, ordered_statistics=[OrderedStatistic(items_base=frozenset(), items_add=frozenset({'ADIRONDACK CHAIR KID BLU'}), confidence=0.0005562755352736808, lift=1.0)]),\n",
       " RelationRecord(items=frozenset({'ADIRONDACK CHAIR KID RED'}), support=0.0004921189267278695, ordered_statistics=[OrderedStatistic(items_base=frozenset(), items_add=frozenset({'ADIRONDACK CHAIR KID RED'}), confidence=0.0004921189267278695, lift=1.0)]),\n",
       " RelationRecord(items=frozenset({'ADIRONDACK CHAIR PL BLU'}), support=0.0011744433282033207, ordered_statistics=[OrderedStatistic(items_base=frozenset(), items_add=frozenset({'ADIRONDACK CHAIR PL BLU'}), confidence=0.0011744433282033207, lift=1.0)]),\n",
       " RelationRecord(items=frozenset({'ADIRONDACK CHAIR YLLW'}), support=0.0009865022043455912, ordered_statistics=[OrderedStatistic(items_base=frozenset(), items_add=frozenset({'ADIRONDACK CHAIR YLLW'}), confidence=0.0009865022043455912, lift=1.0)]),\n",
       " RelationRecord(items=frozenset({'ADIRONDACK EARTH BROWN'}), support=0.00092234559579978, ordered_statistics=[OrderedStatistic(items_base=frozenset(), items_add=frozenset({'ADIRONDACK EARTH BROWN'}), confidence=0.00092234559579978, lift=1.0)]),\n",
       " RelationRecord(items=frozenset({'ADIRONDACK ERGO WHITE'}), support=0.0008815872797824411, ordered_statistics=[OrderedStatistic(items_base=frozenset(), items_add=frozenset({'ADIRONDACK ERGO WHITE'}), confidence=0.0008815872797824411, lift=1.0)]),\n",
       " RelationRecord(items=frozenset({'ADIRONDACK RESIN BLUESTN'}), support=0.0010499040292614517, ordered_statistics=[OrderedStatistic(items_base=frozenset(), items_add=frozenset({'ADIRONDACK RESIN BLUESTN'}), confidence=0.0010499040292614517, lift=1.0)]),\n",
       " RelationRecord(items=frozenset({'ADIRONDACK RESIN MERLOT'}), support=0.0005713712078726952, ordered_statistics=[OrderedStatistic(items_base=frozenset(), items_add=frozenset({'ADIRONDACK RESIN MERLOT'}), confidence=0.0005713712078726952, lift=1.0)]),\n",
       " RelationRecord(items=frozenset({'ADIRONDACK RESIN VIOLET'}), support=0.0006913818050348597, ordered_statistics=[OrderedStatistic(items_base=frozenset(), items_add=frozenset({'ADIRONDACK RESIN VIOLET'}), confidence=0.0006913818050348597, lift=1.0)]),\n",
       " RelationRecord(items=frozenset({'ADJUSTABLE FLAG BRACKET'}), support=0.0007781819224791925, ordered_statistics=[OrderedStatistic(items_base=frozenset(), items_add=frozenset({'ADJUSTABLE FLAG BRACKET'}), confidence=0.0007781819224791925, lift=1.0)]),\n",
       " RelationRecord(items=frozenset({'ADJUSTABLE WRENCH 6\"'}), support=0.00048079717227860874, ordered_statistics=[OrderedStatistic(items_base=frozenset(), items_add=frozenset({'ADJUSTABLE WRENCH 6\"'}), confidence=0.00048079717227860874, lift=1.0)]),\n",
       " RelationRecord(items=frozenset({'ADV CARPT CLNR2X CON32OZ'}), support=0.0006891174541450076, ordered_statistics=[OrderedStatistic(items_base=frozenset(), items_add=frozenset({'ADV CARPT CLNR2X CON32OZ'}), confidence=0.0006891174541450076, lift=1.0)]),\n",
       " RelationRecord(items=frozenset({'AERATOR MALE 15/16\" ACE'}), support=0.0006604356762068801, ordered_statistics=[OrderedStatistic(items_base=frozenset(), items_add=frozenset({'AERATOR MALE 15/16\" ACE'}), confidence=0.0006604356762068801, lift=1.0)]),\n",
       " RelationRecord(items=frozenset({'AFFRSH WSH MCH CLNR 3OZ'}), support=0.0007668601680299317, ordered_statistics=[OrderedStatistic(items_base=frozenset(), items_add=frozenset({'AFFRSH WSH MCH CLNR 3OZ'}), confidence=0.0007668601680299317, lift=1.0)]),\n",
       " RelationRecord(items=frozenset({'AIR BLOW GUN 1/4\"FNPT'}), support=0.00046570149967959436, ordered_statistics=[OrderedStatistic(items_base=frozenset(), items_add=frozenset({'AIR BLOW GUN 1/4\"FNPT'}), confidence=0.00046570149967959436, lift=1.0)]),\n",
       " RelationRecord(items=frozenset({'AIR CHUCK FEMALE 1/4\"NPT'}), support=0.0005087241665867854, ordered_statistics=[OrderedStatistic(items_base=frozenset(), items_add=frozenset({'AIR CHUCK FEMALE 1/4\"NPT'}), confidence=0.0005087241665867854, lift=1.0)]),\n",
       " RelationRecord(items=frozenset({'AIR COND WS 1-1/4\"X42\"'}), support=0.0021805699069276305, ordered_statistics=[OrderedStatistic(items_base=frozenset(), items_add=frozenset({'AIR COND WS 1-1/4\"X42\"'}), confidence=0.0021805699069276305, lift=1.0)]),\n",
       " RelationRecord(items=frozenset({'AIR EFFECTS RAIN 8.8OZ'}), support=0.0007834654078888476, ordered_statistics=[OrderedStatistic(items_base=frozenset(), items_add=frozenset({'AIR EFFECTS RAIN 8.8OZ'}), confidence=0.0007834654078888476, lift=1.0)]),\n",
       " RelationRecord(items=frozenset({'AIR EFFECTS SPRING 8.8OZ'}), support=0.0008136567530868763, ordered_statistics=[OrderedStatistic(items_base=frozenset(), items_add=frozenset({'AIR EFFECTS SPRING 8.8OZ'}), confidence=0.0008136567530868763, lift=1.0)]),\n",
       " RelationRecord(items=frozenset({'AIR FILTER CARTRGE 3.75H'}), support=0.000841583747395053, ordered_statistics=[OrderedStatistic(items_base=frozenset(), items_add=frozenset({'AIR FILTER CARTRGE 3.75H'}), confidence=0.000841583747395053, lift=1.0)]),\n",
       " RelationRecord(items=frozenset({'AIR FRESHNR BLACK ICE'}), support=0.0009457438883282524, ordered_statistics=[OrderedStatistic(items_base=frozenset(), items_add=frozenset({'AIR FRESHNR BLACK ICE'}), confidence=0.0009457438883282524, lift=1.0)]),\n",
       " RelationRecord(items=frozenset({'AIR PLUG I/M 1/4\"FNPT'}), support=0.0005472181317142721, ordered_statistics=[OrderedStatistic(items_base=frozenset(), items_add=frozenset({'AIR PLUG I/M 1/4\"FNPT'}), confidence=0.0005472181317142721, lift=1.0)]),\n",
       " RelationRecord(items=frozenset({'AIR PLUG I/M 1/4\"MNPT'}), support=0.0009517821573678582, ordered_statistics=[OrderedStatistic(items_base=frozenset(), items_add=frozenset({'AIR PLUG I/M 1/4\"MNPT'}), confidence=0.0009517821573678582, lift=1.0)]),\n",
       " RelationRecord(items=frozenset({'AIR SPONGE DEODORIZR1/2#'}), support=0.000606846038480379, ordered_statistics=[OrderedStatistic(items_base=frozenset(), items_add=frozenset({'AIR SPONGE DEODORIZR1/2#'}), confidence=0.000606846038480379, lift=1.0)]),\n",
       " RelationRecord(items=frozenset({'AJAX  LQD 2X ULTRA 50 OZ'}), support=0.0015956125937158225, ordered_statistics=[OrderedStatistic(items_base=frozenset(), items_add=frozenset({'AJAX  LQD 2X ULTRA 50 OZ'}), confidence=0.0015956125937158225, lift=1.0)]),\n",
       " RelationRecord(items=frozenset({'AJAX BLEACH ALTERNT50 OZ'}), support=0.0011336850121859818, ordered_statistics=[OrderedStatistic(items_base=frozenset(), items_add=frozenset({'AJAX BLEACH ALTERNT50 OZ'}), confidence=0.0011336850121859818, lift=1.0)]),\n",
       " RelationRecord(items=frozenset({'AJAX CLEANR W/BLEACH28OZ'}), support=0.0012257686150399696, ordered_statistics=[OrderedStatistic(items_base=frozenset(), items_add=frozenset({'AJAX CLEANR W/BLEACH28OZ'}), confidence=0.0012257686150399696, lift=1.0)]),\n",
       " RelationRecord(items=frozenset({'AJAX DISH LQD LMN12.6OZ'}), support=0.0008936638178616527, ordered_statistics=[OrderedStatistic(items_base=frozenset(), items_add=frozenset({'AJAX DISH LQD LMN12.6OZ'}), confidence=0.0008936638178616527, lift=1.0)]),\n",
       " RelationRecord(items=frozenset({'ALCOHOL RUBBING 16OZ'}), support=0.00048457109042836233, ordered_statistics=[OrderedStatistic(items_base=frozenset(), items_add=frozenset({'ALCOHOL RUBBING 16OZ'}), confidence=0.00048457109042836233, lift=1.0)]),\n",
       " RelationRecord(items=frozenset({'ALKALINE AA BATTERY36PK'}), support=0.0006468495708677672, ordered_statistics=[OrderedStatistic(items_base=frozenset(), items_add=frozenset({'ALKALINE AA BATTERY36PK'}), confidence=0.0006468495708677672, lift=1.0)]),\n",
       " RelationRecord(items=frozenset({'ALL FLOORS CLEANER 38OZ'}), support=0.0010748118890498255, ordered_statistics=[OrderedStatistic(items_base=frozenset(), items_add=frozenset({'ALL FLOORS CLEANER 38OZ'}), confidence=0.0010748118890498255, lift=1.0)]),\n",
       " RelationRecord(items=frozenset({'ALL PLASTICS BONDING SYS'}), support=0.0005842025295818575, ordered_statistics=[OrderedStatistic(items_base=frozenset(), items_add=frozenset({'ALL PLASTICS BONDING SYS'}), confidence=0.0005842025295818575, lift=1.0)]),\n",
       " RelationRecord(items=frozenset({'ALL PURP CLNR LEMON 32OZ'}), support=0.0023239787966182674, ordered_statistics=[OrderedStatistic(items_base=frozenset(), items_add=frozenset({'ALL PURP CLNR LEMON 32OZ'}), confidence=0.0023239787966182674, lift=1.0)]),\n",
       " RelationRecord(items=frozenset({'ALL PURPOSE SAND 1/2 CU FT.'}), support=0.00048004238864865804, ordered_statistics=[OrderedStatistic(items_base=frozenset(), items_add=frozenset({'ALL PURPOSE SAND 1/2 CU FT.'}), confidence=0.00048004238864865804, lift=1.0)]),\n",
       " RelationRecord(items=frozenset({'ALL PURPOSE SOIL 1 CF'}), support=0.001564666464887843, ordered_statistics=[OrderedStatistic(items_base=frozenset(), items_add=frozenset({'ALL PURPOSE SOIL 1 CF'}), confidence=0.001564666464887843, lift=1.0)]),\n",
       " RelationRecord(items=frozenset({'ALL PURPOSE SPONGE ACE'}), support=0.0016952440328693176, ordered_statistics=[OrderedStatistic(items_base=frozenset(), items_add=frozenset({'ALL PURPOSE SPONGE ACE'}), confidence=0.0016952440328693176, lift=1.0)]),\n",
       " RelationRecord(items=frozenset({'ALL SEASONS HOSE5/8\"X25\\''}), support=0.001434843680536319, ordered_statistics=[OrderedStatistic(items_base=frozenset(), items_add=frozenset({'ALL SEASONS HOSE5/8\"X25\\''}), confidence=0.001434843680536319, lift=1.0)]),\n",
       " RelationRecord(items=frozenset({'ALL SEASONS HOSE5/8\"X50\\''}), support=0.0020967889240031006, ordered_statistics=[OrderedStatistic(items_base=frozenset(), items_add=frozenset({'ALL SEASONS HOSE5/8\"X50\\''}), confidence=0.0020967889240031006, lift=1.0)]),\n",
       " RelationRecord(items=frozenset({'ALL SEASONS HOSE5/8\"X75\\''}), support=0.0009887665552354434, ordered_statistics=[OrderedStatistic(items_base=frozenset(), items_add=frozenset({'ALL SEASONS HOSE5/8\"X75\\''}), confidence=0.0009887665552354434, lift=1.0)]),\n",
       " RelationRecord(items=frozenset({'ALL SEASONS HOSE5/8X100'}), support=0.0007796914897390939, ordered_statistics=[OrderedStatistic(items_base=frozenset(), items_add=frozenset({'ALL SEASONS HOSE5/8X100'}), confidence=0.0007796914897390939, lift=1.0)]),\n",
       " RelationRecord(items=frozenset({'ALL SEASONS HOSE5/8X125'}), support=0.0005479729153442228, ordered_statistics=[OrderedStatistic(items_base=frozenset(), items_add=frozenset({'ALL SEASONS HOSE5/8X125'}), confidence=0.0005479729153442228, lift=1.0)]),\n",
       " RelationRecord(items=frozenset({'ALL STEEL BYPASS PRUNER'}), support=0.0008453576655448066, ordered_statistics=[OrderedStatistic(items_base=frozenset(), items_add=frozenset({'ALL STEEL BYPASS PRUNER'}), confidence=0.0008453576655448066, lift=1.0)]),\n",
       " RelationRecord(items=frozenset({'ALL WTHR ROOF CEMNT3.6QT'}), support=0.0005426894299345678, ordered_statistics=[OrderedStatistic(items_base=frozenset(), items_add=frozenset({'ALL WTHR ROOF CEMNT3.6QT'}), confidence=0.0005426894299345678, lift=1.0)]),\n",
       " RelationRecord(items=frozenset({'ALLERGEN FILTER 12X24X1'}), support=0.0006242060619692456, ordered_statistics=[OrderedStatistic(items_base=frozenset(), items_add=frozenset({'ALLERGEN FILTER 12X24X1'}), confidence=0.0006242060619692456, lift=1.0)]),\n",
       " RelationRecord(items=frozenset({'ALLERGEN FILTER 14X30X1'}), support=0.0018190285481812355, ordered_statistics=[OrderedStatistic(items_base=frozenset(), items_add=frozenset({'ALLERGEN FILTER 14X30X1'}), confidence=0.0018190285481812355, lift=1.0)]),\n",
       " RelationRecord(items=frozenset({'ALLERGEN FILTER 16X25X1'}), support=0.0007298757701623464, ordered_statistics=[OrderedStatistic(items_base=frozenset(), items_add=frozenset({'ALLERGEN FILTER 16X25X1'}), confidence=0.0007298757701623464, lift=1.0)]),\n",
       " RelationRecord(items=frozenset({'ALLERGEN FILTER 20X20X1'}), support=0.0007517644954309172, ordered_statistics=[OrderedStatistic(items_base=frozenset(), items_add=frozenset({'ALLERGEN FILTER 20X20X1'}), confidence=0.0007517644954309172, lift=1.0)]),\n",
       " RelationRecord(items=frozenset({'ALLERGEN FILTER 20X30X1'}), support=0.000512498084736539, ordered_statistics=[OrderedStatistic(items_base=frozenset(), items_add=frozenset({'ALLERGEN FILTER 20X30X1'}), confidence=0.000512498084736539, lift=1.0)]),\n",
       " RelationRecord(items=frozenset({'ALLERGEN FILTER 24X24X1'}), support=0.0007079870448937755, ordered_statistics=[OrderedStatistic(items_base=frozenset(), items_add=frozenset({'ALLERGEN FILTER 24X24X1'}), confidence=0.0007079870448937755, lift=1.0)]),\n",
       " RelationRecord(items=frozenset({'ALLERGEN FILTER 24X30X1'}), support=0.001785818068463404, ordered_statistics=[OrderedStatistic(items_base=frozenset(), items_add=frozenset({'ALLERGEN FILTER 24X30X1'}), confidence=0.001785818068463404, lift=1.0)]),\n",
       " RelationRecord(items=frozenset({'ALTOIDS MINT PMNT 1.75OZ'}), support=0.0006370373836784079, ordered_statistics=[OrderedStatistic(items_base=frozenset(), items_add=frozenset({'ALTOIDS MINT PMNT 1.75OZ'}), confidence=0.0006370373836784079, lift=1.0)]),\n",
       " RelationRecord(items=frozenset({'ALTOIDS MINT WNTRGRN1.75'}), support=0.0005608042370533851, ordered_statistics=[OrderedStatistic(items_base=frozenset(), items_add=frozenset({'ALTOIDS MINT WNTRGRN1.75'}), confidence=0.0005608042370533851, lift=1.0)]),\n",
       " RelationRecord(items=frozenset({'ALUM  1/2 SIZE DEEP'}), support=0.0004641919324196929, ordered_statistics=[OrderedStatistic(items_base=frozenset(), items_add=frozenset({'ALUM  1/2 SIZE DEEP'}), confidence=0.0004641919324196929, lift=1.0)]),\n",
       " RelationRecord(items=frozenset({'ALUM DWNSPT BND WHT 13\"'}), support=0.0005328772427452084, ordered_statistics=[OrderedStatistic(items_base=frozenset(), items_add=frozenset({'ALUM DWNSPT BND WHT 13\"'}), confidence=0.0005328772427452084, lift=1.0)]),\n",
       " RelationRecord(items=frozenset({'ALUM FULL SIZE DEEP PAN'}), support=0.0004943832776177217, ordered_statistics=[OrderedStatistic(items_base=frozenset(), items_add=frozenset({'ALUM FULL SIZE DEEP PAN'}), confidence=0.0004943832776177217, lift=1.0)]),\n",
       " RelationRecord(items=frozenset({'AMARYLLIS GIFTBOX24-26CM'}), support=0.0010619805673406633, ordered_statistics=[OrderedStatistic(items_base=frozenset(), items_add=frozenset({'AMARYLLIS GIFTBOX24-26CM'}), confidence=0.0010619805673406633, lift=1.0)]),\n",
       " RelationRecord(items=frozenset({'AMAZING GOOP ADHSV 1OZ'}), support=0.00046947541782934796, ordered_statistics=[OrderedStatistic(items_base=frozenset(), items_add=frozenset({'AMAZING GOOP ADHSV 1OZ'}), confidence=0.00046947541782934796, lift=1.0)]),\n",
       " RelationRecord(items=frozenset({'AMDRO QK RTS QP 48/32OZ'}), support=0.000569106856982843, ordered_statistics=[OrderedStatistic(items_base=frozenset(), items_add=frozenset({'AMDRO QK RTS QP 48/32OZ'}), confidence=0.000569106856982843, lift=1.0)]),\n",
       " RelationRecord(items=frozenset({'AMERICAN FLAG GARDEN'}), support=0.0004581536633800871, ordered_statistics=[OrderedStatistic(items_base=frozenset(), items_add=frozenset({'AMERICAN FLAG GARDEN'}), confidence=0.0004581536633800871, lift=1.0)]),\n",
       " RelationRecord(items=frozenset({'AMMONIA 32 OZ ACE'}), support=0.0009344221338789916, ordered_statistics=[OrderedStatistic(items_base=frozenset(), items_add=frozenset({'AMMONIA 32 OZ ACE'}), confidence=0.0009344221338789916, lift=1.0)]),\n",
       " RelationRecord(items=frozenset({'AMMONIA GAL ACE'}), support=0.001280867820026372, ordered_statistics=[OrderedStatistic(items_base=frozenset(), items_add=frozenset({'AMMONIA GAL ACE'}), confidence=0.001280867820026372, lift=1.0)]),\n",
       " RelationRecord(items=frozenset({'AMPAC BAG L&G 30GAL 25PK'}), support=0.0015125863944212433, ordered_statistics=[OrderedStatistic(items_base=frozenset(), items_add=frozenset({'AMPAC BAG L&G 30GAL 25PK'}), confidence=0.0015125863944212433, lift=1.0)]),\n",
       " RelationRecord(items=frozenset({'ANCHOR #6WALBD NYLN CD20'}), support=0.0013420052940523804, ordered_statistics=[OrderedStatistic(items_base=frozenset(), items_add=frozenset({'ANCHOR #6WALBD NYLN CD20'}), confidence=0.0013420052940523804, lift=1.0)]),\n",
       " RelationRecord(items=frozenset({'ANCHOR #6WALLBD NYLONCD4'}), support=0.0007698793025497346, ordered_statistics=[OrderedStatistic(items_base=frozenset(), items_add=frozenset({'ANCHOR #6WALLBD NYLONCD4'}), confidence=0.0007698793025497346, lift=1.0)]),\n",
       " RelationRecord(items=frozenset({'ANCHOR #8WALBD NYLN CD10'}), support=0.0019601730869820205, ordered_statistics=[OrderedStatistic(items_base=frozenset(), items_add=frozenset({'ANCHOR #8WALBD NYLN CD10'}), confidence=0.0019601730869820205, lift=1.0)]),\n",
       " RelationRecord(items=frozenset({'ANCHOR #8WALBD ZINC CD10'}), support=0.000784974975148749, ordered_statistics=[OrderedStatistic(items_base=frozenset(), items_add=frozenset({'ANCHOR #8WALBD ZINC CD10'}), confidence=0.000784974975148749, lift=1.0)]),\n",
       " RelationRecord(items=frozenset({'ANCHOR #8WALLBD NYLONCD2'}), support=0.0004521153943404814, ordered_statistics=[OrderedStatistic(items_base=frozenset(), items_add=frozenset({'ANCHOR #8WALLBD NYLONCD2'}), confidence=0.0004521153943404814, lift=1.0)]),\n",
       " RelationRecord(items=frozenset({'ANCHOR 10-12 PLASTICCD25'}), support=0.0007895036769284533, ordered_statistics=[OrderedStatistic(items_base=frozenset(), items_add=frozenset({'ANCHOR 10-12 PLASTICCD25'}), confidence=0.0007895036769284533, lift=1.0)]),\n",
       " RelationRecord(items=frozenset({'ANCHOR 10-12W/ZN SCRCD4'}), support=0.0006740217815459931, ordered_statistics=[OrderedStatistic(items_base=frozenset(), items_add=frozenset({'ANCHOR 10-12W/ZN SCRCD4'}), confidence=0.0006740217815459931, lift=1.0)]),\n",
       " RelationRecord(items=frozenset({'ANCHOR 6-8 W/ZN SCRW CD6'}), support=0.0006415660854581121, ordered_statistics=[OrderedStatistic(items_base=frozenset(), items_add=frozenset({'ANCHOR 6-8 W/ZN SCRW CD6'}), confidence=0.0006415660854581121, lift=1.0)]),\n",
       " RelationRecord(items=frozenset({'ANCHOR 8-10 PLASTIC CD50'}), support=0.00048381630679841163, ordered_statistics=[OrderedStatistic(items_base=frozenset(), items_add=frozenset({'ANCHOR 8-10 PLASTIC CD50'}), confidence=0.00048381630679841163, lift=1.0)]),\n",
       " RelationRecord(items=frozenset({'ANCHOR 8-10W/ZN SCRWCD6'}), support=0.0008378098292452994, ordered_statistics=[OrderedStatistic(items_base=frozenset(), items_add=frozenset({'ANCHOR 8-10W/ZN SCRWCD6'}), confidence=0.0008378098292452994, lift=1.0)]),\n",
       " RelationRecord(items=frozenset({'ANCHOR PLAS 12-14-16CD20'}), support=0.0005706164242427445, ordered_statistics=[OrderedStatistic(items_base=frozenset(), items_add=frozenset({'ANCHOR PLAS 12-14-16CD20'}), confidence=0.0005706164242427445, lift=1.0)]),\n",
       " RelationRecord(items=frozenset({'ANCHOR PLAS 8-10 CD25'}), support=0.001119344123216918, ordered_statistics=[OrderedStatistic(items_base=frozenset(), items_add=frozenset({'ANCHOR PLAS 8-10 CD25'}), confidence=0.001119344123216918, lift=1.0)]),\n",
       " RelationRecord(items=frozenset({'ANGEL SOFT TP 4 REG ROLL'}), support=0.0007427070918715087, ordered_statistics=[OrderedStatistic(items_base=frozenset(), items_add=frozenset({'ANGEL SOFT TP 4 REG ROLL'}), confidence=0.0007427070918715087, lift=1.0)]),\n",
       " RelationRecord(items=frozenset({'ANGEL SOFT TP 9 DBL ROLL'}), support=0.0005351415936350606, ordered_statistics=[OrderedStatistic(items_base=frozenset(), items_add=frozenset({'ANGEL SOFT TP 9 DBL ROLL'}), confidence=0.0005351415936350606, lift=1.0)]),\n",
       " RelationRecord(items=frozenset({'ANGLE BROOM'}), support=0.002411533697692551, ordered_statistics=[OrderedStatistic(items_base=frozenset(), items_add=frozenset({'ANGLE BROOM'}), confidence=0.002411533697692551, lift=1.0)]),\n",
       " RelationRecord(items=frozenset({'ANGLE BROOM W/STEEL HNDLE'}), support=0.0004672110669394958, ordered_statistics=[OrderedStatistic(items_base=frozenset(), items_add=frozenset({'ANGLE BROOM W/STEEL HNDLE'}), confidence=0.0004672110669394958, lift=1.0)]),\n",
       " RelationRecord(items=frozenset({'ANGLE SAND SPONGE#220ACE'}), support=0.0004513606107105307, ordered_statistics=[OrderedStatistic(items_base=frozenset(), items_add=frozenset({'ANGLE SAND SPONGE#220ACE'}), confidence=0.0004513606107105307, lift=1.0)]),\n",
       " RelationRecord(items=frozenset({'ANGLE VALVE 1/2X3/8\"COM'}), support=0.0004717397687192001, ordered_statistics=[OrderedStatistic(items_base=frozenset(), items_add=frozenset({'ANGLE VALVE 1/2X3/8\"COM'}), confidence=0.0004717397687192001, lift=1.0)]),\n",
       " RelationRecord(items=frozenset({'ANGLER BROOM DUSTPAN SET'}), support=0.0018348790044102007, ordered_statistics=[OrderedStatistic(items_base=frozenset(), items_add=frozenset({'ANGLER BROOM DUSTPAN SET'}), confidence=0.0018348790044102007, lift=1.0)]),\n",
       " RelationRecord(items=frozenset({'ANGULAR SASH 3\"BRUSH PET BLEND'}), support=0.0005706164242427445, ordered_statistics=[OrderedStatistic(items_base=frozenset(), items_add=frozenset({'ANGULAR SASH 3\"BRUSH PET BLEND'}), confidence=0.0005706164242427445, lift=1.0)]),\n",
       " RelationRecord(items=frozenset({'ANIMAL REPEL GRAN 1.25LB'}), support=0.0005962790676610689, ordered_statistics=[OrderedStatistic(items_base=frozenset(), items_add=frozenset({'ANIMAL REPEL GRAN 1.25LB'}), confidence=0.0005962790676610689, lift=1.0)]),\n",
       " RelationRecord(items=frozenset({'ANIMAL STOPPER CAN 32GAL'}), support=0.0022756726443014215, ordered_statistics=[OrderedStatistic(items_base=frozenset(), items_add=frozenset({'ANIMAL STOPPER CAN 32GAL'}), confidence=0.0022756726443014215, lift=1.0)]),\n",
       " RelationRecord(items=frozenset({\"ANNIE B'S CARAMEL  ASSORTED\"}), support=0.011850102990226307, ordered_statistics=[OrderedStatistic(items_base=frozenset(), items_add=frozenset({\"ANNIE B'S CARAMEL  ASSORTED\"}), confidence=0.011850102990226307, lift=1.0)]),\n",
       " RelationRecord(items=frozenset({'ANNUALS - 6 CELL MKT PACK'}), support=0.0032901018429551893, ordered_statistics=[OrderedStatistic(items_base=frozenset(), items_add=frozenset({'ANNUALS - 6 CELL MKT PACK'}), confidence=0.0032901018429551893, lift=1.0)]),\n",
       " RelationRecord(items=frozenset({'ANT BAIT GRANULAR 1.5LB'}), support=0.0005804286114321039, ordered_statistics=[OrderedStatistic(items_base=frozenset(), items_add=frozenset({'ANT BAIT GRANULAR 1.5LB'}), confidence=0.0005804286114321039, lift=1.0)]),\n",
       " RelationRecord(items=frozenset({'ANT BAIT STATION 4 PK'}), support=0.0006604356762068801, ordered_statistics=[OrderedStatistic(items_base=frozenset(), items_add=frozenset({'ANT BAIT STATION 4 PK'}), confidence=0.0006604356762068801, lift=1.0)]),\n",
       " RelationRecord(items=frozenset({'ANT BAIT STATIONS LIQ'}), support=0.001340495726792479, ordered_statistics=[OrderedStatistic(items_base=frozenset(), items_add=frozenset({'ANT BAIT STATIONS LIQ'}), confidence=0.001340495726792479, lift=1.0)]),\n",
       " RelationRecord(items=frozenset({'ANT CNTRL COMBAT 6PK'}), support=0.002686274938994613, ordered_statistics=[OrderedStatistic(items_base=frozenset(), items_add=frozenset({'ANT CNTRL COMBAT 6PK'}), confidence=0.002686274938994613, lift=1.0)]),\n",
       " RelationRecord(items=frozenset({'ANT COMBAT QUICK 6PK'}), support=0.003164052976753419, ordered_statistics=[OrderedStatistic(items_base=frozenset(), items_add=frozenset({'ANT COMBAT QUICK 6PK'}), confidence=0.003164052976753419, lift=1.0)]),\n",
       " RelationRecord(items=frozenset({'ANT CONTROL STAKES 8PK'}), support=0.000884606414302244, ordered_statistics=[OrderedStatistic(items_base=frozenset(), items_add=frozenset({'ANT CONTROL STAKES 8PK'}), confidence=0.000884606414302244, lift=1.0)]),\n",
       " RelationRecord(items=frozenset({'ANT KILL GRANULES 1.5LB'}), support=0.0005215554882959477, ordered_statistics=[OrderedStatistic(items_base=frozenset(), items_add=frozenset({'ANT KILL GRANULES 1.5LB'}), confidence=0.0005215554882959477, lift=1.0)]),\n",
       " RelationRecord(items=frozenset({'ANT KILL GRANULES 4LB'}), support=0.0006642095943566337, ordered_statistics=[OrderedStatistic(items_base=frozenset(), items_add=frozenset({'ANT KILL GRANULES 4LB'}), confidence=0.0006642095943566337, lift=1.0)]),\n",
       " RelationRecord(items=frozenset({'ANT KILL SYRINGE 0.95OZ'}), support=0.0007110061794135784, ordered_statistics=[OrderedStatistic(items_base=frozenset(), items_add=frozenset({'ANT KILL SYRINGE 0.95OZ'}), confidence=0.0007110061794135784, lift=1.0)]),\n",
       " RelationRecord(items=frozenset({'ANT KILLER DUST 1LB'}), support=0.0006219417110793934, ordered_statistics=[OrderedStatistic(items_base=frozenset(), items_add=frozenset({'ANT KILLER DUST 1LB'}), confidence=0.0006219417110793934, lift=1.0)]),\n",
       " RelationRecord(items=frozenset({'ANT KILLER SPRAY 16OZ'}), support=0.002481728575277968, ordered_statistics=[OrderedStatistic(items_base=frozenset(), items_add=frozenset({'ANT KILLER SPRAY 16OZ'}), confidence=0.002481728575277968, lift=1.0)]),\n",
       " RelationRecord(items=frozenset({'ANT&ROACH AEROSOL 16OZ'}), support=0.0013186070015239082, ordered_statistics=[OrderedStatistic(items_base=frozenset(), items_add=frozenset({'ANT&ROACH AEROSOL 16OZ'}), confidence=0.0013186070015239082, lift=1.0)]),\n",
       " RelationRecord(items=frozenset({'ANT&ROACH KILLR BF17.5OZ'}), support=0.001160102439234257, ordered_statistics=[OrderedStatistic(items_base=frozenset(), items_add=frozenset({'ANT&ROACH KILLR BF17.5OZ'}), confidence=0.001160102439234257, lift=1.0)]),\n",
       " RelationRecord(items=frozenset({'ANT&ROACH KLLR17.5OZ'}), support=0.003582203107746118, ordered_statistics=[OrderedStatistic(items_base=frozenset(), items_add=frozenset({'ANT&ROACH KLLR17.5OZ'}), confidence=0.003582203107746118, lift=1.0)]),\n",
       " RelationRecord(items=frozenset({'ANT/ROACH RAID 17.5OZ'}), support=0.0019103573674052728, ordered_statistics=[OrderedStatistic(items_base=frozenset(), items_add=frozenset({'ANT/ROACH RAID 17.5OZ'}), confidence=0.0019103573674052728, lift=1.0)]),\n",
       " RelationRecord(items=frozenset({'ANTI-FREEZE RV GAL'}), support=0.008101092700261079, ordered_statistics=[OrderedStatistic(items_base=frozenset(), items_add=frozenset({'ANTI-FREEZE RV GAL'}), confidence=0.008101092700261079, lift=1.0)]),\n",
       " RelationRecord(items=frozenset({'ANTIFREEZE PEAK  50/50'}), support=0.0036508884180716334, ordered_statistics=[OrderedStatistic(items_base=frozenset(), items_add=frozenset({'ANTIFREEZE PEAK  50/50'}), confidence=0.0036508884180716334, lift=1.0)]),\n",
       " RelationRecord(items=frozenset({'ANTIFREEZE PEAK LONGLIFE'}), support=0.0007978062968579113, ordered_statistics=[OrderedStatistic(items_base=frozenset(), items_add=frozenset({'ANTIFREEZE PEAK LONGLIFE'}), confidence=0.0007978062968579113, lift=1.0)]),\n",
       " RelationRecord(items=frozenset({'APPLE BBQ PELLETS 20LB'}), support=0.001168405059163715, ordered_statistics=[OrderedStatistic(items_base=frozenset(), items_add=frozenset({'APPLE BBQ PELLETS 20LB'}), confidence=0.001168405059163715, lift=1.0)]),\n",
       " RelationRecord(items=frozenset({'APPLE WOOD CHIPS 192CI'}), support=0.0006128843075199848, ordered_statistics=[OrderedStatistic(items_base=frozenset(), items_add=frozenset({'APPLE WOOD CHIPS 192CI'}), confidence=0.0006128843075199848, lift=1.0)]),\n",
       " RelationRecord(items=frozenset({'APRIL M1 $10 OFF $50'}), support=0.0004649467160496436, ordered_statistics=[OrderedStatistic(items_base=frozenset(), items_add=frozenset({'APRIL M1 $10 OFF $50'}), confidence=0.0004649467160496436, lift=1.0)]),\n",
       " RelationRecord(items=frozenset({'APRIL M1 $5 OFF $20'}), support=0.0020650880115451703, ordered_statistics=[OrderedStatistic(items_base=frozenset(), items_add=frozenset({'APRIL M1 $5 OFF $20'}), confidence=0.0020650880115451703, lift=1.0)]),\n",
       " RelationRecord(items=frozenset({'APRIL M1 $5 OFF $25'}), support=0.000992540473385197, ordered_statistics=[OrderedStatistic(items_base=frozenset(), items_add=frozenset({'APRIL M1 $5 OFF $25'}), confidence=0.000992540473385197, lift=1.0)]),\n",
       " RelationRecord(items=frozenset({'APRIL M2 $5 OFF $20'}), support=0.0019224339054844844, ordered_statistics=[OrderedStatistic(items_base=frozenset(), items_add=frozenset({'APRIL M2 $5 OFF $20'}), confidence=0.0019224339054844844, lift=1.0)]),\n",
       " RelationRecord(items=frozenset({'APRIL M2 $5 OFF $25'}), support=0.0008566794199940674, ordered_statistics=[OrderedStatistic(items_base=frozenset(), items_add=frozenset({'APRIL M2 $5 OFF $25'}), confidence=0.0008566794199940674, lift=1.0)]),\n",
       " RelationRecord(items=frozenset({'APRIL/MAYOFFER1$10OFF$50'}), support=0.0008559246363641167, ordered_statistics=[OrderedStatistic(items_base=frozenset(), items_add=frozenset({'APRIL/MAYOFFER1$10OFF$50'}), confidence=0.0008559246363641167, lift=1.0)]),\n",
       " RelationRecord(items=frozenset({'APRIL/MAYOFFER1$5OFF$20'}), support=0.002959506613036774, ordered_statistics=[OrderedStatistic(items_base=frozenset(), items_add=frozenset({'APRIL/MAYOFFER1$5OFF$20'}), confidence=0.002959506613036774, lift=1.0)]),\n",
       " RelationRecord(items=frozenset({'APRIL/MAYOFFER1$5OFF$30'}), support=0.0014325793296464668, ordered_statistics=[OrderedStatistic(items_base=frozenset(), items_add=frozenset({'APRIL/MAYOFFER1$5OFF$30'}), confidence=0.0014325793296464668, lift=1.0)]),\n",
       " RelationRecord(items=frozenset({'APRIL/MAYOFFER1$5OFF$35'}), support=0.0007057226940039233, ordered_statistics=[OrderedStatistic(items_base=frozenset(), items_add=frozenset({'APRIL/MAYOFFER1$5OFF$35'}), confidence=0.0007057226940039233, lift=1.0)]),\n",
       " RelationRecord(items=frozenset({'APRIL/MAYOFFER1$7OFF$20'}), support=0.0006845887523653032, ordered_statistics=[OrderedStatistic(items_base=frozenset(), items_add=frozenset({'APRIL/MAYOFFER1$7OFF$20'}), confidence=0.0006845887523653032, lift=1.0)]),\n",
       " RelationRecord(items=frozenset({'APRIL/MAYOFFER2$10OFF$50'}), support=0.0006989296413343668, ordered_statistics=[OrderedStatistic(items_base=frozenset(), items_add=frozenset({'APRIL/MAYOFFER2$10OFF$50'}), confidence=0.0006989296413343668, lift=1.0)]),\n",
       " RelationRecord(items=frozenset({'APRIL/MAYOFFER2$5OFF$20'}), support=0.0022160447375353144, ordered_statistics=[OrderedStatistic(items_base=frozenset(), items_add=frozenset({'APRIL/MAYOFFER2$5OFF$20'}), confidence=0.0022160447375353144, lift=1.0)]),\n",
       " RelationRecord(items=frozenset({'APRIL/MAYOFFER2$5OFF$30'}), support=0.0010846240762391848, ordered_statistics=[OrderedStatistic(items_base=frozenset(), items_add=frozenset({'APRIL/MAYOFFER2$5OFF$30'}), confidence=0.0010846240762391848, lift=1.0)]),\n",
       " RelationRecord(items=frozenset({'APRIL/MAYOFFER2$5OFF$35'}), support=0.0005532564007538779, ordered_statistics=[OrderedStatistic(items_base=frozenset(), items_add=frozenset({'APRIL/MAYOFFER2$5OFF$35'}), confidence=0.0005532564007538779, lift=1.0)]),\n",
       " RelationRecord(items=frozenset({'APRIL/MAYOFFER2$7OFF$20'}), support=0.0005381607281548635, ordered_statistics=[OrderedStatistic(items_base=frozenset(), items_add=frozenset({'APRIL/MAYOFFER2$7OFF$20'}), confidence=0.0005381607281548635, lift=1.0)]),\n",
       " RelationRecord(items=frozenset({'AQUAGUN REARTRIG HOSENOZ'}), support=0.0014046523353382903, ordered_statistics=[OrderedStatistic(items_base=frozenset(), items_add=frozenset({'AQUAGUN REARTRIG HOSENOZ'}), confidence=0.0014046523353382903, lift=1.0)]),\n",
       " RelationRecord(items=frozenset({'AQUAGUN REARTRIG MLT NOZ'}), support=0.002673443617285451, ordered_statistics=[OrderedStatistic(items_base=frozenset(), items_add=frozenset({'AQUAGUN REARTRIG MLT NOZ'}), confidence=0.002673443617285451, lift=1.0)]),\n",
       " RelationRecord(items=frozenset({'ARBOR 3/8\" Q/C LARGE'}), support=0.0007819558406289461, ordered_statistics=[OrderedStatistic(items_base=frozenset(), items_add=frozenset({'ARBOR 3/8\" Q/C LARGE'}), confidence=0.0007819558406289461, lift=1.0)]),\n",
       " RelationRecord(items=frozenset({'ARBRCOAT SOLID BASE3 GL'}), support=0.0005026858975471796, ordered_statistics=[OrderedStatistic(items_base=frozenset(), items_add=frozenset({'ARBRCOAT SOLID BASE3 GL'}), confidence=0.0005026858975471796, lift=1.0)]),\n",
       " RelationRecord(items=frozenset({'ARBRCOAT SOLID BASE4 GL'}), support=0.0008634724726636238, ordered_statistics=[OrderedStatistic(items_base=frozenset(), items_add=frozenset({'ARBRCOAT SOLID BASE4 GL'}), confidence=0.0008634724726636238, lift=1.0)]),\n",
       " RelationRecord(items=frozenset({'ARIANA POT CHOC 12\"'}), support=0.0004521153943404814, ordered_statistics=[OrderedStatistic(items_base=frozenset(), items_add=frozenset({'ARIANA POT CHOC 12\"'}), confidence=0.0004521153943404814, lift=1.0)]),\n",
       " RelationRecord(items=frozenset({'ARMOR ALL PROTCTNT WIPES'}), support=0.0006408113018281615, ordered_statistics=[OrderedStatistic(items_base=frozenset(), items_add=frozenset({'ARMOR ALL PROTCTNT WIPES'}), confidence=0.0006408113018281615, lift=1.0)]),\n",
       " RelationRecord(items=frozenset({'ARNOLD PALMER 20OZ'}), support=0.0016416543951428165, ordered_statistics=[OrderedStatistic(items_base=frozenset(), items_add=frozenset({'ARNOLD PALMER 20OZ'}), confidence=0.0016416543951428165, lift=1.0)]),\n",
       " RelationRecord(items=frozenset({'ASPHALT FILLR 10.1OZ VOC'}), support=0.0005660877224630401, ordered_statistics=[OrderedStatistic(items_base=frozenset(), items_add=frozenset({'ASPHALT FILLR 10.1OZ VOC'}), confidence=0.0005660877224630401, lift=1.0)]),\n",
       " RelationRecord(items=frozenset({'ASPR INT EGG PUR WHT  1G'}), support=0.0005434442135645185, ordered_statistics=[OrderedStatistic(items_base=frozenset(), items_add=frozenset({'ASPR INT EGG PUR WHT  1G'}), confidence=0.0005434442135645185, lift=1.0)]),\n",
       " RelationRecord(items=frozenset({'ASSORTED CELL PACKS $2.49'}), support=0.005361228123539966, ordered_statistics=[OrderedStatistic(items_base=frozenset(), items_add=frozenset({'ASSORTED CELL PACKS $2.49'}), confidence=0.005361228123539966, lift=1.0)]),\n",
       " RelationRecord(items=frozenset({'ASSORTED TOOLS - BLUE'}), support=0.0004785328213887566, ordered_statistics=[OrderedStatistic(items_base=frozenset(), items_add=frozenset({'ASSORTED TOOLS - BLUE'}), confidence=0.0004785328213887566, lift=1.0)]),\n",
       " RelationRecord(items=frozenset({'ASSORTED TOOLS - YELLOW'}), support=0.0008438480982849052, ordered_statistics=[OrderedStatistic(items_base=frozenset(), items_add=frozenset({'ASSORTED TOOLS - YELLOW'}), confidence=0.0008438480982849052, lift=1.0)]),\n",
       " RelationRecord(items=frozenset({'ASST GEL CLINGS 5.5X12'}), support=0.0012499216911983926, ordered_statistics=[OrderedStatistic(items_base=frozenset(), items_add=frozenset({'ASST GEL CLINGS 5.5X12'}), confidence=0.0012499216911983926, lift=1.0)]),\n",
       " RelationRecord(items=frozenset({'AUGER 1/4\"X25\\' PISTOL GR'}), support=0.0008121471858269749, ordered_statistics=[OrderedStatistic(items_base=frozenset(), items_add=frozenset({'AUGER 1/4\"X25\\' PISTOL GR'}), confidence=0.0008121471858269749, lift=1.0)]),\n",
       " RelationRecord(items=frozenset({'AUGER 1/4\"X25\\' POWER DRM'}), support=0.00047023020145929865, ordered_statistics=[OrderedStatistic(items_base=frozenset(), items_add=frozenset({'AUGER 1/4\"X25\\' POWER DRM'}), confidence=0.00047023020145929865, lift=1.0)]),\n",
       " RelationRecord(items=frozenset({'AUGER CLOSET 1/2\"X3\\''}), support=0.00092234559579978, ordered_statistics=[OrderedStatistic(items_base=frozenset(), items_add=frozenset({'AUGER CLOSET 1/2\"X3\\''}), confidence=0.00092234559579978, lift=1.0)]),\n",
       " RelationRecord(items=frozenset({'AUGER DRAIN 1/4\"X15\\''}), support=0.00047023020145929865, ordered_statistics=[OrderedStatistic(items_base=frozenset(), items_add=frozenset({'AUGER DRAIN 1/4\"X15\\''}), confidence=0.00047023020145929865, lift=1.0)]),\n",
       " RelationRecord(items=frozenset({'AUGER PLASTIC 1/4\" X 20\\''}), support=0.000963103911817119, ordered_statistics=[OrderedStatistic(items_base=frozenset(), items_add=frozenset({'AUGER PLASTIC 1/4\" X 20\\''}), confidence=0.000963103911817119, lift=1.0)]),\n",
       " RelationRecord(items=frozenset({'AUGER SINK KLEAN1/4\"X20\\''}), support=0.0009193264612799771, ordered_statistics=[OrderedStatistic(items_base=frozenset(), items_add=frozenset({'AUGER SINK KLEAN1/4\"X20\\''}), confidence=0.0009193264612799771, lift=1.0)]),\n",
       " RelationRecord(items=frozenset({'AUGER TOILET 3/8\"X3\\''}), support=0.0009087594904606671, ordered_statistics=[OrderedStatistic(items_base=frozenset(), items_add=frozenset({'AUGER TOILET 3/8\"X3\\''}), confidence=0.0009087594904606671, lift=1.0)]),\n",
       " RelationRecord(items=frozenset({'AUGOFFER1$10OFF$50'}), support=0.00045739887975013643, ordered_statistics=[OrderedStatistic(items_base=frozenset(), items_add=frozenset({'AUGOFFER1$10OFF$50'}), confidence=0.00045739887975013643, lift=1.0)]),\n",
       " RelationRecord(items=frozenset({'AUGOFFER1$5OFF$20'}), support=0.001580516921116808, ordered_statistics=[OrderedStatistic(items_base=frozenset(), items_add=frozenset({'AUGOFFER1$5OFF$20'}), confidence=0.001580516921116808, lift=1.0)]),\n",
       " RelationRecord(items=frozenset({'AUGOFFER1$5OFF$30'}), support=0.0006483591381276686, ordered_statistics=[OrderedStatistic(items_base=frozenset(), items_add=frozenset({'AUGOFFER1$5OFF$30'}), confidence=0.0006483591381276686, lift=1.0)]),\n",
       " RelationRecord(items=frozenset({'AUGOFFER2$10OFF$50'}), support=0.0004513606107105307, ordered_statistics=[OrderedStatistic(items_base=frozenset(), items_add=frozenset({'AUGOFFER2$10OFF$50'}), confidence=0.0004513606107105307, lift=1.0)]),\n",
       " RelationRecord(items=frozenset({'AUGOFFER2$5OFF$20'}), support=0.0014522037040251856, ordered_statistics=[OrderedStatistic(items_base=frozenset(), items_add=frozenset({'AUGOFFER2$5OFF$20'}), confidence=0.0014522037040251856, lift=1.0)]),\n",
       " RelationRecord(items=frozenset({'AUGOFFER2$5OFF$30'}), support=0.0006091103893702312, ordered_statistics=[OrderedStatistic(items_base=frozenset(), items_add=frozenset({'AUGOFFER2$5OFF$30'}), confidence=0.0006091103893702312, lift=1.0)]),\n",
       " RelationRecord(items=frozenset({'AUGUST M1 $5 OFF $20'}), support=0.001520889014350701, ordered_statistics=[OrderedStatistic(items_base=frozenset(), items_add=frozenset({'AUGUST M1 $5 OFF $20'}), confidence=0.001520889014350701, lift=1.0)]),\n",
       " RelationRecord(items=frozenset({'AUGUST M1 $5 OFF $30'}), support=0.0007434618755014594, ordered_statistics=[OrderedStatistic(items_base=frozenset(), items_add=frozenset({'AUGUST M1 $5 OFF $30'}), confidence=0.0007434618755014594, lift=1.0)]),\n",
       " RelationRecord(items=frozenset({'AUGUST M2 $5 OFF $20'}), support=0.001208408591551103, ordered_statistics=[OrderedStatistic(items_base=frozenset(), items_add=frozenset({'AUGUST M2 $5 OFF $20'}), confidence=0.001208408591551103, lift=1.0)]),\n",
       " RelationRecord(items=frozenset({'AUGUST M2 $5 OFF $30'}), support=0.0005819381786920053, ordered_statistics=[OrderedStatistic(items_base=frozenset(), items_add=frozenset({'AUGUST M2 $5 OFF $30'}), confidence=0.0005819381786920053, lift=1.0)]),\n",
       " RelationRecord(items=frozenset({'AURA BATH&SPA BASE1 GL'}), support=0.0013827636100697193, ordered_statistics=[OrderedStatistic(items_base=frozenset(), items_add=frozenset({'AURA BATH&SPA BASE1 GL'}), confidence=0.0013827636100697193, lift=1.0)]),\n",
       " RelationRecord(items=frozenset({'AURA BATH&SPA BASE1 QT'}), support=0.0008627176890336731, ordered_statistics=[OrderedStatistic(items_base=frozenset(), items_add=frozenset({'AURA BATH&SPA BASE1 QT'}), confidence=0.0008627176890336731, lift=1.0)]),\n",
       " RelationRecord(items=frozenset({'AURA INT EGGSHL BASE1 GL'}), support=0.001736757132516607, ordered_statistics=[OrderedStatistic(items_base=frozenset(), items_add=frozenset({'AURA INT EGGSHL BASE1 GL'}), confidence=0.001736757132516607, lift=1.0)]),\n",
       " RelationRecord(items=frozenset({'AURA INT MATTE BASE1 GL'}), support=0.0012257686150399696, ordered_statistics=[OrderedStatistic(items_base=frozenset(), items_add=frozenset({'AURA INT MATTE BASE1 GL'}), confidence=0.0012257686150399696, lift=1.0)]),\n",
       " RelationRecord(items=frozenset({'AURA INT S-G BASE1 GL'}), support=0.00046645628330954506, ordered_statistics=[OrderedStatistic(items_base=frozenset(), items_add=frozenset({'AURA INT S-G BASE1 GL'}), confidence=0.00046645628330954506, lift=1.0)]),\n",
       " RelationRecord(items=frozenset({'AUTO ROLLRMOP W/MICROBAN'}), support=0.0004823067395385102, ordered_statistics=[OrderedStatistic(items_base=frozenset(), items_add=frozenset({'AUTO ROLLRMOP W/MICROBAN'}), confidence=0.0004823067395385102, lift=1.0)]),\n",
       " RelationRecord(items=frozenset({'AUTO SPONGE MOP RFL 3X9'}), support=0.0019163956364448786, ordered_statistics=[OrderedStatistic(items_base=frozenset(), items_add=frozenset({'AUTO SPONGE MOP RFL 3X9'}), confidence=0.0019163956364448786, lift=1.0)]),\n",
       " RelationRecord(items=frozenset({'AUTOMATIC DUSK TO DAWN 7W'}), support=0.000644585219977915, ordered_statistics=[OrderedStatistic(items_base=frozenset(), items_add=frozenset({'AUTOMATIC DUSK TO DAWN 7W'}), confidence=0.000644585219977915, lift=1.0)]),\n",
       " RelationRecord(items=frozenset({'AUTOMOTIVE  SQUEEGEE 10\"'}), support=0.0005804286114321039, ordered_statistics=[OrderedStatistic(items_base=frozenset(), items_add=frozenset({'AUTOMOTIVE  SQUEEGEE 10\"'}), confidence=0.0005804286114321039, lift=1.0)]),\n",
       " RelationRecord(items=frozenset({'Aluminum Plastic Magnetic Catch'}), support=0.0006211869274494427, ordered_statistics=[OrderedStatistic(items_base=frozenset(), items_add=frozenset({'Aluminum Plastic Magnetic Catch'}), confidence=0.0006211869274494427, lift=1.0)]),\n",
       " RelationRecord(items=frozenset({'B&D 13\" ELECTRIC TRIMMER'}), support=0.0004589084470100379, ordered_statistics=[OrderedStatistic(items_base=frozenset(), items_add=frozenset({'B&D 13\" ELECTRIC TRIMMER'}), confidence=0.0004589084470100379, lift=1.0)]),\n",
       " RelationRecord(items=frozenset({'BACK SCRATCHER EXTEND'}), support=0.0005185363537761448, ordered_statistics=[OrderedStatistic(items_base=frozenset(), items_add=frozenset({'BACK SCRATCHER EXTEND'}), confidence=0.0005185363537761448, lift=1.0)]),\n",
       " RelationRecord(items=frozenset({'BACK TO CAMPUS 25% OFF'}), support=0.0077871027102015804, ordered_statistics=[OrderedStatistic(items_base=frozenset(), items_add=frozenset({'BACK TO CAMPUS 25% OFF'}), confidence=0.0077871027102015804, lift=1.0)]),\n",
       " RelationRecord(items=frozenset({'BAD AIR SPONGE 14OZ'}), support=0.000569106856982843, ordered_statistics=[OrderedStatistic(items_base=frozenset(), items_add=frozenset({'BAD AIR SPONGE 14OZ'}), confidence=0.000569106856982843, lift=1.0)]),\n",
       " RelationRecord(items=frozenset({'BAG FREEZR EZOPN GAL14CT'}), support=0.0004581536633800871, ordered_statistics=[OrderedStatistic(items_base=frozenset(), items_add=frozenset({'BAG FREEZR EZOPN GAL14CT'}), confidence=0.0004581536633800871, lift=1.0)]),\n",
       " RelationRecord(items=frozenset({'BAG MATTRESS 70X92 QN/FL'}), support=0.002573057394502005, ordered_statistics=[OrderedStatistic(items_base=frozenset(), items_add=frozenset({'BAG MATTRESS 70X92 QN/FL'}), confidence=0.002573057394502005, lift=1.0)]),\n",
       " RelationRecord(items=frozenset({'BAG MATTRESS 86X92\"KING'}), support=0.0009721613153765276, ordered_statistics=[OrderedStatistic(items_base=frozenset(), items_add=frozenset({'BAG MATTRESS 86X92\"KING'}), confidence=0.0009721613153765276, lift=1.0)]),\n",
       " RelationRecord(items=frozenset({'BAG SANDWICH EZOPN 90CT'}), support=0.0005660877224630401, ordered_statistics=[OrderedStatistic(items_base=frozenset(), items_add=frozenset({'BAG SANDWICH EZOPN 90CT'}), confidence=0.0005660877224630401, lift=1.0)]),\n",
       " RelationRecord(items=frozenset({'BAG STORAGE 45\"X96\" PK3'}), support=0.0004596632306399886, ordered_statistics=[OrderedStatistic(items_base=frozenset(), items_add=frozenset({'BAG STORAGE 45\"X96\" PK3'}), confidence=0.0004596632306399886, lift=1.0)]),\n",
       " RelationRecord(items=frozenset({'BAG STORAGE 60\"X108\" PK2'}), support=0.00045362496160038284, ordered_statistics=[OrderedStatistic(items_base=frozenset(), items_add=frozenset({'BAG STORAGE 60\"X108\" PK2'}), confidence=0.00045362496160038284, lift=1.0)]),\n",
       " RelationRecord(items=frozenset({'BAG TREE 90X120 .75MIL'}), support=0.0015790073538569066, ordered_statistics=[OrderedStatistic(items_base=frozenset(), items_add=frozenset({'BAG TREE 90X120 .75MIL'}), confidence=0.0015790073538569066, lift=1.0)]),\n",
       " RelationRecord(items=frozenset({'BAG ZIPLOC EZOPN GAL19CT'}), support=0.0004815519559085595, ordered_statistics=[OrderedStatistic(items_base=frozenset(), items_add=frozenset({'BAG ZIPLOC EZOPN GAL19CT'}), confidence=0.0004815519559085595, lift=1.0)]),\n",
       " RelationRecord(items=frozenset({'BAIT ANT DOUBLE COUNT'}), support=0.001308040030704598, ordered_statistics=[OrderedStatistic(items_base=frozenset(), items_add=frozenset({'BAIT ANT DOUBLE COUNT'}), confidence=0.001308040030704598, lift=1.0)]),\n",
       " RelationRecord(items=frozenset({'BAIT ANT MAXATTRAX 4CT'}), support=0.004498510434506292, ordered_statistics=[OrderedStatistic(items_base=frozenset(), items_add=frozenset({'BAIT ANT MAXATTRAX 4CT'}), confidence=0.004498510434506292, lift=1.0)]),\n",
       " RelationRecord(items=frozenset({'BAIT ANT RAID 4CT'}), support=0.006837584903723574, ordered_statistics=[OrderedStatistic(items_base=frozenset(), items_add=frozenset({'BAIT ANT RAID 4CT'}), confidence=0.006837584903723574, lift=1.0)]),\n",
       " RelationRecord(items=frozenset({'BAIT ROACH SMALL 12PK'}), support=0.0005019311139172289, ordered_statistics=[OrderedStatistic(items_base=frozenset(), items_add=frozenset({'BAIT ROACH SMALL 12PK'}), confidence=0.0005019311139172289, lift=1.0)]),\n",
       " RelationRecord(items=frozenset({'BAIT STATION DISPOSABLE'}), support=0.0007268566356425435, ordered_statistics=[OrderedStatistic(items_base=frozenset(), items_add=frozenset({'BAIT STATION DISPOSABLE'}), confidence=0.0007268566356425435, lift=1.0)]),\n",
       " RelationRecord(items=frozenset({'BAIT STATION W/12 REFILL'}), support=0.0008642272562935747, ordered_statistics=[OrderedStatistic(items_base=frozenset(), items_add=frozenset({'BAIT STATION W/12 REFILL'}), confidence=0.0008642272562935747, lift=1.0)]),\n",
       " RelationRecord(items=frozenset({'BAIT STATION W/2 REFILLS'}), support=0.0004777780377588059, ordered_statistics=[OrderedStatistic(items_base=frozenset(), items_add=frozenset({'BAIT STATION W/2 REFILLS'}), confidence=0.0004777780377588059, lift=1.0)]),\n",
       " RelationRecord(items=frozenset({'BAIT STATION W/4 REFILLS'}), support=0.0007185540157130856, ordered_statistics=[OrderedStatistic(items_base=frozenset(), items_add=frozenset({'BAIT STATION W/4 REFILLS'}), confidence=0.0007185540157130856, lift=1.0)]),\n",
       " RelationRecord(items=frozenset({'BAIT STATION W/6 REFILLS'}), support=0.0011510450356748483, ordered_statistics=[OrderedStatistic(items_base=frozenset(), items_add=frozenset({'BAIT STATION W/6 REFILLS'}), confidence=0.0011510450356748483, lift=1.0)]),\n",
       " RelationRecord(items=frozenset({'BALL SMOOTH RM PINT12PK'}), support=0.0007328949046821493, ordered_statistics=[OrderedStatistic(items_base=frozenset(), items_add=frozenset({'BALL SMOOTH RM PINT12PK'}), confidence=0.0007328949046821493, lift=1.0)]),\n",
       " RelationRecord(items=frozenset({'BALL SMOOTH RM QT12PK'}), support=0.0004928737103578203, ordered_statistics=[OrderedStatistic(items_base=frozenset(), items_add=frozenset({'BALL SMOOTH RM QT12PK'}), confidence=0.0004928737103578203, lift=1.0)]),\n",
       " RelationRecord(items=frozenset({'BALLCOCK ADJ 9-14\"'}), support=0.004187539578966596, ordered_statistics=[OrderedStatistic(items_base=frozenset(), items_add=frozenset({'BALLCOCK ADJ 9-14\"'}), confidence=0.004187539578966596, lift=1.0)]),\n",
       " RelationRecord(items=frozenset({'BALLVALVEGPAC 1/2SWTLF'}), support=0.0006113747402600833, ordered_statistics=[OrderedStatistic(items_base=frozenset(), items_add=frozenset({'BALLVALVEGPAC 1/2SWTLF'}), confidence=0.0006113747402600833, lift=1.0)]),\n",
       " RelationRecord(items=frozenset({'BALSAM FIR SPECIAL 6FT RD&GRN'}), support=0.000587976447731611, ordered_statistics=[OrderedStatistic(items_base=frozenset(), items_add=frozenset({'BALSAM FIR SPECIAL 6FT RD&GRN'}), confidence=0.000587976447731611, lift=1.0)]),\n",
       " RelationRecord(items=frozenset({'BAMBOO BACK SCRATCHERS'}), support=0.0005517468334939764, ordered_statistics=[OrderedStatistic(items_base=frozenset(), items_add=frozenset({'BAMBOO BACK SCRATCHERS'}), confidence=0.0005517468334939764, lift=1.0)]),\n",
       " RelationRecord(items=frozenset({'BANDAGES ASSTD 100CT'}), support=0.0009661230463369219, ordered_statistics=[OrderedStatistic(items_base=frozenset(), items_add=frozenset({'BANDAGES ASSTD 100CT'}), confidence=0.0009661230463369219, lift=1.0)]),\n",
       " RelationRecord(items=frozenset({'BANDANAS 21\" ASSTD'}), support=0.0005525016171239272, ordered_statistics=[OrderedStatistic(items_base=frozenset(), items_add=frozenset({'BANDANAS 21\" ASSTD'}), confidence=0.0005525016171239272, lift=1.0)]),\n",
       " RelationRecord(items=frozenset({'BAR & CHAIN OIL 1GAL ACE'}), support=0.0005645781552031387, ordered_statistics=[OrderedStatistic(items_base=frozenset(), items_add=frozenset({'BAR & CHAIN OIL 1GAL ACE'}), confidence=0.0005645781552031387, lift=1.0)]),\n",
       " RelationRecord(items=frozenset({'BAR & CHAIN OIL QT ACE'}), support=0.002373039732565064, ordered_statistics=[OrderedStatistic(items_base=frozenset(), items_add=frozenset({'BAR & CHAIN OIL QT ACE'}), confidence=0.002373039732565064, lift=1.0)]),\n",
       " RelationRecord(items=frozenset({'BAR PRY 12-3/4\" WONDER'}), support=0.0019375295780834987, ordered_statistics=[OrderedStatistic(items_base=frozenset(), items_add=frozenset({'BAR PRY 12-3/4\" WONDER'}), confidence=0.0019375295780834987, lift=1.0)]),\n",
       " RelationRecord(items=frozenset({'BARKEEPERS FRIEND 26 OZ'}), support=0.0008136567530868763, ordered_statistics=[OrderedStatistic(items_base=frozenset(), items_add=frozenset({'BARKEEPERS FRIEND 26 OZ'}), confidence=0.0008136567530868763, lift=1.0)]),\n",
       " RelationRecord(items=frozenset({\"BARQ'S ROOT BEER\"}), support=0.0012612434456476533, ordered_statistics=[OrderedStatistic(items_base=frozenset(), items_add=frozenset({\"BARQ'S ROOT BEER\"}), confidence=0.0012612434456476533, lift=1.0)]),\n",
       " RelationRecord(items=frozenset({'BARREL BOLT 2\" ZINC'}), support=0.0005857120968417588, ordered_statistics=[OrderedStatistic(items_base=frozenset(), items_add=frozenset({'BARREL BOLT 2\" ZINC'}), confidence=0.0005857120968417588, lift=1.0)]),\n",
       " RelationRecord(items=frozenset({'BASE UMB 19\" DELUXE CONC SCROLL'}), support=0.0008680011744433282, ordered_statistics=[OrderedStatistic(items_base=frozenset(), items_add=frozenset({'BASE UMB 19\" DELUXE CONC SCROLL'}), confidence=0.0008680011744433282, lift=1.0)]),\n",
       " RelationRecord(items=frozenset({'BASE UMBRELLA 17\" BROWN'}), support=0.0019813070286206404, ordered_statistics=[OrderedStatistic(items_base=frozenset(), items_add=frozenset({'BASE UMBRELLA 17\" BROWN'}), confidence=0.0019813070286206404, lift=1.0)]),\n",
       " RelationRecord(items=frozenset({'BASE UMBRELLA 17\" CONC SAND'}), support=0.0017344927816267549, ordered_statistics=[OrderedStatistic(items_base=frozenset(), items_add=frozenset({'BASE UMBRELLA 17\" CONC SAND'}), confidence=0.0017344927816267549, lift=1.0)]),\n",
       " RelationRecord(items=frozenset({'BASEBOARD COVER WHT 4FT'}), support=0.001785818068463404, ordered_statistics=[OrderedStatistic(items_base=frozenset(), items_add=frozenset({'BASEBOARD COVER WHT 4FT'}), confidence=0.001785818068463404, lift=1.0)]),\n",
       " RelationRecord(items=frozenset({'BASEBOARD COVER WHT 6FT'}), support=0.0013261548378234154, ordered_statistics=[OrderedStatistic(items_base=frozenset(), items_add=frozenset({'BASEBOARD COVER WHT 6FT'}), confidence=0.0013261548378234154, lift=1.0)]),\n",
       " RelationRecord(items=frozenset({'BASEBOARD COVER WHT 8FT'}), support=0.0008649820399235253, ordered_statistics=[OrderedStatistic(items_base=frozenset(), items_add=frozenset({'BASEBOARD COVER WHT 8FT'}), confidence=0.0008649820399235253, lift=1.0)]),\n",
       " RelationRecord(items=frozenset({'BASEBOARD END CORNER WHT'}), support=0.0004853258740583131, ordered_statistics=[OrderedStatistic(items_base=frozenset(), items_add=frozenset({'BASEBOARD END CORNER WHT'}), confidence=0.0004853258740583131, lift=1.0)]),\n",
       " RelationRecord(items=frozenset({'BASEBOARD SNAP COVER WH'}), support=0.000871020308963131, ordered_statistics=[OrderedStatistic(items_base=frozenset(), items_add=frozenset({'BASEBOARD SNAP COVER WH'}), confidence=0.000871020308963131, lift=1.0)]),\n",
       " RelationRecord(items=frozenset({'BASEBOARD SNAP END KIT W'}), support=0.002673443617285451, ordered_statistics=[OrderedStatistic(items_base=frozenset(), items_add=frozenset({'BASEBOARD SNAP END KIT W'}), confidence=0.002673443617285451, lift=1.0)]),\n",
       " RelationRecord(items=frozenset({'BASIC FLAME TORCH PROPN'}), support=0.0005494824826041243, ordered_statistics=[OrderedStatistic(items_base=frozenset(), items_add=frozenset({'BASIC FLAME TORCH PROPN'}), confidence=0.0005494824826041243, lift=1.0)]),\n",
       " RelationRecord(items=frozenset({'BASIN/TUB/TIL CLEANR22OZ'}), support=0.0005336320263751591, ordered_statistics=[OrderedStatistic(items_base=frozenset(), items_add=frozenset({'BASIN/TUB/TIL CLEANR22OZ'}), confidence=0.0005336320263751591, lift=1.0)]),\n",
       " RelationRecord(items=frozenset({'BASKET STRAINR 3.5 AH8PC'}), support=0.0008702655253331803, ordered_statistics=[OrderedStatistic(items_base=frozenset(), items_add=frozenset({'BASKET STRAINR 3.5 AH8PC'}), confidence=0.0008702655253331803, lift=1.0)]),\n",
       " RelationRecord(items=frozenset({'BASKET STRAINR AH820-22'}), support=0.0015737238684472516, ordered_statistics=[OrderedStatistic(items_base=frozenset(), items_add=frozenset({'BASKET STRAINR AH820-22'}), confidence=0.0015737238684472516, lift=1.0)]),\n",
       " RelationRecord(items=frozenset({'BATH MAT CLEAR26.5X13.75'}), support=0.0004792876050187073, ordered_statistics=[OrderedStatistic(items_base=frozenset(), items_add=frozenset({'BATH MAT CLEAR26.5X13.75'}), confidence=0.0004792876050187073, lift=1.0)]),\n",
       " RelationRecord(items=frozenset({'BATH MAT SOFTEX 17X36WHT'}), support=0.0005253294064457013, ordered_statistics=[OrderedStatistic(items_base=frozenset(), items_add=frozenset({'BATH MAT SOFTEX 17X36WHT'}), confidence=0.0005253294064457013, lift=1.0)]),\n",
       " RelationRecord(items=frozenset({'BATH&KITCHN CLNR CLR26OZ'}), support=0.001030279654882733, ordered_statistics=[OrderedStatistic(items_base=frozenset(), items_add=frozenset({'BATH&KITCHN CLNR CLR26OZ'}), confidence=0.001030279654882733, lift=1.0)]),\n",
       " RelationRecord(items=frozenset({'BATTERY 2032 4PK'}), support=0.0017073205709485291, ordered_statistics=[OrderedStatistic(items_base=frozenset(), items_add=frozenset({'BATTERY 2032 4PK'}), confidence=0.0017073205709485291, lift=1.0)]),\n",
       " RelationRecord(items=frozenset({'BATTERY 303/357 3PK'}), support=0.0005351415936350606, ordered_statistics=[OrderedStatistic(items_base=frozenset(), items_add=frozenset({'BATTERY 303/357 3PK'}), confidence=0.0005351415936350606, lift=1.0)]),\n",
       " RelationRecord(items=frozenset({'BATTERY 3V 2025 PK2'}), support=0.001060471000080762, ordered_statistics=[OrderedStatistic(items_base=frozenset(), items_add=frozenset({'BATTERY 3V 2025 PK2'}), confidence=0.001060471000080762, lift=1.0)]),\n",
       " RelationRecord(items=frozenset({'BATTERY AA 16PK ENERGIZR'}), support=0.005018556355542338, ordered_statistics=[OrderedStatistic(items_base=frozenset(), items_add=frozenset({'BATTERY AA 16PK ENERGIZR'}), confidence=0.005018556355542338, lift=1.0)]),\n",
       " RelationRecord(items=frozenset({'BATTERY AA 8PK ENERGIZER'}), support=0.005777113903642812, ordered_statistics=[OrderedStatistic(items_base=frozenset(), items_add=frozenset({'BATTERY AA 8PK ENERGIZER'}), confidence=0.005777113903642812, lift=1.0)]),\n",
       " RelationRecord(items=frozenset({'BATTERY AAA 16PK ENERGZR'}), support=0.0032063208600306595, ordered_statistics=[OrderedStatistic(items_base=frozenset(), items_add=frozenset({'BATTERY AAA 16PK ENERGZR'}), confidence=0.0032063208600306595, lift=1.0)]),\n",
       " RelationRecord(items=frozenset({'BATTERY AAA 8PK ENERGZR'}), support=0.003420679410936664, ordered_statistics=[OrderedStatistic(items_base=frozenset(), items_add=frozenset({'BATTERY AAA 8PK ENERGZR'}), confidence=0.003420679410936664, lift=1.0)]),\n",
       " RelationRecord(items=frozenset({'BATTERY ADV LITH 9V 1PK'}), support=0.0005645781552031387, ordered_statistics=[OrderedStatistic(items_base=frozenset(), items_add=frozenset({'BATTERY ADV LITH 9V 1PK'}), confidence=0.0005645781552031387, lift=1.0)]),\n",
       " RelationRecord(items=frozenset({'BATTERY ALK 9V 4WIDE'}), support=0.0028832734664117512, ordered_statistics=[OrderedStatistic(items_base=frozenset(), items_add=frozenset({'BATTERY ALK 9V 4WIDE'}), confidence=0.0028832734664117512, lift=1.0)]),\n",
       " RelationRecord(items=frozenset({'BATTERY ALK AA 16WIDE'}), support=0.006383959942123191, ordered_statistics=[OrderedStatistic(items_base=frozenset(), items_add=frozenset({'BATTERY ALK AA 16WIDE'}), confidence=0.006383959942123191, lift=1.0)]),\n",
       " RelationRecord(items=frozenset({'BATTERY ALK AA 20PK DURA'}), support=0.0017933659047629112, ordered_statistics=[OrderedStatistic(items_base=frozenset(), items_add=frozenset({'BATTERY ALK AA 20PK DURA'}), confidence=0.0017933659047629112, lift=1.0)]),\n",
       " RelationRecord(items=frozenset({'BATTERY ALK AAA 16WIDE'}), support=0.003172355596682877, ordered_statistics=[OrderedStatistic(items_base=frozenset(), items_add=frozenset({'BATTERY ALK AAA 16WIDE'}), confidence=0.003172355596682877, lift=1.0)]),\n",
       " RelationRecord(items=frozenset({'BATTERY ALK AAA 20PK DUR'}), support=0.0007691245189197838, ordered_statistics=[OrderedStatistic(items_base=frozenset(), items_add=frozenset({'BATTERY ALK AAA 20PK DUR'}), confidence=0.0007691245189197838, lift=1.0)]),\n",
       " RelationRecord(items=frozenset({'BATTERY ALK C 8PK WIDE'}), support=0.0016008960791254775, ordered_statistics=[OrderedStatistic(items_base=frozenset(), items_add=frozenset({'BATTERY ALK C 8PK WIDE'}), confidence=0.0016008960791254775, lift=1.0)]),\n",
       " RelationRecord(items=frozenset({'BATTERY ALK D 8PK WIDE'}), support=0.002028858397307536, ordered_statistics=[OrderedStatistic(items_base=frozenset(), items_add=frozenset({'BATTERY ALK D 8PK WIDE'}), confidence=0.002028858397307536, lift=1.0)]),\n",
       " RelationRecord(items=frozenset({'BATTERY ALKALINE AA30PK'}), support=0.0014439010840957276, ordered_statistics=[OrderedStatistic(items_base=frozenset(), items_add=frozenset({'BATTERY ALKALINE AA30PK'}), confidence=0.0014439010840957276, lift=1.0)]),\n",
       " RelationRecord(items=frozenset({'BATTERY ALKALINE AAA30PK'}), support=0.0008717750925930818, ordered_statistics=[OrderedStatistic(items_base=frozenset(), items_add=frozenset({'BATTERY ALKALINE AAA30PK'}), confidence=0.0008717750925930818, lift=1.0)]),\n",
       " RelationRecord(items=frozenset({'BATTERY ALKLINE 12 VOLT'}), support=0.003912798337664534, ordered_statistics=[OrderedStatistic(items_base=frozenset(), items_add=frozenset({'BATTERY ALKLINE 12 VOLT'}), confidence=0.003912798337664534, lift=1.0)]),\n",
       " RelationRecord(items=frozenset({'BATTERY ALKLN 9V CD2 ACE'}), support=0.0007796914897390939, ordered_statistics=[OrderedStatistic(items_base=frozenset(), items_add=frozenset({'BATTERY ALKLN 9V CD2 ACE'}), confidence=0.0007796914897390939, lift=1.0)]),\n",
       " RelationRecord(items=frozenset({'BATTERY ALKLN D CD4 ACE'}), support=0.00047249455234915085, ordered_statistics=[OrderedStatistic(items_base=frozenset(), items_add=frozenset({'BATTERY ALKLN D CD4 ACE'}), confidence=0.00047249455234915085, lift=1.0)]),\n",
       " RelationRecord(items=frozenset({'BATTERY F/SOLAR AA 4PK'}), support=0.0007812010569989954, ordered_statistics=[OrderedStatistic(items_base=frozenset(), items_add=frozenset({'BATTERY F/SOLAR AA 4PK'}), confidence=0.0007812010569989954, lift=1.0)]),\n",
       " RelationRecord(items=frozenset({'BATTERY LITH COIN 1620'}), support=0.0008212045893863835, ordered_statistics=[OrderedStatistic(items_base=frozenset(), items_add=frozenset({'BATTERY LITH COIN 1620'}), confidence=0.0008212045893863835, lift=1.0)]),\n",
       " RelationRecord(items=frozenset({'BATTERY LITHIUM 2450'}), support=0.0009095142740906178, ordered_statistics=[OrderedStatistic(items_base=frozenset(), items_add=frozenset({'BATTERY LITHIUM 2450'}), confidence=0.0009095142740906178, lift=1.0)]),\n",
       " RelationRecord(items=frozenset({'BATTERY LITHIUM 3V 1616'}), support=0.0016627883367814366, ordered_statistics=[OrderedStatistic(items_base=frozenset(), items_add=frozenset({'BATTERY LITHIUM 3V 1616'}), confidence=0.0016627883367814366, lift=1.0)]),\n",
       " RelationRecord(items=frozenset({'BATTERY LITHIUM 3V 2016'}), support=0.00164542831329257, ordered_statistics=[OrderedStatistic(items_base=frozenset(), items_add=frozenset({'BATTERY LITHIUM 3V 2016'}), confidence=0.00164542831329257, lift=1.0)]),\n",
       " RelationRecord(items=frozenset({'BATTERY LITHIUM 3V 2430'}), support=0.0008838516306722933, ordered_statistics=[OrderedStatistic(items_base=frozenset(), items_add=frozenset({'BATTERY LITHIUM 3V 2430'}), confidence=0.0008838516306722933, lift=1.0)]),\n",
       " RelationRecord(items=frozenset({'BATTERY MEDCAL 1.5V 76 A'}), support=0.0015895743246762167, ordered_statistics=[OrderedStatistic(items_base=frozenset(), items_add=frozenset({'BATTERY MEDCAL 1.5V 76 A'}), confidence=0.0015895743246762167, lift=1.0)]),\n",
       " RelationRecord(items=frozenset({'BATTERY OPERATED CO ALRM'}), support=0.001407671469858093, ordered_statistics=[OrderedStatistic(items_base=frozenset(), items_add=frozenset({'BATTERY OPERATED CO ALRM'}), confidence=0.001407671469858093, lift=1.0)]),\n",
       " RelationRecord(items=frozenset({'BATTERY PHOTO 123 PK2'}), support=0.0026847653717347116, ordered_statistics=[OrderedStatistic(items_base=frozenset(), items_add=frozenset({'BATTERY PHOTO 123 PK2'}), confidence=0.0026847653717347116, lift=1.0)]),\n",
       " RelationRecord(items=frozenset({'BATTERY PHOTO 3V CR 2'}), support=0.0006815696178455003, ordered_statistics=[OrderedStatistic(items_base=frozenset(), items_add=frozenset({'BATTERY PHOTO 3V CR 2'}), confidence=0.0006815696178455003, lift=1.0)]),\n",
       " RelationRecord(items=frozenset({'BATTERY PX 76 A 4PK'}), support=0.000474758903239003, ordered_statistics=[OrderedStatistic(items_base=frozenset(), items_add=frozenset({'BATTERY PX 76 A 4PK'}), confidence=0.000474758903239003, lift=1.0)]),\n",
       " RelationRecord(items=frozenset({'BATTERY WATCH/CALC 2032'}), support=0.010781329370216086, ordered_statistics=[OrderedStatistic(items_base=frozenset(), items_add=frozenset({'BATTERY WATCH/CALC 2032'}), confidence=0.010781329370216086, lift=1.0)]),\n",
       " RelationRecord(items=frozenset({'BATTERY WATCH/CALC D303'}), support=0.001462015891214545, ordered_statistics=[OrderedStatistic(items_base=frozenset(), items_add=frozenset({'BATTERY WATCH/CALC D303'}), confidence=0.001462015891214545, lift=1.0)]),\n",
       " RelationRecord(items=frozenset({'BATTERY WATCH/CALC D377B'}), support=0.000663454810726683, ordered_statistics=[OrderedStatistic(items_base=frozenset(), items_add=frozenset({'BATTERY WATCH/CALC D377B'}), confidence=0.000663454810726683, lift=1.0)]),\n",
       " RelationRecord(items=frozenset({'BATTERY WATCH/CALC D389'}), support=0.0005758999096523995, ordered_statistics=[OrderedStatistic(items_base=frozenset(), items_add=frozenset({'BATTERY WATCH/CALC D389'}), confidence=0.0005758999096523995, lift=1.0)]),\n",
       " RelationRecord(items=frozenset({'BATTERY- ALKLINE AAA 4PK'}), support=0.0023662466798955077, ordered_statistics=[OrderedStatistic(items_base=frozenset(), items_add=frozenset({'BATTERY- ALKLINE AAA 4PK'}), confidence=0.0023662466798955077, lift=1.0)]),\n",
       " RelationRecord(items=frozenset({'BATTERY-6V HVY DTY  EVER'}), support=0.000935931701138893, ordered_statistics=[OrderedStatistic(items_base=frozenset(), items_add=frozenset({'BATTERY-6V HVY DTY  EVER'}), confidence=0.000935931701138893, lift=1.0)]),\n",
       " RelationRecord(items=frozenset({'BATTERY-6V HVY DTY 2 PAK'}), support=0.0005630685879432373, ordered_statistics=[OrderedStatistic(items_base=frozenset(), items_add=frozenset({'BATTERY-6V HVY DTY 2 PAK'}), confidence=0.0005630685879432373, lift=1.0)]),\n",
       " RelationRecord(items=frozenset({'BATTERY-6V SPRING   DURA'}), support=0.0007842201915187983, ordered_statistics=[OrderedStatistic(items_base=frozenset(), items_add=frozenset({'BATTERY-6V SPRING   DURA'}), confidence=0.0007842201915187983, lift=1.0)]),\n",
       " RelationRecord(items=frozenset({'BATTERY-ALKALINE AAA 8PK'}), support=0.0035346517390592224, ordered_statistics=[OrderedStatistic(items_base=frozenset(), items_add=frozenset({'BATTERY-ALKALINE AAA 8PK'}), confidence=0.0035346517390592224, lift=1.0)]),\n",
       " RelationRecord(items=frozenset({'BATTERY-ALKLINE 9V   ACE'}), support=0.001359365317541247, ordered_statistics=[OrderedStatistic(items_base=frozenset(), items_add=frozenset({'BATTERY-ALKLINE 9V   ACE'}), confidence=0.001359365317541247, lift=1.0)]),\n",
       " RelationRecord(items=frozenset({'BATTERY-ALKLINE 9V  DURA'}), support=0.0028711969283325397, ordered_statistics=[OrderedStatistic(items_base=frozenset(), items_add=frozenset({'BATTERY-ALKLINE 9V  DURA'}), confidence=0.0028711969283325397, lift=1.0)]),\n",
       " RelationRecord(items=frozenset({'BATTERY-LITHIUM 3V 2025'}), support=0.0036939110849788246, ordered_statistics=[OrderedStatistic(items_base=frozenset(), items_add=frozenset({'BATTERY-LITHIUM 3V 2025'}), confidence=0.0036939110849788246, lift=1.0)]),\n",
       " RelationRecord(items=frozenset({'BATTERY-PHOTO 3V 123'}), support=0.0019948931339597536, ordered_statistics=[OrderedStatistic(items_base=frozenset(), items_add=frozenset({'BATTERY-PHOTO 3V 123'}), confidence=0.0019948931339597536, lift=1.0)]),\n",
       " RelationRecord(items=frozenset({'BATTRY ALK DURA AAA CD10'}), support=0.0010853788598691357, ordered_statistics=[OrderedStatistic(items_base=frozenset(), items_add=frozenset({'BATTRY ALK DURA AAA CD10'}), confidence=0.0010853788598691357, lift=1.0)]),\n",
       " RelationRecord(items=frozenset({'BATTRY ALKL DURA AA CD10'}), support=0.0017797797994237982, ordered_statistics=[OrderedStatistic(items_base=frozenset(), items_add=frozenset({'BATTRY ALKL DURA AA CD10'}), confidence=0.0017797797994237982, lift=1.0)]),\n",
       " RelationRecord(items=frozenset({'BATTRY ALKLN 12V KEYLESS'}), support=0.000663454810726683, ordered_statistics=[OrderedStatistic(items_base=frozenset(), items_add=frozenset({'BATTRY ALKLN 12V KEYLESS'}), confidence=0.000663454810726683, lift=1.0)]),\n",
       " RelationRecord(items=frozenset({'BATTRY ALKLN 12VOLT 2PK'}), support=0.0026402331375676193, ordered_statistics=[OrderedStatistic(items_base=frozenset(), items_add=frozenset({'BATTRY ALKLN 12VOLT 2PK'}), confidence=0.0026402331375676193, lift=1.0)]),\n",
       " RelationRecord(items=frozenset({'BATTRY ALKLN 9V PK4 ACE'}), support=0.0004792876050187073, ordered_statistics=[OrderedStatistic(items_base=frozenset(), items_add=frozenset({'BATTRY ALKLN 9V PK4 ACE'}), confidence=0.0004792876050187073, lift=1.0)]),\n",
       " RelationRecord(items=frozenset({'BATTRY ALKLN AA CD16 ACE'}), support=0.0008453576655448066, ordered_statistics=[OrderedStatistic(items_base=frozenset(), items_add=frozenset({'BATTRY ALKLN AA CD16 ACE'}), confidence=0.0008453576655448066, lift=1.0)]),\n",
       " RelationRecord(items=frozenset({'BATTRY ALKLN AA CD4 ACE'}), support=0.0011253823922565238, ordered_statistics=[OrderedStatistic(items_base=frozenset(), items_add=frozenset({'BATTRY ALKLN AA CD4 ACE'}), confidence=0.0011253823922565238, lift=1.0)]),\n",
       " RelationRecord(items=frozenset({'BATTRY ALKLN AA CD8 ACE'}), support=0.0009004568705312092, ordered_statistics=[OrderedStatistic(items_base=frozenset(), items_add=frozenset({'BATTRY ALKLN AA CD8 ACE'}), confidence=0.0009004568705312092, lift=1.0)]),\n",
       " RelationRecord(items=frozenset({'BATTRY ALKLN AAA CD4 ACE'}), support=0.0009857474207156406, ordered_statistics=[OrderedStatistic(items_base=frozenset(), items_add=frozenset({'BATTRY ALKLN AAA CD4 ACE'}), confidence=0.0009857474207156406, lift=1.0)]),\n",
       " RelationRecord(items=frozenset({'BATTRY ALKLN AAA CD8 ACE'}), support=0.0007298757701623464, ordered_statistics=[OrderedStatistic(items_base=frozenset(), items_add=frozenset({'BATTRY ALKLN AAA CD8 ACE'}), confidence=0.0007298757701623464, lift=1.0)]),\n",
       " RelationRecord(items=frozenset({'BATTRY ALKLN C CD4 ACE'}), support=0.0004913641430979188, ordered_statistics=[OrderedStatistic(items_base=frozenset(), items_add=frozenset({'BATTRY ALKLN C CD4 ACE'}), confidence=0.0004913641430979188, lift=1.0)]),\n",
       " RelationRecord(items=frozenset({'BATTRY ALKLN D CD2 ACE'}), support=0.00045060582708057994, ordered_statistics=[OrderedStatistic(items_base=frozenset(), items_add=frozenset({'BATTRY ALKLN D CD2 ACE'}), confidence=0.00045060582708057994, lift=1.0)]),\n",
       " RelationRecord(items=frozenset({'BATTRY ALKLN D PK8 ACE'}), support=0.0005245746228157506, ordered_statistics=[OrderedStatistic(items_base=frozenset(), items_add=frozenset({'BATTRY ALKLN D PK8 ACE'}), confidence=0.0005245746228157506, lift=1.0)]),\n",
       " RelationRecord(items=frozenset({'BATTRY ALKLN DURA 9V CD2'}), support=0.0046992828800731835, ordered_statistics=[OrderedStatistic(items_base=frozenset(), items_add=frozenset({'BATTRY ALKLN DURA 9V CD2'}), confidence=0.0046992828800731835, lift=1.0)]),\n",
       " RelationRecord(items=frozenset({'BATTRY ALKLN DURA AA CD4'}), support=0.0037429720209256213, ordered_statistics=[OrderedStatistic(items_base=frozenset(), items_add=frozenset({'BATTRY ALKLN DURA AA CD4'}), confidence=0.0037429720209256213, lift=1.0)]),\n",
       " RelationRecord(items=frozenset({'BATTRY ALKLN DURA AA CD8'}), support=0.006106199566301326, ordered_statistics=[OrderedStatistic(items_base=frozenset(), items_add=frozenset({'BATTRY ALKLN DURA AA CD8'}), confidence=0.006106199566301326, lift=1.0)]),\n",
       " RelationRecord(items=frozenset({'BATTRY ALKLN DURA C CD2'}), support=0.0009593299936673654, ordered_statistics=[OrderedStatistic(items_base=frozenset(), items_add=frozenset({'BATTRY ALKLN DURA C CD2'}), confidence=0.0009593299936673654, lift=1.0)]),\n",
       " RelationRecord(items=frozenset({'BATTRY ALKLN DURA C CD4'}), support=0.0022243473574647724, ordered_statistics=[OrderedStatistic(items_base=frozenset(), items_add=frozenset({'BATTRY ALKLN DURA C CD4'}), confidence=0.0022243473574647724, lift=1.0)]),\n",
       " RelationRecord(items=frozenset({'BATTRY ALKLN DURA D CD2'}), support=0.0014091810371179947, ordered_statistics=[OrderedStatistic(items_base=frozenset(), items_add=frozenset({'BATTRY ALKLN DURA D CD2'}), confidence=0.0014091810371179947, lift=1.0)]),\n",
       " RelationRecord(items=frozenset({'BATTRY ALKLN DURA D CD4'}), support=0.0023020900713496967, ordered_statistics=[OrderedStatistic(items_base=frozenset(), items_add=frozenset({'BATTRY ALKLN DURA D CD4'}), confidence=0.0023020900713496967, lift=1.0)]),\n",
       " RelationRecord(items=frozenset({'BATTRY ALKLN RAYO D PK12'}), support=0.0006966652904445148, ordered_statistics=[OrderedStatistic(items_base=frozenset(), items_add=frozenset({'BATTRY ALKLN RAYO D PK12'}), confidence=0.0006966652904445148, lift=1.0)]),\n",
       " RelationRecord(items=frozenset({'BATTRY ALKN AAA CD16 ACE'}), support=0.0005992982021808718, ordered_statistics=[OrderedStatistic(items_base=frozenset(), items_add=frozenset({'BATTRY ALKN AAA CD16 ACE'}), confidence=0.0005992982021808718, lift=1.0)]),\n",
       " RelationRecord(items=frozenset({'BATTRY LITHUM 3V 2032PK2'}), support=0.00757802764470523, ordered_statistics=[OrderedStatistic(items_base=frozenset(), items_add=frozenset({'BATTRY LITHUM 3V 2032PK2'}), confidence=0.00757802764470523, lift=1.0)]),\n",
       " RelationRecord(items=frozenset({'BATTRY MEDICAL N CD2'}), support=0.0010219770349532752, ordered_statistics=[OrderedStatistic(items_base=frozenset(), items_add=frozenset({'BATTRY MEDICAL N CD2'}), confidence=0.0010219770349532752, lift=1.0)]),\n",
       " RelationRecord(items=frozenset({'BBQ GRILL CLEANER14.5OZ'}), support=0.0005026858975471796, ordered_statistics=[OrderedStatistic(items_base=frozenset(), items_add=frozenset({'BBQ GRILL CLEANER14.5OZ'}), confidence=0.0005026858975471796, lift=1.0)]),\n",
       " RelationRecord(items=frozenset({'BBQ GRILL CLEANING BRUSH'}), support=0.0006385469509383093, ordered_statistics=[OrderedStatistic(items_base=frozenset(), items_add=frozenset({'BBQ GRILL CLEANING BRUSH'}), confidence=0.0006385469509383093, lift=1.0)]),\n",
       " RelationRecord(items=frozenset({'BBQ GRILL&OVEN CLNR 20OZ'}), support=0.0009351769175089423, ordered_statistics=[OrderedStatistic(items_base=frozenset(), items_add=frozenset({'BBQ GRILL&OVEN CLNR 20OZ'}), confidence=0.0009351769175089423, lift=1.0)]),\n",
       " RelationRecord(items=frozenset({'BCKR ROD 3/8\"X20\\''}), support=0.000455889312490235, ordered_statistics=[OrderedStatistic(items_base=frozenset(), items_add=frozenset({'BCKR ROD 3/8\"X20\\''}), confidence=0.000455889312490235, lift=1.0)]),\n",
       " RelationRecord(items=frozenset({'BCKRD F/GAP&JNT 1/2\"X20\\''}), support=0.000550237266234075, ordered_statistics=[OrderedStatistic(items_base=frozenset(), items_add=frozenset({'BCKRD F/GAP&JNT 1/2\"X20\\''}), confidence=0.000550237266234075, lift=1.0)]),\n",
       " RelationRecord(items=frozenset({'BEACH COMBER BAMBOO TORCH'}), support=0.0006672287288764366, ordered_statistics=[OrderedStatistic(items_base=frozenset(), items_add=frozenset({'BEACH COMBER BAMBOO TORCH'}), confidence=0.0006672287288764366, lift=1.0)]),\n",
       " RelationRecord(items=frozenset({\"BEACH UMBRELLA 6'\"}), support=0.0006128843075199848, ordered_statistics=[OrderedStatistic(items_base=frozenset(), items_add=frozenset({\"BEACH UMBRELLA 6'\"}), confidence=0.0006128843075199848, lift=1.0)]),\n",
       " RelationRecord(items=frozenset({\"BEAD CORNER DRYWALL 8'\"}), support=0.0016665622549311902, ordered_statistics=[OrderedStatistic(items_base=frozenset(), items_add=frozenset({\"BEAD CORNER DRYWALL 8'\"}), confidence=0.0016665622549311902, lift=1.0)]),\n",
       " RelationRecord(items=frozenset({'BEEF JERKY ORIGINAL'}), support=0.0006008077694407732, ordered_statistics=[OrderedStatistic(items_base=frozenset(), items_add=frozenset({'BEEF JERKY ORIGINAL'}), confidence=0.0006008077694407732, lift=1.0)]),\n",
       " RelationRecord(items=frozenset({'BEEF STEAK ORIGINAL'}), support=0.0005683520733528923, ordered_statistics=[OrderedStatistic(items_base=frozenset(), items_add=frozenset({'BEEF STEAK ORIGINAL'}), confidence=0.0005683520733528923, lift=1.0)]),\n",
       " RelationRecord(items=frozenset({'BEEF STICK ORIGINAL'}), support=0.00127860346913652, ordered_statistics=[OrderedStatistic(items_base=frozenset(), items_add=frozenset({'BEEF STICK ORIGINAL'}), confidence=0.00127860346913652, lift=1.0)]),\n",
       " RelationRecord(items=frozenset({'BEEF STICK PEPPERONI'}), support=0.0006793052669556482, ordered_statistics=[OrderedStatistic(items_base=frozenset(), items_add=frozenset({'BEEF STICK PEPPERONI'}), confidence=0.0006793052669556482, lift=1.0)]),\n",
       " RelationRecord(items=frozenset({'BEEF STICK TERIYAKI'}), support=0.0009344221338789916, ordered_statistics=[OrderedStatistic(items_base=frozenset(), items_add=frozenset({'BEEF STICK TERIYAKI'}), confidence=0.0009344221338789916, lift=1.0)]),\n",
       " RelationRecord(items=frozenset({'BEN EXT SFT GLS WHITE GL'}), support=0.00047249455234915085, ordered_statistics=[OrderedStatistic(items_base=frozenset(), items_add=frozenset({'BEN EXT SFT GLS WHITE GL'}), confidence=0.00047249455234915085, lift=1.0)]),\n",
       " RelationRecord(items=frozenset({'BEN EXT SFT GLS WHITE QT'}), support=0.0007306305537922971, ordered_statistics=[OrderedStatistic(items_base=frozenset(), items_add=frozenset({'BEN EXT SFT GLS WHITE QT'}), confidence=0.0007306305537922971, lift=1.0)]),\n",
       " RelationRecord(items=frozenset({'BEN INT EGGSHL BASE1 GL'}), support=0.006664739452464859, ordered_statistics=[OrderedStatistic(items_base=frozenset(), items_add=frozenset({'BEN INT EGGSHL BASE1 GL'}), confidence=0.006664739452464859, lift=1.0)]),\n",
       " RelationRecord(items=frozenset({'BEN INT EGGSHL BASE1 QT'}), support=0.0013208713524137602, ordered_statistics=[OrderedStatistic(items_base=frozenset(), items_add=frozenset({'BEN INT EGGSHL BASE1 QT'}), confidence=0.0013208713524137602, lift=1.0)]),\n",
       " RelationRecord(items=frozenset({'BEN INT EGGSHL BASE2 GL'}), support=0.0012287877495597724, ordered_statistics=[OrderedStatistic(items_base=frozenset(), items_add=frozenset({'BEN INT EGGSHL BASE2 GL'}), confidence=0.0012287877495597724, lift=1.0)]),\n",
       " RelationRecord(items=frozenset({'BEN INT EGGSHL BASE3 GL'}), support=0.0005887312313615617, ordered_statistics=[OrderedStatistic(items_base=frozenset(), items_add=frozenset({'BEN INT EGGSHL BASE3 GL'}), confidence=0.0005887312313615617, lift=1.0)]),\n",
       " RelationRecord(items=frozenset({'BEN INT EGGSHL WHITE GL'}), support=0.0007638410335101288, ordered_statistics=[OrderedStatistic(items_base=frozenset(), items_add=frozenset({'BEN INT EGGSHL WHITE GL'}), confidence=0.0007638410335101288, lift=1.0)]),\n",
       " RelationRecord(items=frozenset({'BEN INT FLAT BASE1 GL'}), support=0.002327752714768021, ordered_statistics=[OrderedStatistic(items_base=frozenset(), items_add=frozenset({'BEN INT FLAT BASE1 GL'}), confidence=0.002327752714768021, lift=1.0)]),\n",
       " RelationRecord(items=frozenset({'BEN INT FLAT BASE1 QT'}), support=0.0008634724726636238, ordered_statistics=[OrderedStatistic(items_base=frozenset(), items_add=frozenset({'BEN INT FLAT BASE1 QT'}), confidence=0.0008634724726636238, lift=1.0)]),\n",
       " RelationRecord(items=frozenset({'BEN INT FLAT WHITE GL'}), support=0.000790258460558404, ordered_statistics=[OrderedStatistic(items_base=frozenset(), items_add=frozenset({'BEN INT FLAT WHITE GL'}), confidence=0.000790258460558404, lift=1.0)]),\n",
       " RelationRecord(items=frozenset({'BEN INT S-G BASE1 GL'}), support=0.001686186629309909, ordered_statistics=[OrderedStatistic(items_base=frozenset(), items_add=frozenset({'BEN INT S-G BASE1 GL'}), confidence=0.001686186629309909, lift=1.0)]),\n",
       " RelationRecord(items=frozenset({'BEN INT S-G BASE1 QT'}), support=0.0010068813623542608, ordered_statistics=[OrderedStatistic(items_base=frozenset(), items_add=frozenset({'BEN INT S-G BASE1 QT'}), confidence=0.0010068813623542608, lift=1.0)]),\n",
       " RelationRecord(items=frozenset({'BEN INT S-G WHITE GL'}), support=0.002734581091311459, ordered_statistics=[OrderedStatistic(items_base=frozenset(), items_add=frozenset({'BEN INT S-G WHITE GL'}), confidence=0.002734581091311459, lift=1.0)]),\n",
       " RelationRecord(items=frozenset({'BEN INT S-G WHITE QT'}), support=0.002136037672760538, ordered_statistics=[OrderedStatistic(items_base=frozenset(), items_add=frozenset({'BEN INT S-G WHITE QT'}), confidence=0.002136037672760538, lift=1.0)]),\n",
       " RelationRecord(items=frozenset({'BEND J PVC 1.5X1.5SJ BAG'}), support=0.000455889312490235, ordered_statistics=[OrderedStatistic(items_base=frozenset(), items_add=frozenset({'BEND J PVC 1.5X1.5SJ BAG'}), confidence=0.000455889312490235, lift=1.0)]),\n",
       " RelationRecord(items=frozenset({'BEND J SINK TRAP 1.5\"NKL'}), support=0.0004687206341993972, ordered_statistics=[OrderedStatistic(items_base=frozenset(), items_add=frozenset({'BEND J SINK TRAP 1.5\"NKL'}), confidence=0.0004687206341993972, lift=1.0)]),\n",
       " RelationRecord(items=frozenset({'BERRY BLAST SUET'}), support=0.00719988104609992, ordered_statistics=[OrderedStatistic(items_base=frozenset(), items_add=frozenset({'BERRY BLAST SUET'}), confidence=0.00719988104609992, lift=1.0)]),\n",
       " RelationRecord(items=frozenset({'BG N&O POTTING SOIL 8QT'}), support=0.000507214599326884, ordered_statistics=[OrderedStatistic(items_base=frozenset(), items_add=frozenset({'BG N&O POTTING SOIL 8QT'}), confidence=0.000507214599326884, lift=1.0)]),\n",
       " RelationRecord(items=frozenset({'BGE 100% Natural Oak & Hickory L'}), support=0.0013337026741229226, ordered_statistics=[OrderedStatistic(items_base=frozenset(), items_add=frozenset({'BGE 100% Natural Oak & Hickory L'}), confidence=0.0013337026741229226, lift=1.0)]),\n",
       " RelationRecord(items=frozenset({'BIBB HOSE 1/2\" BALL VALV'}), support=0.0006619452434667816, ordered_statistics=[OrderedStatistic(items_base=frozenset(), items_add=frozenset({'BIBB HOSE 1/2\" BALL VALV'}), confidence=0.0006619452434667816, lift=1.0)]),\n",
       " RelationRecord(items=frozenset({'BIG BULB FLASH NECKLACE'}), support=0.00045739887975013643, ordered_statistics=[OrderedStatistic(items_base=frozenset(), items_add=frozenset({'BIG BULB FLASH NECKLACE'}), confidence=0.00045739887975013643, lift=1.0)]),\n",
       " RelationRecord(items=frozenset({'BIG EASY SPONGE MOP'}), support=0.00045664409612018573, ordered_statistics=[OrderedStatistic(items_base=frozenset(), items_add=frozenset({'BIG EASY SPONGE MOP'}), confidence=0.00045664409612018573, lift=1.0)]),\n",
       " RelationRecord(items=frozenset({'BIG-STEP STEP STOOL'}), support=0.0006740217815459931, ordered_statistics=[OrderedStatistic(items_base=frozenset(), items_add=frozenset({'BIG-STEP STEP STOOL'}), confidence=0.0006740217815459931, lift=1.0)]),\n",
       " RelationRecord(items=frozenset({'BINDER TWINE SISAL2500FT'}), support=0.0006793052669556482, ordered_statistics=[OrderedStatistic(items_base=frozenset(), items_add=frozenset({'BINDER TWINE SISAL2500FT'}), confidence=0.0006793052669556482, lift=1.0)]),\n",
       " RelationRecord(items=frozenset({\"BIRCH BRCH 3-4' WH 2/BU\"}), support=0.0005374059445249127, ordered_statistics=[OrderedStatistic(items_base=frozenset(), items_add=frozenset({\"BIRCH BRCH 3-4' WH 2/BU\"}), confidence=0.0005374059445249127, lift=1.0)]),\n",
       " RelationRecord(items=frozenset({'BIRD BLEND SUET'}), support=0.008132038829089059, ordered_statistics=[OrderedStatistic(items_base=frozenset(), items_add=frozenset({'BIRD BLEND SUET'}), confidence=0.008132038829089059, lift=1.0)]),\n",
       " RelationRecord(items=frozenset({'BIRDBATH W STRWBY PLNTER'}), support=0.0005917503658813646, ordered_statistics=[OrderedStatistic(items_base=frozenset(), items_add=frozenset({'BIRDBATH W STRWBY PLNTER'}), confidence=0.0005917503658813646, lift=1.0)]),\n",
       " RelationRecord(items=frozenset({'BIRDFOOD DECK N PATIO 5#'}), support=0.000474758903239003, ordered_statistics=[OrderedStatistic(items_base=frozenset(), items_add=frozenset({'BIRDFOOD DECK N PATIO 5#'}), confidence=0.000474758903239003, lift=1.0)]),\n",
       " RelationRecord(items=frozenset({'BIRDSEED BIRDERSBLD 8#KT'}), support=0.0009147977595002729, ordered_statistics=[OrderedStatistic(items_base=frozenset(), items_add=frozenset({'BIRDSEED BIRDERSBLD 8#KT'}), confidence=0.0009147977595002729, lift=1.0)]),\n",
       " RelationRecord(items=frozenset({'BIRDSEED SONG PREM14#K-T'}), support=0.003161033842233616, ordered_statistics=[OrderedStatistic(items_base=frozenset(), items_add=frozenset({'BIRDSEED SONG PREM14#K-T'}), confidence=0.003161033842233616, lift=1.0)]),\n",
       " RelationRecord(items=frozenset({'BIRDSEED SONGBRD WB7# KT'}), support=0.004515115674365208, ordered_statistics=[OrderedStatistic(items_base=frozenset(), items_add=frozenset({'BIRDSEED SONGBRD WB7# KT'}), confidence=0.004515115674365208, lift=1.0)]),\n",
       " RelationRecord(items=frozenset({'BIRDSEED WILD 5#POLY K-T'}), support=0.0013254000541934646, ordered_statistics=[OrderedStatistic(items_base=frozenset(), items_add=frozenset({'BIRDSEED WILD 5#POLY K-T'}), confidence=0.0013254000541934646, lift=1.0)]),\n",
       " RelationRecord(items=frozenset({'BIRDSEED WILD10#POLY K-T'}), support=0.0005562755352736808, ordered_statistics=[OrderedStatistic(items_base=frozenset(), items_add=frozenset({'BIRDSEED WILD10#POLY K-T'}), confidence=0.0005562755352736808, lift=1.0)]),\n",
       " RelationRecord(items=frozenset({'BIRDSEED WILDBIRD 20#ACE'}), support=0.05494220999137282, ordered_statistics=[OrderedStatistic(items_base=frozenset(), items_add=frozenset({'BIRDSEED WILDBIRD 20#ACE'}), confidence=0.05494220999137282, lift=1.0)]),\n",
       " RelationRecord(items=frozenset({'BIRTHDAY - PREMIER $10OFF'}), support=0.002354170141816296, ordered_statistics=[OrderedStatistic(items_base=frozenset(), items_add=frozenset({'BIRTHDAY - PREMIER $10OFF'}), confidence=0.002354170141816296, lift=1.0)]),\n",
       " RelationRecord(items=frozenset({'BISSELL CLEANING FEE'}), support=0.0007132705303034305, ordered_statistics=[OrderedStatistic(items_base=frozenset(), items_add=frozenset({'BISSELL CLEANING FEE'}), confidence=0.0007132705303034305, lift=1.0)]),\n",
       " RelationRecord(items=frozenset({'BISSELL DAILY RENTAL'}), support=0.003005548414463768, ordered_statistics=[OrderedStatistic(items_base=frozenset(), items_add=frozenset({'BISSELL DAILY RENTAL'}), confidence=0.003005548414463768, lift=1.0)]),\n",
       " RelationRecord(items=frozenset({'BISSELL PORTABLE DEEP RENTAL'}), support=0.00045060582708057994, ordered_statistics=[OrderedStatistic(items_base=frozenset(), items_add=frozenset({'BISSELL PORTABLE DEEP RENTAL'}), confidence=0.00045060582708057994, lift=1.0)]),\n",
       " RelationRecord(items=frozenset({'BISSELL RENTAL DEPOSIT'}), support=0.004762684704989044, ordered_statistics=[OrderedStatistic(items_base=frozenset(), items_add=frozenset({'BISSELL RENTAL DEPOSIT'}), confidence=0.004762684704989044, lift=1.0)]),\n",
       " RelationRecord(items=frozenset({'BISSELL TOOL RENTAL'}), support=0.0009283838648393858, ordered_statistics=[OrderedStatistic(items_base=frozenset(), items_add=frozenset({'BISSELL TOOL RENTAL'}), confidence=0.0009283838648393858, lift=1.0)]),\n",
       " RelationRecord(items=frozenset({'BISSELL UPH CLNR 12OZ'}), support=0.0006785504833256975, ordered_statistics=[OrderedStatistic(items_base=frozenset(), items_add=frozenset({'BISSELL UPH CLNR 12OZ'}), confidence=0.0006785504833256975, lift=1.0)]),\n",
       " RelationRecord(items=frozenset({'BIT COUNTERSINK 3PC SET'}), support=0.0004521153943404814, ordered_statistics=[OrderedStatistic(items_base=frozenset(), items_add=frozenset({'BIT COUNTERSINK 3PC SET'}), confidence=0.0004521153943404814, lift=1.0)]),\n",
       " RelationRecord(items=frozenset({'BIT DRILL GLASS&TILE1/4\"'}), support=0.0009517821573678582, ordered_statistics=[OrderedStatistic(items_base=frozenset(), items_add=frozenset({'BIT DRILL GLASS&TILE1/4\"'}), confidence=0.0009517821573678582, lift=1.0)]),\n",
       " RelationRecord(items=frozenset({'BIT DRILL GLASS&TILE3/16'}), support=0.0005653329388330894, ordered_statistics=[OrderedStatistic(items_base=frozenset(), items_add=frozenset({'BIT DRILL GLASS&TILE3/16'}), confidence=0.0005653329388330894, lift=1.0)]),\n",
       " RelationRecord(items=frozenset({'BIT DRILL ROTARY 1/4X4\"'}), support=0.0011367041467057846, ordered_statistics=[OrderedStatistic(items_base=frozenset(), items_add=frozenset({'BIT DRILL ROTARY 1/4X4\"'}), confidence=0.0011367041467057846, lift=1.0)]),\n",
       " RelationRecord(items=frozenset({'BIT DRILL ROTARY 3/16X4\"'}), support=0.0009442343210683509, ordered_statistics=[OrderedStatistic(items_base=frozenset(), items_add=frozenset({'BIT DRILL ROTARY 3/16X4\"'}), confidence=0.0009442343210683509, lift=1.0)]),\n",
       " RelationRecord(items=frozenset({'BIT DRILL ROTARY 5/16X4\"'}), support=0.0005374059445249127, ordered_statistics=[OrderedStatistic(items_base=frozenset(), items_add=frozenset({'BIT DRILL ROTARY 5/16X4\"'}), confidence=0.0005374059445249127, lift=1.0)]),\n",
       " RelationRecord(items=frozenset({'BIT DRILL SPLTPT 1/8 CD2'}), support=0.0006159034420397877, ordered_statistics=[OrderedStatistic(items_base=frozenset(), items_add=frozenset({'BIT DRILL SPLTPT 1/8 CD2'}), confidence=0.0006159034420397877, lift=1.0)]),\n",
       " RelationRecord(items=frozenset({'BLACK BEAUTY ULTRA 3#'}), support=0.001167650275533764, ordered_statistics=[OrderedStatistic(items_base=frozenset(), items_add=frozenset({'BLACK BEAUTY ULTRA 3#'}), confidence=0.001167650275533764, lift=1.0)]),\n",
       " RelationRecord(items=frozenset({'BLACK FLAG ROACH MOTEL'}), support=0.0005223102719258984, ordered_statistics=[OrderedStatistic(items_base=frozenset(), items_add=frozenset({'BLACK FLAG ROACH MOTEL'}), confidence=0.0005223102719258984, lift=1.0)]),\n",
       " RelationRecord(items=frozenset({'BLACK OIL SUNFLOWER 5#'}), support=0.0004755136868689537, ordered_statistics=[OrderedStatistic(items_base=frozenset(), items_add=frozenset({'BLACK OIL SUNFLOWER 5#'}), confidence=0.0004755136868689537, lift=1.0)]),\n",
       " RelationRecord(items=frozenset({'BLACK SILICONE ADHSV 3OZ'}), support=0.0005109885174766376, ordered_statistics=[OrderedStatistic(items_base=frozenset(), items_add=frozenset({'BLACK SILICONE ADHSV 3OZ'}), confidence=0.0005109885174766376, lift=1.0)]),\n",
       " RelationRecord(items=frozenset({'BLACKTOP REPAIR BAG'}), support=0.0007177992320831349, ordered_statistics=[OrderedStatistic(items_base=frozenset(), items_add=frozenset({'BLACKTOP REPAIR BAG'}), confidence=0.0007177992320831349, lift=1.0)]),\n",
       " RelationRecord(items=frozenset({'BLADE CUTOFF 4\"X1/16\"MTL'}), support=0.0005298581082254055, ordered_statistics=[OrderedStatistic(items_base=frozenset(), items_add=frozenset({'BLADE CUTOFF 4\"X1/16\"MTL'}), confidence=0.0005298581082254055, lift=1.0)]),\n",
       " RelationRecord(items=frozenset({'BLADE CUTOFF 4.5X1/16MTL'}), support=0.001141232848485489, ordered_statistics=[OrderedStatistic(items_base=frozenset(), items_add=frozenset({'BLADE CUTOFF 4.5X1/16MTL'}), confidence=0.001141232848485489, lift=1.0)]),\n",
       " RelationRecord(items=frozenset({'BLADE DISP UTIL KNIFE 10'}), support=0.0008763037943727861, ordered_statistics=[OrderedStatistic(items_base=frozenset(), items_add=frozenset({'BLADE DISP UTIL KNIFE 10'}), confidence=0.0008763037943727861, lift=1.0)]),\n",
       " RelationRecord(items=frozenset({'BLADE HACK12\"18T BIMTCD2'}), support=0.0004521153943404814, ordered_statistics=[OrderedStatistic(items_base=frozenset(), items_add=frozenset({'BLADE HACK12\"18T BIMTCD2'}), confidence=0.0004521153943404814, lift=1.0)]),\n",
       " RelationRecord(items=frozenset({'BLADE RAZOR #9 1EDGE10PK'}), support=0.0032002825909910534, ordered_statistics=[OrderedStatistic(items_base=frozenset(), items_add=frozenset({'BLADE RAZOR #9 1EDGE10PK'}), confidence=0.0032002825909910534, lift=1.0)]),\n",
       " RelationRecord(items=frozenset({'BLADE RAZOR#9 1EDGE100'}), support=0.0006838339687353525, ordered_statistics=[OrderedStatistic(items_base=frozenset(), items_add=frozenset({'BLADE RAZOR#9 1EDGE100'}), confidence=0.0006838339687353525, lift=1.0)]),\n",
       " RelationRecord(items=frozenset({'BLADE RECIP 6\"/14T BIACE'}), support=0.0005962790676610689, ordered_statistics=[OrderedStatistic(items_base=frozenset(), items_add=frozenset({'BLADE RECIP 6\"/14T BIACE'}), confidence=0.0005962790676610689, lift=1.0)]),\n",
       " RelationRecord(items=frozenset({'BLADE RECIP 9\"/6T BI ACE'}), support=0.0005419346463046171, ordered_statistics=[OrderedStatistic(items_base=frozenset(), items_add=frozenset({'BLADE RECIP 9\"/6T BI ACE'}), confidence=0.0005419346463046171, lift=1.0)]),\n",
       " RelationRecord(items=frozenset({'BLADE RECIP METL/WD BG6'}), support=0.0005306128918553562, ordered_statistics=[OrderedStatistic(items_base=frozenset(), items_add=frozenset({'BLADE RECIP METL/WD BG6'}), confidence=0.0005306128918553562, lift=1.0)]),\n",
       " RelationRecord(items=frozenset({'BLADE UTIL HD100PK STNLY'}), support=0.0013525722648716906, ordered_statistics=[OrderedStatistic(items_base=frozenset(), items_add=frozenset({'BLADE UTIL HD100PK STNLY'}), confidence=0.0013525722648716906, lift=1.0)]),\n",
       " RelationRecord(items=frozenset({'BLADE UTILITY KNIFE 5 PK'}), support=0.0009510273737379074, ordered_statistics=[OrderedStatistic(items_base=frozenset(), items_add=frozenset({'BLADE UTILITY KNIFE 5 PK'}), confidence=0.0009510273737379074, lift=1.0)]),\n",
       " RelationRecord(items=frozenset({'BLADE UTILKNIF H D STNLY'}), support=0.001114060637807263, ordered_statistics=[OrderedStatistic(items_base=frozenset(), items_add=frozenset({'BLADE UTILKNIF H D STNLY'}), confidence=0.001114060637807263, lift=1.0)]),\n",
       " RelationRecord(items=frozenset({'BLADE UTILTY KNIF5PK ACE'}), support=0.0005751451260224488, ordered_statistics=[OrderedStatistic(items_base=frozenset(), items_add=frozenset({'BLADE UTILTY KNIF5PK ACE'}), confidence=0.0005751451260224488, lift=1.0)]),\n",
       " RelationRecord(items=frozenset({'BLADE UTLTY KNF HVYDTYC5'}), support=0.0017488336705958187, ordered_statistics=[OrderedStatistic(items_base=frozenset(), items_add=frozenset({'BLADE UTLTY KNF HVYDTYC5'}), confidence=0.0017488336705958187, lift=1.0)]),\n",
       " RelationRecord(items=frozenset({'BLADE UTLTY KNIFE CD5ACE'}), support=0.0007208183666029378, ordered_statistics=[OrderedStatistic(items_base=frozenset(), items_add=frozenset({'BLADE UTLTY KNIFE CD5ACE'}), confidence=0.0007208183666029378, lift=1.0)]),\n",
       " RelationRecord(items=frozenset({'BLADES RAZOR 5PK'}), support=0.0015533447104385822, ordered_statistics=[OrderedStatistic(items_base=frozenset(), items_add=frozenset({'BLADES RAZOR 5PK'}), confidence=0.0015533447104385822, lift=1.0)]),\n",
       " RelationRecord(items=frozenset({'BLANK COVER 1GANG GRAY'}), support=0.0006725122142860917, ordered_statistics=[OrderedStatistic(items_base=frozenset(), items_add=frozenset({'BLANK COVER 1GANG GRAY'}), confidence=0.0006725122142860917, lift=1.0)]),\n",
       " RelationRecord(items=frozenset({'BLANK WALLPLATE 1G WHITE'}), support=0.0026311757340082105, ordered_statistics=[OrderedStatistic(items_base=frozenset(), items_add=frozenset({'BLANK WALLPLATE 1G WHITE'}), confidence=0.0026311757340082105, lift=1.0)]),\n",
       " RelationRecord(items=frozenset({'BLASTER LUBRICANT 11OZ'}), support=0.0011993511879916945, ordered_statistics=[OrderedStatistic(items_base=frozenset(), items_add=frozenset({'BLASTER LUBRICANT 11OZ'}), confidence=0.0011993511879916945, lift=1.0)]),\n",
       " RelationRecord(items=frozenset({'BLEACH GAL ORIG J AUSTIN'}), support=0.0016658074713012394, ordered_statistics=[OrderedStatistic(items_base=frozenset(), items_add=frozenset({'BLEACH GAL ORIG J AUSTIN'}), confidence=0.0016658074713012394, lift=1.0)]),\n",
       " RelationRecord(items=frozenset({'BLEACH LIQ REG CONC 64OZ'}), support=0.0056004945342343435, ordered_statistics=[OrderedStatistic(items_base=frozenset(), items_add=frozenset({'BLEACH LIQ REG CONC 64OZ'}), confidence=0.0056004945342343435, lift=1.0)]),\n",
       " RelationRecord(items=frozenset({'BLEACH LIQUID CONC 121OZ'}), support=0.0008370550456153487, ordered_statistics=[OrderedStatistic(items_base=frozenset(), items_add=frozenset({'BLEACH LIQUID CONC 121OZ'}), confidence=0.0008370550456153487, lift=1.0)]),\n",
       " RelationRecord(items=frozenset({'BLEACH OUTDOOR 120OZ'}), support=0.0031904704038016943, ordered_statistics=[OrderedStatistic(items_base=frozenset(), items_add=frozenset({'BLEACH OUTDOOR 120OZ'}), confidence=0.0031904704038016943, lift=1.0)]),\n",
       " RelationRecord(items=frozenset({'BLOOM 24\"W POLY RAKE'}), support=0.0007623314662502273, ordered_statistics=[OrderedStatistic(items_base=frozenset(), items_add=frozenset({'BLOOM 24\"W POLY RAKE'}), confidence=0.0007623314662502273, lift=1.0)]),\n",
       " RelationRecord(items=frozenset({'BLOOM 2PC COMBO'}), support=0.00046192758152984077, ordered_statistics=[OrderedStatistic(items_base=frozenset(), items_add=frozenset({'BLOOM 2PC COMBO'}), confidence=0.00046192758152984077, lift=1.0)]),\n",
       " RelationRecord(items=frozenset({'BLOOM LEAF SCOOP'}), support=0.0005698616406127938, ordered_statistics=[OrderedStatistic(items_base=frozenset(), items_add=frozenset({'BLOOM LEAF SCOOP'}), confidence=0.0005698616406127938, lift=1.0)]),\n",
       " RelationRecord(items=frozenset({'BLOWOFF DUSTER 8OZ 1PK'}), support=0.0020892410877035934, ordered_statistics=[OrderedStatistic(items_base=frozenset(), items_add=frozenset({'BLOWOFF DUSTER 8OZ 1PK'}), confidence=0.0020892410877035934, lift=1.0)]),\n",
       " RelationRecord(items=frozenset({'BOLT CUTTER 14\" ACE'}), support=0.00048004238864865804, ordered_statistics=[OrderedStatistic(items_base=frozenset(), items_add=frozenset({'BOLT CUTTER 14\" ACE'}), confidence=0.00048004238864865804, lift=1.0)]),\n",
       " RelationRecord(items=frozenset({'BOLT EYE LAG 7/16\"X5-1/4'}), support=0.00046192758152984077, ordered_statistics=[OrderedStatistic(items_base=frozenset(), items_add=frozenset({'BOLT EYE LAG 7/16\"X5-1/4'}), confidence=0.00046192758152984077, lift=1.0)]),\n",
       " RelationRecord(items=frozenset({'BOLT SET CLOSET5/16X2.25'}), support=0.0007374236064618536, ordered_statistics=[OrderedStatistic(items_base=frozenset(), items_add=frozenset({'BOLT SET CLOSET5/16X2.25'}), confidence=0.0007374236064618536, lift=1.0)]),\n",
       " RelationRecord(items=frozenset({'BOLT SET TOILET 1/4X2.25'}), support=0.00047249455234915085, ordered_statistics=[OrderedStatistic(items_base=frozenset(), items_add=frozenset({'BOLT SET TOILET 1/4X2.25'}), confidence=0.00047249455234915085, lift=1.0)]),\n",
       " RelationRecord(items=frozenset({'BOLT SET TOILET 2.25\"BRS'}), support=0.0005291033245954549, ordered_statistics=[OrderedStatistic(items_base=frozenset(), items_add=frozenset({'BOLT SET TOILET 2.25\"BRS'}), confidence=0.0005291033245954549, lift=1.0)]),\n",
       " RelationRecord(items=frozenset({'BOLT SET TOILET1/4X3.5NK'}), support=0.0004951380612476724, ordered_statistics=[OrderedStatistic(items_base=frozenset(), items_add=frozenset({'BOLT SET TOILET1/4X3.5NK'}), confidence=0.0004951380612476724, lift=1.0)]),\n",
       " RelationRecord(items=frozenset({'BOLT SET TOILET5/16X2.25'}), support=0.00045739887975013643, ordered_statistics=[OrderedStatistic(items_base=frozenset(), items_add=frozenset({'BOLT SET TOILET5/16X2.25'}), confidence=0.00045739887975013643, lift=1.0)]),\n",
       " RelationRecord(items=frozenset({'BOLT SET TOILET5/16X3\"BR'}), support=0.0006196773601895413, ordered_statistics=[OrderedStatistic(items_base=frozenset(), items_add=frozenset({'BOLT SET TOILET5/16X3\"BR'}), confidence=0.0006196773601895413, lift=1.0)]),\n",
       " RelationRecord(items=frozenset({'BOLT TOILET SEAT HINGE2'}), support=0.0012023703225114972, ordered_statistics=[OrderedStatistic(items_base=frozenset(), items_add=frozenset({'BOLT TOILET SEAT HINGE2'}), confidence=0.0012023703225114972, lift=1.0)]),\n",
       " RelationRecord(items=frozenset({'BONIDE GRASS SEED $3 INST REBA'}), support=0.000984237853455739, ordered_statistics=[OrderedStatistic(items_base=frozenset(), items_add=frozenset({'BONIDE GRASS SEED $3 INST REBA'}), confidence=0.000984237853455739, lift=1.0)]),\n",
       " RelationRecord(items=frozenset({'BOSTON BAKED BEANS .75OZ'}), support=0.0007600671153603752, ordered_statistics=[OrderedStatistic(items_base=frozenset(), items_add=frozenset({'BOSTON BAKED BEANS .75OZ'}), confidence=0.0007600671153603752, lift=1.0)]),\n",
       " RelationRecord(items=frozenset({'BOTTLED WATER - SINGLE'}), support=0.0008287524256858907, ordered_statistics=[OrderedStatistic(items_base=frozenset(), items_add=frozenset({'BOTTLED WATER - SINGLE'}), confidence=0.0008287524256858907, lift=1.0)]),\n",
       " RelationRecord(items=frozenset({'BOTTLED WATER 5 GAL/W BOTTLE EXC'}), support=0.0004717397687192001, ordered_statistics=[OrderedStatistic(items_base=frozenset(), items_add=frozenset({'BOTTLED WATER 5 GAL/W BOTTLE EXC'}), confidence=0.0004717397687192001, lift=1.0)]),\n",
       " RelationRecord(items=frozenset({'BOUNCE OUTDOOR FRESH'}), support=0.0006249608455991963, ordered_statistics=[OrderedStatistic(items_base=frozenset(), items_add=frozenset({'BOUNCE OUTDOOR FRESH'}), confidence=0.0006249608455991963, lift=1.0)]),\n",
       " RelationRecord(items=frozenset({'BOUNCE PUTTY'}), support=0.0008257332911660879, ordered_statistics=[OrderedStatistic(items_base=frozenset(), items_add=frozenset({'BOUNCE PUTTY'}), confidence=0.0008257332911660879, lift=1.0)]),\n",
       " RelationRecord(items=frozenset({'BOUNTY 2RL SELECT A SIZE'}), support=0.0015193794470907997, ordered_statistics=[OrderedStatistic(items_base=frozenset(), items_add=frozenset({'BOUNTY 2RL SELECT A SIZE'}), confidence=0.0015193794470907997, lift=1.0)]),\n",
       " RelationRecord(items=frozenset({'BOUNTY PAPER TOWEL 8RL'}), support=0.0019141312855550264, ordered_statistics=[OrderedStatistic(items_base=frozenset(), items_add=frozenset({'BOUNTY PAPER TOWEL 8RL'}), confidence=0.0019141312855550264, lift=1.0)]),\n",
       " RelationRecord(items=frozenset({'BOUNTY PAPER TOWEL SINGL'}), support=0.0005011763302872782, ordered_statistics=[OrderedStatistic(items_base=frozenset(), items_add=frozenset({'BOUNTY PAPER TOWEL SINGL'}), confidence=0.0005011763302872782, lift=1.0)]),\n",
       " RelationRecord(items=frozenset({'BOW 10X21 VELVET RED'}), support=0.00047626847049890445, ordered_statistics=[OrderedStatistic(items_base=frozenset(), items_add=frozenset({'BOW 10X21 VELVET RED'}), confidence=0.00047626847049890445, lift=1.0)]),\n",
       " RelationRecord(items=frozenset({'BOW RAKE 60\"'}), support=0.0007193087993430363, ordered_statistics=[OrderedStatistic(items_base=frozenset(), items_add=frozenset({'BOW RAKE 60\"'}), confidence=0.0007193087993430363, lift=1.0)]),\n",
       " RelationRecord(items=frozenset({'BOW RED VELVET 7 LOOP'}), support=0.0005509920498640257, ordered_statistics=[OrderedStatistic(items_base=frozenset(), items_add=frozenset({'BOW RED VELVET 7 LOOP'}), confidence=0.0005509920498640257, lift=1.0)]),\n",
       " RelationRecord(items=frozenset({'BOW RED VELVET PROMO 11X14'}), support=0.0004521153943404814, ordered_statistics=[OrderedStatistic(items_base=frozenset(), items_add=frozenset({'BOW RED VELVET PROMO 11X14'}), confidence=0.0004521153943404814, lift=1.0)]),\n",
       " RelationRecord(items=frozenset({'BOW RED VELVET W/GOLD 20X37\"'}), support=0.0004679658505694465, ordered_statistics=[OrderedStatistic(items_base=frozenset(), items_add=frozenset({'BOW RED VELVET W/GOLD 20X37\"'}), confidence=0.0004679658505694465, lift=1.0)]),\n",
       " RelationRecord(items=frozenset({'BOX 1GANGW/BRACKET PVC18'}), support=0.0005706164242427445, ordered_statistics=[OrderedStatistic(items_base=frozenset(), items_add=frozenset({'BOX 1GANGW/BRACKET PVC18'}), confidence=0.0005706164242427445, lift=1.0)]),\n",
       " RelationRecord(items=frozenset({'BOX CEILING PAN 1.5\"D 4\"'}), support=0.0006860983196252047, ordered_statistics=[OrderedStatistic(items_base=frozenset(), items_add=frozenset({'BOX CEILING PAN 1.5\"D 4\"'}), confidence=0.0006860983196252047, lift=1.0)]),\n",
       " RelationRecord(items=frozenset({'BOX CEILING PVC NW19.5CU'}), support=0.0006981748577044161, ordered_statistics=[OrderedStatistic(items_base=frozenset(), items_add=frozenset({'BOX CEILING PVC NW19.5CU'}), confidence=0.0006981748577044161, lift=1.0)]),\n",
       " RelationRecord(items=frozenset({'BOX CEILING PVC OW 18CU\"'}), support=0.0005608042370533851, ordered_statistics=[OrderedStatistic(items_base=frozenset(), items_add=frozenset({'BOX CEILING PVC OW 18CU\"'}), confidence=0.0005608042370533851, lift=1.0)]),\n",
       " RelationRecord(items=frozenset({'BOX DBL GNG PVC NW 32CU\"'}), support=0.0007547836299507201, ordered_statistics=[OrderedStatistic(items_base=frozenset(), items_add=frozenset({'BOX DBL GNG PVC NW 32CU\"'}), confidence=0.0007547836299507201, lift=1.0)]),\n",
       " RelationRecord(items=frozenset({'BOX DBL GNG PVC OW 25CU\"'}), support=0.0009555560755176118, ordered_statistics=[OrderedStatistic(items_base=frozenset(), items_add=frozenset({'BOX DBL GNG PVC OW 25CU\"'}), confidence=0.0009555560755176118, lift=1.0)]),\n",
       " RelationRecord(items=frozenset({'BOX FAN 20\" 3SPD BASIC'}), support=0.0028711969283325397, ordered_statistics=[OrderedStatistic(items_base=frozenset(), items_add=frozenset({'BOX FAN 20\" 3SPD BASIC'}), confidence=0.0028711969283325397, lift=1.0)]),\n",
       " RelationRecord(items=frozenset({'BOX HANDY  1-7/8\"D 1/2KO'}), support=0.0008883803324519976, ordered_statistics=[OrderedStatistic(items_base=frozenset(), items_add=frozenset({'BOX HANDY  1-7/8\"D 1/2KO'}), confidence=0.0008883803324519976, lift=1.0)]),\n",
       " RelationRecord(items=frozenset({'BOX OCTG 4\" 1/2\"KO'}), support=0.0006121295238900341, ordered_statistics=[OrderedStatistic(items_base=frozenset(), items_add=frozenset({'BOX OCTG 4\" 1/2\"KO'}), confidence=0.0006121295238900341, lift=1.0)]),\n",
       " RelationRecord(items=frozenset({'BOX OCTG 4\" 1/2-3/4\"KO'}), support=0.0005026858975471796, ordered_statistics=[OrderedStatistic(items_base=frozenset(), items_add=frozenset({'BOX OCTG 4\" 1/2-3/4\"KO'}), confidence=0.0005026858975471796, lift=1.0)]),\n",
       " RelationRecord(items=frozenset({'BOX SGL GNG PVC NW 18CU\"'}), support=0.001394840148148931, ordered_statistics=[OrderedStatistic(items_base=frozenset(), items_add=frozenset({'BOX SGL GNG PVC NW 18CU\"'}), confidence=0.001394840148148931, lift=1.0)]),\n",
       " RelationRecord(items=frozenset({'BOX SGL GNG PVC NW 20CU\"'}), support=0.0010015978769446056, ordered_statistics=[OrderedStatistic(items_base=frozenset(), items_add=frozenset({'BOX SGL GNG PVC NW 20CU\"'}), confidence=0.0010015978769446056, lift=1.0)]),\n",
       " RelationRecord(items=frozenset({'BOX SGL GNG PVC OW 14CU\"'}), support=0.0038395843255593135, ordered_statistics=[OrderedStatistic(items_base=frozenset(), items_add=frozenset({'BOX SGL GNG PVC OW 14CU\"'}), confidence=0.0038395843255593135, lift=1.0)]),\n",
       " RelationRecord(items=frozenset({'BOX SNGL GNG OLD WRK18CU'}), support=0.0007396879573517058, ordered_statistics=[OrderedStatistic(items_base=frozenset(), items_add=frozenset({'BOX SNGL GNG OLD WRK18CU'}), confidence=0.0007396879573517058, lift=1.0)]),\n",
       " RelationRecord(items=frozenset({'BOX SQ  1 1/2\"D 1/2\"KO'}), support=0.0006898722377749583, ordered_statistics=[OrderedStatistic(items_base=frozenset(), items_add=frozenset({'BOX SQ  1 1/2\"D 1/2\"KO'}), confidence=0.0006898722377749583, lift=1.0)]),\n",
       " RelationRecord(items=frozenset({'BOX SQ  2-1/8\" 1/2-3/4KO'}), support=0.0006211869274494427, ordered_statistics=[OrderedStatistic(items_base=frozenset(), items_add=frozenset({'BOX SQ  2-1/8\" 1/2-3/4KO'}), confidence=0.0006211869274494427, lift=1.0)]),\n",
       " RelationRecord(items=frozenset({'BOX SQ 1 1/2\"D 1/2-3/4\"K'}), support=0.0010348083566624373, ordered_statistics=[OrderedStatistic(items_base=frozenset(), items_add=frozenset({'BOX SQ 1 1/2\"D 1/2-3/4\"K'}), confidence=0.0010348083566624373, lift=1.0)]),\n",
       " RelationRecord(items=frozenset({'BOX SWT/OUTLET 22.5CU/IN'}), support=0.0005615590206833358, ordered_statistics=[OrderedStatistic(items_base=frozenset(), items_add=frozenset({'BOX SWT/OUTLET 22.5CU/IN'}), confidence=0.0005615590206833358, lift=1.0)]),\n",
       " RelationRecord(items=frozenset({'BRACKET FLAG POLE'}), support=0.00091177862498047, ordered_statistics=[OrderedStatistic(items_base=frozenset(), items_add=frozenset({'BRACKET FLAG POLE'}), confidence=0.00091177862498047, lift=1.0)]),\n",
       " RelationRecord(items=frozenset({'BRAD NAILS 1-1/4\" 18G'}), support=0.00048079717227860874, ordered_statistics=[OrderedStatistic(items_base=frozenset(), items_add=frozenset({'BRAD NAILS 1-1/4\" 18G'}), confidence=0.00048079717227860874, lift=1.0)]),\n",
       " RelationRecord(items=frozenset({'BRAD NAILS 2\" 18G'}), support=0.000582692962321956, ordered_statistics=[OrderedStatistic(items_base=frozenset(), items_add=frozenset({'BRAD NAILS 2\" 18G'}), confidence=0.000582692962321956, lift=1.0)]),\n",
       " RelationRecord(items=frozenset({'BRAKE FLUID PRESTONE12OZ'}), support=0.0006702478633962395, ordered_statistics=[OrderedStatistic(items_base=frozenset(), items_add=frozenset({'BRAKE FLUID PRESTONE12OZ'}), confidence=0.0006702478633962395, lift=1.0)]),\n",
       " RelationRecord(items=frozenset({'BRASS SHUTOFF HOSE 3/4\"'}), support=0.0011321754449260802, ordered_statistics=[OrderedStatistic(items_base=frozenset(), items_add=frozenset({'BRASS SHUTOFF HOSE 3/4\"'}), confidence=0.0011321754449260802, lift=1.0)]),\n",
       " RelationRecord(items=frozenset({'BRILLO STEEL WL PAD 10CT'}), support=0.0008997020869012585, ordered_statistics=[OrderedStatistic(items_base=frozenset(), items_add=frozenset({'BRILLO STEEL WL PAD 10CT'}), confidence=0.0008997020869012585, lift=1.0)]),\n",
       " RelationRecord(items=frozenset({'BRKR EATON 1P 20A 1\"'}), support=0.0005547659680137793, ordered_statistics=[OrderedStatistic(items_base=frozenset(), items_add=frozenset({'BRKR EATON 1P 20A 1\"'}), confidence=0.0005547659680137793, lift=1.0)]),\n",
       " RelationRecord(items=frozenset({'BRKR SIEMENS 1P 20A 1\"'}), support=0.0004649467160496436, ordered_statistics=[OrderedStatistic(items_base=frozenset(), items_add=frozenset({'BRKR SIEMENS 1P 20A 1\"'}), confidence=0.0004649467160496436, lift=1.0)]),\n",
       " RelationRecord(items=frozenset({'BROOM & DUST PAN HPRO ALLPURP'}), support=0.0005404250790447156, ordered_statistics=[OrderedStatistic(items_base=frozenset(), items_add=frozenset({'BROOM & DUST PAN HPRO ALLPURP'}), confidence=0.0005404250790447156, lift=1.0)]),\n",
       " RelationRecord(items=frozenset({'BROOM ANGLE LARGE'}), support=0.0009615943445572175, ordered_statistics=[OrderedStatistic(items_base=frozenset(), items_add=frozenset({'BROOM ANGLE LARGE'}), confidence=0.0009615943445572175, lift=1.0)]),\n",
       " RelationRecord(items=frozenset({'BROOM ANGLE SML BASC'}), support=0.0018303503026304965, ordered_statistics=[OrderedStatistic(items_base=frozenset(), items_add=frozenset({'BROOM ANGLE SML BASC'}), confidence=0.0018303503026304965, lift=1.0)]),\n",
       " RelationRecord(items=frozenset({'BROOM CORN HOMEPLUS 54\"'}), support=0.0009615943445572175, ordered_statistics=[OrderedStatistic(items_base=frozenset(), items_add=frozenset({'BROOM CORN HOMEPLUS 54\"'}), confidence=0.0009615943445572175, lift=1.0)]),\n",
       " RelationRecord(items=frozenset({'BROOM CORN JANITOR ACE'}), support=0.0006181677929296398, ordered_statistics=[OrderedStatistic(items_base=frozenset(), items_add=frozenset({'BROOM CORN JANITOR ACE'}), confidence=0.0006181677929296398, lift=1.0)]),\n",
       " RelationRecord(items=frozenset({'BROOM CORN WAREHOUSE ACE'}), support=0.0013782349082900151, ordered_statistics=[OrderedStatistic(items_base=frozenset(), items_add=frozenset({'BROOM CORN WAREHOUSE ACE'}), confidence=0.0013782349082900151, lift=1.0)]),\n",
       " RelationRecord(items=frozenset({'BROOM OUTDOOR ANGLER 12\"'}), support=0.0012529408257181956, ordered_statistics=[OrderedStatistic(items_base=frozenset(), items_add=frozenset({'BROOM OUTDOOR ANGLER 12\"'}), confidence=0.0012529408257181956, lift=1.0)]),\n",
       " RelationRecord(items=frozenset({'BRSH BOWL&CADDY HOMEPRO'}), support=0.0006528878399073729, ordered_statistics=[OrderedStatistic(items_base=frozenset(), items_add=frozenset({'BRSH BOWL&CADDY HOMEPRO'}), confidence=0.0006528878399073729, lift=1.0)]),\n",
       " RelationRecord(items=frozenset({'BRUSH & CADDY BOWL'}), support=0.0007102513957836277, ordered_statistics=[OrderedStatistic(items_base=frozenset(), items_add=frozenset({'BRUSH & CADDY BOWL'}), confidence=0.0007102513957836277, lift=1.0)]),\n",
       " RelationRecord(items=frozenset({'BRUSH & ROLLER CUP'}), support=0.0014257862769769104, ordered_statistics=[OrderedStatistic(items_base=frozenset(), items_add=frozenset({'BRUSH & ROLLER CUP'}), confidence=0.0014257862769769104, lift=1.0)]),\n",
       " RelationRecord(items=frozenset({'BRUSH 2\" ANGLE SASH'}), support=0.0005811833950620546, ordered_statistics=[OrderedStatistic(items_base=frozenset(), items_add=frozenset({'BRUSH 2\" ANGLE SASH'}), confidence=0.0005811833950620546, lift=1.0)]),\n",
       " RelationRecord(items=frozenset({'BRUSH 2-1/2\" ANGLE SASH'}), support=0.00045739887975013643, ordered_statistics=[OrderedStatistic(items_base=frozenset(), items_add=frozenset({'BRUSH 2-1/2\" ANGLE SASH'}), confidence=0.00045739887975013643, lift=1.0)]),\n",
       " RelationRecord(items=frozenset({'BRUSH 8\" TAMPICO ACID'}), support=0.0013654035865808527, ordered_statistics=[OrderedStatistic(items_base=frozenset(), items_add=frozenset({'BRUSH 8\" TAMPICO ACID'}), confidence=0.0013654035865808527, lift=1.0)]),\n",
       " RelationRecord(items=frozenset({'BRUSH ACID 5/16\"'}), support=0.0006045816875905268, ordered_statistics=[OrderedStatistic(items_base=frozenset(), items_add=frozenset({'BRUSH ACID 5/16\"'}), confidence=0.0006045816875905268, lift=1.0)]),\n",
       " RelationRecord(items=frozenset({'BRUSH ART 5PC UTILITY'}), support=0.0008453576655448066, ordered_statistics=[OrderedStatistic(items_base=frozenset(), items_add=frozenset({'BRUSH ART 5PC UTILITY'}), confidence=0.0008453576655448066, lift=1.0)]),\n",
       " RelationRecord(items=frozenset({'BRUSH BOTTLE'}), support=0.00046570149967959436, ordered_statistics=[OrderedStatistic(items_base=frozenset(), items_add=frozenset({'BRUSH BOTTLE'}), confidence=0.00046570149967959436, lift=1.0)]),\n",
       " RelationRecord(items=frozenset({'BRUSH CARWASH 9\"'}), support=0.0005547659680137793, ordered_statistics=[OrderedStatistic(items_base=frozenset(), items_add=frozenset({'BRUSH CARWASH 9\"'}), confidence=0.0005547659680137793, lift=1.0)]),\n",
       " RelationRecord(items=frozenset({'BRUSH CLEANER QT'}), support=0.0006279799801189992, ordered_statistics=[OrderedStatistic(items_base=frozenset(), items_add=frozenset({'BRUSH CLEANER QT'}), confidence=0.0006279799801189992, lift=1.0)]),\n",
       " RelationRecord(items=frozenset({'BRUSH DECK 10\" PALMYRA'}), support=0.0005758999096523995, ordered_statistics=[OrderedStatistic(items_base=frozenset(), items_add=frozenset({'BRUSH DECK 10\" PALMYRA'}), confidence=0.0005758999096523995, lift=1.0)]),\n",
       " RelationRecord(items=frozenset({'BRUSH DECK SCRUB EWW'}), support=0.0007872393260386012, ordered_statistics=[OrderedStatistic(items_base=frozenset(), items_add=frozenset({'BRUSH DECK SCRUB EWW'}), confidence=0.0007872393260386012, lift=1.0)]),\n",
       " RelationRecord(items=frozenset({'BRUSH DECK W/HANDLE 54\"'}), support=0.002616080061409196, ordered_statistics=[OrderedStatistic(items_base=frozenset(), items_add=frozenset({'BRUSH DECK W/HANDLE 54\"'}), confidence=0.002616080061409196, lift=1.0)]),\n",
       " RelationRecord(items=frozenset({'BRUSH HND&NL 1-3/4X4-3/4'}), support=0.0004815519559085595, ordered_statistics=[OrderedStatistic(items_base=frozenset(), items_add=frozenset({'BRUSH HND&NL 1-3/4X4-3/4'}), confidence=0.0004815519559085595, lift=1.0)]),\n",
       " RelationRecord(items=frozenset({'BRUSH SCRUB HOMEPRO'}), support=0.00047023020145929865, ordered_statistics=[OrderedStatistic(items_base=frozenset(), items_add=frozenset({'BRUSH SCRUB HOMEPRO'}), confidence=0.00047023020145929865, lift=1.0)]),\n",
       " RelationRecord(items=frozenset({'BRUSH SCRUB IRON HANDLE'}), support=0.0013472887794620356, ordered_statistics=[OrderedStatistic(items_base=frozenset(), items_add=frozenset({'BRUSH SCRUB IRON HANDLE'}), confidence=0.0013472887794620356, lift=1.0)]),\n",
       " RelationRecord(items=frozenset({'BRUSH SCRUBER HOUSEHOLD'}), support=0.0005872216641016603, ordered_statistics=[OrderedStatistic(items_base=frozenset(), items_add=frozenset({'BRUSH SCRUBER HOUSEHOLD'}), confidence=0.0005872216641016603, lift=1.0)]),\n",
       " RelationRecord(items=frozenset({'BRUSH TILE & GROUT'}), support=0.0007087418285237262, ordered_statistics=[OrderedStatistic(items_base=frozenset(), items_add=frozenset({'BRUSH TILE & GROUT'}), confidence=0.0007087418285237262, lift=1.0)]),\n",
       " RelationRecord(items=frozenset({'BRUSH TOUCH-UP 1/4\"'}), support=0.0005419346463046171, ordered_statistics=[OrderedStatistic(items_base=frozenset(), items_add=frozenset({'BRUSH TOUCH-UP 1/4\"'}), confidence=0.0005419346463046171, lift=1.0)]),\n",
       " RelationRecord(items=frozenset({'BRUSH WHEEL POLY 21\"'}), support=0.0005049502484370318, ordered_statistics=[OrderedStatistic(items_base=frozenset(), items_add=frozenset({'BRUSH WHEEL POLY 21\"'}), confidence=0.0005049502484370318, lift=1.0)]),\n",
       " RelationRecord(items=frozenset({'BRUSH WHEEL POLY 9-1/2\"'}), support=0.00045739887975013643, ordered_statistics=[OrderedStatistic(items_base=frozenset(), items_add=frozenset({'BRUSH WHEEL POLY 9-1/2\"'}), confidence=0.00045739887975013643, lift=1.0)]),\n",
       " RelationRecord(items=frozenset({'BRUSH/ICESCRAPRTELESCP42'}), support=0.002255293486292752, ordered_statistics=[OrderedStatistic(items_base=frozenset(), items_add=frozenset({'BRUSH/ICESCRAPRTELESCP42'}), confidence=0.002255293486292752, lift=1.0)]),\n",
       " RelationRecord(items=frozenset({'BUBBLE GUM BAZOOKA 2.5OZ'}), support=0.0004928737103578203, ordered_statistics=[OrderedStatistic(items_base=frozenset(), items_add=frozenset({'BUBBLE GUM BAZOOKA 2.5OZ'}), confidence=0.0004928737103578203, lift=1.0)]),\n",
       " RelationRecord(items=frozenset({'BUBBLE WRAP 12\"X30\\''}), support=0.0007298757701623464, ordered_statistics=[OrderedStatistic(items_base=frozenset(), items_add=frozenset({'BUBBLE WRAP 12\"X30\\''}), confidence=0.0007298757701623464, lift=1.0)]),\n",
       " RelationRecord(items=frozenset({'BUBBLE WRAP 12\"X60\\''}), support=0.0008249785075361371, ordered_statistics=[OrderedStatistic(items_base=frozenset(), items_add=frozenset({'BUBBLE WRAP 12\"X60\\''}), confidence=0.0008249785075361371, lift=1.0)]),\n",
       " RelationRecord(items=frozenset({'BUBBLICIOUS WATRMLN PK5'}), support=0.0006453400036078657, ordered_statistics=[OrderedStatistic(items_base=frozenset(), items_add=frozenset({'BUBBLICIOUS WATRMLN PK5'}), confidence=0.0006453400036078657, lift=1.0)]),\n",
       " RelationRecord(items=frozenset({'BUCKET'}), support=0.0006876078868851061, ordered_statistics=[OrderedStatistic(items_base=frozenset(), items_add=frozenset({'BUCKET'}), confidence=0.0006876078868851061, lift=1.0)]),\n",
       " RelationRecord(items=frozenset({'BUCKET 10L W/HANDLE'}), support=0.001995647917589704, ordered_statistics=[OrderedStatistic(items_base=frozenset(), items_add=frozenset({'BUCKET 10L W/HANDLE'}), confidence=0.001995647917589704, lift=1.0)]),\n",
       " RelationRecord(items=frozenset({'BUCKET BISQUE 14QT'}), support=0.0007268566356425435, ordered_statistics=[OrderedStatistic(items_base=frozenset(), items_add=frozenset({'BUCKET BISQUE 14QT'}), confidence=0.0007268566356425435, lift=1.0)]),\n",
       " RelationRecord(items=frozenset({'BUCKET BISQUE 15QT'}), support=0.0009193264612799771, ordered_statistics=[OrderedStatistic(items_base=frozenset(), items_add=frozenset({'BUCKET BISQUE 15QT'}), confidence=0.0009193264612799771, lift=1.0)]),\n",
       " RelationRecord(items=frozenset({'BUCKET BLU 17GAL'}), support=0.0009615943445572175, ordered_statistics=[OrderedStatistic(items_base=frozenset(), items_add=frozenset({'BUCKET BLU 17GAL'}), confidence=0.0009615943445572175, lift=1.0)]),\n",
       " RelationRecord(items=frozenset({'BUCKET GRPHT 4GAL'}), support=0.00048004238864865804, ordered_statistics=[OrderedStatistic(items_base=frozenset(), items_add=frozenset({'BUCKET GRPHT 4GAL'}), confidence=0.00048004238864865804, lift=1.0)]),\n",
       " RelationRecord(items=frozenset({'BUCKET RED 10QT'}), support=0.0014959811545623273, ordered_statistics=[OrderedStatistic(items_base=frozenset(), items_add=frozenset({'BUCKET RED 10QT'}), confidence=0.0014959811545623273, lift=1.0)]),\n",
       " RelationRecord(items=frozenset({'BUFFALO SNOW 10OZ BAG'}), support=0.0007185540157130856, ordered_statistics=[OrderedStatistic(items_base=frozenset(), items_add=frozenset({'BUFFALO SNOW 10OZ BAG'}), confidence=0.0007185540157130856, lift=1.0)]),\n",
       " RelationRecord(items=frozenset({'BUGGETA SNAIL&SLUG 2LB'}), support=0.00047023020145929865, ordered_statistics=[OrderedStatistic(items_base=frozenset(), items_add=frozenset({'BUGGETA SNAIL&SLUG 2LB'}), confidence=0.00047023020145929865, lift=1.0)]),\n",
       " RelationRecord(items=frozenset({'BULB 32W T8 LFL ECO 2PK'}), support=0.0004641919324196929, ordered_statistics=[OrderedStatistic(items_base=frozenset(), items_add=frozenset({'BULB 32W T8 LFL ECO 2PK'}), confidence=0.0004641919324196929, lift=1.0)]),\n",
       " RelationRecord(items=frozenset({'BULB 40W FROSTED 2PK'}), support=0.0007608218989903259, ordered_statistics=[OrderedStatistic(items_base=frozenset(), items_add=frozenset({'BULB 40W FROSTED 2PK'}), confidence=0.0007608218989903259, lift=1.0)]),\n",
       " RelationRecord(items=frozenset({'BULB 40W G25 WH ACE 3PK'}), support=0.0005117433011065883, ordered_statistics=[OrderedStatistic(items_base=frozenset(), items_add=frozenset({'BULB 40W G25 WH ACE 3PK'}), confidence=0.0005117433011065883, lift=1.0)]),\n",
       " RelationRecord(items=frozenset({'BULB 60W CLEAR 2PK'}), support=0.0014937168036724753, ordered_statistics=[OrderedStatistic(items_base=frozenset(), items_add=frozenset({'BULB 60W CLEAR 2PK'}), confidence=0.0014937168036724753, lift=1.0)]),\n",
       " RelationRecord(items=frozenset({'BULB 60W FROSTED 2PK'}), support=0.0009336673502490408, ordered_statistics=[OrderedStatistic(items_base=frozenset(), items_add=frozenset({'BULB 60W FROSTED 2PK'}), confidence=0.0009336673502490408, lift=1.0)]),\n",
       " RelationRecord(items=frozenset({'BULB CAR 3157-BP 12V CD2'}), support=0.000536651160894962, ordered_statistics=[OrderedStatistic(items_base=frozenset(), items_add=frozenset({'BULB CAR 3157-BP 12V CD2'}), confidence=0.000536651160894962, lift=1.0)]),\n",
       " RelationRecord(items=frozenset({'BULB CIRC FC12T9/CW 32 WATT'}), support=0.0005532564007538779, ordered_statistics=[OrderedStatistic(items_base=frozenset(), items_add=frozenset({'BULB CIRC FC12T9/CW 32 WATT'}), confidence=0.0005532564007538779, lift=1.0)]),\n",
       " RelationRecord(items=frozenset({'BULB CIRC FC8T9/CW 22 WATT'}), support=0.0006136390911499355, ordered_statistics=[OrderedStatistic(items_base=frozenset(), items_add=frozenset({'BULB CIRC FC8T9/CW 22 WATT'}), confidence=0.0006136390911499355, lift=1.0)]),\n",
       " RelationRecord(items=frozenset({'BULB CIRCLINE FC12T9/KB'}), support=0.0008234689402762357, ordered_statistics=[OrderedStatistic(items_base=frozenset(), items_add=frozenset({'BULB CIRCLINE FC12T9/KB'}), confidence=0.0008234689402762357, lift=1.0)]),\n",
       " RelationRecord(items=frozenset({'BULB F20T 12CE ECO GE'}), support=0.0008838516306722933, ordered_statistics=[OrderedStatistic(items_base=frozenset(), items_add=frozenset({'BULB F20T 12CE ECO GE'}), confidence=0.0008838516306722933, lift=1.0)]),\n",
       " RelationRecord(items=frozenset({'BULB F40/T12/CW 48\" ACE'}), support=0.0011744433282033207, ordered_statistics=[OrderedStatistic(items_base=frozenset(), items_add=frozenset({'BULB F40/T12/CW 48\" ACE'}), confidence=0.0011744433282033207, lift=1.0)]),\n",
       " RelationRecord(items=frozenset({'BULB F40T12/LFL D/L PK2'}), support=0.001475601996553658, ordered_statistics=[OrderedStatistic(items_base=frozenset(), items_add=frozenset({'BULB F40T12/LFL D/L PK2'}), confidence=0.001475601996553658, lift=1.0)]),\n",
       " RelationRecord(items=frozenset({'BULB F40T12/LFL K/B PK2'}), support=0.0011533093865647005, ordered_statistics=[OrderedStatistic(items_base=frozenset(), items_add=frozenset({'BULB F40T12/LFL K/B PK2'}), confidence=0.0011533093865647005, lift=1.0)]),\n",
       " RelationRecord(items=frozenset({'BULB F40T12/LFL S/L PK2'}), support=0.0019533800343124637, ordered_statistics=[OrderedStatistic(items_base=frozenset(), items_add=frozenset({'BULB F40T12/LFL S/L PK2'}), confidence=0.0019533800343124637, lift=1.0)]),\n",
       " RelationRecord(items=frozenset({'BULB F8T5 WARM WHITE'}), support=0.0005955242840311182, ordered_statistics=[OrderedStatistic(items_base=frozenset(), items_add=frozenset({'BULB F8T5 WARM WHITE'}), confidence=0.0005955242840311182, lift=1.0)]),\n",
       " RelationRecord(items=frozenset({'BULB FAN 40W'}), support=0.0015012646399719825, ordered_statistics=[OrderedStatistic(items_base=frozenset(), items_add=frozenset({'BULB FAN 40W'}), confidence=0.0015012646399719825, lift=1.0)]),\n",
       " RelationRecord(items=frozenset({'BULB FLUOR DAY 32W 2PK'}), support=0.0006468495708677672, ordered_statistics=[OrderedStatistic(items_base=frozenset(), items_add=frozenset({'BULB FLUOR DAY 32W 2PK'}), confidence=0.0006468495708677672, lift=1.0)]),\n",
       " RelationRecord(items=frozenset({'BULB FLUOR F13T5 CW/CRD'}), support=0.0008687559580732789, ordered_statistics=[OrderedStatistic(items_base=frozenset(), items_add=frozenset({'BULB FLUOR F13T5 CW/CRD'}), confidence=0.0008687559580732789, lift=1.0)]),\n",
       " RelationRecord(items=frozenset({'BULB FLUOR F40T12 CW 2PK'}), support=0.003598808347605034, ordered_statistics=[OrderedStatistic(items_base=frozenset(), items_add=frozenset({'BULB FLUOR F40T12 CW 2PK'}), confidence=0.003598808347605034, lift=1.0)]),\n",
       " RelationRecord(items=frozenset({'BULB FLUR 4PK 13W BRIGHT WHT'}), support=0.001246147773048639, ordered_statistics=[OrderedStatistic(items_base=frozenset(), items_add=frozenset({'BULB FLUR 4PK 13W BRIGHT WHT'}), confidence=0.001246147773048639, lift=1.0)]),\n",
       " RelationRecord(items=frozenset({'BULB FLUR 4PK 13W NATURAL WHT'}), support=0.0010725475381599733, ordered_statistics=[OrderedStatistic(items_base=frozenset(), items_add=frozenset({'BULB FLUR 4PK 13W NATURAL WHT'}), confidence=0.0010725475381599733, lift=1.0)]),\n",
       " RelationRecord(items=frozenset({'BULB FLUR 4PK 13W SOFT WHITE'}), support=0.0012152016442206594, ordered_statistics=[OrderedStatistic(items_base=frozenset(), items_add=frozenset({'BULB FLUR 4PK 13W SOFT WHITE'}), confidence=0.0012152016442206594, lift=1.0)]),\n",
       " RelationRecord(items=frozenset({'BULB FLUR F20T12 SUN'}), support=0.0004672110669394958, ordered_statistics=[OrderedStatistic(items_base=frozenset(), items_add=frozenset({'BULB FLUR F20T12 SUN'}), confidence=0.0004672110669394958, lift=1.0)]),\n",
       " RelationRecord(items=frozenset({'BULB HAL A19 29W SW 4PK'}), support=0.000634018249158605, ordered_statistics=[OrderedStatistic(items_base=frozenset(), items_add=frozenset({'BULB HAL A19 29W SW 4PK'}), confidence=0.000634018249158605, lift=1.0)]),\n",
       " RelationRecord(items=frozenset({'BULB HAL A19 43W SW 4PK'}), support=0.0013035113289248937, ordered_statistics=[OrderedStatistic(items_base=frozenset(), items_add=frozenset({'BULB HAL A19 43W SW 4PK'}), confidence=0.0013035113289248937, lift=1.0)]),\n",
       " RelationRecord(items=frozenset({'BULB HAL A19 53W SW 4PK'}), support=0.0007532740626908187, ordered_statistics=[OrderedStatistic(items_base=frozenset(), items_add=frozenset({'BULB HAL A19 53W SW 4PK'}), confidence=0.0007532740626908187, lift=1.0)]),\n",
       " RelationRecord(items=frozenset({'BULB HAL A19 72W SW 4PK'}), support=0.000741952308241558, ordered_statistics=[OrderedStatistic(items_base=frozenset(), items_add=frozenset({'BULB HAL A19 72W SW 4PK'}), confidence=0.000741952308241558, lift=1.0)]),\n",
       " RelationRecord(items=frozenset({'BULB LED A15 APP CLR 1.4W'}), support=0.0008098828349371227, ordered_statistics=[OrderedStatistic(items_base=frozenset(), items_add=frozenset({'BULB LED A15 APP CLR 1.4W'}), confidence=0.0008098828349371227, lift=1.0)]),\n",
       " RelationRecord(items=frozenset({'BULB LED A15 APP FROST 1.4W'}), support=0.0009963143915349506, ordered_statistics=[OrderedStatistic(items_base=frozenset(), items_add=frozenset({'BULB LED A15 APP FROST 1.4W'}), confidence=0.0009963143915349506, lift=1.0)]),\n",
       " RelationRecord(items=frozenset({'BULB LED INTERMED BS CLR 1W'}), support=0.00045664409612018573, ordered_statistics=[OrderedStatistic(items_base=frozenset(), items_add=frozenset({'BULB LED INTERMED BS CLR 1W'}), confidence=0.00045664409612018573, lift=1.0)]),\n",
       " RelationRecord(items=frozenset({'BULB LED NIGHT LT CLR .5W'}), support=0.0016899605474596626, ordered_statistics=[OrderedStatistic(items_base=frozenset(), items_add=frozenset({'BULB LED NIGHT LT CLR .5W'}), confidence=0.0016899605474596626, lift=1.0)]),\n",
       " RelationRecord(items=frozenset({'BULB LED NIGHT LT WHT .5W'}), support=0.0005645781552031387, ordered_statistics=[OrderedStatistic(items_base=frozenset(), items_add=frozenset({'BULB LED NIGHT LT WHT .5W'}), confidence=0.0005645781552031387, lift=1.0)]),\n",
       " RelationRecord(items=frozenset({'BULB LFL F40 T12 CW U6'}), support=0.0007442166591314101, ordered_statistics=[OrderedStatistic(items_base=frozenset(), items_add=frozenset({'BULB LFL F40 T12 CW U6'}), confidence=0.0007442166591314101, lift=1.0)]),\n",
       " RelationRecord(items=frozenset({'BULB LFL F96/T12'}), support=0.0006106199566301326, ordered_statistics=[OrderedStatistic(items_base=frozenset(), items_add=frozenset({'BULB LFL F96/T12'}), confidence=0.0006106199566301326, lift=1.0)]),\n",
       " RelationRecord(items=frozenset({'BULB LFL U-SHAPED 32W'}), support=0.0004868354413182145, ordered_statistics=[OrderedStatistic(items_base=frozenset(), items_add=frozenset({'BULB LFL U-SHAPED 32W'}), confidence=0.0004868354413182145, lift=1.0)]),\n",
       " RelationRecord(items=frozenset({'BULB REFLCTR 65WBR30 2PK'}), support=0.000644585219977915, ordered_statistics=[OrderedStatistic(items_base=frozenset(), items_add=frozenset({'BULB REFLCTR 65WBR30 2PK'}), confidence=0.000644585219977915, lift=1.0)]),\n",
       " RelationRecord(items=frozenset({\"BULB REPLACE CORD 5'WHT C7\"}), support=0.00092234559579978, ordered_statistics=[OrderedStatistic(items_base=frozenset(), items_add=frozenset({\"BULB REPLACE CORD 5'WHT C7\"}), confidence=0.00092234559579978, lift=1.0)]),\n",
       " RelationRecord(items=frozenset({'BULB SOFTWHT 29W ACE 4PK'}), support=0.0025398469147841734, ordered_statistics=[OrderedStatistic(items_base=frozenset(), items_add=frozenset({'BULB SOFTWHT 29W ACE 4PK'}), confidence=0.0025398469147841734, lift=1.0)]),\n",
       " RelationRecord(items=frozenset({'BULB SOFTWHT 43W ACE 4PK'}), support=0.004585310551950625, ordered_statistics=[OrderedStatistic(items_base=frozenset(), items_add=frozenset({'BULB SOFTWHT 43W ACE 4PK'}), confidence=0.004585310551950625, lift=1.0)]),\n",
       " ...]"
      ]
     },
     "execution_count": 39,
     "metadata": {
      "tags": []
     },
     "output_type": "execute_result"
    }
   ],
   "source": [
    "association_results"
   ]
  },
  {
   "cell_type": "code",
   "execution_count": 0,
   "metadata": {
    "colab": {
     "base_uri": "https://localhost:8080/",
     "height": 35
    },
    "colab_type": "code",
    "executionInfo": {
     "elapsed": 2281,
     "status": "ok",
     "timestamp": 1575065993932,
     "user": {
      "displayName": "Bhavarth Chauhan",
      "photoUrl": "",
      "userId": "06549928463648907408"
     },
     "user_tz": 300
    },
    "id": "ic1_my2ENwLs",
    "outputId": "b42a284a-17b7-49a1-ec59-d784afc1ccdc"
   },
   "outputs": [
    {
     "name": "stdout",
     "output_type": "stream",
     "text": [
      "Mounted at /content/drive\n"
     ]
    }
   ],
   "source": [
    "from google.colab import drive\n",
    "drive.mount('/content/drive', force_remount=True)"
   ]
  },
  {
   "cell_type": "code",
   "execution_count": 0,
   "metadata": {
    "colab": {},
    "colab_type": "code",
    "id": "pRgoSSbZWe50"
   },
   "outputs": [],
   "source": [
    "association_rules2 = apriori(transaction_items2, min_support=0.0045, min_confidence=0.2, min_lift=1, min_length=2)\n",
    "association_results2 = list(association_rules2)"
   ]
  },
  {
   "cell_type": "code",
   "execution_count": 0,
   "metadata": {
    "colab": {},
    "colab_type": "code",
    "id": "P9VgEeFeTn1y"
   },
   "outputs": [],
   "source": [
    "pickle.dump(association_results, open('results_3.pkl', 'wb'))"
   ]
  },
  {
   "cell_type": "code",
   "execution_count": 0,
   "metadata": {
    "colab": {},
    "colab_type": "code",
    "id": "bfW6sp47T6C6"
   },
   "outputs": [],
   "source": [
    "print(association_results[1])"
   ]
  },
  {
   "cell_type": "code",
   "execution_count": 0,
   "metadata": {
    "colab": {},
    "colab_type": "code",
    "id": "tWhTdDyZT6G8"
   },
   "outputs": [],
   "source": [
    "print(association_results[4])"
   ]
  },
  {
   "cell_type": "code",
   "execution_count": 0,
   "metadata": {
    "colab": {
     "base_uri": "https://localhost:8080/",
     "height": 35
    },
    "colab_type": "code",
    "executionInfo": {
     "elapsed": 3845,
     "status": "ok",
     "timestamp": 1575065967224,
     "user": {
      "displayName": "Bhavarth Chauhan",
      "photoUrl": "",
      "userId": "06549928463648907408"
     },
     "user_tz": 300
    },
    "id": "KhpTgk7NPz-E",
    "outputId": "c5d6728d-d453-4acf-d8b0-0ccd52cab253"
   },
   "outputs": [
    {
     "name": "stdout",
     "output_type": "stream",
     "text": [
      "/bin/bash: google-drive-ocamlfuse: command not found\n"
     ]
    }
   ],
   "source": [
    "!fusermount -u drive\n",
    "!google-drive-ocamlfuse drive"
   ]
  },
  {
   "cell_type": "code",
   "execution_count": 0,
   "metadata": {
    "colab": {},
    "colab_type": "code",
    "id": "iuJbOaZ5OT7s"
   },
   "outputs": [],
   "source": [
    "test = pickle.load(open('drive/My Drive/Colab Notebooks/test.pkl','rb'))"
   ]
  },
  {
   "cell_type": "code",
   "execution_count": 0,
   "metadata": {
    "colab": {},
    "colab_type": "code",
    "id": "ETl-cdBWUVe1"
   },
   "outputs": [],
   "source": [
    "print(results[1])"
   ]
  },
  {
   "cell_type": "code",
   "execution_count": 0,
   "metadata": {
    "colab": {
     "base_uri": "https://localhost:8080/",
     "height": 1000
    },
    "colab_type": "code",
    "executionInfo": {
     "elapsed": 558,
     "status": "ok",
     "timestamp": 1575067641618,
     "user": {
      "displayName": "Bhavarth Chauhan",
      "photoUrl": "",
      "userId": "06549928463648907408"
     },
     "user_tz": 300
    },
    "id": "eFO_qK4uUKRi",
    "outputId": "0f50ce93-d5d8-47a5-a7ec-90d94f9bd44b"
   },
   "outputs": [
    {
     "name": "stdout",
     "output_type": "stream",
     "text": [
      "Rule: BATTERY ALK AA 16WIDE\n",
      "other3166659 $2 INST SAVINGS\n",
      "Support: 0.0005138872622157495\n",
      "Confidence: 1.0\n",
      "Lift: 833.2913719943423\n",
      "=====================================\n",
      "Rule: TOTE 18 GAL CLR/BLK\n",
      "other6250617 $1 INST SAVINGS\n",
      "Support: 0.0004655114175480406\n",
      "Confidence: 1.0\n",
      "Lift: 1645.6340782122907\n",
      "=====================================\n",
      "Rule: LIQUID ANT BAIT 6PK\n",
      "other7105786 $3 INST SAVINGS\n",
      "Support: 0.0005598584596338939\n",
      "Confidence: 1.0\n",
      "Lift: 351.513723150358\n",
      "=====================================\n",
      "Rule: CUTTER BUG FREE 32 OZ\n",
      "other7130057 $2 INST SAVINGS\n",
      "Support: 0.0007624146279501486\n",
      "Confidence: 1.0\n",
      "Lift: 567.5238018784619\n",
      "=====================================\n",
      "Rule: 7206436 $7 INST SAVINGS\n",
      "otherEZ SEED SUN&SHADE 10#\n",
      "Support: 0.0008984893723078559\n",
      "Confidence: 1.0\n",
      "Lift: 786.0400266844563\n",
      "=====================================\n",
      "Rule: FERTILIZR 4STEP PRGM 5M\n",
      "other7287154 $20 INST SAVINGS\n",
      "Support: 0.0013365595212432196\n",
      "Confidence: 1.0\n",
      "Lift: 730.7125581395348\n",
      "=====================================\n",
      "Rule: POT SOIL MOIST CONT 2 CF\n",
      "other7301609 $3 INST SAVINGS\n",
      "Support: 0.0015334576960310874\n",
      "Confidence: 1.0\n",
      "Lift: 483.3283653517468\n",
      "=====================================\n",
      "Rule: MG SOIL VEG&HERB 1.5CF\n",
      "other7438286 $2 INST SAVINGS\n",
      "Support: 0.0006123363496096833\n",
      "Confidence: 1.0\n",
      "Lift: 1156.1151267375305\n",
      "=====================================\n",
      "Rule: 7438336 $2 INST SAVINGS\n",
      "otherMG GARDN SOIL FLWR1.5CF\n",
      "Support: 0.0006393532687077313\n",
      "Confidence: 1.0\n",
      "Lift: 1071.158181818182\n",
      "=====================================\n",
      "Rule: MULCH TRPL SHRD BLK1.5CF\n",
      "other7439524 $1 INST SAVINGS\n",
      "Support: 0.000635958472590699\n",
      "Confidence: 1.0\n",
      "Lift: 1080.8200580950925\n",
      "=====================================\n",
      "Rule: PEAK WASH/DEICER -25\n",
      "other8363780 $1 INST SAVINGS\n",
      "Support: 0.0008496891781255181\n",
      "Confidence: 0.9998335552596538\n",
      "Lift: 200.6890007364947\n",
      "=====================================\n",
      "Rule: 8363863 $1 INST SAVINGS\n",
      "otherPEAK BUG WASH +32\n",
      "Support: 0.0006153067962120865\n",
      "Confidence: 1.0\n",
      "Lift: 1083.8025448413307\n",
      "=====================================\n",
      "Rule: BIRD BLEND SUET\n",
      "otherBERRY BLAST SUET\n",
      "Support: 0.0007198382266490363\n",
      "Confidence: 0.5312108559498956\n",
      "Lift: 346.7656177747963\n",
      "=====================================\n",
      "Rule: ORANGE BURST SUET\n",
      "otherBERRY BLAST SUET\n",
      "Support: 0.0007039958447695527\n",
      "Confidence: 0.5195198329853862\n",
      "Lift: 449.54960466904987\n",
      "=====================================\n",
      "Rule: PEANUT CRUNCH SUET\n",
      "otherBERRY BLAST SUET\n",
      "Support: 0.0006113462007422156\n",
      "Confidence: 0.45114822546972866\n",
      "Lift: 393.22615525862585\n",
      "=====================================\n",
      "Rule: BIRD BLEND SUET\n",
      "otherORANGE BURST SUET\n",
      "Support: 0.0006177114434616509\n",
      "Confidence: 0.40323176361957525\n",
      "Lift: 348.9235028497611\n",
      "=====================================\n",
      "Rule: BIRD BLEND SUET\n",
      "otherPEANUT CRUNCH SUET\n",
      "Support: 0.0005933820712895869\n",
      "Confidence: 0.38734995383194837\n",
      "Lift: 337.61882345066095\n",
      "=====================================\n",
      "Rule: BIRDSEED WILDBIRD 20#ACE\n",
      "otherBIRDSEED SONGBRD WB7# KT\n",
      "Support: 0.0004954987832484917\n",
      "Confidence: 0.5844177510844177\n",
      "Lift: 54.928679936284496\n",
      "=====================================\n",
      "Rule: CMN Donations\n",
      "otherBIRDSEED WILDBIRD 20#ACE\n",
      "Support: 0.0007952309904147932\n",
      "Confidence: 0.07474274774655003\n",
      "Lift: 1.1331932612689142\n",
      "=====================================\n",
      "Rule: PEAK WASH/DEICER -25\n",
      "otherCMN Donations\n",
      "Support: 0.0005533517670762489\n",
      "Confidence: 0.008389502827597005\n",
      "Lift: 1.6839612256353937\n",
      "=====================================\n",
      "Rule: PROMOTIONAL GIFT CARD\n",
      "otherGIFT CARD OFFSET CREDIT\n",
      "Support: 0.0007666581230964388\n",
      "Confidence: 0.974820143884892\n",
      "Lift: 1269.6446907323073\n",
      "=====================================\n",
      "Rule: KEY KWIKSET KW1\n",
      "otherKEY SCHLAGE SC1250PK\n",
      "Support: 0.0007253547703392136\n",
      "Confidence: 0.1258991922614225\n",
      "Lift: 25.94707370130344\n",
      "=====================================\n",
      "Rule: KEY SCHLAGE SC1-ACE250PK\n",
      "otherKEY KWIKSET KW1-ACE250PK\n",
      "Support: 0.000833139547054986\n",
      "Confidence: 0.11800296509997195\n",
      "Lift: 20.543709471070382\n",
      "=====================================\n",
      "Rule: LAWN FOOD 5M\n",
      "otherWEED & FEED 5M\n",
      "Support: 0.0006358170227524893\n",
      "Confidence: 0.5485051860890787\n",
      "Lift: 352.2973015175378\n",
      "=====================================\n",
      "Rule: PEANUT CRUNCH SUET\n",
      "otherORANGE BURST SUET\n",
      "Support: 0.0005375093851967653\n",
      "Confidence: 0.4651162790697675\n",
      "Lift: 405.4008767880542\n",
      "=====================================\n"
     ]
    }
   ],
   "source": [
    "for item in association_results:\n",
    "\n",
    "    if (str(item[2][0][3]) =='1.0'):\n",
    "      continue\n",
    "    # first index of the inner list\n",
    "    # Contains base item and add item\n",
    "    pair = item[0] \n",
    "    items = [x for x in pair]\n",
    "    print(\"Rule: \" + items[0] )\n",
    "    if len(items) > 1:\n",
    "      print(\"other\" + items[1])\n",
    "\n",
    "    #second index of the inner list\n",
    "    print(\"Support: \" + str(item[1]))\n",
    "\n",
    "    #third indtrex of the list located at 0th\n",
    "    #of the third index of the inner list\n",
    "\n",
    "    print(\"Confidence: \" + str(item[2][0][2]))\n",
    "    print(\"Lift: \" + str(item[2][0][3]))\n",
    "    print(\"=====================================\")\n"
   ]
  }
 ],
 "metadata": {
  "accelerator": "GPU",
  "colab": {
   "collapsed_sections": [],
   "machine_shape": "hm",
   "name": "Market Basket.ipynb",
   "provenance": [
    {
     "file_id": "1WuaFoP3Y6daWwIOCXOh8Yxxbq2xU5j6t",
     "timestamp": 1575071820949
    }
   ]
  },
  "kernelspec": {
   "display_name": "Python 3",
   "language": "python",
   "name": "python3"
  },
  "language_info": {
   "codemirror_mode": {
    "name": "ipython",
    "version": 3
   },
   "file_extension": ".py",
   "mimetype": "text/x-python",
   "name": "python",
   "nbconvert_exporter": "python",
   "pygments_lexer": "ipython3",
   "version": "3.7.3"
  }
 },
 "nbformat": 4,
 "nbformat_minor": 1
}
