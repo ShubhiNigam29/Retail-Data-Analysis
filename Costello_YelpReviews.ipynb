{
 "cells": [
  {
   "cell_type": "code",
   "execution_count": 2,
   "metadata": {
    "collapsed": true
   },
   "outputs": [],
   "source": [
    "import urllib2\n",
    "from bs4 import BeautifulSoup\n",
    "import pandas as pd"
   ]
  },
  {
   "cell_type": "code",
   "execution_count": 1,
   "metadata": {},
   "outputs": [
    {
     "name": "stdout",
     "output_type": "stream",
     "text": [
      "\n"
     ]
    }
   ],
   "source": [
    "# Get ratings and reviews\n",
    "\n",
    "taj = \"https://www.yelp.com/biz/costellos-ace-hardware-bethpage-bethpage-2?start=20\"\n",
    "Umall =\"https://www.yelp.com/biz/costellos-ace-hardware-store-smithtown\"\n",
    "auto =\"https://www.yelp.com/biz/costellos-ace-hardware-west-islip\"\n",
    "\n",
    "url2 = auto\n",
    "start = 0\n",
    "num_pages = 5\n",
    "end = 20* num_pages\n",
    "\n",
    "ratings =[]\n",
    "reviews =[]\n",
    "\n",
    "while (start < end):\n",
    "    url = url2 + '?start=' + str(start)\n",
    "    start +=20\n",
    "    print url\n",
    "\n",
    "    page = urllib2.urlopen(url)\n",
    "    soup = BeautifulSoup(page)\n",
    "\n",
    "    \n",
    "    for reviewBody in soup.findAll('div',{\"class\":\"review-content\"}):\n",
    "        ratings.append(reviewBody.div.div.div.get(\"title\"))\n",
    "        reviews.append(reviewBody.find('p').text)\n"
   ]
  },
  {
   "cell_type": "code",
   "execution_count": 8,
   "metadata": {},
   "outputs": [],
   "source": [
    "df = pd.DataFrame()\n",
    "\n",
    "df['rating']=ratings\n",
    "df['review']=reviews\n",
    "\n",
    "ratings1=[]\n",
    "for rating in df['rating']:\n",
    "    ratings1.append(int(rating[:1]))\n",
    "\n",
    "df['rating']= ratings1\n",
    "#df['rating']"
   ]
  },
  {
   "cell_type": "code",
   "execution_count": 9,
   "metadata": {},
   "outputs": [
    {
     "data": {
      "image/png": "[encoded data removed]",
      "text/plain": [
       "<matplotlib.figure.Figure at 0xc723320>"
      ]
     },
     "metadata": {},
     "output_type": "display_data"
    }
   ],
   "source": [
    "import matplotlib.pyplot as plt\n",
    "from numpy.random import normal\n",
    "plt.hist(ratings1)\n",
    "plt.title(\"Review Ratings\")\n",
    "plt.xlabel(\"Value\")\n",
    "plt.ylabel(\"Frequency\")\n",
    "plt.show()"
   ]
  }
 ],
 "metadata": {
  "anaconda-cloud": {},
  "kernelspec": {
   "display_name": "Python 3",
   "language": "python",
   "name": "python3"
  },
  "language_info": {
   "codemirror_mode": {
    "name": "ipython",
    "version": 3
   },
   "file_extension": ".py",
   "mimetype": "text/x-python",
   "name": "python",
   "nbconvert_exporter": "python",
   "pygments_lexer": "ipython3",
   "version": "3.7.3"
  }
 },
 "nbformat": 4,
 "nbformat_minor": 1
}
