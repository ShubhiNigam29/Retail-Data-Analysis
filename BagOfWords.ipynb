{
 "cells": [
  {
   "cell_type": "code",
   "execution_count": 287,
   "metadata": {
    "colab": {
     "base_uri": "https://localhost:8080/",
     "height": 52
    },
    "colab_type": "code",
    "id": "UJ0WlIgeonQd",
    "outputId": "46aa8988-0131-4150-faf3-1a4c0d04c6d5"
   },
   "outputs": [
    {
     "name": "stdout",
     "output_type": "stream",
     "text": [
      "[nltk_data] Downloading package punkt to /root/nltk_data...\n",
      "[nltk_data]   Package punkt is already up-to-date!\n"
     ]
    }
   ],
   "source": [
    "#Importing libraries\n",
    "import numpy as np\n",
    "import pandas as pd\n",
    "import matplotlib.pyplot as plt\n",
    "import seaborn as sns\n",
    "import scipy\n",
    "import itertools\n",
    "import nltk\n",
    "nltk.download('punkt')\n",
    "%matplotlib inline"
   ]
  },
  {
   "cell_type": "code",
   "execution_count": 5,
   "metadata": {
    "colab": {
     "base_uri": "https://localhost:8080/",
     "height": 124
    },
    "colab_type": "code",
    "id": "qnV-KVmR3wXn",
    "outputId": "b23ae11e-2639-4ea4-abdd-f02d8dc92216"
   },
   "outputs": [
    {
     "name": "stdout",
     "output_type": "stream",
     "text": [
      "Go to this URL in a browser: https://accounts.google.com/o/oauth2/auth?client_id=947318989803-6bn6qk8qdgf4n4g3pfee6491hc0brc4i.apps.googleusercontent.com&redirect_uri=urn%3aietf%3awg%3aoauth%3a2.0%3aoob&response_type=code&scope=email%20https%3a%2f%2fwww.googleapis.com%2fauth%2fdocs.test%20https%3a%2f%2fwww.googleapis.com%2fauth%2fdrive%20https%3a%2f%2fwww.googleapis.com%2fauth%2fdrive.photos.readonly%20https%3a%2f%2fwww.googleapis.com%2fauth%2fpeopleapi.readonly\n",
      "\n",
      "Enter your authorization code:\n",
      "··········\n",
      "Mounted at /content/drive\n"
     ]
    }
   ],
   "source": [
    "from google.colab import drive\n",
    "drive.mount('/content/drive')"
   ]
  },
  {
   "cell_type": "code",
   "execution_count": 288,
   "metadata": {
    "colab": {
     "base_uri": "https://localhost:8080/",
     "height": 72
    },
    "colab_type": "code",
    "id": "EVR-zHAtonQr",
    "outputId": "aec7ae2d-96a8-4b22-d9c3-ab8cde0dff55"
   },
   "outputs": [
    {
     "name": "stderr",
     "output_type": "stream",
     "text": [
      "/usr/local/lib/python3.6/dist-packages/IPython/core/interactiveshell.py:2718: DtypeWarning: Columns (9,10,11,12,20,23,24,25,29,30,31,32,35) have mixed types. Specify dtype option on import or set low_memory=False.\n",
      "  interactivity=interactivity, compiler=compiler, result=result)\n"
     ]
    }
   ],
   "source": [
    "#Importing dataset\n",
    "data = pd.read_csv(r'/content/drive/My Drive/costello_ace_2017-2018.csv')"
   ]
  },
  {
   "cell_type": "code",
   "execution_count": 0,
   "metadata": {
    "colab": {},
    "colab_type": "code",
    "id": "IGWllQVponQ1"
   },
   "outputs": [],
   "source": [
    "data = data[data[\"Net Sales\"] != \"Net Sales\"]"
   ]
  },
  {
   "cell_type": "code",
   "execution_count": 0,
   "metadata": {
    "colab": {},
    "colab_type": "code",
    "id": "ldQQLGBkonQ7",
    "outputId": "b6ea7395-63d1-41c1-8a15-acaacd26f786"
   },
   "outputs": [
    {
     "data": {
      "text/html": [
       "<div>\n",
       "<style scoped>\n",
       "    .dataframe tbody tr th:only-of-type {\n",
       "        vertical-align: middle;\n",
       "    }\n",
       "\n",
       "    .dataframe tbody tr th {\n",
       "        vertical-align: top;\n",
       "    }\n",
       "\n",
       "    .dataframe thead th {\n",
       "        text-align: right;\n",
       "    }\n",
       "</style>\n",
       "<table border=\"1\" class=\"dataframe\">\n",
       "  <thead>\n",
       "    <tr style=\"text-align: right;\">\n",
       "      <th></th>\n",
       "      <th>Date</th>\n",
       "      <th>Transaction Time</th>\n",
       "      <th>Customer Number</th>\n",
       "      <th>Receipt Number</th>\n",
       "      <th>Store #</th>\n",
       "      <th>Store Name</th>\n",
       "      <th>Scanned UPC</th>\n",
       "      <th>Item Number</th>\n",
       "      <th>Item Description</th>\n",
       "      <th>Net Sales Units</th>\n",
       "      <th>...</th>\n",
       "      <th>$ Off Retail</th>\n",
       "      <th>Zip Code</th>\n",
       "      <th>Zip Plus-4</th>\n",
       "      <th>Loyalty ID</th>\n",
       "      <th>Clerk</th>\n",
       "      <th>Item Type</th>\n",
       "      <th>Line #</th>\n",
       "      <th>Line Item Transaction Type</th>\n",
       "      <th>Pricing Source</th>\n",
       "      <th>Return Code</th>\n",
       "    </tr>\n",
       "  </thead>\n",
       "  <tbody>\n",
       "    <tr>\n",
       "      <th>Null values</th>\n",
       "      <td>0.0</td>\n",
       "      <td>1.000000</td>\n",
       "      <td>63.000000</td>\n",
       "      <td>1.000000</td>\n",
       "      <td>1.000000</td>\n",
       "      <td>1.000000</td>\n",
       "      <td>121426.000000</td>\n",
       "      <td>1.000000</td>\n",
       "      <td>1.000000</td>\n",
       "      <td>1.000000</td>\n",
       "      <td>...</td>\n",
       "      <td>1.000000</td>\n",
       "      <td>5.206254e+06</td>\n",
       "      <td>6.512743e+06</td>\n",
       "      <td>5.122930e+06</td>\n",
       "      <td>937.000000</td>\n",
       "      <td>1.000000</td>\n",
       "      <td>1.000000</td>\n",
       "      <td>1.000000</td>\n",
       "      <td>17977.000000</td>\n",
       "      <td>1.674858e+07</td>\n",
       "    </tr>\n",
       "    <tr>\n",
       "      <th>% Null values</th>\n",
       "      <td>0.0</td>\n",
       "      <td>0.000006</td>\n",
       "      <td>0.000364</td>\n",
       "      <td>0.000006</td>\n",
       "      <td>0.000006</td>\n",
       "      <td>0.000006</td>\n",
       "      <td>0.700748</td>\n",
       "      <td>0.000006</td>\n",
       "      <td>0.000006</td>\n",
       "      <td>0.000006</td>\n",
       "      <td>...</td>\n",
       "      <td>0.000006</td>\n",
       "      <td>3.004525e+01</td>\n",
       "      <td>3.758499e+01</td>\n",
       "      <td>2.956439e+01</td>\n",
       "      <td>0.005407</td>\n",
       "      <td>0.000006</td>\n",
       "      <td>0.000006</td>\n",
       "      <td>0.000006</td>\n",
       "      <td>0.103745</td>\n",
       "      <td>9.665593e+01</td>\n",
       "    </tr>\n",
       "  </tbody>\n",
       "</table>\n",
       "<p>2 rows × 39 columns</p>\n",
       "</div>"
      ],
      "text/plain": [
       "               Date  Transaction Time  Customer Number  Receipt Number  \\\n",
       "Null values     0.0          1.000000        63.000000        1.000000   \n",
       "% Null values   0.0          0.000006         0.000364        0.000006   \n",
       "\n",
       "                Store #  Store Name    Scanned UPC  Item Number  \\\n",
       "Null values    1.000000    1.000000  121426.000000     1.000000   \n",
       "% Null values  0.000006    0.000006       0.700748     0.000006   \n",
       "\n",
       "               Item Description  Net Sales Units  ...  $ Off Retail  \\\n",
       "Null values            1.000000         1.000000  ...      1.000000   \n",
       "% Null values          0.000006         0.000006  ...      0.000006   \n",
       "\n",
       "                   Zip Code    Zip Plus-4    Loyalty ID       Clerk  \\\n",
       "Null values    5.206254e+06  6.512743e+06  5.122930e+06  937.000000   \n",
       "% Null values  3.004525e+01  3.758499e+01  2.956439e+01    0.005407   \n",
       "\n",
       "               Item Type    Line #  Line Item Transaction Type  \\\n",
       "Null values     1.000000  1.000000                    1.000000   \n",
       "% Null values   0.000006  0.000006                    0.000006   \n",
       "\n",
       "               Pricing Source   Return Code  \n",
       "Null values      17977.000000  1.674858e+07  \n",
       "% Null values        0.103745  9.665593e+01  \n",
       "\n",
       "[2 rows x 39 columns]"
      ]
     },
     "execution_count": 4,
     "metadata": {
      "tags": []
     },
     "output_type": "execute_result"
    }
   ],
   "source": [
    "# Checking for null values.\n",
    "info = pd.DataFrame(data=data.isnull().sum()).T.rename(index={0:'Null values'})\n",
    "info = info.append(pd.DataFrame(data=data.isnull().sum()/data.shape[0] * 100).T.rename(index={0:'% Null values'}))\n",
    "info"
   ]
  },
  {
   "cell_type": "code",
   "execution_count": 0,
   "metadata": {
    "colab": {},
    "colab_type": "code",
    "id": "Ir8nBZ4FonRA"
   },
   "outputs": [],
   "source": [
    "# Removing null values\n",
    "data.dropna(axis=0, subset = ['Customer Number'], inplace=True)\n",
    "info = pd.DataFrame(data=data.isnull().sum()).T.rename(index={0:'Null values'})\n",
    "info = info.append(pd.DataFrame(data=data.isnull().sum()/data.shape[0] * 100).T.rename(index={0:'% Null values'}))\n",
    "info"
   ]
  },
  {
   "cell_type": "code",
   "execution_count": 0,
   "metadata": {
    "colab": {},
    "colab_type": "code",
    "id": "TUDK-6-uonRE"
   },
   "outputs": [],
   "source": [
    "t = data.columns\n",
    "for cols in t:\n",
    "    data[cols]=data[cols].fillna(data[cols].mode().iloc[0])"
   ]
  },
  {
   "cell_type": "code",
   "execution_count": 0,
   "metadata": {
    "colab": {},
    "colab_type": "code",
    "id": "FHmEA1fuonRK",
    "outputId": "a65299b2-45aa-4012-c31d-f79a45087c77"
   },
   "outputs": [
    {
     "data": {
      "text/html": [
       "<div>\n",
       "<style scoped>\n",
       "    .dataframe tbody tr th:only-of-type {\n",
       "        vertical-align: middle;\n",
       "    }\n",
       "\n",
       "    .dataframe tbody tr th {\n",
       "        vertical-align: top;\n",
       "    }\n",
       "\n",
       "    .dataframe thead th {\n",
       "        text-align: right;\n",
       "    }\n",
       "</style>\n",
       "<table border=\"1\" class=\"dataframe\">\n",
       "  <thead>\n",
       "    <tr style=\"text-align: right;\">\n",
       "      <th></th>\n",
       "      <th>products</th>\n",
       "      <th>transanctions</th>\n",
       "      <th>Customers</th>\n",
       "    </tr>\n",
       "  </thead>\n",
       "  <tbody>\n",
       "    <tr>\n",
       "      <th>Net Sales Units</th>\n",
       "      <td>112369</td>\n",
       "      <td>1324880</td>\n",
       "      <td>349345</td>\n",
       "    </tr>\n",
       "  </tbody>\n",
       "</table>\n",
       "</div>"
      ],
      "text/plain": [
       "                 products  transanctions  Customers\n",
       "Net Sales Units    112369        1324880     349345"
      ]
     },
     "execution_count": 19,
     "metadata": {
      "tags": []
     },
     "output_type": "execute_result"
    }
   ],
   "source": [
    "pd.DataFrame({'products':len(data['Item Number'].value_counts()),\n",
    "              'transanctions':len(data['Receipt Number'].value_counts()),\n",
    "              'Customers':len(data['Customer Number'].value_counts())},\n",
    "             index = ['Net Sales Units'])"
   ]
  },
  {
   "cell_type": "code",
   "execution_count": 0,
   "metadata": {
    "colab": {},
    "colab_type": "code",
    "id": "sVAGmIKVonRN"
   },
   "outputs": [],
   "source": [
    "There are 1324880 transanctions but only 349345 customers with 112369 products. It seems that some orders were placed then returned or the customers bought items multiple times or multiple items were bought in a single transanction."
   ]
  },
  {
   "cell_type": "code",
   "execution_count": 0,
   "metadata": {
    "colab": {},
    "colab_type": "code",
    "id": "KHW1NSpSonRQ"
   },
   "outputs": [],
   "source": [
    "data = data[pd.notnull(data['Date'])]\n",
    "data['Date'] =  pd.to_datetime(data['Date'], errors='coerce')"
   ]
  },
  {
   "cell_type": "code",
   "execution_count": 0,
   "metadata": {
    "colab": {},
    "colab_type": "code",
    "id": "dZSsGPRVonRS",
    "outputId": "50b60763-f78e-4c94-87c7-622d8461d76a"
   },
   "outputs": [
    {
     "data": {
      "text/html": [
       "<div>\n",
       "<style scoped>\n",
       "    .dataframe tbody tr th:only-of-type {\n",
       "        vertical-align: middle;\n",
       "    }\n",
       "\n",
       "    .dataframe tbody tr th {\n",
       "        vertical-align: top;\n",
       "    }\n",
       "\n",
       "    .dataframe thead th {\n",
       "        text-align: right;\n",
       "    }\n",
       "</style>\n",
       "<table border=\"1\" class=\"dataframe\">\n",
       "  <thead>\n",
       "    <tr style=\"text-align: right;\">\n",
       "      <th></th>\n",
       "      <th>Customer Number</th>\n",
       "      <th>Receipt Number</th>\n",
       "      <th>Item Type</th>\n",
       "      <th>Number of products</th>\n",
       "    </tr>\n",
       "  </thead>\n",
       "  <tbody>\n",
       "    <tr>\n",
       "      <th>0</th>\n",
       "      <td>*0</td>\n",
       "      <td>A02258</td>\n",
       "      <td>Sale</td>\n",
       "      <td>2</td>\n",
       "    </tr>\n",
       "    <tr>\n",
       "      <th>1</th>\n",
       "      <td>*0</td>\n",
       "      <td>A15601</td>\n",
       "      <td>Sale</td>\n",
       "      <td>4</td>\n",
       "    </tr>\n",
       "    <tr>\n",
       "      <th>2</th>\n",
       "      <td>*0</td>\n",
       "      <td>A18344</td>\n",
       "      <td>Sale</td>\n",
       "      <td>1</td>\n",
       "    </tr>\n",
       "    <tr>\n",
       "      <th>3</th>\n",
       "      <td>*0</td>\n",
       "      <td>A32613</td>\n",
       "      <td>Sale</td>\n",
       "      <td>1</td>\n",
       "    </tr>\n",
       "    <tr>\n",
       "      <th>4</th>\n",
       "      <td>*0</td>\n",
       "      <td>A32665</td>\n",
       "      <td>Sale</td>\n",
       "      <td>2</td>\n",
       "    </tr>\n",
       "    <tr>\n",
       "      <th>5</th>\n",
       "      <td>*0</td>\n",
       "      <td>A34295</td>\n",
       "      <td>Defective</td>\n",
       "      <td>1</td>\n",
       "    </tr>\n",
       "    <tr>\n",
       "      <th>6</th>\n",
       "      <td>*0</td>\n",
       "      <td>A36415</td>\n",
       "      <td>Sale</td>\n",
       "      <td>5</td>\n",
       "    </tr>\n",
       "    <tr>\n",
       "      <th>7</th>\n",
       "      <td>*0</td>\n",
       "      <td>A48740</td>\n",
       "      <td>Sale</td>\n",
       "      <td>4</td>\n",
       "    </tr>\n",
       "    <tr>\n",
       "      <th>8</th>\n",
       "      <td>*0</td>\n",
       "      <td>A66553</td>\n",
       "      <td>Sale</td>\n",
       "      <td>2</td>\n",
       "    </tr>\n",
       "    <tr>\n",
       "      <th>9</th>\n",
       "      <td>*0</td>\n",
       "      <td>A66639</td>\n",
       "      <td>Sale</td>\n",
       "      <td>5</td>\n",
       "    </tr>\n",
       "  </tbody>\n",
       "</table>\n",
       "</div>"
      ],
      "text/plain": [
       "  Customer Number Receipt Number  Item Type  Number of products\n",
       "0              *0         A02258       Sale                   2\n",
       "1              *0         A15601       Sale                   4\n",
       "2              *0         A18344       Sale                   1\n",
       "3              *0         A32613       Sale                   1\n",
       "4              *0         A32665       Sale                   2\n",
       "5              *0         A34295  Defective                   1\n",
       "6              *0         A36415       Sale                   5\n",
       "7              *0         A48740       Sale                   4\n",
       "8              *0         A66553       Sale                   2\n",
       "9              *0         A66639       Sale                   5"
      ]
     },
     "execution_count": 24,
     "metadata": {
      "tags": []
     },
     "output_type": "execute_result"
    }
   ],
   "source": [
    "df = data.groupby(['Customer Number', 'Receipt Number', 'Item Type'], as_index=False)['Date'].count()\n",
    "df = df.rename(columns = {'Date':'Number of products'})\n",
    "df[:10].sort_values('Customer Number')"
   ]
  },
  {
   "cell_type": "code",
   "execution_count": 0,
   "metadata": {
    "colab": {},
    "colab_type": "code",
    "id": "wSopWqE_onRV"
   },
   "outputs": [],
   "source": [
    "There are customers who purchase only 1 item per transanction and others who purchase many items per transanction."
   ]
  },
  {
   "cell_type": "code",
   "execution_count": 0,
   "metadata": {
    "colab": {},
    "colab_type": "code",
    "id": "Hsro8YptonRX",
    "outputId": "3a5a8235-d931-4762-d5d0-6a443b3f5262"
   },
   "outputs": [
    {
     "data": {
      "text/html": [
       "<div>\n",
       "<style scoped>\n",
       "    .dataframe tbody tr th:only-of-type {\n",
       "        vertical-align: middle;\n",
       "    }\n",
       "\n",
       "    .dataframe tbody tr th {\n",
       "        vertical-align: top;\n",
       "    }\n",
       "\n",
       "    .dataframe thead th {\n",
       "        text-align: right;\n",
       "    }\n",
       "</style>\n",
       "<table border=\"1\" class=\"dataframe\">\n",
       "  <thead>\n",
       "    <tr style=\"text-align: right;\">\n",
       "      <th></th>\n",
       "      <th>Customer Number</th>\n",
       "      <th>Receipt Number</th>\n",
       "      <th>Item Type</th>\n",
       "      <th>Number of products</th>\n",
       "      <th>Return Orders</th>\n",
       "    </tr>\n",
       "  </thead>\n",
       "  <tbody>\n",
       "    <tr>\n",
       "      <th>6503387</th>\n",
       "      <td>99999</td>\n",
       "      <td>58270</td>\n",
       "      <td>Sale</td>\n",
       "      <td>1</td>\n",
       "      <td>0</td>\n",
       "    </tr>\n",
       "    <tr>\n",
       "      <th>6503388</th>\n",
       "      <td>99999</td>\n",
       "      <td>58477</td>\n",
       "      <td>Sale</td>\n",
       "      <td>2</td>\n",
       "      <td>0</td>\n",
       "    </tr>\n",
       "    <tr>\n",
       "      <th>6503389</th>\n",
       "      <td>99999</td>\n",
       "      <td>58479</td>\n",
       "      <td>Sale</td>\n",
       "      <td>1</td>\n",
       "      <td>0</td>\n",
       "    </tr>\n",
       "    <tr>\n",
       "      <th>6503390</th>\n",
       "      <td>99999</td>\n",
       "      <td>61859</td>\n",
       "      <td>Sale</td>\n",
       "      <td>1</td>\n",
       "      <td>0</td>\n",
       "    </tr>\n",
       "    <tr>\n",
       "      <th>6503391</th>\n",
       "      <td>99999</td>\n",
       "      <td>6514</td>\n",
       "      <td>Sale</td>\n",
       "      <td>1</td>\n",
       "      <td>0</td>\n",
       "    </tr>\n",
       "  </tbody>\n",
       "</table>\n",
       "</div>"
      ],
      "text/plain": [
       "        Customer Number Receipt Number Item Type  Number of products  \\\n",
       "6503387           99999          58270      Sale                   1   \n",
       "6503388           99999          58477      Sale                   2   \n",
       "6503389           99999          58479      Sale                   1   \n",
       "6503390           99999          61859      Sale                   1   \n",
       "6503391           99999           6514      Sale                   1   \n",
       "\n",
       "         Return Orders  \n",
       "6503387              0  \n",
       "6503388              0  \n",
       "6503389              0  \n",
       "6503390              0  \n",
       "6503391              0  "
      ]
     },
     "execution_count": 27,
     "metadata": {
      "tags": []
     },
     "output_type": "execute_result"
    }
   ],
   "source": [
    "df['Return Orders'] = df['Item Type'].apply(lambda x: int('Return' in str(x)))\n",
    "df.tail()"
   ]
  },
  {
   "cell_type": "code",
   "execution_count": 0,
   "metadata": {
    "colab": {},
    "colab_type": "code",
    "id": "Rw-DH_1OonRZ",
    "outputId": "8a085ea1-2451-4e73-9411-e89d8d4b86a0"
   },
   "outputs": [
    {
     "name": "stdout",
     "output_type": "stream",
     "text": [
      "Number of orders returned 920580/6503392 (14.16%)\n"
     ]
    }
   ],
   "source": [
    "# Printing number of orders returned ->\n",
    "print(\"Number of orders returned {}/{} ({:.2f}%)\".format(df['Return Orders'].sum(), df.shape[0], df['Return Orders'].sum()/ df.shape[0] * 100))"
   ]
  },
  {
   "cell_type": "code",
   "execution_count": 0,
   "metadata": {
    "colab": {},
    "colab_type": "code",
    "id": "IUDJVcGjonRb",
    "outputId": "a9dfb652-511f-4a27-fdf5-2ce7eae031df"
   },
   "outputs": [
    {
     "data": {
      "text/html": [
       "<div>\n",
       "<style scoped>\n",
       "    .dataframe tbody tr th:only-of-type {\n",
       "        vertical-align: middle;\n",
       "    }\n",
       "\n",
       "    .dataframe tbody tr th {\n",
       "        vertical-align: top;\n",
       "    }\n",
       "\n",
       "    .dataframe thead th {\n",
       "        text-align: right;\n",
       "    }\n",
       "</style>\n",
       "<table border=\"1\" class=\"dataframe\">\n",
       "  <thead>\n",
       "    <tr style=\"text-align: right;\">\n",
       "      <th></th>\n",
       "      <th>Date</th>\n",
       "      <th>Transaction Time</th>\n",
       "      <th>Customer Number</th>\n",
       "      <th>Receipt Number</th>\n",
       "      <th>Store #</th>\n",
       "      <th>Store Name</th>\n",
       "      <th>Scanned UPC</th>\n",
       "      <th>Item Number</th>\n",
       "      <th>Item Description</th>\n",
       "      <th>Net Sales Units</th>\n",
       "      <th>...</th>\n",
       "      <th>$ Off Retail</th>\n",
       "      <th>Zip Code</th>\n",
       "      <th>Zip Plus-4</th>\n",
       "      <th>Loyalty ID</th>\n",
       "      <th>Clerk</th>\n",
       "      <th>Item Type</th>\n",
       "      <th>Line #</th>\n",
       "      <th>Line Item Transaction Type</th>\n",
       "      <th>Pricing Source</th>\n",
       "      <th>Return Code</th>\n",
       "    </tr>\n",
       "  </thead>\n",
       "  <tbody>\n",
       "    <tr>\n",
       "      <th>16240729</th>\n",
       "      <td>2017-09-10</td>\n",
       "      <td>11:47:53</td>\n",
       "      <td>*0</td>\n",
       "      <td>A32665</td>\n",
       "      <td>E</td>\n",
       "      <td>14664 NORTH MASSAPEQUA</td>\n",
       "      <td>29069753566</td>\n",
       "      <td>9106618</td>\n",
       "      <td>LANYARD ASSORTMENT</td>\n",
       "      <td>1.0</td>\n",
       "      <td>...</td>\n",
       "      <td>0.0</td>\n",
       "      <td>11738.0</td>\n",
       "      <td>2544.0</td>\n",
       "      <td>1924577066.0</td>\n",
       "      <td>ANDREW SAULPAUGH</td>\n",
       "      <td>Sale</td>\n",
       "      <td>2</td>\n",
       "      <td>Sale</td>\n",
       "      <td>Retail</td>\n",
       "      <td>W</td>\n",
       "    </tr>\n",
       "    <tr>\n",
       "      <th>9337855</th>\n",
       "      <td>2017-06-28</td>\n",
       "      <td>10:21:38</td>\n",
       "      <td>*0</td>\n",
       "      <td>E66524</td>\n",
       "      <td>L</td>\n",
       "      <td>15348 ROCKY POINT</td>\n",
       "      <td>OTHER</td>\n",
       "      <td>7438336</td>\n",
       "      <td>MG GARDN SOIL FLWR1.5CF</td>\n",
       "      <td>1.0</td>\n",
       "      <td>...</td>\n",
       "      <td>0.0</td>\n",
       "      <td>11738</td>\n",
       "      <td>2544</td>\n",
       "      <td>1924577066.0</td>\n",
       "      <td>GARY SUZIK</td>\n",
       "      <td>Sale</td>\n",
       "      <td>2</td>\n",
       "      <td>Sale</td>\n",
       "      <td>Retail</td>\n",
       "      <td>W</td>\n",
       "    </tr>\n",
       "    <tr>\n",
       "      <th>9221300</th>\n",
       "      <td>2017-06-24</td>\n",
       "      <td>8:54:07</td>\n",
       "      <td>*0</td>\n",
       "      <td>E65006</td>\n",
       "      <td>L</td>\n",
       "      <td>15348 ROCKY POINT</td>\n",
       "      <td>20066187651</td>\n",
       "      <td>1395946</td>\n",
       "      <td>SPRYPNT 2X GLS HUNTR GRN</td>\n",
       "      <td>1.0</td>\n",
       "      <td>...</td>\n",
       "      <td>1.49</td>\n",
       "      <td>11738.0</td>\n",
       "      <td>2544.0</td>\n",
       "      <td>1924577066.0</td>\n",
       "      <td>GARY SUZIK</td>\n",
       "      <td>Sale</td>\n",
       "      <td>3</td>\n",
       "      <td>Sale</td>\n",
       "      <td>Promotion</td>\n",
       "      <td>W</td>\n",
       "    </tr>\n",
       "    <tr>\n",
       "      <th>11331978</th>\n",
       "      <td>2018-03-29</td>\n",
       "      <td>13:44:59</td>\n",
       "      <td>*0</td>\n",
       "      <td>A80025</td>\n",
       "      <td>Y</td>\n",
       "      <td>16663 EDGEWATER</td>\n",
       "      <td>OTHER</td>\n",
       "      <td>45533</td>\n",
       "      <td>PIPE POLY 1\"X100' UTL100</td>\n",
       "      <td>2.0</td>\n",
       "      <td>...</td>\n",
       "      <td>0</td>\n",
       "      <td>11738</td>\n",
       "      <td>2544</td>\n",
       "      <td>1924577066.0</td>\n",
       "      <td>DEBORAH GAMIZ</td>\n",
       "      <td>Sale</td>\n",
       "      <td>6</td>\n",
       "      <td>Sale</td>\n",
       "      <td>Retail</td>\n",
       "      <td>W</td>\n",
       "    </tr>\n",
       "    <tr>\n",
       "      <th>11331977</th>\n",
       "      <td>2018-03-29</td>\n",
       "      <td>13:44:59</td>\n",
       "      <td>*0</td>\n",
       "      <td>A80025</td>\n",
       "      <td>Y</td>\n",
       "      <td>16663 EDGEWATER</td>\n",
       "      <td>6.11942E+11</td>\n",
       "      <td>47543</td>\n",
       "      <td>BUSHING 40PVC 1.5M1\" FPT</td>\n",
       "      <td>1.0</td>\n",
       "      <td>...</td>\n",
       "      <td>0</td>\n",
       "      <td>11738</td>\n",
       "      <td>2544</td>\n",
       "      <td>1924577066.0</td>\n",
       "      <td>DEBORAH GAMIZ</td>\n",
       "      <td>Sale</td>\n",
       "      <td>5</td>\n",
       "      <td>Sale</td>\n",
       "      <td>Retail</td>\n",
       "      <td>W</td>\n",
       "    </tr>\n",
       "  </tbody>\n",
       "</table>\n",
       "<p>5 rows × 39 columns</p>\n",
       "</div>"
      ],
      "text/plain": [
       "               Date Transaction Time Customer Number Receipt Number Store #  \\\n",
       "16240729 2017-09-10         11:47:53              *0         A32665       E   \n",
       "9337855  2017-06-28         10:21:38              *0         E66524       L   \n",
       "9221300  2017-06-24          8:54:07              *0         E65006       L   \n",
       "11331978 2018-03-29         13:44:59              *0         A80025       Y   \n",
       "11331977 2018-03-29         13:44:59              *0         A80025       Y   \n",
       "\n",
       "                      Store Name  Scanned UPC Item Number  \\\n",
       "16240729  14664 NORTH MASSAPEQUA  29069753566     9106618   \n",
       "9337855        15348 ROCKY POINT        OTHER     7438336   \n",
       "9221300        15348 ROCKY POINT  20066187651     1395946   \n",
       "11331978         16663 EDGEWATER        OTHER       45533   \n",
       "11331977         16663 EDGEWATER  6.11942E+11       47543   \n",
       "\n",
       "                  Item Description Net Sales Units  ... $ Off Retail Zip Code  \\\n",
       "16240729        LANYARD ASSORTMENT             1.0  ...          0.0  11738.0   \n",
       "9337855    MG GARDN SOIL FLWR1.5CF             1.0  ...          0.0    11738   \n",
       "9221300   SPRYPNT 2X GLS HUNTR GRN             1.0  ...         1.49  11738.0   \n",
       "11331978  PIPE POLY 1\"X100' UTL100             2.0  ...            0    11738   \n",
       "11331977  BUSHING 40PVC 1.5M1\" FPT             1.0  ...            0    11738   \n",
       "\n",
       "         Zip Plus-4    Loyalty ID             Clerk Item Type Line #  \\\n",
       "16240729     2544.0  1924577066.0  ANDREW SAULPAUGH      Sale      2   \n",
       "9337855        2544  1924577066.0        GARY SUZIK      Sale      2   \n",
       "9221300      2544.0  1924577066.0        GARY SUZIK      Sale      3   \n",
       "11331978       2544  1924577066.0     DEBORAH GAMIZ      Sale      6   \n",
       "11331977       2544  1924577066.0     DEBORAH GAMIZ      Sale      5   \n",
       "\n",
       "         Line Item Transaction Type Pricing Source Return Code  \n",
       "16240729                       Sale         Retail           W  \n",
       "9337855                        Sale         Retail           W  \n",
       "9221300                        Sale      Promotion           W  \n",
       "11331978                       Sale         Retail           W  \n",
       "11331977                       Sale         Retail           W  \n",
       "\n",
       "[5 rows x 39 columns]"
      ]
     },
     "execution_count": 29,
     "metadata": {
      "tags": []
     },
     "output_type": "execute_result"
    }
   ],
   "source": [
    "data.sort_values('Customer Number')[:5]"
   ]
  },
  {
   "cell_type": "code",
   "execution_count": 6,
   "metadata": {
    "colab": {
     "base_uri": "https://localhost:8080/",
     "height": 499
    },
    "colab_type": "code",
    "id": "rZkA8cV8onRd",
    "outputId": "fa41c81a-817a-45b7-97c5-f739fefe9a67"
   },
   "outputs": [
    {
     "data": {
      "text/html": [
       "<div>\n",
       "<style scoped>\n",
       "    .dataframe tbody tr th:only-of-type {\n",
       "        vertical-align: middle;\n",
       "    }\n",
       "\n",
       "    .dataframe tbody tr th {\n",
       "        vertical-align: top;\n",
       "    }\n",
       "\n",
       "    .dataframe thead th {\n",
       "        text-align: right;\n",
       "    }\n",
       "</style>\n",
       "<table border=\"1\" class=\"dataframe\">\n",
       "  <thead>\n",
       "    <tr style=\"text-align: right;\">\n",
       "      <th></th>\n",
       "      <th>Date</th>\n",
       "      <th>Transaction Time</th>\n",
       "      <th>Customer Number</th>\n",
       "      <th>Receipt Number</th>\n",
       "      <th>Store #</th>\n",
       "      <th>Store Name</th>\n",
       "      <th>Scanned UPC</th>\n",
       "      <th>Item Number</th>\n",
       "      <th>Item Description</th>\n",
       "      <th>Net Sales Units</th>\n",
       "      <th>Net Sales</th>\n",
       "      <th>Cost</th>\n",
       "      <th>Gross Margin</th>\n",
       "      <th>Gross Margin %</th>\n",
       "      <th>Department Code</th>\n",
       "      <th>Department Name</th>\n",
       "      <th>Class Code</th>\n",
       "      <th>Class Name</th>\n",
       "      <th>Fineline Code</th>\n",
       "      <th>Fineline Name</th>\n",
       "      <th>Item was Scanned</th>\n",
       "      <th>MIP Promo ID</th>\n",
       "      <th>Promo/Discount</th>\n",
       "      <th>Dynamic Promo ID</th>\n",
       "      <th>Actual Price</th>\n",
       "      <th>Retail Price</th>\n",
       "      <th>Actual-Retail</th>\n",
       "      <th>Taxable</th>\n",
       "      <th>Tender Type</th>\n",
       "      <th>$ Off Retail</th>\n",
       "      <th>Zip Code</th>\n",
       "      <th>Zip Plus-4</th>\n",
       "      <th>Loyalty ID</th>\n",
       "      <th>Clerk</th>\n",
       "      <th>Item Type</th>\n",
       "      <th>Line #</th>\n",
       "      <th>Line Item Transaction Type</th>\n",
       "      <th>Pricing Source</th>\n",
       "      <th>Return Code</th>\n",
       "    </tr>\n",
       "  </thead>\n",
       "  <tbody>\n",
       "    <tr>\n",
       "      <th>1</th>\n",
       "      <td>2017-04-01</td>\n",
       "      <td>7:02:55</td>\n",
       "      <td>290074</td>\n",
       "      <td>D70801</td>\n",
       "      <td>O</td>\n",
       "      <td>15863 COPIAGUE</td>\n",
       "      <td>OTHER</td>\n",
       "      <td>7158314</td>\n",
       "      <td>ACE FERT 4STEP 5M</td>\n",
       "      <td>1</td>\n",
       "      <td>64.99</td>\n",
       "      <td>43.5</td>\n",
       "      <td>21.49</td>\n",
       "      <td>33.07%</td>\n",
       "      <td>70</td>\n",
       "      <td>LAWN, GARDEN &amp; FARM SUPPLIES</td>\n",
       "      <td>744</td>\n",
       "      <td>FERTILIZERS</td>\n",
       "      <td>74401</td>\n",
       "      <td>LAWN (DRY BAG)</td>\n",
       "      <td>5</td>\n",
       "      <td>1042017</td>\n",
       "      <td>S</td>\n",
       "      <td>1871</td>\n",
       "      <td>64.99</td>\n",
       "      <td>67.99</td>\n",
       "      <td>($3.00)</td>\n",
       "      <td>Y</td>\n",
       "      <td>Bankcard Tender</td>\n",
       "      <td>3</td>\n",
       "      <td>11717</td>\n",
       "      <td>8017</td>\n",
       "      <td>1.92617e+09</td>\n",
       "      <td>LISA JUDGE</td>\n",
       "      <td>Sale</td>\n",
       "      <td>1</td>\n",
       "      <td>Sale</td>\n",
       "      <td>Promotion</td>\n",
       "      <td>NaN</td>\n",
       "    </tr>\n",
       "    <tr>\n",
       "      <th>2</th>\n",
       "      <td>2017-04-01</td>\n",
       "      <td>7:02:55</td>\n",
       "      <td>290074</td>\n",
       "      <td>D70801</td>\n",
       "      <td>O</td>\n",
       "      <td>15863 COPIAGUE</td>\n",
       "      <td>OTHER</td>\n",
       "      <td>IS117235</td>\n",
       "      <td>7158314 $20 INST SAVINGS</td>\n",
       "      <td>-1</td>\n",
       "      <td>-20</td>\n",
       "      <td>0</td>\n",
       "      <td>-20</td>\n",
       "      <td>100.00%</td>\n",
       "      <td>I1</td>\n",
       "      <td>ACE REWARDS INSTANT SAVINGS</td>\n",
       "      <td>IS1</td>\n",
       "      <td>ACE COUPON/CREDIT ITEMS</td>\n",
       "      <td>IS106</td>\n",
       "      <td>ACE COUPON/CREDIT ITEMS</td>\n",
       "      <td>5</td>\n",
       "      <td>170451AC</td>\n",
       "      <td>S</td>\n",
       "      <td>1871</td>\n",
       "      <td>20</td>\n",
       "      <td>20</td>\n",
       "      <td>$0.00</td>\n",
       "      <td>N</td>\n",
       "      <td>Bankcard Tender</td>\n",
       "      <td>0</td>\n",
       "      <td>11717</td>\n",
       "      <td>8017</td>\n",
       "      <td>1.92617e+09</td>\n",
       "      <td>LISA JUDGE</td>\n",
       "      <td>Return</td>\n",
       "      <td>2</td>\n",
       "      <td>Return</td>\n",
       "      <td>Promotion</td>\n",
       "      <td>NaN</td>\n",
       "    </tr>\n",
       "    <tr>\n",
       "      <th>30</th>\n",
       "      <td>2017-04-01</td>\n",
       "      <td>7:49:01</td>\n",
       "      <td>11391</td>\n",
       "      <td>18465</td>\n",
       "      <td>3</td>\n",
       "      <td>3164 NESCONSET</td>\n",
       "      <td>45923098024</td>\n",
       "      <td>S9802</td>\n",
       "      <td>15A21/LED/2700K/120V/4PK</td>\n",
       "      <td>2</td>\n",
       "      <td>39.98</td>\n",
       "      <td>25.74</td>\n",
       "      <td>14.24</td>\n",
       "      <td>35.62%</td>\n",
       "      <td>30</td>\n",
       "      <td>FLASHLIGHTS, LIGHTING &amp; SUPPLIES</td>\n",
       "      <td>366</td>\n",
       "      <td>LED LIGHT BULBS</td>\n",
       "      <td>36601</td>\n",
       "      <td>DECORATIVE - LED</td>\n",
       "      <td>1</td>\n",
       "      <td>1041317</td>\n",
       "      <td>S</td>\n",
       "      <td>0</td>\n",
       "      <td>19.99</td>\n",
       "      <td>24.99</td>\n",
       "      <td>($5.00)</td>\n",
       "      <td>Y</td>\n",
       "      <td>Charge Tender</td>\n",
       "      <td>5</td>\n",
       "      <td>11749</td>\n",
       "      <td>NaN</td>\n",
       "      <td>1.98174e+09</td>\n",
       "      <td>JUAN DIAZ</td>\n",
       "      <td>Sale</td>\n",
       "      <td>1</td>\n",
       "      <td>Sale</td>\n",
       "      <td>Promotion</td>\n",
       "      <td>NaN</td>\n",
       "    </tr>\n",
       "    <tr>\n",
       "      <th>38</th>\n",
       "      <td>2017-04-01</td>\n",
       "      <td>7:56:56</td>\n",
       "      <td>301516</td>\n",
       "      <td>E37839</td>\n",
       "      <td>L</td>\n",
       "      <td>15348 ROCKY POINT</td>\n",
       "      <td>71549043056</td>\n",
       "      <td>71383</td>\n",
       "      <td>GROUND CLEAR CONC GAL</td>\n",
       "      <td>1</td>\n",
       "      <td>17.59</td>\n",
       "      <td>13.94</td>\n",
       "      <td>3.65</td>\n",
       "      <td>20.75%</td>\n",
       "      <td>70</td>\n",
       "      <td>LAWN, GARDEN &amp; FARM SUPPLIES</td>\n",
       "      <td>753</td>\n",
       "      <td>WEED CONTROL PRODUCTS</td>\n",
       "      <td>75304</td>\n",
       "      <td>VEGETATION KILL</td>\n",
       "      <td>1</td>\n",
       "      <td>4170401S</td>\n",
       "      <td>S</td>\n",
       "      <td>1591</td>\n",
       "      <td>17.59</td>\n",
       "      <td>23.99</td>\n",
       "      <td>($6.40)</td>\n",
       "      <td>Y</td>\n",
       "      <td>Bankcard Tender</td>\n",
       "      <td>6.4</td>\n",
       "      <td>11778</td>\n",
       "      <td>9699</td>\n",
       "      <td>1.92292e+09</td>\n",
       "      <td>REBECCA EDWARDS</td>\n",
       "      <td>Sale</td>\n",
       "      <td>1</td>\n",
       "      <td>Sale</td>\n",
       "      <td>Category Price Plan</td>\n",
       "      <td>NaN</td>\n",
       "    </tr>\n",
       "    <tr>\n",
       "      <th>39</th>\n",
       "      <td>2017-04-01</td>\n",
       "      <td>7:56:56</td>\n",
       "      <td>301516</td>\n",
       "      <td>E37839</td>\n",
       "      <td>L</td>\n",
       "      <td>15348 ROCKY POINT</td>\n",
       "      <td>71549019686</td>\n",
       "      <td>7306574</td>\n",
       "      <td>HOME DEFENSE RTU 1.1GAL</td>\n",
       "      <td>1</td>\n",
       "      <td>12.29</td>\n",
       "      <td>10.41</td>\n",
       "      <td>1.88</td>\n",
       "      <td>15.30%</td>\n",
       "      <td>70</td>\n",
       "      <td>LAWN, GARDEN &amp; FARM SUPPLIES</td>\n",
       "      <td>750</td>\n",
       "      <td>INSECTICIDES/REPELLENTS</td>\n",
       "      <td>75007</td>\n",
       "      <td>RTU PRODUCTS/APPLICATORS</td>\n",
       "      <td>1</td>\n",
       "      <td>4170401Q</td>\n",
       "      <td>S</td>\n",
       "      <td>1589</td>\n",
       "      <td>12.29</td>\n",
       "      <td>16.99</td>\n",
       "      <td>($4.70)</td>\n",
       "      <td>Y</td>\n",
       "      <td>Bankcard Tender</td>\n",
       "      <td>4.7</td>\n",
       "      <td>11778</td>\n",
       "      <td>9699</td>\n",
       "      <td>1.92292e+09</td>\n",
       "      <td>REBECCA EDWARDS</td>\n",
       "      <td>Sale</td>\n",
       "      <td>3</td>\n",
       "      <td>Sale</td>\n",
       "      <td>Category Price Plan</td>\n",
       "      <td>NaN</td>\n",
       "    </tr>\n",
       "  </tbody>\n",
       "</table>\n",
       "</div>"
      ],
      "text/plain": [
       "         Date Transaction Time  ...       Pricing Source Return Code\n",
       "1  2017-04-01          7:02:55  ...            Promotion         NaN\n",
       "2  2017-04-01          7:02:55  ...            Promotion         NaN\n",
       "30 2017-04-01          7:49:01  ...            Promotion         NaN\n",
       "38 2017-04-01          7:56:56  ...  Category Price Plan         NaN\n",
       "39 2017-04-01          7:56:56  ...  Category Price Plan         NaN\n",
       "\n",
       "[5 rows x 39 columns]"
      ]
     },
     "execution_count": 6,
     "metadata": {
      "tags": []
     },
     "output_type": "execute_result"
    }
   ],
   "source": [
    "df = data[data['Promo/Discount'].isin (['D','P','Q','S'])]\n",
    "df.head()"
   ]
  },
  {
   "cell_type": "code",
   "execution_count": 0,
   "metadata": {
    "colab": {},
    "colab_type": "code",
    "id": "bSLYGfhy9uSQ"
   },
   "outputs": [],
   "source": [
    "data['Net Sales Units'] = data['Net Sales Units'].astype(str).str.replace(\",\", \"\").astype(float)\n",
    "data['Net Sales'] = data['Net Sales'].astype(str).str.replace(\",\", \"\").astype(float)"
   ]
  },
  {
   "cell_type": "code",
   "execution_count": 8,
   "metadata": {
    "colab": {
     "base_uri": "https://localhost:8080/",
     "height": 202
    },
    "colab_type": "code",
    "id": "BsTXrxzw86Hv",
    "outputId": "5c016e35-f560-45e3-abb2-94d56c5c5dbe"
   },
   "outputs": [
    {
     "data": {
      "text/html": [
       "<div>\n",
       "<style scoped>\n",
       "    .dataframe tbody tr th:only-of-type {\n",
       "        vertical-align: middle;\n",
       "    }\n",
       "\n",
       "    .dataframe tbody tr th {\n",
       "        vertical-align: top;\n",
       "    }\n",
       "\n",
       "    .dataframe thead th {\n",
       "        text-align: right;\n",
       "    }\n",
       "</style>\n",
       "<table border=\"1\" class=\"dataframe\">\n",
       "  <thead>\n",
       "    <tr style=\"text-align: right;\">\n",
       "      <th></th>\n",
       "      <th>Customer Number</th>\n",
       "      <th>Net Sales Units</th>\n",
       "      <th>Item Description</th>\n",
       "      <th>Cost</th>\n",
       "    </tr>\n",
       "  </thead>\n",
       "  <tbody>\n",
       "    <tr>\n",
       "      <th>22</th>\n",
       "      <td>104609</td>\n",
       "      <td>-1.0</td>\n",
       "      <td>$5 REWARDC</td>\n",
       "      <td>0</td>\n",
       "    </tr>\n",
       "    <tr>\n",
       "      <th>127</th>\n",
       "      <td>*AC2H9</td>\n",
       "      <td>-1.0</td>\n",
       "      <td>IN-STORE COUPON SAVE $5.00</td>\n",
       "      <td>-0.01</td>\n",
       "    </tr>\n",
       "    <tr>\n",
       "      <th>224</th>\n",
       "      <td>*80179</td>\n",
       "      <td>-1.0</td>\n",
       "      <td>HEATER QUARTZ TOWER-WHITE</td>\n",
       "      <td>-28.24</td>\n",
       "    </tr>\n",
       "    <tr>\n",
       "      <th>230</th>\n",
       "      <td>*66493</td>\n",
       "      <td>-1.0</td>\n",
       "      <td>WBG MAX  CRABGRASSRTU1GL</td>\n",
       "      <td>-8.18</td>\n",
       "    </tr>\n",
       "    <tr>\n",
       "      <th>231</th>\n",
       "      <td>*66493</td>\n",
       "      <td>-1.0</td>\n",
       "      <td>INSECT KILLR INDOOR 1GAL</td>\n",
       "      <td>-7.36</td>\n",
       "    </tr>\n",
       "  </tbody>\n",
       "</table>\n",
       "</div>"
      ],
      "text/plain": [
       "    Customer Number  Net Sales Units            Item Description   Cost\n",
       "22           104609             -1.0                  $5 REWARDC      0\n",
       "127          *AC2H9             -1.0  IN-STORE COUPON SAVE $5.00  -0.01\n",
       "224          *80179             -1.0   HEATER QUARTZ TOWER-WHITE -28.24\n",
       "230          *66493             -1.0    WBG MAX  CRABGRASSRTU1GL  -8.18\n",
       "231          *66493             -1.0    INSECT KILLR INDOOR 1GAL  -7.36"
      ]
     },
     "execution_count": 8,
     "metadata": {
      "tags": []
     },
     "output_type": "execute_result"
    }
   ],
   "source": [
    "\n",
    "df = data[(data['Net Sales Units']<0) & (~data['Promo/Discount'].isin (['D','P','Q','S']))][['Customer Number','Net Sales Units','Item Description','Cost']]\n",
    "df.head()"
   ]
  },
  {
   "cell_type": "code",
   "execution_count": 9,
   "metadata": {
    "colab": {
     "base_uri": "https://localhost:8080/",
     "height": 121
    },
    "colab_type": "code",
    "id": "TaecGjez-FpL",
    "outputId": "717141e7-098d-4b07-92cd-faf3223ff71f"
   },
   "outputs": [
    {
     "name": "stdout",
     "output_type": "stream",
     "text": [
      "22 Customer Number         104609\n",
      "Net Sales Units             -1\n",
      "Item Description    $5 REWARDC\n",
      "Cost                         0\n",
      "Name: 22, dtype: object\n",
      "There are some transanctions for which counterpart does not exist\n"
     ]
    }
   ],
   "source": [
    "for index, col in df.iterrows():\n",
    "    if data[(data['Customer Number'] == col[0]) & (data['Net Sales Units'] == -col[1]) & (data['Item Description'] == col[2])].shape[0] == 0:\n",
    "        print(index, df.loc[index])\n",
    "        print(\"There are some transanctions for which counterpart does not exist\")\n",
    "        break"
   ]
  },
  {
   "cell_type": "code",
   "execution_count": 0,
   "metadata": {
    "colab": {},
    "colab_type": "code",
    "id": "1owNvUOOBfNJ"
   },
   "outputs": [],
   "source": [
    "data['Cost'] = data['Cost'].astype(str).str.replace(\",\", \"\").astype(float)"
   ]
  },
  {
   "cell_type": "code",
   "execution_count": 10,
   "metadata": {
    "colab": {
     "base_uri": "https://localhost:8080/",
     "height": 465
    },
    "colab_type": "code",
    "id": "9WdKypiFBJIA",
    "outputId": "fb2fc1f8-2670-4e92-bef2-fb35248b1186"
   },
   "outputs": [
    {
     "data": {
      "text/html": [
       "<div>\n",
       "<style scoped>\n",
       "    .dataframe tbody tr th:only-of-type {\n",
       "        vertical-align: middle;\n",
       "    }\n",
       "\n",
       "    .dataframe tbody tr th {\n",
       "        vertical-align: top;\n",
       "    }\n",
       "\n",
       "    .dataframe thead th {\n",
       "        text-align: right;\n",
       "    }\n",
       "</style>\n",
       "<table border=\"1\" class=\"dataframe\">\n",
       "  <thead>\n",
       "    <tr style=\"text-align: right;\">\n",
       "      <th></th>\n",
       "      <th>Date</th>\n",
       "      <th>Transaction Time</th>\n",
       "      <th>Customer Number</th>\n",
       "      <th>Receipt Number</th>\n",
       "      <th>Store #</th>\n",
       "      <th>Store Name</th>\n",
       "      <th>Scanned UPC</th>\n",
       "      <th>Item Number</th>\n",
       "      <th>Item Description</th>\n",
       "      <th>Net Sales Units</th>\n",
       "      <th>Net Sales</th>\n",
       "      <th>Cost</th>\n",
       "      <th>Gross Margin</th>\n",
       "      <th>Gross Margin %</th>\n",
       "      <th>Department Code</th>\n",
       "      <th>Department Name</th>\n",
       "      <th>Class Code</th>\n",
       "      <th>Class Name</th>\n",
       "      <th>Fineline Code</th>\n",
       "      <th>Fineline Name</th>\n",
       "      <th>Item was Scanned</th>\n",
       "      <th>MIP Promo ID</th>\n",
       "      <th>Promo/Discount</th>\n",
       "      <th>Dynamic Promo ID</th>\n",
       "      <th>Actual Price</th>\n",
       "      <th>Retail Price</th>\n",
       "      <th>Actual-Retail</th>\n",
       "      <th>Taxable</th>\n",
       "      <th>Tender Type</th>\n",
       "      <th>$ Off Retail</th>\n",
       "      <th>Zip Code</th>\n",
       "      <th>Zip Plus-4</th>\n",
       "      <th>Loyalty ID</th>\n",
       "      <th>Clerk</th>\n",
       "      <th>Item Type</th>\n",
       "      <th>Line #</th>\n",
       "      <th>Line Item Transaction Type</th>\n",
       "      <th>Pricing Source</th>\n",
       "      <th>Return Code</th>\n",
       "      <th>TotalPrice</th>\n",
       "    </tr>\n",
       "  </thead>\n",
       "  <tbody>\n",
       "    <tr>\n",
       "      <th>16240729</th>\n",
       "      <td>2017-09-10</td>\n",
       "      <td>11:47:53</td>\n",
       "      <td>*0</td>\n",
       "      <td>A32665</td>\n",
       "      <td>E</td>\n",
       "      <td>14664 NORTH MASSAPEQUA</td>\n",
       "      <td>29069753566</td>\n",
       "      <td>9106618</td>\n",
       "      <td>LANYARD ASSORTMENT</td>\n",
       "      <td>1.0</td>\n",
       "      <td>2.49</td>\n",
       "      <td>0.57</td>\n",
       "      <td>1.92</td>\n",
       "      <td>77.11%</td>\n",
       "      <td>50</td>\n",
       "      <td>HARDWARE</td>\n",
       "      <td>511</td>\n",
       "      <td>KEY RINGS/ACCESSORIES</td>\n",
       "      <td>51102</td>\n",
       "      <td>BUCKET PROGRAM</td>\n",
       "      <td>1</td>\n",
       "      <td>NaN</td>\n",
       "      <td>NaN</td>\n",
       "      <td>0</td>\n",
       "      <td>2.49</td>\n",
       "      <td>2.49</td>\n",
       "      <td>$0.00</td>\n",
       "      <td>Y</td>\n",
       "      <td>Bankcard Tender</td>\n",
       "      <td>0</td>\n",
       "      <td>11738</td>\n",
       "      <td>2544</td>\n",
       "      <td>1.92458e+09</td>\n",
       "      <td>ANDREW SAULPAUGH</td>\n",
       "      <td>Sale</td>\n",
       "      <td>2</td>\n",
       "      <td>Sale</td>\n",
       "      <td>Retail</td>\n",
       "      <td>NaN</td>\n",
       "      <td>0.57</td>\n",
       "    </tr>\n",
       "    <tr>\n",
       "      <th>9337855</th>\n",
       "      <td>2017-06-28</td>\n",
       "      <td>10:21:38</td>\n",
       "      <td>*0</td>\n",
       "      <td>E66524</td>\n",
       "      <td>L</td>\n",
       "      <td>15348 ROCKY POINT</td>\n",
       "      <td>OTHER</td>\n",
       "      <td>7438336</td>\n",
       "      <td>MG GARDN SOIL FLWR1.5CF</td>\n",
       "      <td>1.0</td>\n",
       "      <td>5.84</td>\n",
       "      <td>6.38</td>\n",
       "      <td>-0.54</td>\n",
       "      <td>-9.25%</td>\n",
       "      <td>70</td>\n",
       "      <td>LAWN, GARDEN &amp; FARM SUPPLIES</td>\n",
       "      <td>746</td>\n",
       "      <td>BAG PRODUCTS</td>\n",
       "      <td>74604</td>\n",
       "      <td>POTTING/TOP-SOILS-LARGEPK</td>\n",
       "      <td>5</td>\n",
       "      <td>NaN</td>\n",
       "      <td>NaN</td>\n",
       "      <td>0</td>\n",
       "      <td>7.99</td>\n",
       "      <td>7.99</td>\n",
       "      <td>$0.00</td>\n",
       "      <td>Y</td>\n",
       "      <td>Bankcard Tender</td>\n",
       "      <td>0</td>\n",
       "      <td>11738</td>\n",
       "      <td>2544</td>\n",
       "      <td>1.92458e+09</td>\n",
       "      <td>GARY SUZIK</td>\n",
       "      <td>Sale</td>\n",
       "      <td>2</td>\n",
       "      <td>Sale</td>\n",
       "      <td>Retail</td>\n",
       "      <td>NaN</td>\n",
       "      <td>6.38</td>\n",
       "    </tr>\n",
       "    <tr>\n",
       "      <th>9221300</th>\n",
       "      <td>2017-06-24</td>\n",
       "      <td>8:54:07</td>\n",
       "      <td>*0</td>\n",
       "      <td>E65006</td>\n",
       "      <td>L</td>\n",
       "      <td>15348 ROCKY POINT</td>\n",
       "      <td>20066187651</td>\n",
       "      <td>1395946</td>\n",
       "      <td>SPRYPNT 2X GLS HUNTR GRN</td>\n",
       "      <td>1.0</td>\n",
       "      <td>3.50</td>\n",
       "      <td>2.51</td>\n",
       "      <td>0.99</td>\n",
       "      <td>28.29%</td>\n",
       "      <td>14</td>\n",
       "      <td>PAINT &amp; PAINT SUPPLIES</td>\n",
       "      <td>163</td>\n",
       "      <td>SPRAY PAINTS</td>\n",
       "      <td>16301</td>\n",
       "      <td>GENERAL PURPOSE</td>\n",
       "      <td>1</td>\n",
       "      <td>1062217</td>\n",
       "      <td>S</td>\n",
       "      <td>0</td>\n",
       "      <td>3.5</td>\n",
       "      <td>4.99</td>\n",
       "      <td>($1.49)</td>\n",
       "      <td>Y</td>\n",
       "      <td>Bankcard Tender</td>\n",
       "      <td>1.49</td>\n",
       "      <td>11738</td>\n",
       "      <td>2544</td>\n",
       "      <td>1.92458e+09</td>\n",
       "      <td>GARY SUZIK</td>\n",
       "      <td>Sale</td>\n",
       "      <td>3</td>\n",
       "      <td>Sale</td>\n",
       "      <td>Promotion</td>\n",
       "      <td>NaN</td>\n",
       "      <td>2.51</td>\n",
       "    </tr>\n",
       "    <tr>\n",
       "      <th>11331978</th>\n",
       "      <td>2018-03-29</td>\n",
       "      <td>13:44:59</td>\n",
       "      <td>*0</td>\n",
       "      <td>A80025</td>\n",
       "      <td>Y</td>\n",
       "      <td>16663 EDGEWATER</td>\n",
       "      <td>OTHER</td>\n",
       "      <td>45533</td>\n",
       "      <td>PIPE POLY 1\"X100' UTL100</td>\n",
       "      <td>2.0</td>\n",
       "      <td>0.78</td>\n",
       "      <td>0.30</td>\n",
       "      <td>0.48</td>\n",
       "      <td>61.54%</td>\n",
       "      <td>40</td>\n",
       "      <td>PLUMBING SUPPLIES &amp; FIXTURES</td>\n",
       "      <td>478</td>\n",
       "      <td>PLASTIC PIPE</td>\n",
       "      <td>47806</td>\n",
       "      <td>POLYETHYLENE UTILITY PIPE</td>\n",
       "      <td>5</td>\n",
       "      <td>NaN</td>\n",
       "      <td>NaN</td>\n",
       "      <td>0</td>\n",
       "      <td>0.39</td>\n",
       "      <td>0.39</td>\n",
       "      <td>$0.00</td>\n",
       "      <td>Y</td>\n",
       "      <td>Bankcard Tender</td>\n",
       "      <td>0</td>\n",
       "      <td>11738</td>\n",
       "      <td>2544</td>\n",
       "      <td>1.92458e+09</td>\n",
       "      <td>DEBORAH GAMIZ</td>\n",
       "      <td>Sale</td>\n",
       "      <td>6</td>\n",
       "      <td>Sale</td>\n",
       "      <td>Retail</td>\n",
       "      <td>NaN</td>\n",
       "      <td>0.60</td>\n",
       "    </tr>\n",
       "    <tr>\n",
       "      <th>11331977</th>\n",
       "      <td>2018-03-29</td>\n",
       "      <td>13:44:59</td>\n",
       "      <td>*0</td>\n",
       "      <td>A80025</td>\n",
       "      <td>Y</td>\n",
       "      <td>16663 EDGEWATER</td>\n",
       "      <td>6.11942E+11</td>\n",
       "      <td>47543</td>\n",
       "      <td>BUSHING 40PVC 1.5M1\" FPT</td>\n",
       "      <td>1.0</td>\n",
       "      <td>2.99</td>\n",
       "      <td>1.07</td>\n",
       "      <td>1.92</td>\n",
       "      <td>64.21%</td>\n",
       "      <td>40</td>\n",
       "      <td>PLUMBING SUPPLIES &amp; FIXTURES</td>\n",
       "      <td>477</td>\n",
       "      <td>PLASTIC FITTINGS</td>\n",
       "      <td>47701</td>\n",
       "      <td>PVC PRESSURE FITTINGS DOM</td>\n",
       "      <td>1</td>\n",
       "      <td>NaN</td>\n",
       "      <td>NaN</td>\n",
       "      <td>0</td>\n",
       "      <td>2.99</td>\n",
       "      <td>2.99</td>\n",
       "      <td>$0.00</td>\n",
       "      <td>Y</td>\n",
       "      <td>Bankcard Tender</td>\n",
       "      <td>0</td>\n",
       "      <td>11738</td>\n",
       "      <td>2544</td>\n",
       "      <td>1.92458e+09</td>\n",
       "      <td>DEBORAH GAMIZ</td>\n",
       "      <td>Sale</td>\n",
       "      <td>5</td>\n",
       "      <td>Sale</td>\n",
       "      <td>Retail</td>\n",
       "      <td>NaN</td>\n",
       "      <td>1.07</td>\n",
       "    </tr>\n",
       "  </tbody>\n",
       "</table>\n",
       "</div>"
      ],
      "text/plain": [
       "               Date Transaction Time  ... Return Code TotalPrice\n",
       "16240729 2017-09-10         11:47:53  ...         NaN       0.57\n",
       "9337855  2017-06-28         10:21:38  ...         NaN       6.38\n",
       "9221300  2017-06-24          8:54:07  ...         NaN       2.51\n",
       "11331978 2018-03-29         13:44:59  ...         NaN       0.60\n",
       "11331977 2018-03-29         13:44:59  ...         NaN       1.07\n",
       "\n",
       "[5 rows x 40 columns]"
      ]
     },
     "execution_count": 10,
     "metadata": {
      "tags": []
     },
     "output_type": "execute_result"
    }
   ],
   "source": [
    "data['TotalPrice'] = data['Cost'].astype(float) * data['Net Sales Units']\n",
    "data.sort_values('Customer Number')[:5]"
   ]
  },
  {
   "cell_type": "code",
   "execution_count": 0,
   "metadata": {
    "colab": {},
    "colab_type": "code",
    "id": "V-vT0RkqBv9X"
   },
   "outputs": [],
   "source": [
    "temp = data.groupby(by=['Customer Number', 'Receipt Number'], as_index=False)['Net Sales'].sum()\n",
    "basket_price = temp.rename(columns = {'Net Sales': 'Basket Price'})"
   ]
  },
  {
   "cell_type": "code",
   "execution_count": 0,
   "metadata": {
    "colab": {},
    "colab_type": "code",
    "id": "p9qKtpBLEE28"
   },
   "outputs": [],
   "source": [
    "\n",
    "data['Date_int'] = data['Date'].astype('int64')\n",
    "temp = data.groupby(by=['Customer Number', 'Receipt Number'], as_index=False)['Date_int'].mean()\n",
    "data.drop('Date_int', axis = 1, inplace=True)\n",
    "basket_price.loc[:, 'Date'] = pd.to_datetime(temp['Date_int'])"
   ]
  },
  {
   "cell_type": "code",
   "execution_count": 14,
   "metadata": {
    "colab": {
     "base_uri": "https://localhost:8080/",
     "height": 233
    },
    "colab_type": "code",
    "id": "dq_-aY12EOb8",
    "outputId": "d279cd6c-d4fe-4bfd-cc75-d87805a9d9ea"
   },
   "outputs": [
    {
     "data": {
      "text/html": [
       "<div>\n",
       "<style scoped>\n",
       "    .dataframe tbody tr th:only-of-type {\n",
       "        vertical-align: middle;\n",
       "    }\n",
       "\n",
       "    .dataframe tbody tr th {\n",
       "        vertical-align: top;\n",
       "    }\n",
       "\n",
       "    .dataframe thead th {\n",
       "        text-align: right;\n",
       "    }\n",
       "</style>\n",
       "<table border=\"1\" class=\"dataframe\">\n",
       "  <thead>\n",
       "    <tr style=\"text-align: right;\">\n",
       "      <th></th>\n",
       "      <th>Customer Number</th>\n",
       "      <th>Receipt Number</th>\n",
       "      <th>Basket Price</th>\n",
       "      <th>Date</th>\n",
       "    </tr>\n",
       "  </thead>\n",
       "  <tbody>\n",
       "    <tr>\n",
       "      <th>0</th>\n",
       "      <td>*0</td>\n",
       "      <td>A02258</td>\n",
       "      <td>10.98</td>\n",
       "      <td>2017-07-28</td>\n",
       "    </tr>\n",
       "    <tr>\n",
       "      <th>30</th>\n",
       "      <td>*0</td>\n",
       "      <td>E25313</td>\n",
       "      <td>170.34</td>\n",
       "      <td>2018-12-22</td>\n",
       "    </tr>\n",
       "    <tr>\n",
       "      <th>31</th>\n",
       "      <td>*0</td>\n",
       "      <td>E26404</td>\n",
       "      <td>4.99</td>\n",
       "      <td>2017-02-02</td>\n",
       "    </tr>\n",
       "    <tr>\n",
       "      <th>32</th>\n",
       "      <td>*0</td>\n",
       "      <td>E35148</td>\n",
       "      <td>20.48</td>\n",
       "      <td>2018-11-23</td>\n",
       "    </tr>\n",
       "    <tr>\n",
       "      <th>33</th>\n",
       "      <td>*0</td>\n",
       "      <td>E62615</td>\n",
       "      <td>8.99</td>\n",
       "      <td>2017-06-16</td>\n",
       "    </tr>\n",
       "    <tr>\n",
       "      <th>34</th>\n",
       "      <td>*0</td>\n",
       "      <td>E65006</td>\n",
       "      <td>11.99</td>\n",
       "      <td>2017-06-24</td>\n",
       "    </tr>\n",
       "  </tbody>\n",
       "</table>\n",
       "</div>"
      ],
      "text/plain": [
       "   Customer Number Receipt Number  Basket Price       Date\n",
       "0               *0         A02258         10.98 2017-07-28\n",
       "30              *0         E25313        170.34 2018-12-22\n",
       "31              *0         E26404          4.99 2017-02-02\n",
       "32              *0         E35148         20.48 2018-11-23\n",
       "33              *0         E62615          8.99 2017-06-16\n",
       "34              *0         E65006         11.99 2017-06-24"
      ]
     },
     "execution_count": 14,
     "metadata": {
      "tags": []
     },
     "output_type": "execute_result"
    }
   ],
   "source": [
    "\n",
    "basket_price = basket_price[basket_price['Basket Price'] > 0]\n",
    "basket_price.sort_values('Customer Number')[:6]"
   ]
  },
  {
   "cell_type": "code",
   "execution_count": 15,
   "metadata": {
    "colab": {
     "base_uri": "https://localhost:8080/",
     "height": 451
    },
    "colab_type": "code",
    "id": "WbbhYO41EXl2",
    "outputId": "dcd08bba-7fa4-4bfe-92ec-6847381582b6"
   },
   "outputs": [
    {
     "data": {
      "image/png": "[encoded data removed]",
      "text/plain": [
       "<Figure size 792x432 with 1 Axes>"
      ]
     },
     "metadata": {
      "tags": []
     },
     "output_type": "display_data"
    }
   ],
   "source": [
    "price_range = [0, 20, 40, 60, 80, 100]\n",
    "count_price = []\n",
    "for i,price in enumerate(price_range):\n",
    "    if i==0:continue\n",
    "    val = basket_price[(basket_price['Basket Price'] < price)&\n",
    "                       (basket_price['Basket Price'] > price_range[i-1])]['Basket Price'].count()\n",
    "    count_price.append(val)\n",
    "    \n",
    "plt.rc('font', weight='bold')\n",
    "f, ax = plt.subplots(figsize=(11, 6))\n",
    "colors = ['yellowgreen', 'gold', 'wheat', 'c', 'violet', 'royalblue', 'firebrick']\n",
    "labels = [\"{}<.<{}\".format(price_range[i-1], s) for i,s in enumerate(price_range) if i != 0]\n",
    "sizes = count_price\n",
    "explode = [0.0 if sizes[i] < 100 else 0.0 for i in range(len(sizes))]\n",
    "ax.pie(sizes, explode = explode, labels = labels, colors = colors,\n",
    "       autopct = lambda x:'{:1.0f}%'.format(x) if x > 1 else '',\n",
    "       shadow = False, startangle = 0)\n",
    "ax.axis('equal')\n",
    "f.text(0.5, 1.01, \"Distribution of order amounts\", ha = 'center', fontsize = 18)\n",
    "plt.show()"
   ]
  },
  {
   "cell_type": "code",
   "execution_count": 0,
   "metadata": {
    "colab": {},
    "colab_type": "code",
    "id": "-6Z0Bh9gFFOT"
   },
   "outputs": [],
   "source": [
    "\n",
    "is_noun = lambda pos:pos[:2] == 'NN'\n",
    "\n",
    "def keywords_inventory(dataframe, colonne = 'Description'):\n",
    "    import nltk\n",
    "    stemmer = nltk.stem.SnowballStemmer(\"english\")\n",
    "    keywords_roots = dict()\n",
    "    keywords_select = dict()\n",
    "    category_keys = []\n",
    "    count_keywords = dict()\n",
    "    icount = 0\n",
    "    \n",
    "    for s in dataframe[colonne]:\n",
    "        if pd.isnull(s): continue\n",
    "        lines = s.lower()\n",
    "        tokenized = nltk.word_tokenize(lines)\n",
    "        nouns = [word for (word, pos) in nltk.pos_tag(tokenized) if is_noun(pos)]\n",
    "        \n",
    "        for t in nouns:\n",
    "            t = t.lower() ; racine = stemmer.stem(t)\n",
    "            if racine in keywords_roots:\n",
    "                keywords_roots[racine].add(t)\n",
    "                count_keywords[racine] += 1\n",
    "            else:\n",
    "                keywords_roots[racine] = {t}\n",
    "                count_keywords[racine] = 1\n",
    "        \n",
    "    \n",
    "    for s in keywords_roots.keys():\n",
    "        if len(keywords_roots[s]) > 1:\n",
    "            min_length = 1000\n",
    "            for k in keywords_roots[s]:\n",
    "                if len(k) < min_length:\n",
    "                    clef = k ; min_length = len(k)\n",
    "            \n",
    "            category_keys.append(clef)\n",
    "            keywords_select[s] = clef\n",
    "        \n",
    "        else:\n",
    "            category_keys.append(list(keywords_roots[s])[0])\n",
    "            keywords_select[s] = list(keywords_roots[s])[0]\n",
    "            \n",
    "    print(\"Number of keywords in the variable '{}': {}\".format(colonne, len(category_keys)))\n",
    "    return category_keys, keywords_roots, keywords_select, count_keywords"
   ]
  },
  {
   "cell_type": "code",
   "execution_count": 0,
   "metadata": {
    "colab": {},
    "colab_type": "code",
    "id": "h6j_tfP9FZkf"
   },
   "outputs": [],
   "source": [
    "df_produits = pd.DataFrame(data['Department Name'].unique()).rename(columns = {0:\"Description\"})"
   ]
  },
  {
   "cell_type": "code",
   "execution_count": 21,
   "metadata": {
    "colab": {
     "base_uri": "https://localhost:8080/",
     "height": 87
    },
    "colab_type": "code",
    "id": "1q1P4YAVFnZA",
    "outputId": "51f62de5-af2b-40b5-8092-b68a9d3c5c1f"
   },
   "outputs": [
    {
     "name": "stdout",
     "output_type": "stream",
     "text": [
      "[nltk_data] Downloading package averaged_perceptron_tagger to\n",
      "[nltk_data]     /root/nltk_data...\n",
      "[nltk_data]   Unzipping taggers/averaged_perceptron_tagger.zip.\n"
     ]
    },
    {
     "data": {
      "text/plain": [
       "True"
      ]
     },
     "execution_count": 21,
     "metadata": {
      "tags": []
     },
     "output_type": "execute_result"
    }
   ],
   "source": [
    "nltk.download('averaged_perceptron_tagger')"
   ]
  },
  {
   "cell_type": "code",
   "execution_count": 27,
   "metadata": {
    "colab": {
     "base_uri": "https://localhost:8080/",
     "height": 35
    },
    "colab_type": "code",
    "id": "e9V70QLzFgOM",
    "outputId": "b8395d8b-76c2-4c68-d4d1-2e7e54728411"
   },
   "outputs": [
    {
     "name": "stdout",
     "output_type": "stream",
     "text": [
      "Number of keywords in the variable 'Description': 83\n"
     ]
    }
   ],
   "source": [
    "keywords, keywords_roots, keywords_select, count_keywords = keywords_inventory(df_produits)"
   ]
  },
  {
   "cell_type": "code",
   "execution_count": 0,
   "metadata": {
    "colab": {},
    "colab_type": "code",
    "id": "7zT7F5EuF3Pd"
   },
   "outputs": [],
   "source": [
    "# Plotting keywords vs frequency graph :\n",
    "list_products = []\n",
    "for k, v in count_keywords.items():\n",
    "    word = keywords_select[k]\n",
    "    list_products.append([word, v])"
   ]
  },
  {
   "cell_type": "code",
   "execution_count": 29,
   "metadata": {
    "colab": {
     "base_uri": "https://localhost:8080/",
     "height": 1000
    },
    "colab_type": "code",
    "id": "dqUZGKtoF6wy",
    "outputId": "6096fcfd-c208-42ed-ea9f-990b2f3bc5de"
   },
   "outputs": [
    {
     "data": {
      "image/png": "[encoded data removed]",
      "text/plain": [
       "<Figure size 504x1800 with 1 Axes>"
      ]
     },
     "metadata": {
      "tags": []
     },
     "output_type": "display_data"
    }
   ],
   "source": [
    "liste = sorted(list_products, key = lambda x:x[1], reverse=True)\n",
    "\n",
    "plt.rc('font', weight='normal')\n",
    "fig, ax = plt.subplots(figsize=(7, 25))\n",
    "y_axis = [i[1] for i in liste[:125]]\n",
    "x_axis = [k for k,i in enumerate(liste[:125])]\n",
    "x_label = [i[0] for i in liste[:125]]\n",
    "plt.xticks(fontsize=15)\n",
    "plt.yticks(fontsize=13)\n",
    "plt.yticks(x_axis, x_label)\n",
    "plt.xlabel(\"Number of occurence\", fontsize = 18, labelpad = 10)\n",
    "ax.barh(x_axis, y_axis, align='center')\n",
    "ax = plt.gca()\n",
    "ax.invert_yaxis()\n",
    "\n",
    "plt.title(\"Word Occurence\", bbox={'facecolor':'k', 'pad':5}, color='w', fontsize = 25)\n",
    "plt.show()"
   ]
  },
  {
   "cell_type": "code",
   "execution_count": 36,
   "metadata": {
    "colab": {
     "base_uri": "https://localhost:8080/",
     "height": 35
    },
    "colab_type": "code",
    "id": "uOXBz1lhGAoo",
    "outputId": "6f4aa829-7f40-47da-bbc7-3f986415efa9"
   },
   "outputs": [
    {
     "name": "stdout",
     "output_type": "stream",
     "text": [
      "Number of preserved words :  78\n"
     ]
    }
   ],
   "source": [
    "# Preserving important words :\n",
    "list_products = []\n",
    "for k, v in count_keywords.items():\n",
    "    word = keywords_select[k]\n",
    "    if word in ['taxabl', 'hhc', 'fills', 'lipa', 'ace']: continue\n",
    "    if len(word)<2: continue\n",
    "    list_products.append([word, v])\n",
    "    \n",
    "list_products.sort(key = lambda x:x[1], reverse=True)\n",
    "print(\"Number of preserved words : \", len(list_products))"
   ]
  },
  {
   "cell_type": "code",
   "execution_count": 0,
   "metadata": {
    "colab": {},
    "colab_type": "code",
    "id": "BApA8tuWGL9w"
   },
   "outputs": [],
   "source": [
    "threshold = [0, 1, 3, 5]\n",
    "\n",
    "# Getting the description.\n",
    "liste_produits = data['Department Name'].unique()"
   ]
  },
  {
   "cell_type": "code",
   "execution_count": 0,
   "metadata": {
    "colab": {},
    "colab_type": "code",
    "id": "FT40Aq6jGZqo"
   },
   "outputs": [],
   "source": [
    "# Creating the product and word matrix.\n",
    "X = pd.DataFrame()\n",
    "for key, occurence in list_products:\n",
    "    X.loc[:, key] = list(map(lambda x:int(key.upper() in x), liste_produits))"
   ]
  },
  {
   "cell_type": "code",
   "execution_count": 0,
   "metadata": {
    "colab": {},
    "colab_type": "code",
    "id": "dkmYYV33I4ZA"
   },
   "outputs": [],
   "source": [
    "label_col = []\n",
    "for i in range(len(threshold)):\n",
    "    if i == len(threshold) - 1:\n",
    "        col = '.>{}'.format(threshold[i])\n",
    "    else:\n",
    "        col = '{}<.<{}'.format(threshold[i], threshold[i+1])\n",
    "        \n",
    "    label_col.append(col)\n",
    "    X.loc[:, col] = 0"
   ]
  },
  {
   "cell_type": "code",
   "execution_count": 0,
   "metadata": {
    "colab": {},
    "colab_type": "code",
    "id": "_PTR0TKJJG9r"
   },
   "outputs": [],
   "source": [
    "for i, prod in enumerate(list_products):\n",
    "    prix = data[data['Department Name'].isin(prod)]['Cost'].mean()\n",
    "    j = 0\n",
    "    \n",
    "    while prix > threshold[j]:\n",
    "        j += 1\n",
    "        if j == len(threshold):\n",
    "            break\n",
    "    X.loc[i, label_col[j-1]] = 1"
   ]
  },
  {
   "cell_type": "code",
   "execution_count": 296,
   "metadata": {
    "colab": {
     "base_uri": "https://localhost:8080/",
     "height": 121
    },
    "colab_type": "code",
    "id": "c9N40pR9Lcxn",
    "outputId": "0c33d6e4-0da8-4452-fe51-66109afba35e"
   },
   "outputs": [
    {
     "name": "stdout",
     "output_type": "stream",
     "text": [
      "Range    Number of products   \n",
      "--------------------\n",
      "0<.<1       0                   \n",
      "1<.<3       0                   \n",
      "3<.<5       0                   \n",
      ".>5         78                  \n"
     ]
    }
   ],
   "source": [
    "\n",
    "print(\"{:<8} {:<20} \\n\".format('Range', 'Number of products') + 20*'-')\n",
    "for i in range(len(threshold)):\n",
    "    if i == len(threshold)-1:\n",
    "        col = '.>{}'.format(threshold[i])\n",
    "    else:\n",
    "        col = '{}<.<{}'.format(threshold[i],threshold[i+1])\n",
    "    print(\"{:<10}  {:<20}\".format(col, X.loc[:, col].sum()))"
   ]
  },
  {
   "cell_type": "code",
   "execution_count": 0,
   "metadata": {
    "colab": {},
    "colab_type": "code",
    "id": "F3tmJ8y2No17"
   },
   "outputs": [],
   "source": [
    "from sklearn.cluster import KMeans\n",
    "from sklearn.metrics import silhouette_score"
   ]
  },
  {
   "cell_type": "code",
   "execution_count": 44,
   "metadata": {
    "colab": {
     "base_uri": "https://localhost:8080/",
     "height": 72
    },
    "colab_type": "code",
    "id": "qi3liDDCRALH",
    "outputId": "1309f7d9-6df9-482c-cb08-acafa0107141"
   },
   "outputs": [
    {
     "name": "stderr",
     "output_type": "stream",
     "text": [
      "/usr/local/lib/python3.6/dist-packages/ipykernel_launcher.py:1: FutureWarning: Method .as_matrix will be removed in a future version. Use .values instead.\n",
      "  \"\"\"Entry point for launching an IPython kernel.\n"
     ]
    }
   ],
   "source": [
    "matrix = X.as_matrix()"
   ]
  },
  {
   "cell_type": "code",
   "execution_count": 46,
   "metadata": {
    "colab": {
     "base_uri": "https://localhost:8080/",
     "height": 139
    },
    "colab_type": "code",
    "id": "HPwWByiCRVh-",
    "outputId": "94595668-05a9-499d-ee7a-e4ca8bad3d60"
   },
   "outputs": [
    {
     "name": "stdout",
     "output_type": "stream",
     "text": [
      "For n_clusters :  3 The average silhouette_score is :  0.20195677761398362\n",
      "For n_clusters :  4 The average silhouette_score is :  0.211433677639493\n",
      "For n_clusters :  5 The average silhouette_score is :  0.2323773593188208\n",
      "For n_clusters :  6 The average silhouette_score is :  0.2344374207551469\n",
      "For n_clusters :  7 The average silhouette_score is :  0.10247199790358058\n",
      "For n_clusters :  8 The average silhouette_score is :  0.24909964639453328\n",
      "For n_clusters :  9 The average silhouette_score is :  0.24054127625712976\n"
     ]
    }
   ],
   "source": [
    "# Using optimal number of clusters using hyperparameter tuning:\n",
    "for n_clusters in range(3, 10):\n",
    "    kmeans = KMeans(init='k-means++', n_clusters = n_clusters, n_init = 30)\n",
    "    kmeans.fit(matrix)\n",
    "    clusters = kmeans.predict(matrix)\n",
    "    sil_avg = silhouette_score(matrix, clusters)\n",
    "    print(\"For n_clusters : \", n_clusters, \"The average silhouette_score is : \", sil_avg)"
   ]
  },
  {
   "cell_type": "code",
   "execution_count": 48,
   "metadata": {
    "colab": {
     "base_uri": "https://localhost:8080/",
     "height": 35
    },
    "colab_type": "code",
    "id": "FOlypkt9_Lmt",
    "outputId": "f6cbd1c4-2481-4496-cf3a-a023833b82bf"
   },
   "outputs": [
    {
     "name": "stdout",
     "output_type": "stream",
     "text": [
      "For n_clusters :  6 The average silhouette_score is :  0.2367382162386419\n"
     ]
    }
   ],
   "source": [
    "\n",
    "# Choosing number of clusters as 6:\n",
    "# Trying Improving the silhouette_score :\n",
    "n_clusters = 6\n",
    "sil_avg = -1\n",
    "while sil_avg < 0.22:\n",
    "    kmeans = KMeans(init = 'k-means++', n_clusters = n_clusters, n_init = 30)\n",
    "    kmeans.fit(matrix)\n",
    "    clusters = kmeans.predict(matrix)\n",
    "    sil_avg = silhouette_score(matrix, clusters)\n",
    "    print(\"For n_clusters : \", n_clusters, \"The average silhouette_score is : \", sil_avg)"
   ]
  },
  {
   "cell_type": "code",
   "execution_count": 49,
   "metadata": {
    "colab": {
     "base_uri": "https://localhost:8080/",
     "height": 139
    },
    "colab_type": "code",
    "id": "bpJZ9IITSirw",
    "outputId": "dd4ddbef-8d74-4f96-8a1d-876ef79c076b"
   },
   "outputs": [
    {
     "data": {
      "text/plain": [
       "1    61\n",
       "2     8\n",
       "3     5\n",
       "5     3\n",
       "4     3\n",
       "0     1\n",
       "dtype: int64"
      ]
     },
     "execution_count": 49,
     "metadata": {
      "tags": []
     },
     "output_type": "execute_result"
    }
   ],
   "source": [
    "\n",
    "# Printing number of elements in each cluster :\n",
    "pd.Series(clusters).value_counts()"
   ]
  },
  {
   "cell_type": "code",
   "execution_count": 0,
   "metadata": {
    "colab": {},
    "colab_type": "code",
    "id": "hEyBUIT-Smze"
   },
   "outputs": [],
   "source": [
    "def graph_component_silhouette(n_clusters, lim_x, mat_size, sample_silhouette_values, clusters):\n",
    "    import matplotlib as mpl\n",
    "    mpl.rc('patch', edgecolor = 'dimgray', linewidth = 1)\n",
    "    \n",
    "    fig, ax1 = plt.subplots(1, 1)\n",
    "    fig.set_size_inches(8, 8)\n",
    "    ax1.set_xlim([lim_x[0], lim_x[1]])\n",
    "    ax1.set_ylim([0, mat_size + (n_clusters + 1) * 10])\n",
    "    y_lower = 10\n",
    "    \n",
    "    for i in range(n_clusters):\n",
    "        ith_cluster_silhoutte_values = sample_silhouette_values[clusters == i]\n",
    "        ith_cluster_silhoutte_values.sort()\n",
    "        size_cluster_i = ith_cluster_silhoutte_values.shape[0]\n",
    "        y_upper = y_lower + size_cluster_i\n",
    "        \n",
    "        ax1.fill_betweenx(np.arange(y_lower, y_upper), 0, ith_cluster_silhoutte_values, alpha = 0.8)\n",
    "        \n",
    "        ax1.text(-0.03, y_lower + 0.5 * size_cluster_i, str(i), color = 'red', fontweight = 'bold',\n",
    "                 bbox = dict(facecolor = 'white', edgecolor = 'black', boxstyle = 'round, pad = 0.3'))\n",
    "        \n",
    "        y_lower = y_upper + 10"
   ]
  },
  {
   "cell_type": "code",
   "execution_count": 51,
   "metadata": {
    "colab": {
     "base_uri": "https://localhost:8080/",
     "height": 515
    },
    "colab_type": "code",
    "id": "hlkwIBSoXzG5",
    "outputId": "57bd3447-efd1-4595-f5c4-227c84824c3c"
   },
   "outputs": [
    {
     "data": {
      "image/png": "[encoded data removed]",
      "text/plain": [
       "<Figure size 576x576 with 1 Axes>"
      ]
     },
     "metadata": {
      "tags": []
     },
     "output_type": "display_data"
    }
   ],
   "source": [
    "from sklearn.metrics import silhouette_samples\n",
    "sample_silhouette_values = silhouette_samples(matrix, clusters)\n",
    "graph_component_silhouette(n_clusters, [-0.3, 0.8], len(X), sample_silhouette_values, clusters)"
   ]
  },
  {
   "cell_type": "code",
   "execution_count": 0,
   "metadata": {
    "colab": {},
    "colab_type": "code",
    "id": "OO8YgialYHLV"
   },
   "outputs": [],
   "source": [
    "liste = pd.DataFrame(liste_produits)\n",
    "liste_words = [word for (word, occurance) in list_products]\n",
    "\n",
    "occurance = [dict() for _ in range(n_clusters)]"
   ]
  },
  {
   "cell_type": "code",
   "execution_count": 0,
   "metadata": {
    "colab": {},
    "colab_type": "code",
    "id": "Uv_JgqtOY6qp"
   },
   "outputs": [],
   "source": [
    "# Printing word cloud.\n",
    "from random import randint\n",
    "import random\n",
    "def random_color_func(word=None, font_size=None, position=None,orientation=None, font_path=None, random_state=None):\n",
    "    h = int(360.0 * tone / 255.0)\n",
    "    s = int(100.0 * 255.0 / 255.0)\n",
    "    l = int(100.0 * float(random_state.randint(70, 120)) / 255.0)\n",
    "    return \"hsl({}, {}%, {}%)\".format(h, s, l)"
   ]
  },
  {
   "cell_type": "code",
   "execution_count": 0,
   "metadata": {
    "colab": {},
    "colab_type": "code",
    "id": "r5R4bLgPZpAy"
   },
   "outputs": [],
   "source": [
    "from wordcloud import WordCloud "
   ]
  },
  {
   "cell_type": "code",
   "execution_count": 0,
   "metadata": {
    "colab": {},
    "colab_type": "code",
    "id": "ilLF_VI_ZFMt"
   },
   "outputs": [],
   "source": [
    "def make_wordcloud(liste, increment):\n",
    "    ax1 = fig.add_subplot(4, 2, increment)\n",
    "    words = dict()\n",
    "    trunc_occurances = liste[0:150]\n",
    "    for s in trunc_occurances:\n",
    "        words[s[0]] = s[1]\n",
    "        \n",
    "    wc = WordCloud(width=1000,height=400, background_color='lightgrey', max_words=1628,relative_scaling=1,\n",
    "                             color_func = random_color_func, normalize_plurals=False)\n",
    "    wc.generate_from_frequencies(words)\n",
    "    ax1.imshow(wc, interpolation=\"bilinear\")\n",
    "    ax1.axis('off')\n",
    "    plt.title('cluster n{}'.format(increment-1))"
   ]
  },
  {
   "cell_type": "code",
   "execution_count": 57,
   "metadata": {
    "colab": {
     "base_uri": "https://localhost:8080/",
     "height": 657
    },
    "colab_type": "code",
    "id": "_dz0eKyCZJUP",
    "outputId": "5b0b8d33-0132-4d96-e3d9-7305deffeddd"
   },
   "outputs": [
    {
     "data": {
      "image/png": "[encoded data removed]",
      "text/plain": [
       "<Figure size 1008x1008 with 6 Axes>"
      ]
     },
     "metadata": {
      "tags": []
     },
     "output_type": "display_data"
    }
   ],
   "source": [
    "\n",
    "fig = plt.figure(1, figsize=(14,14))\n",
    "color = [0, 160, 130, 95, 280, 40, 330, 110, 25]\n",
    "for i in range(n_clusters):\n",
    "    list_cluster_occurences = occurance[i]\n",
    "    tone = color[i]\n",
    "    liste = []\n",
    "    for key, value in list_cluster_occurences.items():\n",
    "        liste.append([key, value])\n",
    "    liste.sort(key = lambda x:x[1], reverse = True)\n",
    "    make_wordcloud(liste, i+1)"
   ]
  },
  {
   "cell_type": "code",
   "execution_count": 0,
   "metadata": {
    "colab": {},
    "colab_type": "code",
    "id": "wL85erk4aCHs"
   },
   "outputs": [],
   "source": [
    "from sklearn.decomposition import PCA"
   ]
  },
  {
   "cell_type": "code",
   "execution_count": 0,
   "metadata": {
    "colab": {},
    "colab_type": "code",
    "id": "xWtVpchVaS15"
   },
   "outputs": [],
   "source": [
    "#Dimensionality Reduction\n",
    "pca = PCA()\n",
    "pca.fit(matrix)\n",
    "pca_samples = pca.transform(matrix)"
   ]
  },
  {
   "cell_type": "code",
   "execution_count": 64,
   "metadata": {
    "colab": {
     "base_uri": "https://localhost:8080/",
     "height": 393
    },
    "colab_type": "code",
    "id": "NDvkpB36aWUk",
    "outputId": "eec5645b-1d98-4991-d933-d1e8178cf195"
   },
   "outputs": [
    {
     "data": {
      "image/png": "[encoded data removed]",
      "text/plain": [
       "<Figure size 1008x360 with 1 Axes>"
      ]
     },
     "metadata": {
      "tags": []
     },
     "output_type": "display_data"
    }
   ],
   "source": [
    "# Checking the amount of variance explained :\n",
    "fig, ax = plt.subplots(figsize=(14, 5))\n",
    "sns.set(font_scale=1)\n",
    "plt.step(range(matrix.shape[0]), pca.explained_variance_ratio_.cumsum(), where = 'mid', label = 'Cummulative Variance Explained')\n",
    "sns.barplot(np.arange(1, matrix.shape[0] + 1), pca.explained_variance_ratio_, alpha = 0.5, color = 'g',\n",
    "            label = 'Individual Variance Explained')\n",
    "plt.xlim(0, 100)\n",
    "plt.xticks(rotation = 45, fontsize = 14)\n",
    "ax.set_xticklabels([s if int(s.get_text())%2 == 0 else '' for s in ax.get_xticklabels()])\n",
    "\n",
    "plt.ylabel(\"Explained Variance\", fontsize = 14)\n",
    "plt.xlabel(\"Principal Components\", fontsize = 14)\n",
    "plt.legend(loc = 'upper left', fontsize = 13)\n",
    "plt.show()"
   ]
  },
  {
   "cell_type": "code",
   "execution_count": 67,
   "metadata": {
    "colab": {
     "base_uri": "https://localhost:8080/",
     "height": 355
    },
    "colab_type": "code",
    "id": "odFg4cSk5hhu",
    "outputId": "9fe02192-4da0-469f-83a1-7fdf805f47f7"
   },
   "outputs": [
    {
     "data": {
      "text/html": [
       "<div>\n",
       "<style scoped>\n",
       "    .dataframe tbody tr th:only-of-type {\n",
       "        vertical-align: middle;\n",
       "    }\n",
       "\n",
       "    .dataframe tbody tr th {\n",
       "        vertical-align: top;\n",
       "    }\n",
       "\n",
       "    .dataframe thead th {\n",
       "        text-align: right;\n",
       "    }\n",
       "</style>\n",
       "<table border=\"1\" class=\"dataframe\">\n",
       "  <thead>\n",
       "    <tr style=\"text-align: right;\">\n",
       "      <th></th>\n",
       "      <th>Receipt Number</th>\n",
       "      <th>Department Name</th>\n",
       "      <th>categ_product</th>\n",
       "    </tr>\n",
       "  </thead>\n",
       "  <tbody>\n",
       "    <tr>\n",
       "      <th>0</th>\n",
       "      <td>G13674</td>\n",
       "      <td>FASTENERS</td>\n",
       "      <td>1</td>\n",
       "    </tr>\n",
       "    <tr>\n",
       "      <th>1</th>\n",
       "      <td>D70801</td>\n",
       "      <td>LAWN, GARDEN &amp; FARM SUPPLIES</td>\n",
       "      <td>2</td>\n",
       "    </tr>\n",
       "    <tr>\n",
       "      <th>2</th>\n",
       "      <td>D70801</td>\n",
       "      <td>ACE REWARDS INSTANT SAVINGS</td>\n",
       "      <td>5</td>\n",
       "    </tr>\n",
       "    <tr>\n",
       "      <th>3</th>\n",
       "      <td>A39683</td>\n",
       "      <td>FASTENERS</td>\n",
       "      <td>1</td>\n",
       "    </tr>\n",
       "    <tr>\n",
       "      <th>4</th>\n",
       "      <td>A39683</td>\n",
       "      <td>DONTATIONS</td>\n",
       "      <td>1</td>\n",
       "    </tr>\n",
       "    <tr>\n",
       "      <th>5</th>\n",
       "      <td>2815</td>\n",
       "      <td>PAINT &amp; PAINT SUPPLIES</td>\n",
       "      <td>2</td>\n",
       "    </tr>\n",
       "    <tr>\n",
       "      <th>6</th>\n",
       "      <td>2815</td>\n",
       "      <td>PLUMBING SUPPLIES &amp; FIXTURES</td>\n",
       "      <td>2</td>\n",
       "    </tr>\n",
       "    <tr>\n",
       "      <th>7</th>\n",
       "      <td>2815</td>\n",
       "      <td>PLUMBING SUPPLIES &amp; FIXTURES</td>\n",
       "      <td>2</td>\n",
       "    </tr>\n",
       "    <tr>\n",
       "      <th>8</th>\n",
       "      <td>E37837</td>\n",
       "      <td>HAND TOOLS &amp; TOOL ACCESSORIES</td>\n",
       "      <td>4</td>\n",
       "    </tr>\n",
       "    <tr>\n",
       "      <th>9</th>\n",
       "      <td>D70802</td>\n",
       "      <td>CLEANING SUPPLIES</td>\n",
       "      <td>2</td>\n",
       "    </tr>\n",
       "  </tbody>\n",
       "</table>\n",
       "</div>"
      ],
      "text/plain": [
       "  Receipt Number                Department Name  categ_product\n",
       "0         G13674                      FASTENERS              1\n",
       "1         D70801   LAWN, GARDEN & FARM SUPPLIES              2\n",
       "2         D70801    ACE REWARDS INSTANT SAVINGS              5\n",
       "3         A39683                      FASTENERS              1\n",
       "4         A39683                     DONTATIONS              1\n",
       "5           2815         PAINT & PAINT SUPPLIES              2\n",
       "6           2815   PLUMBING SUPPLIES & FIXTURES              2\n",
       "7           2815   PLUMBING SUPPLIES & FIXTURES              2\n",
       "8         E37837  HAND TOOLS & TOOL ACCESSORIES              4\n",
       "9         D70802              CLEANING SUPPLIES              2"
      ]
     },
     "execution_count": 67,
     "metadata": {
      "tags": []
     },
     "output_type": "execute_result"
    }
   ],
   "source": [
    "#Generating Customer Segments/Categories\n",
    "corresp = dict()\n",
    "for key, val in zip(liste_produits, clusters):\n",
    "    corresp[key] = val\n",
    "    \n",
    "data['categ_product'] = data.loc[:, 'Department Name'].map(corresp)\n",
    "data[['Receipt Number', 'Department Name', 'categ_product']][:10]"
   ]
  },
  {
   "cell_type": "code",
   "execution_count": 71,
   "metadata": {
    "colab": {
     "base_uri": "https://localhost:8080/",
     "height": 459
    },
    "colab_type": "code",
    "id": "8ZXsB1sRBKoY",
    "outputId": "d78a2c62-ce2e-4aee-b43a-878b1903ce34"
   },
   "outputs": [
    {
     "data": {
      "text/html": [
       "<div>\n",
       "<style scoped>\n",
       "    .dataframe tbody tr th:only-of-type {\n",
       "        vertical-align: middle;\n",
       "    }\n",
       "\n",
       "    .dataframe tbody tr th {\n",
       "        vertical-align: top;\n",
       "    }\n",
       "\n",
       "    .dataframe thead th {\n",
       "        text-align: right;\n",
       "    }\n",
       "</style>\n",
       "<table border=\"1\" class=\"dataframe\">\n",
       "  <thead>\n",
       "    <tr style=\"text-align: right;\">\n",
       "      <th></th>\n",
       "      <th>Receipt Number</th>\n",
       "      <th>Department Name</th>\n",
       "      <th>categ_product</th>\n",
       "      <th>categ_0</th>\n",
       "      <th>categ_1</th>\n",
       "      <th>categ_2</th>\n",
       "      <th>categ_3</th>\n",
       "      <th>categ_4</th>\n",
       "    </tr>\n",
       "  </thead>\n",
       "  <tbody>\n",
       "    <tr>\n",
       "      <th>0</th>\n",
       "      <td>G13674</td>\n",
       "      <td>FASTENERS</td>\n",
       "      <td>1</td>\n",
       "      <td>0.0</td>\n",
       "      <td>0.02</td>\n",
       "      <td>0.00</td>\n",
       "      <td>0.0</td>\n",
       "      <td>0.00</td>\n",
       "    </tr>\n",
       "    <tr>\n",
       "      <th>1</th>\n",
       "      <td>D70801</td>\n",
       "      <td>LAWN, GARDEN &amp; FARM SUPPLIES</td>\n",
       "      <td>2</td>\n",
       "      <td>0.0</td>\n",
       "      <td>0.00</td>\n",
       "      <td>43.50</td>\n",
       "      <td>0.0</td>\n",
       "      <td>0.00</td>\n",
       "    </tr>\n",
       "    <tr>\n",
       "      <th>2</th>\n",
       "      <td>D70801</td>\n",
       "      <td>ACE REWARDS INSTANT SAVINGS</td>\n",
       "      <td>5</td>\n",
       "      <td>0.0</td>\n",
       "      <td>0.00</td>\n",
       "      <td>0.00</td>\n",
       "      <td>0.0</td>\n",
       "      <td>0.00</td>\n",
       "    </tr>\n",
       "    <tr>\n",
       "      <th>3</th>\n",
       "      <td>A39683</td>\n",
       "      <td>FASTENERS</td>\n",
       "      <td>1</td>\n",
       "      <td>0.0</td>\n",
       "      <td>1.89</td>\n",
       "      <td>0.00</td>\n",
       "      <td>0.0</td>\n",
       "      <td>0.00</td>\n",
       "    </tr>\n",
       "    <tr>\n",
       "      <th>4</th>\n",
       "      <td>A39683</td>\n",
       "      <td>DONTATIONS</td>\n",
       "      <td>1</td>\n",
       "      <td>0.0</td>\n",
       "      <td>0.16</td>\n",
       "      <td>0.00</td>\n",
       "      <td>0.0</td>\n",
       "      <td>0.00</td>\n",
       "    </tr>\n",
       "    <tr>\n",
       "      <th>5</th>\n",
       "      <td>2815</td>\n",
       "      <td>PAINT &amp; PAINT SUPPLIES</td>\n",
       "      <td>2</td>\n",
       "      <td>0.0</td>\n",
       "      <td>0.00</td>\n",
       "      <td>1.42</td>\n",
       "      <td>0.0</td>\n",
       "      <td>0.00</td>\n",
       "    </tr>\n",
       "    <tr>\n",
       "      <th>6</th>\n",
       "      <td>2815</td>\n",
       "      <td>PLUMBING SUPPLIES &amp; FIXTURES</td>\n",
       "      <td>2</td>\n",
       "      <td>0.0</td>\n",
       "      <td>0.00</td>\n",
       "      <td>12.69</td>\n",
       "      <td>0.0</td>\n",
       "      <td>0.00</td>\n",
       "    </tr>\n",
       "    <tr>\n",
       "      <th>7</th>\n",
       "      <td>2815</td>\n",
       "      <td>PLUMBING SUPPLIES &amp; FIXTURES</td>\n",
       "      <td>2</td>\n",
       "      <td>0.0</td>\n",
       "      <td>0.00</td>\n",
       "      <td>27.55</td>\n",
       "      <td>0.0</td>\n",
       "      <td>0.00</td>\n",
       "    </tr>\n",
       "    <tr>\n",
       "      <th>8</th>\n",
       "      <td>E37837</td>\n",
       "      <td>HAND TOOLS &amp; TOOL ACCESSORIES</td>\n",
       "      <td>4</td>\n",
       "      <td>0.0</td>\n",
       "      <td>0.00</td>\n",
       "      <td>0.00</td>\n",
       "      <td>0.0</td>\n",
       "      <td>9.26</td>\n",
       "    </tr>\n",
       "    <tr>\n",
       "      <th>9</th>\n",
       "      <td>D70802</td>\n",
       "      <td>CLEANING SUPPLIES</td>\n",
       "      <td>2</td>\n",
       "      <td>0.0</td>\n",
       "      <td>0.00</td>\n",
       "      <td>5.78</td>\n",
       "      <td>0.0</td>\n",
       "      <td>0.00</td>\n",
       "    </tr>\n",
       "  </tbody>\n",
       "</table>\n",
       "</div>"
      ],
      "text/plain": [
       "  Receipt Number                Department Name  ...  categ_3  categ_4\n",
       "0         G13674                      FASTENERS  ...      0.0     0.00\n",
       "1         D70801   LAWN, GARDEN & FARM SUPPLIES  ...      0.0     0.00\n",
       "2         D70801    ACE REWARDS INSTANT SAVINGS  ...      0.0     0.00\n",
       "3         A39683                      FASTENERS  ...      0.0     0.00\n",
       "4         A39683                     DONTATIONS  ...      0.0     0.00\n",
       "5           2815         PAINT & PAINT SUPPLIES  ...      0.0     0.00\n",
       "6           2815   PLUMBING SUPPLIES & FIXTURES  ...      0.0     0.00\n",
       "7           2815   PLUMBING SUPPLIES & FIXTURES  ...      0.0     0.00\n",
       "8         E37837  HAND TOOLS & TOOL ACCESSORIES  ...      0.0     9.26\n",
       "9         D70802              CLEANING SUPPLIES  ...      0.0     0.00\n",
       "\n",
       "[10 rows x 8 columns]"
      ]
     },
     "execution_count": 71,
     "metadata": {
      "tags": []
     },
     "output_type": "execute_result"
    }
   ],
   "source": [
    "# Creating 5 new features that will contain the amount in a single transanction on different categories of product.\n",
    "for i in range(5):\n",
    "    col = 'categ_{}'.format(i)\n",
    "    df_temp = data[data['categ_product'] == i]\n",
    "    price_temp = df_temp['Cost'] * (df_temp['Net Sales Units'])\n",
    "    price_temp = price_temp.apply(lambda x:x if x > 0 else 0)\n",
    "    data.loc[:, col] = price_temp\n",
    "    data[col].fillna(0, inplace = True)\n",
    "    \n",
    "data[['Receipt Number', 'Department Name', 'categ_product', 'categ_0', 'categ_1', 'categ_2', 'categ_3', 'categ_4']][:10]"
   ]
  },
  {
   "cell_type": "code",
   "execution_count": 0,
   "metadata": {
    "colab": {},
    "colab_type": "code",
    "id": "48gSRei3DBOS"
   },
   "outputs": [],
   "source": [
    "# percentage spent on each product category \n",
    "for i in range(5):\n",
    "    col = \"categ_{}\".format(i)\n",
    "    temp = data.groupby(by=['Customer Number', 'Receipt Number'], as_index = False)[col].sum()\n",
    "    basket_price.loc[:, col] = temp\n"
   ]
  },
  {
   "cell_type": "code",
   "execution_count": 0,
   "metadata": {
    "colab": {},
    "colab_type": "code",
    "id": "PE4zPITrDLzQ"
   },
   "outputs": [],
   "source": [
    "# Dates of the order.\n",
    "data['Date_int'] = data['Date'].astype('int64')\n",
    "temp = data.groupby(by=['Customer Number', 'Receipt Number'], as_index = False)['Date_int'].mean()\n",
    "data.drop('Date_int', axis = 1, inplace=True)\n",
    "basket_price.loc[:, 'Date'] = pd.to_datetime(temp['Date_int'])"
   ]
  },
  {
   "cell_type": "code",
   "execution_count": 81,
   "metadata": {
    "colab": {
     "base_uri": "https://localhost:8080/",
     "height": 219
    },
    "colab_type": "code",
    "id": "DhD40HH4DtRq",
    "outputId": "30064384-35b2-4968-ca4e-3accadca1fe7"
   },
   "outputs": [
    {
     "data": {
      "text/html": [
       "<div>\n",
       "<style scoped>\n",
       "    .dataframe tbody tr th:only-of-type {\n",
       "        vertical-align: middle;\n",
       "    }\n",
       "\n",
       "    .dataframe tbody tr th {\n",
       "        vertical-align: top;\n",
       "    }\n",
       "\n",
       "    .dataframe thead th {\n",
       "        text-align: right;\n",
       "    }\n",
       "</style>\n",
       "<table border=\"1\" class=\"dataframe\">\n",
       "  <thead>\n",
       "    <tr style=\"text-align: right;\">\n",
       "      <th></th>\n",
       "      <th>Customer Number</th>\n",
       "      <th>Receipt Number</th>\n",
       "      <th>Basket Price</th>\n",
       "      <th>categ_0</th>\n",
       "      <th>categ_1</th>\n",
       "      <th>categ_2</th>\n",
       "      <th>categ_3</th>\n",
       "      <th>categ_4</th>\n",
       "      <th>Date</th>\n",
       "    </tr>\n",
       "  </thead>\n",
       "  <tbody>\n",
       "    <tr>\n",
       "      <th>0</th>\n",
       "      <td>*0</td>\n",
       "      <td>A02258</td>\n",
       "      <td>10.98</td>\n",
       "      <td>0.0</td>\n",
       "      <td>0.00</td>\n",
       "      <td>2.69</td>\n",
       "      <td>1.46</td>\n",
       "      <td>0.0</td>\n",
       "      <td>2017-07-28</td>\n",
       "    </tr>\n",
       "    <tr>\n",
       "      <th>30</th>\n",
       "      <td>*0</td>\n",
       "      <td>E25313</td>\n",
       "      <td>170.34</td>\n",
       "      <td>0.0</td>\n",
       "      <td>0.18</td>\n",
       "      <td>114.26</td>\n",
       "      <td>0.00</td>\n",
       "      <td>0.0</td>\n",
       "      <td>2018-12-22</td>\n",
       "    </tr>\n",
       "    <tr>\n",
       "      <th>31</th>\n",
       "      <td>*0</td>\n",
       "      <td>E26404</td>\n",
       "      <td>4.99</td>\n",
       "      <td>0.0</td>\n",
       "      <td>0.35</td>\n",
       "      <td>0.00</td>\n",
       "      <td>0.00</td>\n",
       "      <td>0.0</td>\n",
       "      <td>2017-02-02</td>\n",
       "    </tr>\n",
       "    <tr>\n",
       "      <th>32</th>\n",
       "      <td>*0</td>\n",
       "      <td>E35148</td>\n",
       "      <td>20.48</td>\n",
       "      <td>0.0</td>\n",
       "      <td>0.00</td>\n",
       "      <td>9.30</td>\n",
       "      <td>0.00</td>\n",
       "      <td>0.0</td>\n",
       "      <td>2018-11-23</td>\n",
       "    </tr>\n",
       "    <tr>\n",
       "      <th>33</th>\n",
       "      <td>*0</td>\n",
       "      <td>E62615</td>\n",
       "      <td>8.99</td>\n",
       "      <td>0.0</td>\n",
       "      <td>6.38</td>\n",
       "      <td>0.00</td>\n",
       "      <td>0.00</td>\n",
       "      <td>0.0</td>\n",
       "      <td>2017-06-16</td>\n",
       "    </tr>\n",
       "  </tbody>\n",
       "</table>\n",
       "</div>"
      ],
      "text/plain": [
       "   Customer Number Receipt Number  Basket Price  ...  categ_3  categ_4       Date\n",
       "0               *0         A02258         10.98  ...     1.46      0.0 2017-07-28\n",
       "30              *0         E25313        170.34  ...     0.00      0.0 2018-12-22\n",
       "31              *0         E26404          4.99  ...     0.00      0.0 2017-02-02\n",
       "32              *0         E35148         20.48  ...     0.00      0.0 2018-11-23\n",
       "33              *0         E62615          8.99  ...     0.00      0.0 2017-06-16\n",
       "\n",
       "[5 rows x 9 columns]"
      ]
     },
     "execution_count": 81,
     "metadata": {
      "tags": []
     },
     "output_type": "execute_result"
    }
   ],
   "source": [
    "# Selecting entries with basket price > 0.\n",
    "basket_price = basket_price[basket_price['Basket Price'] > 0]\n",
    "basket_price.sort_values('Customer Number', ascending=True)[:5]"
   ]
  },
  {
   "cell_type": "code",
   "execution_count": 283,
   "metadata": {
    "colab": {
     "base_uri": "https://localhost:8080/",
     "height": 245
    },
    "colab_type": "code",
    "id": "z6asVtO5ajMl",
    "outputId": "d6277349-050b-431e-c310-08fd71385c00"
   },
   "outputs": [
    {
     "name": "stderr",
     "output_type": "stream",
     "text": [
      "/usr/local/lib/python3.6/dist-packages/ipykernel_launcher.py:2: FutureWarning: Comparing Series of datetimes with 'datetime.date'.  Currently, the\n",
      "'datetime.date' is coerced to a datetime. In the future pandas will\n",
      "not coerce, and a TypeError will be raised. To retain the current\n",
      "behavior, convert the 'datetime.date' to a datetime with\n",
      "'pd.Timestamp'.\n",
      "  \n",
      "/usr/local/lib/python3.6/dist-packages/ipykernel_launcher.py:3: FutureWarning: Comparing Series of datetimes with 'datetime.date'.  Currently, the\n",
      "'datetime.date' is coerced to a datetime. In the future pandas will\n",
      "not coerce, and a TypeError will be raised. To retain the current\n",
      "behavior, convert the 'datetime.date' to a datetime with\n",
      "'pd.Timestamp'.\n",
      "  This is separate from the ipykernel package so we can avoid doing imports until\n"
     ]
    }
   ],
   "source": [
    "#Time Based Splitting\n",
    "import datetime\n",
    "ord = basket_price[basket_price['Date'] < datetime.date(2017, 12, 31)]\n",
    "test_ord = basket_price[basket_price['Date'] < datetime.date(2018, 12, 31)]\n",
    "basket_price = ord.copy(deep = True)"
   ]
  },
  {
   "cell_type": "code",
   "execution_count": 83,
   "metadata": {
    "colab": {
     "base_uri": "https://localhost:8080/",
     "height": 606
    },
    "colab_type": "code",
    "id": "xZPhV_jiCiRu",
    "outputId": "10a23614-9205-47cb-ff19-28d9e1fd6862"
   },
   "outputs": [
    {
     "data": {
      "text/html": [
       "<div>\n",
       "<style scoped>\n",
       "    .dataframe tbody tr th:only-of-type {\n",
       "        vertical-align: middle;\n",
       "    }\n",
       "\n",
       "    .dataframe tbody tr th {\n",
       "        vertical-align: top;\n",
       "    }\n",
       "\n",
       "    .dataframe thead th {\n",
       "        text-align: right;\n",
       "    }\n",
       "</style>\n",
       "<table border=\"1\" class=\"dataframe\">\n",
       "  <thead>\n",
       "    <tr style=\"text-align: right;\">\n",
       "      <th></th>\n",
       "      <th>Customer Number</th>\n",
       "      <th>Receipt Number</th>\n",
       "      <th>Basket Price</th>\n",
       "      <th>categ_0</th>\n",
       "      <th>categ_1</th>\n",
       "      <th>categ_2</th>\n",
       "      <th>categ_3</th>\n",
       "      <th>categ_4</th>\n",
       "      <th>Date</th>\n",
       "    </tr>\n",
       "  </thead>\n",
       "  <tbody>\n",
       "    <tr>\n",
       "      <th>0</th>\n",
       "      <td>*0</td>\n",
       "      <td>A02258</td>\n",
       "      <td>10.98</td>\n",
       "      <td>0.0</td>\n",
       "      <td>0.00</td>\n",
       "      <td>2.69</td>\n",
       "      <td>1.46</td>\n",
       "      <td>0.00</td>\n",
       "      <td>2017-07-28</td>\n",
       "    </tr>\n",
       "    <tr>\n",
       "      <th>1</th>\n",
       "      <td>*0</td>\n",
       "      <td>A15601</td>\n",
       "      <td>13.01</td>\n",
       "      <td>0.0</td>\n",
       "      <td>15.06</td>\n",
       "      <td>0.00</td>\n",
       "      <td>0.00</td>\n",
       "      <td>0.00</td>\n",
       "      <td>2017-08-29</td>\n",
       "    </tr>\n",
       "    <tr>\n",
       "      <th>2</th>\n",
       "      <td>*0</td>\n",
       "      <td>A18344</td>\n",
       "      <td>2.69</td>\n",
       "      <td>0.0</td>\n",
       "      <td>0.25</td>\n",
       "      <td>0.00</td>\n",
       "      <td>0.00</td>\n",
       "      <td>0.00</td>\n",
       "      <td>2017-08-14</td>\n",
       "    </tr>\n",
       "    <tr>\n",
       "      <th>3</th>\n",
       "      <td>*0</td>\n",
       "      <td>A32613</td>\n",
       "      <td>47.97</td>\n",
       "      <td>0.0</td>\n",
       "      <td>145.71</td>\n",
       "      <td>0.00</td>\n",
       "      <td>0.00</td>\n",
       "      <td>0.00</td>\n",
       "      <td>2017-09-10</td>\n",
       "    </tr>\n",
       "    <tr>\n",
       "      <th>4</th>\n",
       "      <td>*0</td>\n",
       "      <td>A32665</td>\n",
       "      <td>9.48</td>\n",
       "      <td>0.0</td>\n",
       "      <td>3.42</td>\n",
       "      <td>0.00</td>\n",
       "      <td>0.00</td>\n",
       "      <td>0.00</td>\n",
       "      <td>2017-09-10</td>\n",
       "    </tr>\n",
       "    <tr>\n",
       "      <th>...</th>\n",
       "      <td>...</td>\n",
       "      <td>...</td>\n",
       "      <td>...</td>\n",
       "      <td>...</td>\n",
       "      <td>...</td>\n",
       "      <td>...</td>\n",
       "      <td>...</td>\n",
       "      <td>...</td>\n",
       "      <td>...</td>\n",
       "    </tr>\n",
       "    <tr>\n",
       "      <th>5693953</th>\n",
       "      <td>99999</td>\n",
       "      <td>57577</td>\n",
       "      <td>11.87</td>\n",
       "      <td>0.0</td>\n",
       "      <td>0.00</td>\n",
       "      <td>4.03</td>\n",
       "      <td>0.00</td>\n",
       "      <td>8.12</td>\n",
       "      <td>2017-05-25</td>\n",
       "    </tr>\n",
       "    <tr>\n",
       "      <th>5693954</th>\n",
       "      <td>99999</td>\n",
       "      <td>58270</td>\n",
       "      <td>4.81</td>\n",
       "      <td>0.0</td>\n",
       "      <td>0.00</td>\n",
       "      <td>0.00</td>\n",
       "      <td>4.65</td>\n",
       "      <td>0.00</td>\n",
       "      <td>2017-07-02</td>\n",
       "    </tr>\n",
       "    <tr>\n",
       "      <th>5693955</th>\n",
       "      <td>99999</td>\n",
       "      <td>58477</td>\n",
       "      <td>3.08</td>\n",
       "      <td>0.0</td>\n",
       "      <td>1.98</td>\n",
       "      <td>0.00</td>\n",
       "      <td>0.00</td>\n",
       "      <td>1.18</td>\n",
       "      <td>2017-07-14</td>\n",
       "    </tr>\n",
       "    <tr>\n",
       "      <th>5693956</th>\n",
       "      <td>99999</td>\n",
       "      <td>58479</td>\n",
       "      <td>2.78</td>\n",
       "      <td>0.0</td>\n",
       "      <td>0.00</td>\n",
       "      <td>2.86</td>\n",
       "      <td>0.00</td>\n",
       "      <td>0.00</td>\n",
       "      <td>2017-07-14</td>\n",
       "    </tr>\n",
       "    <tr>\n",
       "      <th>5693958</th>\n",
       "      <td>99999</td>\n",
       "      <td>6514</td>\n",
       "      <td>10.43</td>\n",
       "      <td>0.0</td>\n",
       "      <td>10.43</td>\n",
       "      <td>0.00</td>\n",
       "      <td>0.00</td>\n",
       "      <td>0.00</td>\n",
       "      <td>2017-10-04</td>\n",
       "    </tr>\n",
       "  </tbody>\n",
       "</table>\n",
       "<p>2681454 rows × 9 columns</p>\n",
       "</div>"
      ],
      "text/plain": [
       "        Customer Number Receipt Number  ...  categ_4       Date\n",
       "0                    *0         A02258  ...     0.00 2017-07-28\n",
       "1                    *0         A15601  ...     0.00 2017-08-29\n",
       "2                    *0         A18344  ...     0.00 2017-08-14\n",
       "3                    *0         A32613  ...     0.00 2017-09-10\n",
       "4                    *0         A32665  ...     0.00 2017-09-10\n",
       "...                 ...            ...  ...      ...        ...\n",
       "5693953           99999          57577  ...     8.12 2017-05-25\n",
       "5693954           99999          58270  ...     0.00 2017-07-02\n",
       "5693955           99999          58477  ...     1.18 2017-07-14\n",
       "5693956           99999          58479  ...     0.00 2017-07-14\n",
       "5693958           99999           6514  ...     0.00 2017-10-04\n",
       "\n",
       "[2681454 rows x 9 columns]"
      ]
     },
     "execution_count": 83,
     "metadata": {
      "tags": []
     },
     "output_type": "execute_result"
    }
   ],
   "source": [
    "basket_price"
   ]
  },
  {
   "cell_type": "code",
   "execution_count": 84,
   "metadata": {
    "colab": {
     "base_uri": "https://localhost:8080/",
     "height": 219
    },
    "colab_type": "code",
    "id": "b4Sgpv-k2J2L",
    "outputId": "5779cd07-b67a-49bd-d278-97206e15932c"
   },
   "outputs": [
    {
     "data": {
      "text/html": [
       "<div>\n",
       "<style scoped>\n",
       "    .dataframe tbody tr th:only-of-type {\n",
       "        vertical-align: middle;\n",
       "    }\n",
       "\n",
       "    .dataframe tbody tr th {\n",
       "        vertical-align: top;\n",
       "    }\n",
       "\n",
       "    .dataframe thead th {\n",
       "        text-align: right;\n",
       "    }\n",
       "</style>\n",
       "<table border=\"1\" class=\"dataframe\">\n",
       "  <thead>\n",
       "    <tr style=\"text-align: right;\">\n",
       "      <th></th>\n",
       "      <th>Customer Number</th>\n",
       "      <th>count</th>\n",
       "      <th>min</th>\n",
       "      <th>max</th>\n",
       "      <th>mean</th>\n",
       "      <th>sum</th>\n",
       "      <th>categ_0</th>\n",
       "      <th>categ_1</th>\n",
       "      <th>categ_2</th>\n",
       "      <th>categ_3</th>\n",
       "      <th>categ_4</th>\n",
       "    </tr>\n",
       "  </thead>\n",
       "  <tbody>\n",
       "    <tr>\n",
       "      <th>0</th>\n",
       "      <td>*0</td>\n",
       "      <td>32</td>\n",
       "      <td>2.69</td>\n",
       "      <td>108.97</td>\n",
       "      <td>24.683750</td>\n",
       "      <td>789.88</td>\n",
       "      <td>0.0</td>\n",
       "      <td>55.205854</td>\n",
       "      <td>42.315288</td>\n",
       "      <td>1.378690</td>\n",
       "      <td>0.544386</td>\n",
       "    </tr>\n",
       "    <tr>\n",
       "      <th>1</th>\n",
       "      <td>*1</td>\n",
       "      <td>11</td>\n",
       "      <td>0.35</td>\n",
       "      <td>177.28</td>\n",
       "      <td>38.576364</td>\n",
       "      <td>424.34</td>\n",
       "      <td>0.0</td>\n",
       "      <td>17.179620</td>\n",
       "      <td>47.106094</td>\n",
       "      <td>16.067305</td>\n",
       "      <td>5.907998</td>\n",
       "    </tr>\n",
       "    <tr>\n",
       "      <th>2</th>\n",
       "      <td>*10</td>\n",
       "      <td>1</td>\n",
       "      <td>0.05</td>\n",
       "      <td>0.05</td>\n",
       "      <td>0.050000</td>\n",
       "      <td>0.05</td>\n",
       "      <td>0.0</td>\n",
       "      <td>40.000000</td>\n",
       "      <td>0.000000</td>\n",
       "      <td>0.000000</td>\n",
       "      <td>0.000000</td>\n",
       "    </tr>\n",
       "    <tr>\n",
       "      <th>3</th>\n",
       "      <td>*100</td>\n",
       "      <td>1</td>\n",
       "      <td>15.96</td>\n",
       "      <td>15.96</td>\n",
       "      <td>15.960000</td>\n",
       "      <td>15.96</td>\n",
       "      <td>0.0</td>\n",
       "      <td>27.944862</td>\n",
       "      <td>0.000000</td>\n",
       "      <td>0.000000</td>\n",
       "      <td>0.000000</td>\n",
       "    </tr>\n",
       "    <tr>\n",
       "      <th>4</th>\n",
       "      <td>*1000</td>\n",
       "      <td>3</td>\n",
       "      <td>13.98</td>\n",
       "      <td>24.48</td>\n",
       "      <td>19.483333</td>\n",
       "      <td>58.45</td>\n",
       "      <td>0.0</td>\n",
       "      <td>0.000000</td>\n",
       "      <td>66.022241</td>\n",
       "      <td>0.000000</td>\n",
       "      <td>0.000000</td>\n",
       "    </tr>\n",
       "  </tbody>\n",
       "</table>\n",
       "</div>"
      ],
      "text/plain": [
       "  Customer Number  count    min  ...    categ_2    categ_3   categ_4\n",
       "0              *0     32   2.69  ...  42.315288   1.378690  0.544386\n",
       "1              *1     11   0.35  ...  47.106094  16.067305  5.907998\n",
       "2             *10      1   0.05  ...   0.000000   0.000000  0.000000\n",
       "3            *100      1  15.96  ...   0.000000   0.000000  0.000000\n",
       "4           *1000      3  13.98  ...  66.022241   0.000000  0.000000\n",
       "\n",
       "[5 rows x 11 columns]"
      ]
     },
     "execution_count": 84,
     "metadata": {
      "tags": []
     },
     "output_type": "execute_result"
    }
   ],
   "source": [
    "trans_per_user = basket_price.groupby(by=['Customer Number'])['Basket Price'].agg(['count', 'min', 'max', 'mean', 'sum'])\n",
    "\n",
    "for i in range(5):\n",
    "    col = 'categ_{}'.format(i)\n",
    "    trans_per_user.loc[:, col] = basket_price.groupby(by=['Customer Number'])[col].sum() / trans_per_user['sum'] * 100\n",
    "        \n",
    "trans_per_user.reset_index(drop = False, inplace = True)\n",
    "basket_price.groupby(by=['Customer Number'])['categ_0'].sum()\n",
    "trans_per_user.sort_values('Customer Number', ascending = True)[:5]"
   ]
  },
  {
   "cell_type": "code",
   "execution_count": 0,
   "metadata": {
    "colab": {},
    "colab_type": "code",
    "id": "-bDP16S1EAGk"
   },
   "outputs": [],
   "source": [
    "# Generating two new variables - days since first puchase and days since last purchase.\n",
    "last_date = basket_price['Date'].max().date()\n",
    "\n",
    "first_registration = pd.DataFrame(basket_price.groupby(by=['Customer Number'])['Date'].min())\n",
    "last_purchase = pd.DataFrame(basket_price.groupby(by=['Customer Number'])['Date'].max())\n",
    "\n",
    "test = first_registration.applymap(lambda x:(last_date - x.date()).days)\n",
    "test2 = last_purchase.applymap(lambda x:(last_date - x.date()).days)\n",
    "\n",
    "trans_per_user.loc[:, 'LastPurchase'] = test2.reset_index(drop = False)['Date']\n",
    "trans_per_user.loc[:, 'FirstPurchase'] = test.reset_index(drop = False)['Date']"
   ]
  },
  {
   "cell_type": "markdown",
   "metadata": {
    "colab_type": "text",
    "id": "J_cJgoRUEdUR"
   },
   "source": [
    "We need to focus on customers who only placed one order, our objective is to target these customers in a way that retains them"
   ]
  },
  {
   "cell_type": "code",
   "execution_count": 88,
   "metadata": {
    "colab": {
     "base_uri": "https://localhost:8080/",
     "height": 35
    },
    "colab_type": "code",
    "id": "gwjFJmHMEook",
    "outputId": "772bc5ea-3dec-4f36-d1fa-9b8a0d3f9ce1"
   },
   "outputs": [
    {
     "name": "stdout",
     "output_type": "stream",
     "text": [
      "No. of Customers with single purchase : 60476/284266 (21.27%)\n"
     ]
    }
   ],
   "source": [
    "n1 = trans_per_user[trans_per_user['count'] == 1].shape[0]\n",
    "n2 = trans_per_user.shape[0]\n",
    "print(\"No. of Customers with single purchase : {:<2}/{:<5} ({:<2.2f}%)\".format(n1, n2, n1/n2*100))"
   ]
  },
  {
   "cell_type": "code",
   "execution_count": 273,
   "metadata": {
    "colab": {
     "base_uri": "https://localhost:8080/",
     "height": 35
    },
    "colab_type": "code",
    "id": "XyxJthINE8eK",
    "outputId": "6e052ce2-428c-4dd6-acf1-d044211457ad"
   },
   "outputs": [
    {
     "data": {
      "text/plain": [
       "18839"
      ]
     },
     "execution_count": 273,
     "metadata": {
      "tags": []
     },
     "output_type": "execute_result"
    }
   ],
   "source": [
    "import gc\n",
    "gc.collect()"
   ]
  },
  {
   "cell_type": "code",
   "execution_count": 0,
   "metadata": {
    "colab": {},
    "colab_type": "code",
    "id": "AlQcqXHPFOQs"
   },
   "outputs": [],
   "source": [
    "del trans_per_user"
   ]
  },
  {
   "cell_type": "code",
   "execution_count": 92,
   "metadata": {
    "colab": {
     "base_uri": "https://localhost:8080/",
     "height": 72
    },
    "colab_type": "code",
    "id": "8CALZGqrEu-y",
    "outputId": "a17eefda-b43f-492a-b94b-b399dfa6dd07"
   },
   "outputs": [
    {
     "name": "stderr",
     "output_type": "stream",
     "text": [
      "/usr/local/lib/python3.6/dist-packages/ipykernel_launcher.py:3: FutureWarning: Method .as_matrix will be removed in a future version. Use .values instead.\n",
      "  This is separate from the ipykernel package so we can avoid doing imports until\n"
     ]
    }
   ],
   "source": [
    "#Building Customer Segments\n",
    "list_cols = ['count', 'min', 'max', 'mean', 'categ_0', 'categ_1', 'categ_2', 'categ_3', 'categ_4']\n",
    "selected_customers = trans_per_user.copy(deep=True)\n",
    "matrix = selected_customers[list_cols].as_matrix()"
   ]
  },
  {
   "cell_type": "code",
   "execution_count": 94,
   "metadata": {
    "colab": {
     "base_uri": "https://localhost:8080/",
     "height": 104
    },
    "colab_type": "code",
    "id": "g0GvricAFSAq",
    "outputId": "069dd1b0-f105-45b4-d0de-a950456b45fe"
   },
   "outputs": [
    {
     "name": "stdout",
     "output_type": "stream",
     "text": [
      "Variable Mean Values: \n",
      "------------------------------------------------------------------------------------------\n",
      " [9.43290439e+00 1.25070366e+01 6.45501724e+01 2.79881274e+01\n",
      " 4.84914456e-01 2.23384980e+12 4.79769575e+12 2.13087091e+12\n",
      " 5.92891659e+00]\n"
     ]
    }
   ],
   "source": [
    "from sklearn.preprocessing import StandardScaler\n",
    "scaler = StandardScaler()\n",
    "scaler.fit(matrix)\n",
    "print(\"Variable Mean Values: \\n\" + 90*'-' + '\\n', scaler.mean_)\n",
    "scaled_matrix = scaler.transform(matrix)"
   ]
  },
  {
   "cell_type": "code",
   "execution_count": 0,
   "metadata": {
    "colab": {},
    "colab_type": "code",
    "id": "YvBNkUwtFXyb"
   },
   "outputs": [],
   "source": [
    "pca = PCA()\n",
    "pca.fit(matrix)\n",
    "pca_samples = pca.transform(scaled_matrix)"
   ]
  },
  {
   "cell_type": "code",
   "execution_count": 96,
   "metadata": {
    "colab": {
     "base_uri": "https://localhost:8080/",
     "height": 386
    },
    "colab_type": "code",
    "id": "kmEjddEGFbpN",
    "outputId": "418bc08d-fcdc-46b8-a2aa-5fe4b7e73f7c"
   },
   "outputs": [
    {
     "data": {
      "image/png": "[encoded data removed]",
      "text/plain": [
       "<Figure size 1008x360 with 1 Axes>"
      ]
     },
     "metadata": {
      "tags": []
     },
     "output_type": "display_data"
    }
   ],
   "source": [
    "# Checking the amount of variance explained :\n",
    "fig, ax = plt.subplots(figsize=(14, 5))\n",
    "sns.set(font_scale=1)\n",
    "plt.step(range(matrix.shape[1]), pca.explained_variance_ratio_.cumsum(), where = 'mid', label = 'Cummulative Variance Explained')\n",
    "sns.barplot(np.arange(1, matrix.shape[1] + 1), pca.explained_variance_ratio_, alpha = 0.5, color = 'g',\n",
    "            label = 'Individual Variance Explained')\n",
    "plt.xlim(0, 10)\n",
    "plt.xticks(rotation = 45, fontsize = 14)\n",
    "ax.set_xticklabels([s if int(s.get_text())%2 == 0 else '' for s in ax.get_xticklabels()])\n",
    "\n",
    "plt.ylabel(\"Explained Variance\", fontsize = 14)\n",
    "plt.xlabel(\"Principal Components\", fontsize = 14)\n",
    "plt.legend(loc = 'upper left', fontsize = 13)\n",
    "plt.show()"
   ]
  },
  {
   "cell_type": "code",
   "execution_count": 128,
   "metadata": {
    "colab": {
     "base_uri": "https://localhost:8080/",
     "height": 329
    },
    "colab_type": "code",
    "id": "x0U0b65RFf2O",
    "outputId": "32bf7c37-e3af-486f-a82d-124066404331"
   },
   "outputs": [
    {
     "name": "stdout",
     "output_type": "stream",
     "text": [
      "For n_clusters :  3 The average silhouette_score is :  0.2967543527434046\n",
      "For n_clusters :  4 The average silhouette_score is :  0.5003717367482655\n",
      "For n_clusters :  5 The average silhouette_score is :  0.44970930966750416\n",
      "For n_clusters :  6 The average silhouette_score is :  0.33073367640002205\n",
      "For n_clusters :  7 The average silhouette_score is :  0.492708038238751\n",
      "For n_clusters :  8 The average silhouette_score is :  0.1871473730451239\n",
      "For n_clusters :  9 The average silhouette_score is :  0.3813252139888716\n",
      "For n_clusters :  10 The average silhouette_score is :  0.40446153946289964\n",
      "For n_clusters :  11 The average silhouette_score is :  0.2261795110837096\n",
      "For n_clusters :  12 The average silhouette_score is :  0.3234338786867253\n",
      "For n_clusters :  13 The average silhouette_score is :  0.15327903404571736\n",
      "For n_clusters :  14 The average silhouette_score is :  0.24689897421563883\n",
      "For n_clusters :  15 The average silhouette_score is :  0.28969038160882987\n",
      "For n_clusters :  16 The average silhouette_score is :  0.24866199626385044\n",
      "For n_clusters :  17 The average silhouette_score is :  0.2950947322928869\n",
      "For n_clusters :  18 The average silhouette_score is :  0.35773218220461966\n",
      "For n_clusters :  19 The average silhouette_score is :  0.32261285134030887\n",
      "For n_clusters :  20 The average silhouette_score is :  0.21058828586751407\n"
     ]
    }
   ],
   "source": [
    "# Using optimal number of clusters using hyperparameter tuning:\n",
    "for n_clusters in range(3, 21):\n",
    "    km = MiniBatchKMeans(n_clusters=10, init='k-means++', n_init=1,\n",
    "                         init_size=1000, batch_size=1000)\n",
    "    km.fit(scaled_matrix)\n",
    "    clusters = km.predict(scaled_matrix)\n",
    "    sil_avg = silhouette_score(scaled_matrix, clusters, sample_size=1000)\n",
    "    print(\"For n_clusters : \", n_clusters, \"The average silhouette_score is : \", sil_avg)"
   ]
  },
  {
   "cell_type": "code",
   "execution_count": 129,
   "metadata": {
    "colab": {
     "base_uri": "https://localhost:8080/",
     "height": 35
    },
    "colab_type": "code",
    "id": "nYsFHjIzF0FG",
    "outputId": "65deb242-2cdf-4fa4-edd0-4026ac81ea41"
   },
   "outputs": [
    {
     "name": "stdout",
     "output_type": "stream",
     "text": [
      "For n_clusters :  8 The average silhouette_score is :  0.43609226805833545\n"
     ]
    }
   ],
   "source": [
    "# Choosing number of clusters as 8:\n",
    "# Trying Improving the silhouette_score :\n",
    "n_clusters = 8\n",
    "sil_avg = -1\n",
    "while sil_avg < 0.18:\n",
    "    km = MiniBatchKMeans(n_clusters=10, init='k-means++', n_init=1,\n",
    "                         init_size=1000, batch_size=1000)\n",
    "    km.fit(scaled_matrix)\n",
    "    clusters = km.predict(scaled_matrix)\n",
    "    sil_avg = silhouette_score(scaled_matrix, clusters, sample_size=1000)\n",
    "    print(\"For n_clusters : \", n_clusters, \"The average silhouette_score is : \", sil_avg)"
   ]
  },
  {
   "cell_type": "code",
   "execution_count": 130,
   "metadata": {
    "colab": {
     "base_uri": "https://localhost:8080/",
     "height": 35
    },
    "colab_type": "code",
    "id": "jq_QBfE8SVfT",
    "outputId": "5fa1fa22-bb47-4611-e12d-df97ae9f4021"
   },
   "outputs": [
    {
     "name": "stdout",
     "output_type": "stream",
     "text": [
      "Silhouette Score : 0.266\n"
     ]
    }
   ],
   "source": [
    "n_clusters = 8\n",
    "km = MiniBatchKMeans(n_clusters=10, init='k-means++', n_init=1,\n",
    "                         init_size=1000, batch_size=1000)\n",
    "km.fit(scaled_matrix)\n",
    "clusters_clients = km.predict(scaled_matrix)\n",
    "silhouette_avg = silhouette_score(scaled_matrix, clusters_clients, sample_size=1000)\n",
    "print(\"Silhouette Score : {:<.3f}\".format(silhouette_avg))"
   ]
  },
  {
   "cell_type": "code",
   "execution_count": 131,
   "metadata": {
    "colab": {
     "base_uri": "https://localhost:8080/",
     "height": 79
    },
    "colab_type": "code",
    "id": "brzpf3qNTaXa",
    "outputId": "cc8ed9c9-3ddd-4939-d6da-2aad6a27ad17"
   },
   "outputs": [
    {
     "data": {
      "text/html": [
       "<div>\n",
       "<style scoped>\n",
       "    .dataframe tbody tr th:only-of-type {\n",
       "        vertical-align: middle;\n",
       "    }\n",
       "\n",
       "    .dataframe tbody tr th {\n",
       "        vertical-align: top;\n",
       "    }\n",
       "\n",
       "    .dataframe thead th {\n",
       "        text-align: right;\n",
       "    }\n",
       "</style>\n",
       "<table border=\"1\" class=\"dataframe\">\n",
       "  <thead>\n",
       "    <tr style=\"text-align: right;\">\n",
       "      <th></th>\n",
       "      <th>0</th>\n",
       "      <th>6</th>\n",
       "      <th>9</th>\n",
       "      <th>4</th>\n",
       "      <th>3</th>\n",
       "      <th>2</th>\n",
       "      <th>1</th>\n",
       "      <th>7</th>\n",
       "      <th>8</th>\n",
       "      <th>5</th>\n",
       "    </tr>\n",
       "  </thead>\n",
       "  <tbody>\n",
       "    <tr>\n",
       "      <th>Number of Customers</th>\n",
       "      <td>129773</td>\n",
       "      <td>43457</td>\n",
       "      <td>36901</td>\n",
       "      <td>16233</td>\n",
       "      <td>16197</td>\n",
       "      <td>16157</td>\n",
       "      <td>12774</td>\n",
       "      <td>4621</td>\n",
       "      <td>4129</td>\n",
       "      <td>4024</td>\n",
       "    </tr>\n",
       "  </tbody>\n",
       "</table>\n",
       "</div>"
      ],
      "text/plain": [
       "                          0      6      9      4  ...      1     7     8     5\n",
       "Number of Customers  129773  43457  36901  16233  ...  12774  4621  4129  4024\n",
       "\n",
       "[1 rows x 10 columns]"
      ]
     },
     "execution_count": 131,
     "metadata": {
      "tags": []
     },
     "output_type": "execute_result"
    }
   ],
   "source": [
    "# Looking at clusters :\n",
    "pd.DataFrame(pd.Series(clusters_clients).value_counts(), columns=['Number of Customers']).T"
   ]
  },
  {
   "cell_type": "code",
   "execution_count": 0,
   "metadata": {
    "colab": {},
    "colab_type": "code",
    "id": "kLd5euNCc7li"
   },
   "outputs": [],
   "source": [
    "\n",
    "selected_customers.loc[:, 'cluster'] = clusters_clients"
   ]
  },
  {
   "cell_type": "code",
   "execution_count": 154,
   "metadata": {
    "colab": {
     "base_uri": "https://localhost:8080/",
     "height": 453
    },
    "colab_type": "code",
    "id": "WNAs5OT6dU70",
    "outputId": "373ae55b-189a-4898-8643-438b171f7ac0"
   },
   "outputs": [
    {
     "data": {
      "text/html": [
       "<div>\n",
       "<style scoped>\n",
       "    .dataframe tbody tr th:only-of-type {\n",
       "        vertical-align: middle;\n",
       "    }\n",
       "\n",
       "    .dataframe tbody tr th {\n",
       "        vertical-align: top;\n",
       "    }\n",
       "\n",
       "    .dataframe thead th {\n",
       "        text-align: right;\n",
       "    }\n",
       "</style>\n",
       "<table border=\"1\" class=\"dataframe\">\n",
       "  <thead>\n",
       "    <tr style=\"text-align: right;\">\n",
       "      <th></th>\n",
       "      <th>Customer Number</th>\n",
       "      <th>count</th>\n",
       "      <th>min</th>\n",
       "      <th>max</th>\n",
       "      <th>mean</th>\n",
       "      <th>sum</th>\n",
       "      <th>categ_0</th>\n",
       "      <th>categ_1</th>\n",
       "      <th>categ_2</th>\n",
       "      <th>categ_3</th>\n",
       "      <th>categ_4</th>\n",
       "      <th>LastPurchase</th>\n",
       "      <th>FirstPurchase</th>\n",
       "      <th>cluster</th>\n",
       "    </tr>\n",
       "  </thead>\n",
       "  <tbody>\n",
       "    <tr>\n",
       "      <th>0</th>\n",
       "      <td>*0</td>\n",
       "      <td>32</td>\n",
       "      <td>2.69</td>\n",
       "      <td>108.97</td>\n",
       "      <td>24.683750</td>\n",
       "      <td>789.88</td>\n",
       "      <td>0.0</td>\n",
       "      <td>55.205854</td>\n",
       "      <td>42.315288</td>\n",
       "      <td>1.378690</td>\n",
       "      <td>0.544386</td>\n",
       "      <td>26</td>\n",
       "      <td>344</td>\n",
       "      <td>6</td>\n",
       "    </tr>\n",
       "    <tr>\n",
       "      <th>1</th>\n",
       "      <td>*1</td>\n",
       "      <td>11</td>\n",
       "      <td>0.35</td>\n",
       "      <td>177.28</td>\n",
       "      <td>38.576364</td>\n",
       "      <td>424.34</td>\n",
       "      <td>0.0</td>\n",
       "      <td>17.179620</td>\n",
       "      <td>47.106094</td>\n",
       "      <td>16.067305</td>\n",
       "      <td>5.907998</td>\n",
       "      <td>18</td>\n",
       "      <td>350</td>\n",
       "      <td>1</td>\n",
       "    </tr>\n",
       "    <tr>\n",
       "      <th>2</th>\n",
       "      <td>*10</td>\n",
       "      <td>1</td>\n",
       "      <td>0.05</td>\n",
       "      <td>0.05</td>\n",
       "      <td>0.050000</td>\n",
       "      <td>0.05</td>\n",
       "      <td>0.0</td>\n",
       "      <td>40.000000</td>\n",
       "      <td>0.000000</td>\n",
       "      <td>0.000000</td>\n",
       "      <td>0.000000</td>\n",
       "      <td>1</td>\n",
       "      <td>1</td>\n",
       "      <td>0</td>\n",
       "    </tr>\n",
       "    <tr>\n",
       "      <th>3</th>\n",
       "      <td>*100</td>\n",
       "      <td>1</td>\n",
       "      <td>15.96</td>\n",
       "      <td>15.96</td>\n",
       "      <td>15.960000</td>\n",
       "      <td>15.96</td>\n",
       "      <td>0.0</td>\n",
       "      <td>27.944862</td>\n",
       "      <td>0.000000</td>\n",
       "      <td>0.000000</td>\n",
       "      <td>0.000000</td>\n",
       "      <td>119</td>\n",
       "      <td>119</td>\n",
       "      <td>9</td>\n",
       "    </tr>\n",
       "    <tr>\n",
       "      <th>4</th>\n",
       "      <td>*1000</td>\n",
       "      <td>3</td>\n",
       "      <td>13.98</td>\n",
       "      <td>24.48</td>\n",
       "      <td>19.483333</td>\n",
       "      <td>58.45</td>\n",
       "      <td>0.0</td>\n",
       "      <td>0.000000</td>\n",
       "      <td>66.022241</td>\n",
       "      <td>0.000000</td>\n",
       "      <td>0.000000</td>\n",
       "      <td>134</td>\n",
       "      <td>221</td>\n",
       "      <td>9</td>\n",
       "    </tr>\n",
       "    <tr>\n",
       "      <th>...</th>\n",
       "      <td>...</td>\n",
       "      <td>...</td>\n",
       "      <td>...</td>\n",
       "      <td>...</td>\n",
       "      <td>...</td>\n",
       "      <td>...</td>\n",
       "      <td>...</td>\n",
       "      <td>...</td>\n",
       "      <td>...</td>\n",
       "      <td>...</td>\n",
       "      <td>...</td>\n",
       "      <td>...</td>\n",
       "      <td>...</td>\n",
       "      <td>...</td>\n",
       "    </tr>\n",
       "    <tr>\n",
       "      <th>284261</th>\n",
       "      <td>999966</td>\n",
       "      <td>8</td>\n",
       "      <td>3.05</td>\n",
       "      <td>55.52</td>\n",
       "      <td>23.600000</td>\n",
       "      <td>188.80</td>\n",
       "      <td>0.0</td>\n",
       "      <td>39.782839</td>\n",
       "      <td>14.592161</td>\n",
       "      <td>68.877119</td>\n",
       "      <td>10.508475</td>\n",
       "      <td>58</td>\n",
       "      <td>327</td>\n",
       "      <td>0</td>\n",
       "    </tr>\n",
       "    <tr>\n",
       "      <th>284262</th>\n",
       "      <td>99997</td>\n",
       "      <td>21</td>\n",
       "      <td>14.11</td>\n",
       "      <td>431.53</td>\n",
       "      <td>175.204286</td>\n",
       "      <td>3679.29</td>\n",
       "      <td>0.0</td>\n",
       "      <td>0.000000</td>\n",
       "      <td>326.918237</td>\n",
       "      <td>0.000000</td>\n",
       "      <td>0.000000</td>\n",
       "      <td>23</td>\n",
       "      <td>361</td>\n",
       "      <td>7</td>\n",
       "    </tr>\n",
       "    <tr>\n",
       "      <th>284263</th>\n",
       "      <td>999977</td>\n",
       "      <td>2</td>\n",
       "      <td>10.90</td>\n",
       "      <td>10.90</td>\n",
       "      <td>10.900000</td>\n",
       "      <td>21.80</td>\n",
       "      <td>0.0</td>\n",
       "      <td>0.000000</td>\n",
       "      <td>300.000000</td>\n",
       "      <td>0.000000</td>\n",
       "      <td>0.000000</td>\n",
       "      <td>156</td>\n",
       "      <td>156</td>\n",
       "      <td>9</td>\n",
       "    </tr>\n",
       "    <tr>\n",
       "      <th>284264</th>\n",
       "      <td>99998</td>\n",
       "      <td>89</td>\n",
       "      <td>3.35</td>\n",
       "      <td>244.95</td>\n",
       "      <td>16.825056</td>\n",
       "      <td>1497.43</td>\n",
       "      <td>0.0</td>\n",
       "      <td>0.000000</td>\n",
       "      <td>228.524205</td>\n",
       "      <td>0.000000</td>\n",
       "      <td>0.000000</td>\n",
       "      <td>0</td>\n",
       "      <td>362</td>\n",
       "      <td>1</td>\n",
       "    </tr>\n",
       "    <tr>\n",
       "      <th>284265</th>\n",
       "      <td>99999</td>\n",
       "      <td>26</td>\n",
       "      <td>0.81</td>\n",
       "      <td>1391.88</td>\n",
       "      <td>91.683846</td>\n",
       "      <td>2383.78</td>\n",
       "      <td>0.0</td>\n",
       "      <td>86.658584</td>\n",
       "      <td>3.242749</td>\n",
       "      <td>0.195907</td>\n",
       "      <td>13.473978</td>\n",
       "      <td>22</td>\n",
       "      <td>354</td>\n",
       "      <td>7</td>\n",
       "    </tr>\n",
       "  </tbody>\n",
       "</table>\n",
       "<p>284266 rows × 14 columns</p>\n",
       "</div>"
      ],
      "text/plain": [
       "       Customer Number  count    min  ...  LastPurchase  FirstPurchase  cluster\n",
       "0                   *0     32   2.69  ...            26            344        6\n",
       "1                   *1     11   0.35  ...            18            350        1\n",
       "2                  *10      1   0.05  ...             1              1        0\n",
       "3                 *100      1  15.96  ...           119            119        9\n",
       "4                *1000      3  13.98  ...           134            221        9\n",
       "...                ...    ...    ...  ...           ...            ...      ...\n",
       "284261          999966      8   3.05  ...            58            327        0\n",
       "284262           99997     21  14.11  ...            23            361        7\n",
       "284263          999977      2  10.90  ...           156            156        9\n",
       "284264           99998     89   3.35  ...             0            362        1\n",
       "284265           99999     26   0.81  ...            22            354        7\n",
       "\n",
       "[284266 rows x 14 columns]"
      ]
     },
     "execution_count": 154,
     "metadata": {
      "tags": []
     },
     "output_type": "execute_result"
    }
   ],
   "source": [
    "selected_customers"
   ]
  },
  {
   "cell_type": "code",
   "execution_count": 0,
   "metadata": {
    "colab": {},
    "colab_type": "code",
    "id": "NMUimEtldAUU"
   },
   "outputs": [],
   "source": [
    "merged_df = pd.DataFrame()\n",
    "for i in range(n_clusters):\n",
    "    test = pd.DataFrame(selected_customers[selected_customers['cluster'] == i].mean())\n",
    "    test = test.T.set_index('cluster', drop = True)\n",
    "    test['size'] = selected_customers[selected_customers['cluster'] == i].shape[0]\n",
    "    merged_df = pd.concat([merged_df, test])"
   ]
  },
  {
   "cell_type": "code",
   "execution_count": 157,
   "metadata": {
    "colab": {
     "base_uri": "https://localhost:8080/",
     "height": 345
    },
    "colab_type": "code",
    "id": "pa34Aq8udpl7",
    "outputId": "f15cc0d5-77ed-40c5-a269-f25208589ad6"
   },
   "outputs": [
    {
     "data": {
      "text/html": [
       "<div>\n",
       "<style scoped>\n",
       "    .dataframe tbody tr th:only-of-type {\n",
       "        vertical-align: middle;\n",
       "    }\n",
       "\n",
       "    .dataframe tbody tr th {\n",
       "        vertical-align: top;\n",
       "    }\n",
       "\n",
       "    .dataframe thead th {\n",
       "        text-align: right;\n",
       "    }\n",
       "</style>\n",
       "<table border=\"1\" class=\"dataframe\">\n",
       "  <thead>\n",
       "    <tr style=\"text-align: right;\">\n",
       "      <th></th>\n",
       "      <th>count</th>\n",
       "      <th>min</th>\n",
       "      <th>max</th>\n",
       "      <th>mean</th>\n",
       "      <th>sum</th>\n",
       "      <th>categ_0</th>\n",
       "      <th>categ_1</th>\n",
       "      <th>categ_2</th>\n",
       "      <th>categ_3</th>\n",
       "      <th>categ_4</th>\n",
       "      <th>LastPurchase</th>\n",
       "      <th>FirstPurchase</th>\n",
       "      <th>size</th>\n",
       "    </tr>\n",
       "    <tr>\n",
       "      <th>cluster</th>\n",
       "      <th></th>\n",
       "      <th></th>\n",
       "      <th></th>\n",
       "      <th></th>\n",
       "      <th></th>\n",
       "      <th></th>\n",
       "      <th></th>\n",
       "      <th></th>\n",
       "      <th></th>\n",
       "      <th></th>\n",
       "      <th></th>\n",
       "      <th></th>\n",
       "      <th></th>\n",
       "    </tr>\n",
       "  </thead>\n",
       "  <tbody>\n",
       "    <tr>\n",
       "      <th>0.0</th>\n",
       "      <td>7.714216</td>\n",
       "      <td>4.117253</td>\n",
       "      <td>30.179038</td>\n",
       "      <td>13.228097</td>\n",
       "      <td>117.395920</td>\n",
       "      <td>0.004760</td>\n",
       "      <td>4.893218e+12</td>\n",
       "      <td>1.050929e+13</td>\n",
       "      <td>4.667644e+12</td>\n",
       "      <td>4.430909</td>\n",
       "      <td>79.619451</td>\n",
       "      <td>265.416127</td>\n",
       "      <td>129773</td>\n",
       "    </tr>\n",
       "    <tr>\n",
       "      <th>1.0</th>\n",
       "      <td>22.464381</td>\n",
       "      <td>3.712991</td>\n",
       "      <td>211.317378</td>\n",
       "      <td>41.766304</td>\n",
       "      <td>868.833769</td>\n",
       "      <td>0.267591</td>\n",
       "      <td>5.218696e+01</td>\n",
       "      <td>1.047813e+03</td>\n",
       "      <td>1.832988e+02</td>\n",
       "      <td>5.605012</td>\n",
       "      <td>29.855018</td>\n",
       "      <td>318.584703</td>\n",
       "      <td>12774</td>\n",
       "    </tr>\n",
       "    <tr>\n",
       "      <th>2.0</th>\n",
       "      <td>1.825710</td>\n",
       "      <td>45.558177</td>\n",
       "      <td>64.313341</td>\n",
       "      <td>53.984717</td>\n",
       "      <td>102.392387</td>\n",
       "      <td>0.033886</td>\n",
       "      <td>4.283384e+01</td>\n",
       "      <td>6.233037e+01</td>\n",
       "      <td>6.498094e+00</td>\n",
       "      <td>5.719141</td>\n",
       "      <td>141.987374</td>\n",
       "      <td>193.030080</td>\n",
       "      <td>16157</td>\n",
       "    </tr>\n",
       "    <tr>\n",
       "      <th>3.0</th>\n",
       "      <td>6.648886</td>\n",
       "      <td>11.206985</td>\n",
       "      <td>114.085512</td>\n",
       "      <td>52.222630</td>\n",
       "      <td>348.048808</td>\n",
       "      <td>0.080715</td>\n",
       "      <td>4.740852e+01</td>\n",
       "      <td>7.191334e+01</td>\n",
       "      <td>7.466304e+02</td>\n",
       "      <td>4.442520</td>\n",
       "      <td>71.768784</td>\n",
       "      <td>266.704019</td>\n",
       "      <td>16197</td>\n",
       "    </tr>\n",
       "    <tr>\n",
       "      <th>4.0</th>\n",
       "      <td>1.710343</td>\n",
       "      <td>26.162042</td>\n",
       "      <td>33.294162</td>\n",
       "      <td>29.414526</td>\n",
       "      <td>52.427958</td>\n",
       "      <td>0.002169</td>\n",
       "      <td>4.477270e+01</td>\n",
       "      <td>5.028461e+01</td>\n",
       "      <td>6.544924e+00</td>\n",
       "      <td>4.784127</td>\n",
       "      <td>144.535945</td>\n",
       "      <td>192.437812</td>\n",
       "      <td>16233</td>\n",
       "    </tr>\n",
       "    <tr>\n",
       "      <th>5.0</th>\n",
       "      <td>8.663270</td>\n",
       "      <td>11.206131</td>\n",
       "      <td>67.878285</td>\n",
       "      <td>29.775246</td>\n",
       "      <td>229.647716</td>\n",
       "      <td>28.994228</td>\n",
       "      <td>2.181171e+01</td>\n",
       "      <td>3.654238e+01</td>\n",
       "      <td>7.102237e+00</td>\n",
       "      <td>3.149064</td>\n",
       "      <td>67.899105</td>\n",
       "      <td>273.638917</td>\n",
       "      <td>4024</td>\n",
       "    </tr>\n",
       "    <tr>\n",
       "      <th>6.0</th>\n",
       "      <td>11.863451</td>\n",
       "      <td>5.625947</td>\n",
       "      <td>81.113469</td>\n",
       "      <td>29.686854</td>\n",
       "      <td>338.921802</td>\n",
       "      <td>0.117709</td>\n",
       "      <td>4.417394e+01</td>\n",
       "      <td>6.217176e+02</td>\n",
       "      <td>6.179024e+00</td>\n",
       "      <td>12.831564</td>\n",
       "      <td>49.734220</td>\n",
       "      <td>295.351911</td>\n",
       "      <td>43457</td>\n",
       "    </tr>\n",
       "    <tr>\n",
       "      <th>7.0</th>\n",
       "      <td>123.491885</td>\n",
       "      <td>12.199866</td>\n",
       "      <td>568.146568</td>\n",
       "      <td>120.691767</td>\n",
       "      <td>6736.933402</td>\n",
       "      <td>0.203278</td>\n",
       "      <td>8.664612e+01</td>\n",
       "      <td>1.266315e+02</td>\n",
       "      <td>1.575539e+01</td>\n",
       "      <td>11.008149</td>\n",
       "      <td>63.952391</td>\n",
       "      <td>277.037221</td>\n",
       "      <td>4621</td>\n",
       "    </tr>\n",
       "  </tbody>\n",
       "</table>\n",
       "</div>"
      ],
      "text/plain": [
       "              count        min         max  ...  LastPurchase  FirstPurchase    size\n",
       "cluster                                     ...                                     \n",
       "0.0        7.714216   4.117253   30.179038  ...     79.619451     265.416127  129773\n",
       "1.0       22.464381   3.712991  211.317378  ...     29.855018     318.584703   12774\n",
       "2.0        1.825710  45.558177   64.313341  ...    141.987374     193.030080   16157\n",
       "3.0        6.648886  11.206985  114.085512  ...     71.768784     266.704019   16197\n",
       "4.0        1.710343  26.162042   33.294162  ...    144.535945     192.437812   16233\n",
       "5.0        8.663270  11.206131   67.878285  ...     67.899105     273.638917    4024\n",
       "6.0       11.863451   5.625947   81.113469  ...     49.734220     295.351911   43457\n",
       "7.0      123.491885  12.199866  568.146568  ...     63.952391     277.037221    4621\n",
       "\n",
       "[8 rows x 13 columns]"
      ]
     },
     "execution_count": 157,
     "metadata": {
      "tags": []
     },
     "output_type": "execute_result"
    }
   ],
   "source": [
    "merged_df"
   ]
  },
  {
   "cell_type": "code",
   "execution_count": 158,
   "metadata": {
    "colab": {
     "base_uri": "https://localhost:8080/",
     "height": 35
    },
    "colab_type": "code",
    "id": "PF4pf8EwdhGo",
    "outputId": "b5ed024d-cb8b-4ce2-ea7b-5229322df5c7"
   },
   "outputs": [
    {
     "name": "stdout",
     "output_type": "stream",
     "text": [
      "Number of customers :  243236\n"
     ]
    }
   ],
   "source": [
    "    \n",
    "print('Number of customers : ', merged_df['size'].sum())\n",
    "\n",
    "merged_df = merged_df.sort_values('sum')"
   ]
  },
  {
   "cell_type": "code",
   "execution_count": 0,
   "metadata": {
    "colab": {},
    "colab_type": "code",
    "id": "z_SaKcfid5uB"
   },
   "outputs": [],
   "source": [
    "# Reorganizing the content of the dataframe.\n",
    "liste_index = []\n",
    "for i in range(4):\n",
    "    column = 'categ_{}'.format(i)\n",
    "    liste_index.append(merged_df[merged_df[column] > 20].index.values[0])"
   ]
  },
  {
   "cell_type": "code",
   "execution_count": 177,
   "metadata": {
    "colab": {
     "base_uri": "https://localhost:8080/",
     "height": 222
    },
    "colab_type": "code",
    "id": "waiLqZU4ha-p",
    "outputId": "ccc9f66a-a12b-47dd-b387-69e665900e9c"
   },
   "outputs": [
    {
     "data": {
      "text/html": [
       "<div>\n",
       "<style scoped>\n",
       "    .dataframe tbody tr th:only-of-type {\n",
       "        vertical-align: middle;\n",
       "    }\n",
       "\n",
       "    .dataframe tbody tr th {\n",
       "        vertical-align: top;\n",
       "    }\n",
       "\n",
       "    .dataframe thead th {\n",
       "        text-align: right;\n",
       "    }\n",
       "</style>\n",
       "<table border=\"1\" class=\"dataframe\">\n",
       "  <thead>\n",
       "    <tr style=\"text-align: right;\">\n",
       "      <th></th>\n",
       "      <th>cluster</th>\n",
       "      <th>count</th>\n",
       "      <th>min</th>\n",
       "      <th>max</th>\n",
       "      <th>mean</th>\n",
       "      <th>sum</th>\n",
       "      <th>categ_0</th>\n",
       "      <th>categ_1</th>\n",
       "      <th>categ_2</th>\n",
       "      <th>categ_3</th>\n",
       "      <th>categ_4</th>\n",
       "      <th>LastPurchase</th>\n",
       "      <th>FirstPurchase</th>\n",
       "      <th>size</th>\n",
       "    </tr>\n",
       "  </thead>\n",
       "  <tbody>\n",
       "    <tr>\n",
       "      <th>0</th>\n",
       "      <td>5.0</td>\n",
       "      <td>8.663270</td>\n",
       "      <td>11.206131</td>\n",
       "      <td>67.878285</td>\n",
       "      <td>29.775246</td>\n",
       "      <td>229.647716</td>\n",
       "      <td>28.994228</td>\n",
       "      <td>2.181171e+01</td>\n",
       "      <td>3.654238e+01</td>\n",
       "      <td>7.102237e+00</td>\n",
       "      <td>3.149064</td>\n",
       "      <td>67.899105</td>\n",
       "      <td>273.638917</td>\n",
       "      <td>4024</td>\n",
       "    </tr>\n",
       "    <tr>\n",
       "      <th>1</th>\n",
       "      <td>4.0</td>\n",
       "      <td>1.710343</td>\n",
       "      <td>26.162042</td>\n",
       "      <td>33.294162</td>\n",
       "      <td>29.414526</td>\n",
       "      <td>52.427958</td>\n",
       "      <td>0.002169</td>\n",
       "      <td>4.477270e+01</td>\n",
       "      <td>5.028461e+01</td>\n",
       "      <td>6.544924e+00</td>\n",
       "      <td>4.784127</td>\n",
       "      <td>144.535945</td>\n",
       "      <td>192.437812</td>\n",
       "      <td>16233</td>\n",
       "    </tr>\n",
       "    <tr>\n",
       "      <th>2</th>\n",
       "      <td>4.0</td>\n",
       "      <td>1.710343</td>\n",
       "      <td>26.162042</td>\n",
       "      <td>33.294162</td>\n",
       "      <td>29.414526</td>\n",
       "      <td>52.427958</td>\n",
       "      <td>0.002169</td>\n",
       "      <td>4.477270e+01</td>\n",
       "      <td>5.028461e+01</td>\n",
       "      <td>6.544924e+00</td>\n",
       "      <td>4.784127</td>\n",
       "      <td>144.535945</td>\n",
       "      <td>192.437812</td>\n",
       "      <td>16233</td>\n",
       "    </tr>\n",
       "    <tr>\n",
       "      <th>3</th>\n",
       "      <td>0.0</td>\n",
       "      <td>7.714216</td>\n",
       "      <td>4.117253</td>\n",
       "      <td>30.179038</td>\n",
       "      <td>13.228097</td>\n",
       "      <td>117.395920</td>\n",
       "      <td>0.004760</td>\n",
       "      <td>4.893218e+12</td>\n",
       "      <td>1.050929e+13</td>\n",
       "      <td>4.667644e+12</td>\n",
       "      <td>4.430909</td>\n",
       "      <td>79.619451</td>\n",
       "      <td>265.416127</td>\n",
       "      <td>129773</td>\n",
       "    </tr>\n",
       "    <tr>\n",
       "      <th>4</th>\n",
       "      <td>2.0</td>\n",
       "      <td>1.825710</td>\n",
       "      <td>45.558177</td>\n",
       "      <td>64.313341</td>\n",
       "      <td>53.984717</td>\n",
       "      <td>102.392387</td>\n",
       "      <td>0.033886</td>\n",
       "      <td>4.283384e+01</td>\n",
       "      <td>6.233037e+01</td>\n",
       "      <td>6.498094e+00</td>\n",
       "      <td>5.719141</td>\n",
       "      <td>141.987374</td>\n",
       "      <td>193.030080</td>\n",
       "      <td>16157</td>\n",
       "    </tr>\n",
       "  </tbody>\n",
       "</table>\n",
       "</div>"
      ],
      "text/plain": [
       "   cluster     count        min  ...  LastPurchase  FirstPurchase    size\n",
       "0      5.0  8.663270  11.206131  ...     67.899105     273.638917    4024\n",
       "1      4.0  1.710343  26.162042  ...    144.535945     192.437812   16233\n",
       "2      4.0  1.710343  26.162042  ...    144.535945     192.437812   16233\n",
       "3      0.0  7.714216   4.117253  ...     79.619451     265.416127  129773\n",
       "4      2.0  1.825710  45.558177  ...    141.987374     193.030080   16157\n",
       "\n",
       "[5 rows x 14 columns]"
      ]
     },
     "execution_count": 177,
     "metadata": {
      "tags": []
     },
     "output_type": "execute_result"
    }
   ],
   "source": [
    "liste_index_reordered = liste_index\n",
    "liste_index_reordered += [s for s in merged_df.index if s not in liste_index]\n",
    "\n",
    "merged_df = merged_df.reindex(index = liste_index_reordered)\n",
    "merged_df = merged_df.reset_index(drop = False)\n",
    "merged_df.head()"
   ]
  },
  {
   "cell_type": "code",
   "execution_count": null,
   "metadata": {},
   "outputs": [],
   "source": [
    "#Classifying the customers"
   ]
  },
  {
   "cell_type": "code",
   "execution_count": 0,
   "metadata": {
    "colab": {},
    "colab_type": "code",
    "id": "OPYCxOyggHed"
   },
   "outputs": [],
   "source": [
    "selected_customers.to_csv(\"/content/drive/My Drive/selected_customers.csv\")"
   ]
  },
  {
   "cell_type": "code",
   "execution_count": 0,
   "metadata": {
    "colab": {},
    "colab_type": "code",
    "id": "_lK-Cc-0gS_K"
   },
   "outputs": [],
   "source": [
    "merged_df.to_csv(\"/content/drive/My Drive/merged_df.csv\")"
   ]
  },
  {
   "cell_type": "code",
   "execution_count": 182,
   "metadata": {
    "colab": {
     "base_uri": "https://localhost:8080/",
     "height": 72
    },
    "colab_type": "code",
    "id": "-9wDU_RshmLK",
    "outputId": "1769b45b-40db-4d4b-ca22-8a23dac790fb"
   },
   "outputs": [
    {
     "name": "stderr",
     "output_type": "stream",
     "text": [
      "/usr/local/lib/python3.6/dist-packages/IPython/core/interactiveshell.py:2718: DtypeWarning: Columns (1) have mixed types. Specify dtype option on import or set low_memory=False.\n",
      "  interactivity=interactivity, compiler=compiler, result=result)\n"
     ]
    }
   ],
   "source": [
    "selected_customers = pd.read_csv('/content/drive/My Drive/selected_customers.csv')\n",
    "merged_df = pd.read_csv('/content/drive/My Drive/merged_df.csv')"
   ]
  },
  {
   "cell_type": "code",
   "execution_count": 0,
   "metadata": {
    "colab": {},
    "colab_type": "code",
    "id": "Qxs9KrnjiGkb"
   },
   "outputs": [],
   "source": [
    "columns = ['mean', 'categ_0', 'categ_1', 'categ_2', 'categ_3', 'categ_4']\n",
    "X = selected_customers[columns]\n",
    "Y = selected_customers['cluster']"
   ]
  },
  {
   "cell_type": "code",
   "execution_count": 0,
   "metadata": {
    "colab": {},
    "colab_type": "code",
    "id": "fVk0VpkPiP2V"
   },
   "outputs": [],
   "source": [
    "del data"
   ]
  },
  {
   "cell_type": "code",
   "execution_count": 0,
   "metadata": {
    "colab": {},
    "colab_type": "code",
    "id": "lS35DtrwiKlP"
   },
   "outputs": [],
   "source": [
    "#Train-test splitting\n",
    "from sklearn.model_selection import train_test_split"
   ]
  },
  {
   "cell_type": "code",
   "execution_count": 0,
   "metadata": {
    "colab": {},
    "colab_type": "code",
    "id": "Cu2zoMpwiU7E"
   },
   "outputs": [],
   "source": [
    "X_train, X_test, Y_train, Y_test = train_test_split(X, Y, train_size = 0.8)"
   ]
  },
  {
   "cell_type": "code",
   "execution_count": 0,
   "metadata": {
    "colab": {},
    "colab_type": "code",
    "id": "l_NgFS5wuXOR"
   },
   "outputs": [],
   "source": [
    "from sklearn.model_selection import learning_curve\n",
    "from sklearn.model_selection import ShuffleSplit\n",
    "def plot_learning_curve(estimator, title, X, y, ylim=None, cv=None,\n",
    "                        n_jobs=1, train_sizes=np.linspace(.1, 1.0, 5)):\n",
    "    \"\"\"\n",
    "    Generate a simple plot of the test and training learning curve.\n",
    "    \"\"\"\n",
    "    plt.figure()\n",
    "    plt.title(title)\n",
    "    if ylim is not None:\n",
    "        plt.ylim(*ylim)\n",
    "    plt.xlabel(\"Training examples\")\n",
    "    plt.ylabel(\"Score\")\n",
    "    train_sizes, train_scores, test_scores = learning_curve(\n",
    "        estimator, X, y, cv=cv, n_jobs=n_jobs, train_sizes=train_sizes)\n",
    "    train_scores_mean = np.mean(train_scores, axis=1)\n",
    "    train_scores_std = np.std(train_scores, axis=1)\n",
    "    test_scores_mean = np.mean(test_scores, axis=1)\n",
    "    test_scores_std = np.std(test_scores, axis=1)\n",
    "    plt.grid()\n",
    "\n",
    "    plt.fill_between(train_sizes, train_scores_mean - train_scores_std,\n",
    "                     train_scores_mean + train_scores_std, alpha=0.1,\n",
    "                     color=\"r\")\n",
    "    plt.fill_between(train_sizes, test_scores_mean - test_scores_std,\n",
    "                     test_scores_mean + test_scores_std, alpha=0.1, color=\"g\")\n",
    "    plt.plot(train_sizes, train_scores_mean, 'o-', color=\"r\",\n",
    "             label=\"Training score\")\n",
    "    plt.plot(train_sizes, test_scores_mean, 'o-', color=\"g\",\n",
    "             label=\"Cross-validation score\")\n",
    "\n",
    "    plt.legend(loc=\"best\")\n",
    "    return plt"
   ]
  },
  {
   "cell_type": "code",
   "execution_count": 0,
   "metadata": {
    "colab": {},
    "colab_type": "code",
    "id": "o8jLkj0kiYaR"
   },
   "outputs": [],
   "source": [
    "#Training models\n",
    "from sklearn.ensemble import RandomForestClassifier\n",
    "from sklearn.tree import DecisionTreeClassifier\n",
    "from sklearn.neighbors import KNeighborsClassifier"
   ]
  },
  {
   "cell_type": "code",
   "execution_count": 0,
   "metadata": {
    "colab": {},
    "colab_type": "code",
    "id": "Vyp-dNrd0ui3"
   },
   "outputs": [],
   "source": [
    "rf = RandomForestClassifier(max_depth=2, random_state=0, max_features = 'sqrt')"
   ]
  },
  {
   "cell_type": "code",
   "execution_count": 239,
   "metadata": {
    "colab": {
     "base_uri": "https://localhost:8080/",
     "height": 193
    },
    "colab_type": "code",
    "id": "zWKUddY80v5n",
    "outputId": "21017377-b5a7-45cd-b4c6-da3d6ab1c3f8"
   },
   "outputs": [
    {
     "name": "stderr",
     "output_type": "stream",
     "text": [
      "/usr/local/lib/python3.6/dist-packages/sklearn/ensemble/forest.py:245: FutureWarning: The default value of n_estimators will change from 10 in version 0.20 to 100 in 0.22.\n",
      "  \"10 in version 0.20 to 100 in 0.22.\", FutureWarning)\n"
     ]
    },
    {
     "data": {
      "text/plain": [
       "RandomForestClassifier(bootstrap=True, class_weight=None, criterion='gini',\n",
       "                       max_depth=2, max_features='sqrt', max_leaf_nodes=None,\n",
       "                       min_impurity_decrease=0.0, min_impurity_split=None,\n",
       "                       min_samples_leaf=1, min_samples_split=2,\n",
       "                       min_weight_fraction_leaf=0.0, n_estimators=10,\n",
       "                       n_jobs=None, oob_score=False, random_state=0, verbose=0,\n",
       "                       warm_start=False)"
      ]
     },
     "execution_count": 239,
     "metadata": {
      "tags": []
     },
     "output_type": "execute_result"
    }
   ],
   "source": [
    "rf.fit(X_train, Y_train)"
   ]
  },
  {
   "cell_type": "code",
   "execution_count": 0,
   "metadata": {
    "colab": {},
    "colab_type": "code",
    "id": "Sq4cgLNb052B"
   },
   "outputs": [],
   "source": [
    "pred = rf.predict(X_test)"
   ]
  },
  {
   "cell_type": "code",
   "execution_count": 241,
   "metadata": {
    "colab": {
     "base_uri": "https://localhost:8080/",
     "height": 35
    },
    "colab_type": "code",
    "id": "YOqaQtqM1ZpC",
    "outputId": "591e8243-10e6-42ad-b92e-fdc9976df66c"
   },
   "outputs": [
    {
     "name": "stdout",
     "output_type": "stream",
     "text": [
      "Precision: 51.85 %\n"
     ]
    }
   ],
   "source": [
    "from sklearn.metrics import accuracy_score\n",
    "print(\"Precision: {:.2f} %\".format(100 * accuracy_score(Y_test, pred)))"
   ]
  },
  {
   "cell_type": "code",
   "execution_count": 243,
   "metadata": {
    "colab": {
     "base_uri": "https://localhost:8080/",
     "height": 317
    },
    "colab_type": "code",
    "id": "HMh5rgZT14zJ",
    "outputId": "f5369138-8867-4a7e-efd2-fa22a26e7426"
   },
   "outputs": [
    {
     "data": {
      "image/png": "[encoded data removed]",
      "text/plain": [
       "<Figure size 432x288 with 1 Axes>"
      ]
     },
     "metadata": {
      "tags": []
     },
     "output_type": "display_data"
    }
   ],
   "source": [
    "g = plot_learning_curve(rf.base_estimator_, \"Random Forest Learning Curve\", X_train, Y_train, ylim=[1.01, 0.6], cv = 5,\n",
    "                        train_sizes = [0.05, 0.1, 0.2, 0.3, 0.4, 0.5, 0.6, 0.7, 0.8, 0.9, 1])"
   ]
  },
  {
   "cell_type": "code",
   "execution_count": 0,
   "metadata": {
    "colab": {},
    "colab_type": "code",
    "id": "Ol4JnIOz9-QZ"
   },
   "outputs": [],
   "source": [
    "tr = DecisionTreeClassifier(max_features='log2', random_state=0)"
   ]
  },
  {
   "cell_type": "code",
   "execution_count": 254,
   "metadata": {
    "colab": {
     "base_uri": "https://localhost:8080/",
     "height": 121
    },
    "colab_type": "code",
    "id": "GVXQ5iVq-b8k",
    "outputId": "d8289e90-592d-4af7-d8a5-f5f973adfa96"
   },
   "outputs": [
    {
     "data": {
      "text/plain": [
       "DecisionTreeClassifier(class_weight=None, criterion='gini', max_depth=None,\n",
       "                       max_features='log2', max_leaf_nodes=None,\n",
       "                       min_impurity_decrease=0.0, min_impurity_split=None,\n",
       "                       min_samples_leaf=1, min_samples_split=2,\n",
       "                       min_weight_fraction_leaf=0.0, presort=False,\n",
       "                       random_state=0, splitter='best')"
      ]
     },
     "execution_count": 254,
     "metadata": {
      "tags": []
     },
     "output_type": "execute_result"
    }
   ],
   "source": [
    "tr.fit(X_train,Y_train)"
   ]
  },
  {
   "cell_type": "code",
   "execution_count": 0,
   "metadata": {
    "colab": {},
    "colab_type": "code",
    "id": "y_tRYvLL-fo0"
   },
   "outputs": [],
   "source": [
    "pred = tr.predict(X_test)"
   ]
  },
  {
   "cell_type": "code",
   "execution_count": 256,
   "metadata": {
    "colab": {
     "base_uri": "https://localhost:8080/",
     "height": 35
    },
    "colab_type": "code",
    "id": "DGirP9YM-mdQ",
    "outputId": "d206abb3-3ae1-4f28-b18d-5de0d7e24826"
   },
   "outputs": [
    {
     "name": "stdout",
     "output_type": "stream",
     "text": [
      "Precision: 70.62 %\n"
     ]
    }
   ],
   "source": [
    "print(\"Precision: {:.2f} %\".format(100 * accuracy_score(Y_test, pred)))"
   ]
  },
  {
   "cell_type": "code",
   "execution_count": 257,
   "metadata": {
    "colab": {
     "base_uri": "https://localhost:8080/",
     "height": 317
    },
    "colab_type": "code",
    "id": "H1Ei5Yga_QUb",
    "outputId": "f87740b5-febf-4ae9-d8b2-02ae906728ba"
   },
   "outputs": [
    {
     "data": {
      "image/png": "[encoded data removed]",
      "text/plain": [
       "<Figure size 432x288 with 1 Axes>"
      ]
     },
     "metadata": {
      "tags": []
     },
     "output_type": "display_data"
    }
   ],
   "source": [
    "g = plot_learning_curve(tr, \"DecisionTree Learning Curve\", X_train, Y_train, ylim=[1.01, 0.6], cv = 5,\n",
    "                        train_sizes = [0.05, 0.1, 0.2, 0.3, 0.4, 0.5, 0.6, 0.7, 0.8, 0.9, 1])"
   ]
  },
  {
   "cell_type": "code",
   "execution_count": 0,
   "metadata": {
    "colab": {},
    "colab_type": "code",
    "id": "q-CeVcEZ_xFM"
   },
   "outputs": [],
   "source": [
    "neigh = KNeighborsClassifier(n_neighbors=3)"
   ]
  },
  {
   "cell_type": "code",
   "execution_count": 261,
   "metadata": {
    "colab": {
     "base_uri": "https://localhost:8080/",
     "height": 69
    },
    "colab_type": "code",
    "id": "aipQgGCkAEoN",
    "outputId": "9b2bd8c9-51f4-4942-cf6d-bdd1a3e8d67c"
   },
   "outputs": [
    {
     "data": {
      "text/plain": [
       "KNeighborsClassifier(algorithm='auto', leaf_size=30, metric='minkowski',\n",
       "                     metric_params=None, n_jobs=None, n_neighbors=3, p=2,\n",
       "                     weights='uniform')"
      ]
     },
     "execution_count": 261,
     "metadata": {
      "tags": []
     },
     "output_type": "execute_result"
    }
   ],
   "source": [
    "neigh.fit(X_train,Y_train)"
   ]
  },
  {
   "cell_type": "code",
   "execution_count": 0,
   "metadata": {
    "colab": {},
    "colab_type": "code",
    "id": "8Z_Wd647AObm"
   },
   "outputs": [],
   "source": [
    "pred = neigh.predict(X_test)"
   ]
  },
  {
   "cell_type": "code",
   "execution_count": 265,
   "metadata": {
    "colab": {
     "base_uri": "https://localhost:8080/",
     "height": 35
    },
    "colab_type": "code",
    "id": "P6HmAG5vAU47",
    "outputId": "7ff91d60-1ebe-4682-d29b-481bcb84410d"
   },
   "outputs": [
    {
     "name": "stdout",
     "output_type": "stream",
     "text": [
      "Precision: 69.51 %\n"
     ]
    }
   ],
   "source": [
    "print(\"Precision: {:.2f} %\".format(100 * accuracy_score(Y_test, pred)))"
   ]
  },
  {
   "cell_type": "code",
   "execution_count": 267,
   "metadata": {
    "colab": {
     "base_uri": "https://localhost:8080/",
     "height": 683
    },
    "colab_type": "code",
    "id": "MW1WT1wdsUkm",
    "outputId": "89a97f37-c10d-41c2-efe1-76b014d205b9"
   },
   "outputs": [
    {
     "ename": "KeyboardInterrupt",
     "evalue": "ignored",
     "output_type": "error",
     "traceback": [
      "\u001b[0;31m---------------------------------------------------------------------------\u001b[0m",
      "\u001b[0;31mKeyboardInterrupt\u001b[0m                         Traceback (most recent call last)",
      "\u001b[0;32m<ipython-input-267-0040db5ff182>\u001b[0m in \u001b[0;36m<module>\u001b[0;34m()\u001b[0m\n\u001b[1;32m      1\u001b[0m g = plot_learning_curve(neigh, \"KNearestNeighbors Learning Curve\", X_train, Y_train, ylim=[1.01, 0.6], cv = 5,\n\u001b[0;32m----> 2\u001b[0;31m                         train_sizes = [0.05, 0.1, 0.2, 0.3, 0.4, 0.5, 0.6, 0.7, 0.8, 0.9, 1])\n\u001b[0m",
      "\u001b[0;32m<ipython-input-225-b69098a0681a>\u001b[0m in \u001b[0;36mplot_learning_curve\u001b[0;34m(estimator, title, X, y, ylim, cv, n_jobs, train_sizes)\u001b[0m\n\u001b[1;32m     13\u001b[0m     \u001b[0mplt\u001b[0m\u001b[0;34m.\u001b[0m\u001b[0mylabel\u001b[0m\u001b[0;34m(\u001b[0m\u001b[0;34m\"Score\"\u001b[0m\u001b[0;34m)\u001b[0m\u001b[0;34m\u001b[0m\u001b[0;34m\u001b[0m\u001b[0m\n\u001b[1;32m     14\u001b[0m     train_sizes, train_scores, test_scores = learning_curve(\n\u001b[0;32m---> 15\u001b[0;31m         estimator, X, y, cv=cv, n_jobs=n_jobs, train_sizes=train_sizes)\n\u001b[0m\u001b[1;32m     16\u001b[0m     \u001b[0mtrain_scores_mean\u001b[0m \u001b[0;34m=\u001b[0m \u001b[0mnp\u001b[0m\u001b[0;34m.\u001b[0m\u001b[0mmean\u001b[0m\u001b[0;34m(\u001b[0m\u001b[0mtrain_scores\u001b[0m\u001b[0;34m,\u001b[0m \u001b[0maxis\u001b[0m\u001b[0;34m=\u001b[0m\u001b[0;36m1\u001b[0m\u001b[0;34m)\u001b[0m\u001b[0;34m\u001b[0m\u001b[0;34m\u001b[0m\u001b[0m\n\u001b[1;32m     17\u001b[0m     \u001b[0mtrain_scores_std\u001b[0m \u001b[0;34m=\u001b[0m \u001b[0mnp\u001b[0m\u001b[0;34m.\u001b[0m\u001b[0mstd\u001b[0m\u001b[0;34m(\u001b[0m\u001b[0mtrain_scores\u001b[0m\u001b[0;34m,\u001b[0m \u001b[0maxis\u001b[0m\u001b[0;34m=\u001b[0m\u001b[0;36m1\u001b[0m\u001b[0;34m)\u001b[0m\u001b[0;34m\u001b[0m\u001b[0;34m\u001b[0m\u001b[0m\n",
      "\u001b[0;32m/usr/local/lib/python3.6/dist-packages/sklearn/model_selection/_validation.py\u001b[0m in \u001b[0;36mlearning_curve\u001b[0;34m(estimator, X, y, groups, train_sizes, cv, scoring, exploit_incremental_learning, n_jobs, pre_dispatch, verbose, shuffle, random_state, error_score)\u001b[0m\n\u001b[1;32m   1294\u001b[0m             \u001b[0mparameters\u001b[0m\u001b[0;34m=\u001b[0m\u001b[0;32mNone\u001b[0m\u001b[0;34m,\u001b[0m \u001b[0mfit_params\u001b[0m\u001b[0;34m=\u001b[0m\u001b[0;32mNone\u001b[0m\u001b[0;34m,\u001b[0m \u001b[0mreturn_train_score\u001b[0m\u001b[0;34m=\u001b[0m\u001b[0;32mTrue\u001b[0m\u001b[0;34m,\u001b[0m\u001b[0;34m\u001b[0m\u001b[0;34m\u001b[0m\u001b[0m\n\u001b[1;32m   1295\u001b[0m             error_score=error_score)\n\u001b[0;32m-> 1296\u001b[0;31m             for train, test in train_test_proportions)\n\u001b[0m\u001b[1;32m   1297\u001b[0m         \u001b[0mout\u001b[0m \u001b[0;34m=\u001b[0m \u001b[0mnp\u001b[0m\u001b[0;34m.\u001b[0m\u001b[0marray\u001b[0m\u001b[0;34m(\u001b[0m\u001b[0mout\u001b[0m\u001b[0;34m)\u001b[0m\u001b[0;34m\u001b[0m\u001b[0;34m\u001b[0m\u001b[0m\n\u001b[1;32m   1298\u001b[0m         \u001b[0mn_cv_folds\u001b[0m \u001b[0;34m=\u001b[0m \u001b[0mout\u001b[0m\u001b[0;34m.\u001b[0m\u001b[0mshape\u001b[0m\u001b[0;34m[\u001b[0m\u001b[0;36m0\u001b[0m\u001b[0;34m]\u001b[0m \u001b[0;34m//\u001b[0m \u001b[0mn_unique_ticks\u001b[0m\u001b[0;34m\u001b[0m\u001b[0;34m\u001b[0m\u001b[0m\n",
      "\u001b[0;32m/usr/local/lib/python3.6/dist-packages/joblib/parallel.py\u001b[0m in \u001b[0;36m__call__\u001b[0;34m(self, iterable)\u001b[0m\n\u001b[1;32m   1004\u001b[0m                 \u001b[0mself\u001b[0m\u001b[0;34m.\u001b[0m\u001b[0m_iterating\u001b[0m \u001b[0;34m=\u001b[0m \u001b[0mself\u001b[0m\u001b[0;34m.\u001b[0m\u001b[0m_original_iterator\u001b[0m \u001b[0;32mis\u001b[0m \u001b[0;32mnot\u001b[0m \u001b[0;32mNone\u001b[0m\u001b[0;34m\u001b[0m\u001b[0;34m\u001b[0m\u001b[0m\n\u001b[1;32m   1005\u001b[0m \u001b[0;34m\u001b[0m\u001b[0m\n\u001b[0;32m-> 1006\u001b[0;31m             \u001b[0;32mwhile\u001b[0m \u001b[0mself\u001b[0m\u001b[0;34m.\u001b[0m\u001b[0mdispatch_one_batch\u001b[0m\u001b[0;34m(\u001b[0m\u001b[0miterator\u001b[0m\u001b[0;34m)\u001b[0m\u001b[0;34m:\u001b[0m\u001b[0;34m\u001b[0m\u001b[0;34m\u001b[0m\u001b[0m\n\u001b[0m\u001b[1;32m   1007\u001b[0m                 \u001b[0;32mpass\u001b[0m\u001b[0;34m\u001b[0m\u001b[0;34m\u001b[0m\u001b[0m\n\u001b[1;32m   1008\u001b[0m \u001b[0;34m\u001b[0m\u001b[0m\n",
      "\u001b[0;32m/usr/local/lib/python3.6/dist-packages/joblib/parallel.py\u001b[0m in \u001b[0;36mdispatch_one_batch\u001b[0;34m(self, iterator)\u001b[0m\n\u001b[1;32m    832\u001b[0m                 \u001b[0;32mreturn\u001b[0m \u001b[0;32mFalse\u001b[0m\u001b[0;34m\u001b[0m\u001b[0;34m\u001b[0m\u001b[0m\n\u001b[1;32m    833\u001b[0m             \u001b[0;32melse\u001b[0m\u001b[0;34m:\u001b[0m\u001b[0;34m\u001b[0m\u001b[0;34m\u001b[0m\u001b[0m\n\u001b[0;32m--> 834\u001b[0;31m                 \u001b[0mself\u001b[0m\u001b[0;34m.\u001b[0m\u001b[0m_dispatch\u001b[0m\u001b[0;34m(\u001b[0m\u001b[0mtasks\u001b[0m\u001b[0;34m)\u001b[0m\u001b[0;34m\u001b[0m\u001b[0;34m\u001b[0m\u001b[0m\n\u001b[0m\u001b[1;32m    835\u001b[0m                 \u001b[0;32mreturn\u001b[0m \u001b[0;32mTrue\u001b[0m\u001b[0;34m\u001b[0m\u001b[0;34m\u001b[0m\u001b[0m\n\u001b[1;32m    836\u001b[0m \u001b[0;34m\u001b[0m\u001b[0m\n",
      "\u001b[0;32m/usr/local/lib/python3.6/dist-packages/joblib/parallel.py\u001b[0m in \u001b[0;36m_dispatch\u001b[0;34m(self, batch)\u001b[0m\n\u001b[1;32m    751\u001b[0m         \u001b[0;32mwith\u001b[0m \u001b[0mself\u001b[0m\u001b[0;34m.\u001b[0m\u001b[0m_lock\u001b[0m\u001b[0;34m:\u001b[0m\u001b[0;34m\u001b[0m\u001b[0;34m\u001b[0m\u001b[0m\n\u001b[1;32m    752\u001b[0m             \u001b[0mjob_idx\u001b[0m \u001b[0;34m=\u001b[0m \u001b[0mlen\u001b[0m\u001b[0;34m(\u001b[0m\u001b[0mself\u001b[0m\u001b[0;34m.\u001b[0m\u001b[0m_jobs\u001b[0m\u001b[0;34m)\u001b[0m\u001b[0;34m\u001b[0m\u001b[0;34m\u001b[0m\u001b[0m\n\u001b[0;32m--> 753\u001b[0;31m             \u001b[0mjob\u001b[0m \u001b[0;34m=\u001b[0m \u001b[0mself\u001b[0m\u001b[0;34m.\u001b[0m\u001b[0m_backend\u001b[0m\u001b[0;34m.\u001b[0m\u001b[0mapply_async\u001b[0m\u001b[0;34m(\u001b[0m\u001b[0mbatch\u001b[0m\u001b[0;34m,\u001b[0m \u001b[0mcallback\u001b[0m\u001b[0;34m=\u001b[0m\u001b[0mcb\u001b[0m\u001b[0;34m)\u001b[0m\u001b[0;34m\u001b[0m\u001b[0;34m\u001b[0m\u001b[0m\n\u001b[0m\u001b[1;32m    754\u001b[0m             \u001b[0;31m# A job can complete so quickly than its callback is\u001b[0m\u001b[0;34m\u001b[0m\u001b[0;34m\u001b[0m\u001b[0;34m\u001b[0m\u001b[0m\n\u001b[1;32m    755\u001b[0m             \u001b[0;31m# called before we get here, causing self._jobs to\u001b[0m\u001b[0;34m\u001b[0m\u001b[0;34m\u001b[0m\u001b[0;34m\u001b[0m\u001b[0m\n",
      "\u001b[0;32m/usr/local/lib/python3.6/dist-packages/joblib/_parallel_backends.py\u001b[0m in \u001b[0;36mapply_async\u001b[0;34m(self, func, callback)\u001b[0m\n\u001b[1;32m    199\u001b[0m     \u001b[0;32mdef\u001b[0m \u001b[0mapply_async\u001b[0m\u001b[0;34m(\u001b[0m\u001b[0mself\u001b[0m\u001b[0;34m,\u001b[0m \u001b[0mfunc\u001b[0m\u001b[0;34m,\u001b[0m \u001b[0mcallback\u001b[0m\u001b[0;34m=\u001b[0m\u001b[0;32mNone\u001b[0m\u001b[0;34m)\u001b[0m\u001b[0;34m:\u001b[0m\u001b[0;34m\u001b[0m\u001b[0;34m\u001b[0m\u001b[0m\n\u001b[1;32m    200\u001b[0m         \u001b[0;34m\"\"\"Schedule a func to be run\"\"\"\u001b[0m\u001b[0;34m\u001b[0m\u001b[0;34m\u001b[0m\u001b[0m\n\u001b[0;32m--> 201\u001b[0;31m         \u001b[0mresult\u001b[0m \u001b[0;34m=\u001b[0m \u001b[0mImmediateResult\u001b[0m\u001b[0;34m(\u001b[0m\u001b[0mfunc\u001b[0m\u001b[0;34m)\u001b[0m\u001b[0;34m\u001b[0m\u001b[0;34m\u001b[0m\u001b[0m\n\u001b[0m\u001b[1;32m    202\u001b[0m         \u001b[0;32mif\u001b[0m \u001b[0mcallback\u001b[0m\u001b[0;34m:\u001b[0m\u001b[0;34m\u001b[0m\u001b[0;34m\u001b[0m\u001b[0m\n\u001b[1;32m    203\u001b[0m             \u001b[0mcallback\u001b[0m\u001b[0;34m(\u001b[0m\u001b[0mresult\u001b[0m\u001b[0;34m)\u001b[0m\u001b[0;34m\u001b[0m\u001b[0;34m\u001b[0m\u001b[0m\n",
      "\u001b[0;32m/usr/local/lib/python3.6/dist-packages/joblib/_parallel_backends.py\u001b[0m in \u001b[0;36m__init__\u001b[0;34m(self, batch)\u001b[0m\n\u001b[1;32m    580\u001b[0m         \u001b[0;31m# Don't delay the application, to avoid keeping the input\u001b[0m\u001b[0;34m\u001b[0m\u001b[0;34m\u001b[0m\u001b[0;34m\u001b[0m\u001b[0m\n\u001b[1;32m    581\u001b[0m         \u001b[0;31m# arguments in memory\u001b[0m\u001b[0;34m\u001b[0m\u001b[0;34m\u001b[0m\u001b[0;34m\u001b[0m\u001b[0m\n\u001b[0;32m--> 582\u001b[0;31m         \u001b[0mself\u001b[0m\u001b[0;34m.\u001b[0m\u001b[0mresults\u001b[0m \u001b[0;34m=\u001b[0m \u001b[0mbatch\u001b[0m\u001b[0;34m(\u001b[0m\u001b[0;34m)\u001b[0m\u001b[0;34m\u001b[0m\u001b[0;34m\u001b[0m\u001b[0m\n\u001b[0m\u001b[1;32m    583\u001b[0m \u001b[0;34m\u001b[0m\u001b[0m\n\u001b[1;32m    584\u001b[0m     \u001b[0;32mdef\u001b[0m \u001b[0mget\u001b[0m\u001b[0;34m(\u001b[0m\u001b[0mself\u001b[0m\u001b[0;34m)\u001b[0m\u001b[0;34m:\u001b[0m\u001b[0;34m\u001b[0m\u001b[0;34m\u001b[0m\u001b[0m\n",
      "\u001b[0;32m/usr/local/lib/python3.6/dist-packages/joblib/parallel.py\u001b[0m in \u001b[0;36m__call__\u001b[0;34m(self)\u001b[0m\n\u001b[1;32m    254\u001b[0m         \u001b[0;32mwith\u001b[0m \u001b[0mparallel_backend\u001b[0m\u001b[0;34m(\u001b[0m\u001b[0mself\u001b[0m\u001b[0;34m.\u001b[0m\u001b[0m_backend\u001b[0m\u001b[0;34m,\u001b[0m \u001b[0mn_jobs\u001b[0m\u001b[0;34m=\u001b[0m\u001b[0mself\u001b[0m\u001b[0;34m.\u001b[0m\u001b[0m_n_jobs\u001b[0m\u001b[0;34m)\u001b[0m\u001b[0;34m:\u001b[0m\u001b[0;34m\u001b[0m\u001b[0;34m\u001b[0m\u001b[0m\n\u001b[1;32m    255\u001b[0m             return [func(*args, **kwargs)\n\u001b[0;32m--> 256\u001b[0;31m                     for func, args, kwargs in self.items]\n\u001b[0m\u001b[1;32m    257\u001b[0m \u001b[0;34m\u001b[0m\u001b[0m\n\u001b[1;32m    258\u001b[0m     \u001b[0;32mdef\u001b[0m \u001b[0m__len__\u001b[0m\u001b[0;34m(\u001b[0m\u001b[0mself\u001b[0m\u001b[0;34m)\u001b[0m\u001b[0;34m:\u001b[0m\u001b[0;34m\u001b[0m\u001b[0;34m\u001b[0m\u001b[0m\n",
      "\u001b[0;32m/usr/local/lib/python3.6/dist-packages/joblib/parallel.py\u001b[0m in \u001b[0;36m<listcomp>\u001b[0;34m(.0)\u001b[0m\n\u001b[1;32m    254\u001b[0m         \u001b[0;32mwith\u001b[0m \u001b[0mparallel_backend\u001b[0m\u001b[0;34m(\u001b[0m\u001b[0mself\u001b[0m\u001b[0;34m.\u001b[0m\u001b[0m_backend\u001b[0m\u001b[0;34m,\u001b[0m \u001b[0mn_jobs\u001b[0m\u001b[0;34m=\u001b[0m\u001b[0mself\u001b[0m\u001b[0;34m.\u001b[0m\u001b[0m_n_jobs\u001b[0m\u001b[0;34m)\u001b[0m\u001b[0;34m:\u001b[0m\u001b[0;34m\u001b[0m\u001b[0;34m\u001b[0m\u001b[0m\n\u001b[1;32m    255\u001b[0m             return [func(*args, **kwargs)\n\u001b[0;32m--> 256\u001b[0;31m                     for func, args, kwargs in self.items]\n\u001b[0m\u001b[1;32m    257\u001b[0m \u001b[0;34m\u001b[0m\u001b[0m\n\u001b[1;32m    258\u001b[0m     \u001b[0;32mdef\u001b[0m \u001b[0m__len__\u001b[0m\u001b[0;34m(\u001b[0m\u001b[0mself\u001b[0m\u001b[0;34m)\u001b[0m\u001b[0;34m:\u001b[0m\u001b[0;34m\u001b[0m\u001b[0;34m\u001b[0m\u001b[0m\n",
      "\u001b[0;32m/usr/local/lib/python3.6/dist-packages/sklearn/model_selection/_validation.py\u001b[0m in \u001b[0;36m_fit_and_score\u001b[0;34m(estimator, X, y, scorer, train, test, verbose, parameters, fit_params, return_train_score, return_parameters, return_n_test_samples, return_times, return_estimator, error_score)\u001b[0m\n\u001b[1;32m    554\u001b[0m         \u001b[0mfit_time\u001b[0m \u001b[0;34m=\u001b[0m \u001b[0mtime\u001b[0m\u001b[0;34m.\u001b[0m\u001b[0mtime\u001b[0m\u001b[0;34m(\u001b[0m\u001b[0;34m)\u001b[0m \u001b[0;34m-\u001b[0m \u001b[0mstart_time\u001b[0m\u001b[0;34m\u001b[0m\u001b[0;34m\u001b[0m\u001b[0m\n\u001b[1;32m    555\u001b[0m         \u001b[0;31m# _score will return dict if is_multimetric is True\u001b[0m\u001b[0;34m\u001b[0m\u001b[0;34m\u001b[0m\u001b[0;34m\u001b[0m\u001b[0m\n\u001b[0;32m--> 556\u001b[0;31m         \u001b[0mtest_scores\u001b[0m \u001b[0;34m=\u001b[0m \u001b[0m_score\u001b[0m\u001b[0;34m(\u001b[0m\u001b[0mestimator\u001b[0m\u001b[0;34m,\u001b[0m \u001b[0mX_test\u001b[0m\u001b[0;34m,\u001b[0m \u001b[0my_test\u001b[0m\u001b[0;34m,\u001b[0m \u001b[0mscorer\u001b[0m\u001b[0;34m,\u001b[0m \u001b[0mis_multimetric\u001b[0m\u001b[0;34m)\u001b[0m\u001b[0;34m\u001b[0m\u001b[0;34m\u001b[0m\u001b[0m\n\u001b[0m\u001b[1;32m    557\u001b[0m         \u001b[0mscore_time\u001b[0m \u001b[0;34m=\u001b[0m \u001b[0mtime\u001b[0m\u001b[0;34m.\u001b[0m\u001b[0mtime\u001b[0m\u001b[0;34m(\u001b[0m\u001b[0;34m)\u001b[0m \u001b[0;34m-\u001b[0m \u001b[0mstart_time\u001b[0m \u001b[0;34m-\u001b[0m \u001b[0mfit_time\u001b[0m\u001b[0;34m\u001b[0m\u001b[0;34m\u001b[0m\u001b[0m\n\u001b[1;32m    558\u001b[0m         \u001b[0;32mif\u001b[0m \u001b[0mreturn_train_score\u001b[0m\u001b[0;34m:\u001b[0m\u001b[0;34m\u001b[0m\u001b[0;34m\u001b[0m\u001b[0m\n",
      "\u001b[0;32m/usr/local/lib/python3.6/dist-packages/sklearn/model_selection/_validation.py\u001b[0m in \u001b[0;36m_score\u001b[0;34m(estimator, X_test, y_test, scorer, is_multimetric)\u001b[0m\n\u001b[1;32m    602\u001b[0m             \u001b[0mscore\u001b[0m \u001b[0;34m=\u001b[0m \u001b[0mscorer\u001b[0m\u001b[0;34m(\u001b[0m\u001b[0mestimator\u001b[0m\u001b[0;34m,\u001b[0m \u001b[0mX_test\u001b[0m\u001b[0;34m)\u001b[0m\u001b[0;34m\u001b[0m\u001b[0;34m\u001b[0m\u001b[0m\n\u001b[1;32m    603\u001b[0m         \u001b[0;32melse\u001b[0m\u001b[0;34m:\u001b[0m\u001b[0;34m\u001b[0m\u001b[0;34m\u001b[0m\u001b[0m\n\u001b[0;32m--> 604\u001b[0;31m             \u001b[0mscore\u001b[0m \u001b[0;34m=\u001b[0m \u001b[0mscorer\u001b[0m\u001b[0;34m(\u001b[0m\u001b[0mestimator\u001b[0m\u001b[0;34m,\u001b[0m \u001b[0mX_test\u001b[0m\u001b[0;34m,\u001b[0m \u001b[0my_test\u001b[0m\u001b[0;34m)\u001b[0m\u001b[0;34m\u001b[0m\u001b[0;34m\u001b[0m\u001b[0m\n\u001b[0m\u001b[1;32m    605\u001b[0m \u001b[0;34m\u001b[0m\u001b[0m\n\u001b[1;32m    606\u001b[0m         \u001b[0;32mif\u001b[0m \u001b[0mhasattr\u001b[0m\u001b[0;34m(\u001b[0m\u001b[0mscore\u001b[0m\u001b[0;34m,\u001b[0m \u001b[0;34m'item'\u001b[0m\u001b[0;34m)\u001b[0m\u001b[0;34m:\u001b[0m\u001b[0;34m\u001b[0m\u001b[0;34m\u001b[0m\u001b[0m\n",
      "\u001b[0;32m/usr/local/lib/python3.6/dist-packages/sklearn/metrics/scorer.py\u001b[0m in \u001b[0;36m_passthrough_scorer\u001b[0;34m(estimator, *args, **kwargs)\u001b[0m\n\u001b[1;32m    238\u001b[0m \u001b[0;32mdef\u001b[0m \u001b[0m_passthrough_scorer\u001b[0m\u001b[0;34m(\u001b[0m\u001b[0mestimator\u001b[0m\u001b[0;34m,\u001b[0m \u001b[0;34m*\u001b[0m\u001b[0margs\u001b[0m\u001b[0;34m,\u001b[0m \u001b[0;34m**\u001b[0m\u001b[0mkwargs\u001b[0m\u001b[0;34m)\u001b[0m\u001b[0;34m:\u001b[0m\u001b[0;34m\u001b[0m\u001b[0;34m\u001b[0m\u001b[0m\n\u001b[1;32m    239\u001b[0m     \u001b[0;34m\"\"\"Function that wraps estimator.score\"\"\"\u001b[0m\u001b[0;34m\u001b[0m\u001b[0;34m\u001b[0m\u001b[0m\n\u001b[0;32m--> 240\u001b[0;31m     \u001b[0;32mreturn\u001b[0m \u001b[0mestimator\u001b[0m\u001b[0;34m.\u001b[0m\u001b[0mscore\u001b[0m\u001b[0;34m(\u001b[0m\u001b[0;34m*\u001b[0m\u001b[0margs\u001b[0m\u001b[0;34m,\u001b[0m \u001b[0;34m**\u001b[0m\u001b[0mkwargs\u001b[0m\u001b[0;34m)\u001b[0m\u001b[0;34m\u001b[0m\u001b[0;34m\u001b[0m\u001b[0m\n\u001b[0m\u001b[1;32m    241\u001b[0m \u001b[0;34m\u001b[0m\u001b[0m\n\u001b[1;32m    242\u001b[0m \u001b[0;34m\u001b[0m\u001b[0m\n",
      "\u001b[0;32m/usr/local/lib/python3.6/dist-packages/sklearn/base.py\u001b[0m in \u001b[0;36mscore\u001b[0;34m(self, X, y, sample_weight)\u001b[0m\n\u001b[1;32m    355\u001b[0m         \"\"\"\n\u001b[1;32m    356\u001b[0m         \u001b[0;32mfrom\u001b[0m \u001b[0;34m.\u001b[0m\u001b[0mmetrics\u001b[0m \u001b[0;32mimport\u001b[0m \u001b[0maccuracy_score\u001b[0m\u001b[0;34m\u001b[0m\u001b[0;34m\u001b[0m\u001b[0m\n\u001b[0;32m--> 357\u001b[0;31m         \u001b[0;32mreturn\u001b[0m \u001b[0maccuracy_score\u001b[0m\u001b[0;34m(\u001b[0m\u001b[0my\u001b[0m\u001b[0;34m,\u001b[0m \u001b[0mself\u001b[0m\u001b[0;34m.\u001b[0m\u001b[0mpredict\u001b[0m\u001b[0;34m(\u001b[0m\u001b[0mX\u001b[0m\u001b[0;34m)\u001b[0m\u001b[0;34m,\u001b[0m \u001b[0msample_weight\u001b[0m\u001b[0;34m=\u001b[0m\u001b[0msample_weight\u001b[0m\u001b[0;34m)\u001b[0m\u001b[0;34m\u001b[0m\u001b[0;34m\u001b[0m\u001b[0m\n\u001b[0m\u001b[1;32m    358\u001b[0m \u001b[0;34m\u001b[0m\u001b[0m\n\u001b[1;32m    359\u001b[0m \u001b[0;34m\u001b[0m\u001b[0m\n",
      "\u001b[0;32m/usr/local/lib/python3.6/dist-packages/sklearn/neighbors/classification.py\u001b[0m in \u001b[0;36mpredict\u001b[0;34m(self, X)\u001b[0m\n\u001b[1;32m    161\u001b[0m         \u001b[0;32mfor\u001b[0m \u001b[0mk\u001b[0m\u001b[0;34m,\u001b[0m \u001b[0mclasses_k\u001b[0m \u001b[0;32min\u001b[0m \u001b[0menumerate\u001b[0m\u001b[0;34m(\u001b[0m\u001b[0mclasses_\u001b[0m\u001b[0;34m)\u001b[0m\u001b[0;34m:\u001b[0m\u001b[0;34m\u001b[0m\u001b[0;34m\u001b[0m\u001b[0m\n\u001b[1;32m    162\u001b[0m             \u001b[0;32mif\u001b[0m \u001b[0mweights\u001b[0m \u001b[0;32mis\u001b[0m \u001b[0;32mNone\u001b[0m\u001b[0;34m:\u001b[0m\u001b[0;34m\u001b[0m\u001b[0;34m\u001b[0m\u001b[0m\n\u001b[0;32m--> 163\u001b[0;31m                 \u001b[0mmode\u001b[0m\u001b[0;34m,\u001b[0m \u001b[0m_\u001b[0m \u001b[0;34m=\u001b[0m \u001b[0mstats\u001b[0m\u001b[0;34m.\u001b[0m\u001b[0mmode\u001b[0m\u001b[0;34m(\u001b[0m\u001b[0m_y\u001b[0m\u001b[0;34m[\u001b[0m\u001b[0mneigh_ind\u001b[0m\u001b[0;34m,\u001b[0m \u001b[0mk\u001b[0m\u001b[0;34m]\u001b[0m\u001b[0;34m,\u001b[0m \u001b[0maxis\u001b[0m\u001b[0;34m=\u001b[0m\u001b[0;36m1\u001b[0m\u001b[0;34m)\u001b[0m\u001b[0;34m\u001b[0m\u001b[0;34m\u001b[0m\u001b[0m\n\u001b[0m\u001b[1;32m    164\u001b[0m             \u001b[0;32melse\u001b[0m\u001b[0;34m:\u001b[0m\u001b[0;34m\u001b[0m\u001b[0;34m\u001b[0m\u001b[0m\n\u001b[1;32m    165\u001b[0m                 \u001b[0mmode\u001b[0m\u001b[0;34m,\u001b[0m \u001b[0m_\u001b[0m \u001b[0;34m=\u001b[0m \u001b[0mweighted_mode\u001b[0m\u001b[0;34m(\u001b[0m\u001b[0m_y\u001b[0m\u001b[0;34m[\u001b[0m\u001b[0mneigh_ind\u001b[0m\u001b[0;34m,\u001b[0m \u001b[0mk\u001b[0m\u001b[0;34m]\u001b[0m\u001b[0;34m,\u001b[0m \u001b[0mweights\u001b[0m\u001b[0;34m,\u001b[0m \u001b[0maxis\u001b[0m\u001b[0;34m=\u001b[0m\u001b[0;36m1\u001b[0m\u001b[0;34m)\u001b[0m\u001b[0;34m\u001b[0m\u001b[0;34m\u001b[0m\u001b[0m\n",
      "\u001b[0;32m/usr/local/lib/python3.6/dist-packages/scipy/stats/stats.py\u001b[0m in \u001b[0;36mmode\u001b[0;34m(a, axis, nan_policy)\u001b[0m\n\u001b[1;32m    487\u001b[0m     \u001b[0mcounts\u001b[0m \u001b[0;34m=\u001b[0m \u001b[0mnp\u001b[0m\u001b[0;34m.\u001b[0m\u001b[0mzeros\u001b[0m\u001b[0;34m(\u001b[0m\u001b[0ma_view\u001b[0m\u001b[0;34m.\u001b[0m\u001b[0mshape\u001b[0m\u001b[0;34m[\u001b[0m\u001b[0;34m:\u001b[0m\u001b[0;34m-\u001b[0m\u001b[0;36m1\u001b[0m\u001b[0;34m]\u001b[0m\u001b[0;34m,\u001b[0m \u001b[0mdtype\u001b[0m\u001b[0;34m=\u001b[0m\u001b[0mnp\u001b[0m\u001b[0;34m.\u001b[0m\u001b[0mint\u001b[0m\u001b[0;34m)\u001b[0m\u001b[0;34m\u001b[0m\u001b[0;34m\u001b[0m\u001b[0m\n\u001b[1;32m    488\u001b[0m     \u001b[0;32mfor\u001b[0m \u001b[0mind\u001b[0m \u001b[0;32min\u001b[0m \u001b[0minds\u001b[0m\u001b[0;34m:\u001b[0m\u001b[0;34m\u001b[0m\u001b[0;34m\u001b[0m\u001b[0m\n\u001b[0;32m--> 489\u001b[0;31m         \u001b[0mmodes\u001b[0m\u001b[0;34m[\u001b[0m\u001b[0mind\u001b[0m\u001b[0;34m]\u001b[0m\u001b[0;34m,\u001b[0m \u001b[0mcounts\u001b[0m\u001b[0;34m[\u001b[0m\u001b[0mind\u001b[0m\u001b[0;34m]\u001b[0m \u001b[0;34m=\u001b[0m \u001b[0m_mode1D\u001b[0m\u001b[0;34m(\u001b[0m\u001b[0ma_view\u001b[0m\u001b[0;34m[\u001b[0m\u001b[0mind\u001b[0m\u001b[0;34m]\u001b[0m\u001b[0;34m)\u001b[0m\u001b[0;34m\u001b[0m\u001b[0;34m\u001b[0m\u001b[0m\n\u001b[0m\u001b[1;32m    490\u001b[0m     \u001b[0mnewshape\u001b[0m \u001b[0;34m=\u001b[0m \u001b[0mlist\u001b[0m\u001b[0;34m(\u001b[0m\u001b[0ma\u001b[0m\u001b[0;34m.\u001b[0m\u001b[0mshape\u001b[0m\u001b[0;34m)\u001b[0m\u001b[0;34m\u001b[0m\u001b[0;34m\u001b[0m\u001b[0m\n\u001b[1;32m    491\u001b[0m     \u001b[0mnewshape\u001b[0m\u001b[0;34m[\u001b[0m\u001b[0maxis\u001b[0m\u001b[0;34m]\u001b[0m \u001b[0;34m=\u001b[0m \u001b[0;36m1\u001b[0m\u001b[0;34m\u001b[0m\u001b[0;34m\u001b[0m\u001b[0m\n",
      "\u001b[0;32m/usr/local/lib/python3.6/dist-packages/scipy/stats/stats.py\u001b[0m in \u001b[0;36m_mode1D\u001b[0;34m(a)\u001b[0m\n\u001b[1;32m    474\u001b[0m \u001b[0;34m\u001b[0m\u001b[0m\n\u001b[1;32m    475\u001b[0m     \u001b[0;32mdef\u001b[0m \u001b[0m_mode1D\u001b[0m\u001b[0;34m(\u001b[0m\u001b[0ma\u001b[0m\u001b[0;34m)\u001b[0m\u001b[0;34m:\u001b[0m\u001b[0;34m\u001b[0m\u001b[0;34m\u001b[0m\u001b[0m\n\u001b[0;32m--> 476\u001b[0;31m         \u001b[0mvals\u001b[0m\u001b[0;34m,\u001b[0m \u001b[0mcnts\u001b[0m \u001b[0;34m=\u001b[0m \u001b[0mnp\u001b[0m\u001b[0;34m.\u001b[0m\u001b[0munique\u001b[0m\u001b[0;34m(\u001b[0m\u001b[0ma\u001b[0m\u001b[0;34m,\u001b[0m \u001b[0mreturn_counts\u001b[0m\u001b[0;34m=\u001b[0m\u001b[0;32mTrue\u001b[0m\u001b[0;34m)\u001b[0m\u001b[0;34m\u001b[0m\u001b[0;34m\u001b[0m\u001b[0m\n\u001b[0m\u001b[1;32m    477\u001b[0m         \u001b[0;32mreturn\u001b[0m \u001b[0mvals\u001b[0m\u001b[0;34m[\u001b[0m\u001b[0mcnts\u001b[0m\u001b[0;34m.\u001b[0m\u001b[0margmax\u001b[0m\u001b[0;34m(\u001b[0m\u001b[0;34m)\u001b[0m\u001b[0;34m]\u001b[0m\u001b[0;34m,\u001b[0m \u001b[0mcnts\u001b[0m\u001b[0;34m.\u001b[0m\u001b[0mmax\u001b[0m\u001b[0;34m(\u001b[0m\u001b[0;34m)\u001b[0m\u001b[0;34m\u001b[0m\u001b[0;34m\u001b[0m\u001b[0m\n\u001b[1;32m    478\u001b[0m \u001b[0;34m\u001b[0m\u001b[0m\n",
      "\u001b[0;32m<__array_function__ internals>\u001b[0m in \u001b[0;36munique\u001b[0;34m(*args, **kwargs)\u001b[0m\n",
      "\u001b[0;32m/usr/local/lib/python3.6/dist-packages/numpy/lib/arraysetops.py\u001b[0m in \u001b[0;36munique\u001b[0;34m(ar, return_index, return_inverse, return_counts, axis)\u001b[0m\n\u001b[1;32m    260\u001b[0m     \u001b[0mar\u001b[0m \u001b[0;34m=\u001b[0m \u001b[0mnp\u001b[0m\u001b[0;34m.\u001b[0m\u001b[0masanyarray\u001b[0m\u001b[0;34m(\u001b[0m\u001b[0mar\u001b[0m\u001b[0;34m)\u001b[0m\u001b[0;34m\u001b[0m\u001b[0;34m\u001b[0m\u001b[0m\n\u001b[1;32m    261\u001b[0m     \u001b[0;32mif\u001b[0m \u001b[0maxis\u001b[0m \u001b[0;32mis\u001b[0m \u001b[0;32mNone\u001b[0m\u001b[0;34m:\u001b[0m\u001b[0;34m\u001b[0m\u001b[0;34m\u001b[0m\u001b[0m\n\u001b[0;32m--> 262\u001b[0;31m         \u001b[0mret\u001b[0m \u001b[0;34m=\u001b[0m \u001b[0m_unique1d\u001b[0m\u001b[0;34m(\u001b[0m\u001b[0mar\u001b[0m\u001b[0;34m,\u001b[0m \u001b[0mreturn_index\u001b[0m\u001b[0;34m,\u001b[0m \u001b[0mreturn_inverse\u001b[0m\u001b[0;34m,\u001b[0m \u001b[0mreturn_counts\u001b[0m\u001b[0;34m)\u001b[0m\u001b[0;34m\u001b[0m\u001b[0;34m\u001b[0m\u001b[0m\n\u001b[0m\u001b[1;32m    263\u001b[0m         \u001b[0;32mreturn\u001b[0m \u001b[0m_unpack_tuple\u001b[0m\u001b[0;34m(\u001b[0m\u001b[0mret\u001b[0m\u001b[0;34m)\u001b[0m\u001b[0;34m\u001b[0m\u001b[0;34m\u001b[0m\u001b[0m\n\u001b[1;32m    264\u001b[0m \u001b[0;34m\u001b[0m\u001b[0m\n",
      "\u001b[0;32m/usr/local/lib/python3.6/dist-packages/numpy/lib/arraysetops.py\u001b[0m in \u001b[0;36m_unique1d\u001b[0;34m(ar, return_index, return_inverse, return_counts)\u001b[0m\n\u001b[1;32m    311\u001b[0m         \u001b[0maux\u001b[0m \u001b[0;34m=\u001b[0m \u001b[0mar\u001b[0m\u001b[0;34m\u001b[0m\u001b[0;34m\u001b[0m\u001b[0m\n\u001b[1;32m    312\u001b[0m     \u001b[0mmask\u001b[0m \u001b[0;34m=\u001b[0m \u001b[0mnp\u001b[0m\u001b[0;34m.\u001b[0m\u001b[0mempty\u001b[0m\u001b[0;34m(\u001b[0m\u001b[0maux\u001b[0m\u001b[0;34m.\u001b[0m\u001b[0mshape\u001b[0m\u001b[0;34m,\u001b[0m \u001b[0mdtype\u001b[0m\u001b[0;34m=\u001b[0m\u001b[0mnp\u001b[0m\u001b[0;34m.\u001b[0m\u001b[0mbool_\u001b[0m\u001b[0;34m)\u001b[0m\u001b[0;34m\u001b[0m\u001b[0;34m\u001b[0m\u001b[0m\n\u001b[0;32m--> 313\u001b[0;31m     \u001b[0mmask\u001b[0m\u001b[0;34m[\u001b[0m\u001b[0;34m:\u001b[0m\u001b[0;36m1\u001b[0m\u001b[0;34m]\u001b[0m \u001b[0;34m=\u001b[0m \u001b[0;32mTrue\u001b[0m\u001b[0;34m\u001b[0m\u001b[0;34m\u001b[0m\u001b[0m\n\u001b[0m\u001b[1;32m    314\u001b[0m     \u001b[0mmask\u001b[0m\u001b[0;34m[\u001b[0m\u001b[0;36m1\u001b[0m\u001b[0;34m:\u001b[0m\u001b[0;34m]\u001b[0m \u001b[0;34m=\u001b[0m \u001b[0maux\u001b[0m\u001b[0;34m[\u001b[0m\u001b[0;36m1\u001b[0m\u001b[0;34m:\u001b[0m\u001b[0;34m]\u001b[0m \u001b[0;34m!=\u001b[0m \u001b[0maux\u001b[0m\u001b[0;34m[\u001b[0m\u001b[0;34m:\u001b[0m\u001b[0;34m-\u001b[0m\u001b[0;36m1\u001b[0m\u001b[0;34m]\u001b[0m\u001b[0;34m\u001b[0m\u001b[0;34m\u001b[0m\u001b[0m\n\u001b[1;32m    315\u001b[0m \u001b[0;34m\u001b[0m\u001b[0m\n",
      "\u001b[0;31mKeyboardInterrupt\u001b[0m: "
     ]
    },
    {
     "data": {
      "image/png": "[encoded data removed]",
      "text/plain": [
       "<Figure size 432x288 with 1 Axes>"
      ]
     },
     "metadata": {
      "tags": []
     },
     "output_type": "display_data"
    }
   ],
   "source": [
    "g = plot_learning_curve(neigh, \"KNearestNeighbors Learning Curve\", X_train, Y_train, ylim=[1.01, 0.6], cv = 5,\n",
    "                        train_sizes = [0.05, 0.1, 0.2, 0.3, 0.4, 0.5, 0.6, 0.7, 0.8, 0.9, 1])"
   ]
  },
  {
   "cell_type": "code",
   "execution_count": 0,
   "metadata": {
    "colab": {},
    "colab_type": "code",
    "id": "_h6QXhInBHzk"
   },
   "outputs": [],
   "source": [
    "from sklearn.ensemble import VotingClassifier\n",
    "votingC = VotingClassifier(estimators=[('rf', rf.base_estimator_), ('knn', neigh), ('tr', tr)])"
   ]
  },
  {
   "cell_type": "code",
   "execution_count": 0,
   "metadata": {
    "colab": {},
    "colab_type": "code",
    "id": "7nTgJKyfBupR"
   },
   "outputs": [],
   "source": [
    "votingC = votingC.fit(X_train, Y_train)"
   ]
  },
  {
   "cell_type": "code",
   "execution_count": 0,
   "metadata": {
    "colab": {},
    "colab_type": "code",
    "id": "U7FYJOPSBvzT"
   },
   "outputs": [],
   "source": [
    "predictions = votingC.predict(X_test)"
   ]
  },
  {
   "cell_type": "code",
   "execution_count": 271,
   "metadata": {
    "colab": {
     "base_uri": "https://localhost:8080/",
     "height": 35
    },
    "colab_type": "code",
    "id": "qKAlqAOSB-jf",
    "outputId": "fa4f4b2f-0a8d-4e9b-ea37-70d1ef5c575b"
   },
   "outputs": [
    {
     "name": "stdout",
     "output_type": "stream",
     "text": [
      "Precision : 73.13%\n"
     ]
    }
   ],
   "source": [
    "print(\"Precision : {:.2f}%\".format(100 * accuracy_score(Y_test, predictions)))"
   ]
  }
 ],
 "metadata": {
  "accelerator": "GPU",
  "colab": {
   "collapsed_sections": [],
   "machine_shape": "hm",
   "name": "Untitled1.ipynb",
   "provenance": []
  },
  "kernelspec": {
   "display_name": "Python 3",
   "language": "python",
   "name": "python3"
  },
  "language_info": {
   "codemirror_mode": {
    "name": "ipython",
    "version": 3
   },
   "file_extension": ".py",
   "mimetype": "text/x-python",
   "name": "python",
   "nbconvert_exporter": "python",
   "pygments_lexer": "ipython3",
   "version": "3.7.5"
  }
 },
 "nbformat": 4,
 "nbformat_minor": 1
}
